{
 "cells": [
  {
   "cell_type": "code",
   "execution_count": null,
   "id": "7a0cb657-c4b9-48ea-823c-809dd2346538",
   "metadata": {},
   "outputs": [],
   "source": []
  },
  {
   "cell_type": "markdown",
   "id": "d669dd30-b812-4c35-9bb4-962fa1578f3a",
   "metadata": {},
   "source": [
    "Hi @ MAHI NDOUNG rodrigue  \n",
    "\n",
    "Thanks for your post!!\n",
    "\n"
   ]
  },
  {
   "cell_type": "markdown",
   "id": "91b02aef-f035-468c-8a04-a82db9d2ddab",
   "metadata": {},
   "source": [
    "1. #### Please run the following commands to install the necessary packages for VSCode:"
   ]
  },
  {
   "cell_type": "code",
   "execution_count": null,
   "id": "3e3b1800-8119-4fea-95e2-5a9f0ec1ac6b",
   "metadata": {},
   "outputs": [],
   "source": [
    "pip install setuptools\n",
    "pip install packaging\n",
    "pip install pandas dash\n",
    "pip install more-itertools"
   ]
  },
  {
   "cell_type": "code",
   "execution_count": null,
   "id": "cd2bd183-3f99-4d44-bc25-d03530450345",
   "metadata": {},
   "outputs": [],
   "source": [
    "pip install jinja2==2.11.3"
   ]
  },
  {
   "cell_type": "markdown",
   "id": "be5779be-7069-42e9-9081-4614c0155c07",
   "metadata": {},
   "source": [
    "2. #### Verify Installation of Required Packages:\n",
    "\n",
    "Ensure that all the required packages are installed and up-to-date."
   ]
  },
  {
   "cell_type": "code",
   "execution_count": null,
   "id": "f52e70a8-d336-478c-b099-b5c9b5acd4de",
   "metadata": {},
   "outputs": [],
   "source": [
    "pip install setuptools packaging pandas dash more-itertools"
   ]
  },
  {
   "cell_type": "markdown",
   "id": "59c36c54-2b3f-467f-b9e3-de029bd4dc77",
   "metadata": {},
   "source": [
    "3. #### Create and Use a Virtual Environment:"
   ]
  },
  {
   "cell_type": "markdown",
   "id": "57982c2a-0e5d-49c2-a1b1-85b0c88f046e",
   "metadata": {},
   "source": [
    " It's good practice to create a virtual environment to manage dependencies and avoid conflicts."
   ]
  },
  {
   "cell_type": "code",
   "execution_count": null,
   "id": "126222b3-31ec-409c-afea-bcf0ee7c0d43",
   "metadata": {},
   "outputs": [],
   "source": [
    "python3.8 -m venv myenv\n",
    "source myenv/bin/activate  # On Windows: myenv\\Scripts\\activate\n",
    "pip install setuptools packaging pandas dash more-itertools jinja2==2.11.3"
   ]
  },
  {
   "cell_type": "markdown",
   "id": "63a2cd15-a93d-430b-9ca3-2815357749b9",
   "metadata": {},
   "source": [
    "Ce lien me guidera pour exécuter le dashboard dans le cas où je rencontre les difficultés."
   ]
  },
  {
   "cell_type": "code",
   "execution_count": null,
   "id": "f99d983d-f06c-4f9b-92de-8243d986f464",
   "metadata": {},
   "outputs": [],
   "source": [
    "consigne de sowmya"
   ]
  },
  {
   "cell_type": "code",
   "execution_count": null,
   "id": "ddaf210c-9f36-47fc-9c85-8f9b01c34575",
   "metadata": {},
   "outputs": [],
   "source": [
    "https://www.coursera.org/learn/python-for-data-visualization/discussions/weeks/5/threads/cVdwvBRbEe-QvxJfn1D_Rw/replies/bB7ujRSPEe-U1w5ln2V2Ow/comments/YkyUqCF5Ee-eowr_8CWnUw?utm_medium=email&utm_source=other&utm_campaign=opencourse.discourse.python-for-data-visualization~opencourse.discourse.ORAIlTLtEeizIBKbQHnlqg.cVdwvBRbEe-QvxJfn1D_Rw~YkyUqCF5Ee-eowr_8CWnUw"
   ]
  },
  {
   "cell_type": "code",
   "execution_count": null,
   "id": "79dc1a81-b7e4-488b-8a46-888f5de70b36",
   "metadata": {},
   "outputs": [],
   "source": []
  },
  {
   "cell_type": "code",
   "execution_count": null,
   "id": "d6fb5922-8878-4b02-8fc0-501b0d61820a",
   "metadata": {},
   "outputs": [],
   "source": [
    "import pandas as pd\n",
    "import dash\n",
    "from dash import html, dcc\n",
    "from dash.dependencies import Input, Output, State\n",
    "import plotly.graph_objects as go\n",
    "import plotly.express as px\n",
    "from dash import no_update\n",
    "import datetime as dt\n",
    "#Create app\n",
    "app = dash.Dash(__name__)\n",
    "#Clear the layout and do not display exception till callback gets executed\n",
    "app.config.suppress_callback_exceptions = True\n",
    "# Read the wildfire data into pandas dataframe\n",
    "df =  pd.read_csv('https://cf-courses-data.s3.us.cloud-object-storage.appdomain.cloud/IBMDeveloperSkillsNetwork-DV0101EN-SkillsNetwork/Data%20Files/Historical_Wildfires.csv')\n",
    "#Extract year and month from the date column\n",
    "df['Month'] = pd.to_datetime(df['Date']).dt.month_name() #used for the names of the months\n",
    "df['Year'] = pd.to_datetime(df['Date']).dt.year\n",
    "#Layout Section of Dash\n",
    "#Task 1 Add the Title to the Dashboard\n",
    "app.layout = html.Div(children=[html.H1('Australia Wildfire Dashboard', \n",
    "                                style={'textAlign': 'center', 'color': '#503D36',\n",
    "                                'font-size': 26}),\n",
    "# TASK 2: Add the radio items and a dropdown right below the first inner division\n",
    "     #outer division starts\n",
    "     html.Div([\n",
    "                   # First inner divsion for  adding dropdown helper text for Selected Drive wheels\n",
    "                    html.Div([\n",
    "                            html.H2('Select Region:', style={'margin-right': '2em'}),\n",
    "\n",
    "                    #Radio items to select the region\n",
    "                    #dcc.RadioItems(['NSW','QL','SA','TA','VI','WA'], 'NSW', id='region',inline=True)]),\n",
    "                    dcc.RadioItems([{\"label\":\"New South Wales\",\"value\": \"NSW\"},\n",
    "                                    {\"label\":\"Northern Territory\",\"value\": \"NT\"},\n",
    "                                    {\"label\":\"Queensland\",\"value\": \"QL\"},\n",
    "                                    {\"label\":\"South Australia\",\"value\": \"SA\"},\n",
    "                                    {\"label\":\"Tasmania\",\"value\": \"TA\"},\n",
    "                                    {\"label\":\"Victoria\",\"value\": \"VI\"},\n",
    "                                    {\"label\":\"Western Australia\",\"value\": \"WA\"}],\"NSW\", id='region',inline=True)]),\n",
    "                    #Dropdown to select year\n",
    "                    html.Div([\n",
    "                            html.H2('Select Year:', style={'margin-right': '2em'}),\n",
    "                        dcc.Dropdown(df.Year.unique(), value = 2005,id='year')\n",
    "                    ]),\n",
    "#TASK 3: Add two empty divisions for output inside the next inner division. \n",
    "         #Second Inner division for adding 2 inner divisions for 2 output graphs\n",
    "                    html.Div([\n",
    "                \n",
    "                        html.Div([ ], id='plot1'),\n",
    "                        html.Div([ ], id='plot2')\n",
    "                    ], style={'display': 'flex'}),\n",
    "\n",
    "    ])\n",
    "    #outer division ends\n",
    "\n",
    "])\n",
    "#layout ends\n",
    "#TASK 4: Add the Ouput and input components inside the app.callback decorator.\n",
    "#Place to add @app.callback Decorator\n",
    "@app.callback([Output(component_id='plot1', component_property='children'),\n",
    "               Output(component_id='plot2', component_property='children')],\n",
    "               [Input(component_id='region', component_property='value'),\n",
    "                Input(component_id='year', component_property='value')])\n",
    "#TASK 5: Add the callback function.   \n",
    "#Place to define the callback function .\n",
    "def reg_year_display(input_region,input_year):  \n",
    "    #data\n",
    "   region_data = df[df['Region'] == input_region]\n",
    "   y_r_data = region_data[region_data['Year']==input_year]\n",
    "    #Plot one - Monthly Average Estimated Fire Area   \n",
    "   est_data = y_r_data.groupby('Month')['Estimated_fire_area'].mean().reset_index()\n",
    "   fig1 = px.pie(est_data, values='Estimated_fire_area', names='Month', title=\"{} : Monthly Average Estimated Fire Area in year {}\".format(input_region,input_year))   \n",
    "     #Plot two - Monthly Average Count of Pixels for Presumed Vegetation Fires\n",
    "   veg_data = y_r_data.groupby('Month')['Count'].mean().reset_index()\n",
    "   fig2 = px.bar(veg_data, x='Month', y='Count', title='{} : Average Count of Pixels for Presumed Vegetation Fires in year {}'.format(input_region,input_year))    \n",
    "   return [dcc.Graph(figure=fig1),\n",
    "            dcc.Graph(figure=fig2) ]\n",
    "if __name__ == '__main__':\n",
    "    app.run_server()\n",
    "    "
   ]
  }
 ],
 "metadata": {
  "kernelspec": {
   "display_name": "Python 3 (ipykernel)",
   "language": "python",
   "name": "python3"
  },
  "language_info": {
   "codemirror_mode": {
    "name": "ipython",
    "version": 3
   },
   "file_extension": ".py",
   "mimetype": "text/x-python",
   "name": "python",
   "nbconvert_exporter": "python",
   "pygments_lexer": "ipython3",
   "version": "3.9.13"
  }
 },
 "nbformat": 4,
 "nbformat_minor": 5
}
