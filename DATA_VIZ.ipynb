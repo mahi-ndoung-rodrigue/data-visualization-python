{
 "cells": [
  {
   "cell_type": "code",
   "execution_count": null,
   "id": "40e87973-edd7-4ce7-8cfe-04e19c3de6e1",
   "metadata": {},
   "outputs": [],
   "source": []
  },
  {
   "cell_type": "markdown",
   "id": "90ca4ce6-8ada-4072-966e-7efd01f5afb3",
   "metadata": {},
   "source": [
    "# VISUALISATION DES DONNEES AVEC PYTHON"
   ]
  },
  {
   "cell_type": "markdown",
   "id": "176343d1-065b-42f2-943a-0ab2b4fad756",
   "metadata": {},
   "source": [
    "L'une des compétences les plus importantes des data scientists et des analystes de données est la capacité à raconter une histoire convaincante en visualisant les données et les résultats d'une manière accessible et stimulante. Dans ce cours, vous apprendrez de nombreuses façons de visualiser efficacement des données à petite et à grande échelle. Vous serez en mesure de prendre des données qui, à première vue, ont peu de sens et de les présenter sous une forme qui transmet des informations. Ce cours vous apprendra à travailler avec de nombreux outils et techniques de visualisation de données. Vous apprendrez à créer différents types de graphiques et de diagrammes de base et avancés tels que : Graphiques en gaufre, graphiques en aires, histogrammes, graphiques en barres, graphiques en secteurs, diagrammes de dispersion, nuages de mots, cartes choroplèthes, et bien d'autres encore ! Vous créerez également des tableaux de bord interactifs qui permettront même à ceux qui n'ont pas d'expérience en science des données de mieux comprendre les données et de prendre des décisions plus efficaces et mieux informées. Vous apprendrez de manière pratique en réalisant de nombreux laboratoires et un projet final pour pratiquer et appliquer les nombreux aspects et techniques de la visualisation de données en utilisant les carnets Jupyter et un IDE basé sur le cloud. Vous utiliserez plusieurs bibliothèques de visualisation de données en Python, y compris Matplotlib, Seaborn, Folium, Plotly & Dash."
   ]
  },
  {
   "cell_type": "markdown",
   "id": "cb4d1de6-bf5d-46a4-a949-c2a90379ac1b",
   "metadata": {},
   "source": [
    "# Introduction aux outils de visualisation des données\n",
    "\n",
    "La visualisation des données est un moyen de présenter des données complexes sous une forme graphique et facile à comprendre. La visualisation des données est cruciale pour l'analyse de grands volumes de données et la prise de décisions fondées sur les données. Dans ce module, vous apprendrez ce qu'est la visualisation de données et vous découvrirez les meilleures pratiques à suivre lors de la création de graphiques et d'éléments visuels. Vous découvrirez l'histoire et l'architecture de Matplotlib. En outre, vous apprendrez les bases du tracé avec Matplotlib et explorerez l'ensemble de données sur l'immigration canadienne, que vous utiliserez pendant le cours. Enfin, vous analyserez des données dans un cadre de données et générerez des graphiques linéaires à l'aide de Matplotlib.\n",
    "\n",
    "\n"
   ]
  },
  {
   "cell_type": "markdown",
   "id": "e56c4ced-95e6-4e91-8ce3-dbddff16afec",
   "metadata": {},
   "source": [
    "# SyllabusStatut : Traduit automatiquement de Anglais\n",
    "Traduit automatiquement de Anglais\n",
    "Résumé\n",
    "L'une des compétences les plus importantes des data scientists et des analystes de données est la capacité à raconter une histoire convaincante en visualisant les données et les résultats d'une manière accessible et stimulante. Dans ce cours, vous apprendrez de nombreuses façons de visualiser efficacement des données à petite et grande échelle. Vous serez en mesure de prendre des données qui, à première vue, ont peu de sens et de les présenter sous une forme qui transmet des informations.\n",
    "\n",
    "Ce cours vous apprendra à travailler avec de nombreux outils et techniques de visualisation de données. Vous apprendrez à créer différents types de graphiques et de diagrammes de base et avancés tels que : Graphiques en gaufre, graphiques en aires, histogrammes, graphiques en barres, graphiques en secteurs, diagrammes de dispersion, nuages de mots, cartes choroplèthes, et bien d'autres encore ! Vous créerez également des tableaux de bord interactifs qui permettront même à ceux qui n'ont pas d'expérience en science des données de mieux comprendre les données et de prendre des décisions plus efficaces et mieux informées.\n",
    "\n",
    "Vous apprendrez de manière pratique en réalisant de nombreux laboratoires et un projet final pour pratiquer et appliquer les nombreux aspects et techniques de la visualisation de données en utilisant les carnets Jupyter et un IDE basé sur le cloud. Vous utiliserez plusieurs bibliothèques de visualisation de données en Python, y compris Matplotlib, Seaborn, Folium, Plotly & Dash.\n",
    "\n",
    "\n",
    "\n",
    "\n",
    "\n",
    "# Objectifs d'apprentissage du cours\n",
    "Après avoir terminé ce cours, l'apprenant sera capable de :\n",
    "\n",
    "- Mettre en œuvre des techniques de visualisation de données et des graphiques en utilisant des bibliothèques Python, telles que Matplotlib, Seaborn, et Folium pour raconter une histoire stimulante.\n",
    "\n",
    "- Créer différents types de graphiques et de tracés tels que des lignes, des surfaces, des histogrammes, des barres, des camemberts, des boîtes, des nuages de points et des bulles.\n",
    "\n",
    "- Créez des visualisations avancées telles que des graphiques gaufrés, des nuages de mots, des diagrammes de régression, des cartes avec marqueurs et des cartes choroplèthes.\n",
    "\n",
    "- Générer des tableaux de bord interactifs contenant des diagrammes de dispersion, des diagrammes linéaires, des diagrammes à barres, des diagrammes à bulles, des diagrammes circulaires et des diagrammes en étoile en utilisant le cadre Dash et la bibliothèque Plotly.\n",
    "\n",
    "\n",
    "\n",
    "\n",
    "\n",
    "\n",
    "\n",
    "# Module 1\n",
    "# Titre : Introduction aux outils de visualisation de données\n",
    "Description du module\n",
    "La visualisation de données est un moyen de présenter des données complexes sous une forme graphique et facile à comprendre. La visualisation des données est cruciale pour l'analyse de grands volumes de données et la prise de décisions basées sur les données. Dans ce module, vous apprendrez ce qu'est la visualisation de données et vous découvrirez les meilleures pratiques à suivre lors de la création de graphiques et d'éléments visuels. Vous découvrirez l'histoire et l'architecture de Matplotlib. En outre, vous apprendrez les bases du traçage avec Matplotlib et explorerez l'ensemble de données sur l'immigration canadienne, que vous utiliserez pendant le cours. Enfin, vous analyserez des données dans un cadre de données et générerez des graphiques linéaires à l'aide de Matplotlib.\n",
    "\n",
    "\n",
    "\n",
    "\n",
    "\n",
    "\n",
    "\n",
    "# Objectifs\n",
    "À la fin de cette semaine, vous serez en mesure de :\n",
    "\n",
    "- Discuter de la visualisation des données et de son importance\n",
    "\n",
    "- Découvrir l'histoire de Matplotlib et son architecture\n",
    "\n",
    "- Utiliser Matplotlib pour créer des graphiques en employant le carnet Jupyter\n",
    "\n",
    "- Explorer l'ensemble de données sur l'immigration au Canada\n",
    "\n",
    "- Identifier les étapes de l'analyse des données dans la base de données Pandas\n",
    "\n",
    "- Utilisez Matplotlib pour créer des tracés linéaires\n",
    "\n",
    "\n",
    "# Activités\n",
    "# Leçon 0 : Bienvenue dans le cours\n",
    "\n",
    "- Bienvenue dans le cours\n",
    "\n",
    "- Comment tirer le meilleur parti de ce cours\n",
    "\n",
    "- Syllabus\n",
    "\n",
    "Leçon 1 : Introduction à la visualisation de données\n",
    "\n",
    "- Aperçu de la visualisation des données\n",
    "\n",
    "- Types de graphiques\n",
    "\n",
    "- Bibliothèques de tracés\n",
    "\n",
    "- Introduction à Matplotlib\n",
    "\n",
    "- Tracés de base avec Matplotlib\n",
    "\n",
    "- Ensemble de données sur l'immigration au Canada\n",
    "\n",
    "- Tracés linéaires\n",
    "\n",
    "- Laboratoire pratique : Exploration et prétraitement d'un ensemble de données à l'aide de Pandas\n",
    "\n",
    "- Travaux pratiques : Introduction à Matplotlib et aux tracés linéaires\n",
    "\n",
    "- Quiz pratique : Introduction à la visualisation de données \n",
    "\n",
    "- Résumé du module 1 : Introduction aux outils de visualisation de données\n",
    "\n",
    "- Aide-mémoire du module 1\n",
    "\n",
    "- Quiz noté du module 1 : Introduction aux outils de visualisation de données\n",
    "\n",
    "\n",
    "\n",
    "\n",
    "# Objectifs Module 2\n",
    "\n",
    "# Titre: Outils de visualisation de base et spécialisés\n",
    "\n",
    "# Description du module\n",
    "\n",
    "Les outils de visualisation jouent un rôle crucial dans l'analyse et la communication des données. Ils sont essentiels pour extraire des informations et les présenter de manière concise à des publics techniques et non techniques. Dans ce module, vous créerez une gamme variée de graphiques à l'aide de Matplotlib, la bibliothèque de visualisation de données. Tout au long de ce module, vous découvrirez les diagrammes de surface, les histogrammes, les diagrammes à barres, les diagrammes circulaires, les diagrammes en boîte et les diagrammes de dispersion. Vous explorerez également le processus de création de ces outils de visualisation à l'aide de Matplotlib.\n",
    "\n",
    "# Objectifs\n",
    "\n",
    "À la fin de cette semaine, vous serez capable de :\n",
    "\n",
    "- Explorer un diagramme de surface à l'aide d'une illustration et le créer à l'aide de Matplotlib\n",
    "\n",
    "- Définir un histogramme à l'aide d'une illustration et le créer à l'aide de Matplotlib\n",
    "\n",
    "- Décrire un diagramme à barres à l'aide d'une illustration et le créer à l'aide de Matplotlib\n",
    "\n",
    "- Découvrez un diagramme circulaire avec une illustration et créez-le en utilisant Matplotlib\n",
    "\n",
    "- Décrire un diagramme en boîte avec une illustration et le créer en utilisant Matplotlib\n",
    "\n",
    "- Découvrez un diagramme de dispersion avec une illustration et créez-le en utilisant Matplotlib\n",
    "\n",
    "\n",
    "\n",
    "# Activités\n",
    "# Leçon 1 : Outils de visualisation de base\n",
    "\n",
    "- Graphiques de surface\n",
    "\n",
    "- Histogrammes\n",
    "\n",
    "- Diagrammes à barres\n",
    "\n",
    "- Laboratoire pratique : Diagrammes de surface, histogrammes et diagrammes en bâtons\n",
    "\n",
    "- Quiz pratique : Outils de visualisation de base\n",
    "\n",
    "# Leçon 2 : Outils de visualisation spécialisés\n",
    "\n",
    "- Diagrammes à secteurs\n",
    "\n",
    "- Diagrammes en boîte\n",
    "\n",
    "- Diagrammes de dispersion\n",
    "\n",
    "Laboratoire pratique : Diagrammes circulaires, diagrammes en boîte, diagrammes de dispersion et diagrammes à bulles\n",
    "\n",
    "- Tracé direct avec Matplotlib\n",
    "\n",
    "- Travaux pratiques : Tracer directement avec Matplotlib\n",
    "\n",
    "- Quiz pratique : Outils de visualisation spécialisés\n",
    "\n",
    "- Résumé du module 2 : Outils de visualisation de base et spécialisés\n",
    "\n",
    "- Aide-mémoire du module 2\n",
    "\n",
    "- Quiz noté du module 2 : Outils de visualisation de base et spécialisés\n",
    "\n",
    "# Module 3\n",
    "\n",
    "# Titre: Visualisations avancées et données géospatiales\n",
    "# Description du module\n",
    "Les outils de visualisation avancés sont des plates-formes sophistiquées qui offrent un large éventail de fonctionnalités et de capacités avancées. Ces outils offrent un large éventail d'options qui permettent de créer des visualisations visuellement attrayantes et interactives. Dans ce module, vous découvrirez les graphiques en gaufre et les nuages de mots, ainsi que leurs applications. Vous explorerez Seaborn, une nouvelle bibliothèque de visualisation en Python, et apprendrez à créer des graphiques de régression en l'utilisant. En outre, vous découvrirez folium, une bibliothèque de visualisation de données qui permet de visualiser des données géospatiales. En outre, vous explorerez le processus de création de cartes à l'aide de Folium et les superposerez avec des marqueurs pour les rendre intéressantes. Enfin, vous apprendrez à créer une carte choroplèthe à l'aide de Folium.\n",
    "\n",
    "# Objectifs de la formation\n",
    "À la fin de cette semaine, vous serez capable de :\n",
    "\n",
    "- Explorer les diagrammes de gaufres et les nuages de mots ainsi que leur application\n",
    "\n",
    "- Décrire Seaborn et explorer le processus de génération de graphiques de régression attrayants\n",
    "\n",
    "- Décrire Folium et explorer le processus de création de cartes\n",
    "\n",
    "- Explorer le processus de superposition de marqueurs sur les cartes à l'aide de Foilum\n",
    "\n",
    "- Décrivez les cartes choroplèthes à l'aide d'une illustration\n",
    "\n",
    "- Explorez le processus de création d'une carte choroplèthe à l'aide de Folium\n",
    "\n",
    "# Activités\n",
    "# Leçon 1 : Visualisations avancées et données géospatiales\n",
    "\n",
    "- Graphiques en gaufre et nuages de mots\n",
    "\n",
    "- Diagrammes de Seaborn et de régression\n",
    "\n",
    "- Laboratoire pratique : Graphiques en gaufre, nuages de mots et graphiques de régression\n",
    "\n",
    "- Quiz pratique : Outils de visualisation avancés\n",
    "\n",
    "# Leçon 2 : Visualiser des données géospatiales\n",
    "\n",
    "# Introduction à Folium\n",
    "\n",
    "- Cartes avec marqueurs\n",
    "\n",
    "- Cartes choroplèthes\n",
    "\n",
    "- Laboratoire pratique : Création de cartes et visualisation de données géospatiales\n",
    "\n",
    "- Quiz pratique : Visualisation de données géospatiales\n",
    "\n",
    "- Résumé du module 3 : Visualisations avancées et données géospatiales\n",
    "\n",
    "- Aide-mémoire du module 3\n",
    "\n",
    "- Quiz noté du module 3 : Visualisations avancées et données géospatiales\n",
    "\n",
    "\n",
    "# Module 4\n",
    "\n",
    "# Titre: Créer des tableaux de bord avec Plotly et Dash\n",
    "# Description du module\n",
    "Les tableaux de bord et les applications de données interactives sont des outils cruciaux pour la visualisation et l'analyse des données car ils fournissent une vue consolidée des données clés et des métriques dans un format visuellement attrayant et compréhensible. Dans ce module, vous explorerez les avantages des tableaux de bord et identifierez les différents outils de tableaux de bord basés sur le web en Python. Vous vous familiariserez avec Plotly et découvrirez comment utiliser les objets graphiques Plotly et Plotly express pour créer des graphiques. Vous aurez un aperçu de Dash, une bibliothèque Python d'interface utilisateur open-source, et de ses deux composants. Enfin, vous acquerrez une compréhension claire de la fonction callback et déterminerez comment connecter les composants core et HTML à l'aide de callback.\n",
    "\n",
    "# Objectifs\n",
    "A la fin de cette semaine, vous serez capable de :\n",
    "\n",
    "- Identifier les différents outils de tableaux de bord en ligne disponibles en Python\n",
    "\n",
    "- Explorer Plotly et ses deux sous-modules\n",
    "\n",
    "- Utiliser les objets graphiques Plotly et Plotly express pour créer des graphiques\n",
    "\n",
    "- Découvrir Dash et ses deux composants\n",
    "\n",
    "- Décrire la fonction callback\n",
    "\n",
    "- Déterminer le processus de connexion des composants de base et HTML à l'aide de la fonction callback\n",
    "\n",
    "Activités\n",
    "# Leçon 1 : Créer des tableaux de bord avec Plotly et Dash\n",
    "\n",
    "- Vue d'ensemble des tableaux de bord\n",
    "\n",
    "- Ressources supplémentaires pour les tableaux de bord\n",
    "\n",
    "# Introduction à Plotly\n",
    "\n",
    "- Ressources supplémentaires pour Plotly\n",
    "\n",
    "- Les bases de Plotly : Nuage de points, ligne, barre, bulle, histogramme, camembert, éclat de soleil\n",
    "\n",
    "- Quiz pratique : Créer des tableaux de bord avec Plotly\n",
    "\n",
    "# Leçon 2 : Travailler avec Dash\n",
    "\n",
    "# Introduction à Dash\n",
    "\n",
    "- Vue d'ensemble de l'environnement de laboratoire Cloud IDE\n",
    "\n",
    "- Notions de base sur Dash : HTML et composants de base\n",
    "\n",
    "- Ressources supplémentaires pour Dash\n",
    "\n",
    "- Rendre les tableaux de bord interactifs\n",
    "\n",
    "- Ressources supplémentaires pour les tableaux de bord interactifs\n",
    "\n",
    "- Ajouter de l'interactivité : Entrées utilisateur et rappels\n",
    "\n",
    "- Comprendre l'environnement du laboratoire\n",
    "\n",
    "- Tableau de bord des statistiques sur les retards de vol\n",
    "\n",
    "- Quiz pratique : Travailler avec Dash\n",
    "\n",
    "- Résumé du module 4 : Créer des tableaux de bord avec Plotly et Dash\n",
    "\n",
    "- Aide-mémoire du module 4\n",
    "\n",
    "- Quiz noté du module 4 : Créer des tableaux de bord avec Plotly et Dash\n",
    "\n",
    "# Module 5\n",
    "\n",
    "# Titre : Projet final et examen\n",
    "# Description du module\n",
    "L'objectif principal de ce module est de mettre en pratique les compétences acquises plus tôt dans le cours et de les démontrer dans votre travail final. Pour le travail final, vous analyserez des données historiques sur les ventes d'automobiles couvrant des périodes de récession et de non-récession. Vous donnerez vie à votre analyse en utilisant des techniques de visualisation et afficherez ensuite les tracés et les graphiques sur des tableaux de bord. Enfin, vous soumettrez votre travail à l'examen de vos pairs et vous examinerez le travail de l'un d'entre eux. Pour conclure le cours, vous passerez un examen final sous la forme d'un quiz chronométré.\n",
    "\n",
    "# Objectifs\n",
    "A la fin de cette semaine, vous serez capable de :\n",
    "\n",
    "- Pratiquer des techniques de visualisation\n",
    "\n",
    "- Vous entraîner à créer un tableau de bord\n",
    "\n",
    "- Créer diverses visualisations à l'aide d'un certain nombre de bibliothèques de tracés\n",
    "\n",
    "- Créer un tableau de bord et y ajouter de l'interactivité\n",
    "\n",
    "- Réviser et noter un travail soumis par vos pairs\n",
    "\n",
    "# Activités\n",
    "# Leçon 1 : Projet pratique\n",
    "\n",
    "# Aperçu du projet pratique\n",
    "\n",
    "Travaux pratiques : Partie 1 - Analyse des données sur les incendies de forêt en Australie\n",
    "\n",
    "Travaux pratiques : Partie 2 - Création de tableaux de bord\n",
    "\n",
    "Leçon 2 : Projet final\n",
    "\n",
    "Aperçu du projet final\n",
    "\n",
    "Devoir final : Partie 1 - Créer des visualisations en utilisant Matplotlib, Seaborn & Folium\n",
    "\n",
    "Devoir final : Partie 2 - Créer un tableau de bord avec Plotly et Dash\n",
    "\n",
    "Travail final : Partie 3 - Soumission et notation\n",
    "\n",
    " Examen final : Visualisation de données avec Python - Quiz chronométré\n",
    "\n",
    "Leçon 3 : Synthèse du cours\n",
    "\n",
    "Résumé du cours\n",
    "\n",
    "Félicitations et prochaines étapes\n",
    "\n",
    "Remerciements de l'équipe du cours\n",
    "\n"
   ]
  },
  {
   "cell_type": "markdown",
   "id": "c7df72f1-3d98-453f-b234-eb500ff5516c",
   "metadata": {},
   "source": [
    "# Aperçu de la visualisation des données"
   ]
  },
  {
   "cell_type": "markdown",
   "id": "65e1bab9-80bd-45af-b70c-f2754c94ed33",
   "metadata": {},
   "source": [
    "Bonjour, et bienvenue sur la présentation de la visualisation des données. Après avoir visionné cette vidéo, vous serez en mesure d'expliquer ce qu' est la visualisation des données et pourquoi elle est importante. Décrivez les utilisations de la visualisation des données. Découvrez les meilleures pratiques en matière de visualisation des données. La visualisation des données est la représentation graphique des données et des informations. Cela implique le processus de création de représentations visuelles des données. La visualisation des données peut prendre de nombreuses formes différentes, qu'il s' agisse de tableaux et de graphiques de base ou de tableaux de bord interactifs, de cartes et d'infographies plus complexes. Les tableaux et graphiques de base constituent la forme la plus simple de visualisation des données pour représenter des données numériques. Les tableaux de bord et les cartes interactifs sont des formes de visualisation plus complexes destinées à fournir des informations en temps réel. Nous avons besoin de la visualisation des données pour plusieurs raisons. La visualisation des données nous aide à comprendre facilement des ensembles de données complexes qui peuvent être difficiles à comprendre sous leur forme brute. Il peut mettre en évidence des modèles, des tendances et des relations qui peuvent ne pas être immédiatement apparents à l'examen des données. La visualisation nous permet de communiquer des informations et des résultats aux parties prenantes de manière plus convaincante et compréhensible. Cela nous permet de raconter une histoire à l'aide de données, ce qui permet aux parties prenantes de comprendre et d'agir plus facilement en fonction des informations présentées. La visualisation nous aide à identifier les tendances et les modèles de données qui seraient autrement difficiles à voir. Nous pouvons acquérir de nouvelles connaissances et prendre des décisions éclairées en examinant les données au fil du temps ou selon différentes dimensions. La présentation des données d'une manière plus facile à comprendre et à interpréter nous permet d'identifier les opportunités, de détecter les problèmes potentiels et de faire des choix plus éclairés. Voyons comment la visualisation des données peut nous aider à comprendre les données. Le New York Times, une publication d'information bien connue, a utilisé la visualisation des données pour aider les gens à comprendre l'impact de la pandémie de COVID-19 aux États-Unis. Le nombre de nouveaux cas signalés chaque jour et le nombre de décès sont indiqués par un graphique linéaire et le pourcentage de la population vaccinée est affiché sous forme de graphique à barres. Airbnb utilise un cadre de tarification intelligent pour aider les hôtes à déterminer les meilleurs prix possibles pour leurs annonces, augmentant ainsi leurs bénéfices à l'aide d'un graphique à barres. Le graphique affiche la distribution des délais agrégée au niveau du marché. Spotify utilise Spotify Pie, un outil unique de visualisation des données qui permet aux utilisateurs de créer des diagrammes circulaires personnalisés en fonction de leurs habitudes d'écoute sur Spotify. Le graphique affiche la répartition des différents genres , artistes et titres écoutés par l'utilisateur. Ce que vous voyez ici est une carte choroplèthe sur le tableau de bord Insight Tool de Netflix avec d'autres visualisations telles que des graphiques linéaires et des diagrammes à barres. Ces tableaux de bord dynamiques les aident à mieux comprendre les opérations, à identifier les domaines à améliorer et à résoudre rapidement les problèmes éventuels. La visualisation des données est un outil essentiel pour tous ceux qui manipulent des données. Les entreprises peuvent obtenir des informations sur les tendances du marché, les performances financières et le comportement des clients. Les professionnels de santé peuvent identifier des modèles dans les données des patients et développer des installations de traitement ciblées. La visualisation permet d'analyser les performances des étudiants et d'éclairer les décisions pédagogiques afin d'améliorer les résultats scolaires. La visualisation aide les gouvernements à prendre des décisions éclairées et à communiquer des données au public. La visualisation aide les scientifiques et les chercheurs à analyser des données complexes, à développer de nouvelles connaissances et à partager les résultats de manière efficace. La visualisation aide les travailleurs et l'industrie du divertissement à déterminer les notes et, en fin de compte, à indiquer aux créateurs ce que souhaite le public. Bien que la visualisation des données soit devenue un outil essentiel, toutes les visualisations ne sont pas créées de la même manière. Pour créer des visualisations efficaces, il est important de suivre les meilleures pratiques qui permettent de garantir que les données sont représentées avec précision et que le message est clairement communiqué. L'une des meilleures pratiques clés consiste à choisir le type de visualisation approprié pour les données présentées. Les différents types de données nécessitent des techniques de visualisation différentes. Choisissez la bonne solution pour communiquer efficacement ces données. Faites en sorte que la visualisation soit simple et facile à lire. Un graphique linéaire montre les tendances au fil du temps. Eh bien, un graphique à barres est idéal pour comparer des valeurs. Pour garantir une représentation précise des données, il est également important d'étiqueter clairement l'axe et de fournir le contexte des données présentées. Incluez un titre clair, résumant le message principal et une légende expliquant la signification des symboles ou des couleurs utilisés. L' inclusion de graphiques ou d'informations inutiles peut semer la confusion chez le public et le distraire du message principal. Concentrez la visualisation sur le point principal et utilisez uniquement les données et les étiquettes nécessaires. Enfin, il est important de tenir compte de l'audience lors de la création de la visualisation. Qui visionnera la visualisation ? Que doivent-ils savoir ? La visualisation doit être adaptée à leurs besoins et à leur compréhension. Que pensez-vous de ce graphique ou de ce diagramme circulaire ? Qu'est-ce que les données tentent de transmettre ? Dans ces graphiques, il y a beaucoup de variables et les informations sont plus difficiles à comprendre. Il s'agit d'un exemple de mauvaise visualisation des données. Ce graphique représente le tableau de bord d'une équipe. Les barres empilées indiquent le pourcentage du travail attribué aux utilisateurs individuels et leur progression. Les couleurs sont reconnaissables et cohérentes. La légende indique la signification de chaque couleur. Le graphique fournit plus de clarté avec les valeurs et les pourcentages en haut de chaque barre. Darkhorse Analytics est une entreprise créée à partir d' un laboratoire de recherche de l'Université de l'Alberta en 2008. L'entreprise a réalisé un travail fascinant sur la visualisation des données. Darkhorse Analytics est spécialisée dans le conseil quantitatif dans plusieurs domaines, notamment la visualisation des données et l'analyse géospatiale. Leur approche lors de la création d'un visuel repose sur l'idée que moins est plus efficace, plus attrayant et plus percutant. En suivant ces bonnes pratiques, les visualisations de données peuvent devenir un outil puissant. Consultez le site Web de Darkhorse Analytics pour des exemples de bonnes et de mauvaises intrigues. Dans cette vidéo, vous avez appris que la visualisation des données est le processus qui consiste à présenter les données dans un format visuel, tel que des tableaux, des graphiques et des cartes, afin d'aider les utilisateurs à comprendre et à analyser facilement les données. La visualisation des données a divers cas d'utilisation tels que les affaires, les sciences, les soins de santé et les finances. Il est important de suivre les meilleures pratiques, telles que la sélection de visualisations adaptées aux données présentées, le choix de couleurs et de polices faciles à lire et à interpréter, et la réduction de l'encombrement"
   ]
  },
  {
   "cell_type": "markdown",
   "id": "42c30d58-2eea-4b1c-836d-04e08e351867",
   "metadata": {},
   "source": [
    "# Types de parcelles"
   ]
  },
  {
   "cell_type": "markdown",
   "id": "ca74f451-cd17-477e-b42c-d6441adb0ef7",
   "metadata": {},
   "source": [
    "[MUSIQUE] Bienvenue dans Types of plots. Après avoir visionné cette vidéo, vous serez en mesure de : explorer les différents types de diagrammes disponibles pour visualiser les données. Identifiez les caractéristiques et les cas d'utilisation appropriés pour chaque type de parcelle. Comme nous le savons, la visualisation des données représente les données à l'aide de formats visuels tels que des graphiques, des tableaux et des cartes. Il communique efficacement les informations, les tendances et les informations de manière concise, il découvre également les modèles, identifie les tendances et simplifie les informations complexes pour en faciliter la compréhension. Explorons maintenant les différents types de diagrammes, dont le tracé linéaire, le diagramme à barres, le diagramme de dispersion, le diagramme à cases et l'histogramme. Un graphique linéaire, également appelé graphique linéaire, affiche les données sous la forme d'une série de points de données reliés par des lignes droites. Les diagrammes linéaires affichent les tendances, telles que les fluctuations du marché boursier ou les changements de température au fil du temps. Ils comparent des ensembles de données à une variable indépendante continue telle que l'âge ou le temps. Les diagrammes linéaires illustrent les relations de cause à effet, telles que les variations du chiffre d'affaires en fonction du budget marketing. Ils visualisent également des données continues, telles que les mesures de hauteur au fil du temps. Les diagrammes linéaires peuvent être trompeurs si les échelles sur les axes ne sont pas choisies avec soin pour refléter les données avec précision. Le graphique linéaire montre une baisse des tendances en matière d'immigration en 1998. Toutefois, si vous corrigez l'échelle de l'axe Y pour commencer par zéro, comme dans ce graphique, vous verrez que la tendance réelle n'est pas si alarmante. Passons maintenant à l'intrigue suivante. Un diagramme à barres, également connu sous le nom de graphique à barres, affiche les données sous forme de barres rectangulaires, la hauteur ou la longueur des barres représentant l'ampleur des données. Les barres peuvent être orientées verticalement ou horizontalement. Un graphique à barres orienté verticalement est souvent appelé graphique à barres verticales ou histogramme. Si vous recherchez un moyen efficace de comparer les données, les diagrammes à barres sont parfaits pour comparer différentes catégories ou groupes. Ils excellent avec des données discrètes, comme la comparaison du chiffre d'affaires par produit. Ils montrent comment les différentes catégories contribuent à l'ensemble et au classement, tels que le pourcentage des ventes ou l'allocation du budget. Les diagrammes à barres permettent de visualiser des données que vous pouvez facilement classer, comme l'affichage des livres les plus vendus sur le marché. Leur simplicité et leur interprétabilité les rendent privilégiés pour la visualisation des données. Des choix de barres ou des échelles d'axe inexacts peuvent donner lieu à des diagrammes trompeurs. Dans ce diagramme à barres, l'axe Y commençant à six donne l' impression que la différence entre les valeurs de 1995 et 1998 est plus grande qu'elle ne l'est réellement. Toutefois, lorsque l'axe Y commence à zéro, le diagramme représente précisément les données sans induire le spectateur en erreur. Passons maintenant à l'intrigue suivante. Un diagramme de dispersion est un type de diagramme qui présente les valeurs de deux variables pour un ensemble de données à l'aide de coordonnées cartésiennes. Les points de données sont affichés sous la forme d'un ensemble de points, où la valeur d'une variable détermine la position sur l'axe horizontal et la valeur de l'autre variable détermine la position sur l'axe vertical. Quand pouvez-vous utiliser un diagramme de dispersion ? Explorons quelques options. Vous pouvez l'utiliser pour examiner la relation entre deux variables continues telles que la température et la consommation d'énergie. Étudier les modèles ou les tendances des données, tels que les prix de l'immobilier par rapport à la taille, détecter les valeurs aberrantes ou les observations inhabituelles telles que des valeurs aberrantes dans les résultats des tests ou un comportement boursier anormal. Visualisation des données avec de nombreuses observations pour identifier des clusters ou des groupes, et exploration de données complexes. Les valeurs aberrantes ont un impact significatif sur l'interprétation, ce qui nécessite de prendre en compte leur inclusion ou leur exclusion. À l'écran, les données sont tracées avec et sans valeurs aberrantes. Dans le cas des valeurs aberrantes, il affiche deux groupes, mais la suppression des valeurs aberrantes rend les données restantes plus visibles. Une gestion appropriée des valeurs aberrantes améliore la précision et permet d'obtenir des informations pertinentes dans les diagrammes de dispersion. Découvrons-en plus sur le box plot. Un diagramme à cases, également connu sous le nom de diagramme à boîtes et à moustaches, est un type de graphique qui affiche la distribution d'un ensemble de données, ainsi que des mesures statistiques clés. Il se compose d'une case représentant l'intervalle interquartile (IQR), d' une ligne à l'intérieur de la boîte représentant la médiane et de lignes en forme de moustache partant de la case pour indiquer la plage des données, à l'exception des valeurs aberrantes. Les valeurs aberrantes peuvent être représentées sous forme de points de données individuels situés au-delà des moustaches. Examinons certains scénarios dans lesquels les diagrammes à cases s'avèrent utiles. Tout en comparant la distribution d'une variable continue entre différentes catégories ou groupes. Par exemple, les salaires des employés dans les différents services, l'examen de la dispersion et de l' asymétrie d'un ensemble de données, la visualisation des quartiles et des valeurs aberrantes, l' identification et l'analyse des valeurs aberrantes potentielles au sein d'un ensemble de données. Visualisation des statistiques récapitulatives, de la médiane, des quartiles, de la plage de manière concise et informative, en comparant les distributions de plusieurs variables dans des ensembles de données côte à côte. N'oubliez pas que les diagrammes à cases fournissent des informations précieuses sur les valeurs aberrantes, telles que leur présence et leur étendue. Ignorer ou mal gérer les valeurs aberrantes peut fausser l'interprétation des données et masquer des informations importantes, comme c'est le cas avec les diagrammes de dispersion. Le dernier graphique que nous allons découvrir est l'histogramme. Un histogramme est une représentation graphique de la distribution d'un ensemble de données, indiquant la fréquence ou la fréquence relative des valeurs à des intervalles spécifiques. Il se compose de barres dont la hauteur représente le nombre de données dans chaque intervalle. Les histogrammes fournissent des informations précieuses sur la distribution des données, les valeurs aberrantes, l'asymétrie et la variabilité. Ils décrivent visuellement la forme des données, qu'elles soient symétriques, asymétriques ou bimodales. L' asymétrie peut être évaluée en examinant la forme de l'histogramme. Les histogrammes mettent également en évidence la variabilité des données, ce qui vous permet d'observer les concentrations, les écarts et les agrégats qui révèlent des modèles ou des sous-groupes. Outre les problèmes d'échelle et d'étiquetage inadéquat, soyez prudent lorsque vous choisissez les bacs pour créer un histogramme. Nous avons généré un ensemble de données aléatoire et créé trois histogrammes, avec trois options de regroupement différentes. Trop peu de bacs, cinq représentés en vert, un nombre optimal de bacs, 20 représentés en bleu et trop de bacs 50, le jaune. En comparant ces histogrammes, vous pouvez observer comment le choix du binning affecte la représentation de la distribution des données et entraîne une représentation trompeuse des données. La sélection d'un trop petit nombre ou d'un trop grand nombre de casiers peut, respectivement, simplifier ou compliquer à outrance la distribution. Dans cette vidéo, vous avez appris qu' il existe différents types de diagrammes couramment utilisés dans la visualisation des données. Les diagrammes linéaires capturent les tendances et les changements au fil du temps, ce qui nous permet de voir les modèles et les fluctuations. Les diagrammes à barres comparent des catégories ou des groupes, fournissant une comparaison visuelle de leurs valeurs. Les diagrammes de dispersion explorent les relations entre les variables, ce qui nous aide à identifier les corrélations ou les tendances. Les diagrammes à cases montrent la distribution des données, en mettant en évidence la médiane, les quartiles et les valeurs aberrantes. Les histogrammes illustrent la distribution des données à des intervalles spécifiques, ce qui nous permet de comprendre leur forme et leur concentration. [MUSIQUE]"
   ]
  },
  {
   "cell_type": "markdown",
   "id": "d603aaa2-3031-434c-8d27-91330d62dacf",
   "metadata": {},
   "source": [
    "# Bibliothèques de parcelles"
   ]
  },
  {
   "cell_type": "markdown",
   "id": "eddc63cd-4bd2-49fc-aa4b-6c56a0f9c39a",
   "metadata": {},
   "source": [
    "Bienvenue dans les bibliothèques de parcelles. Après avoir visionné cette vidéo, vous pourrez pour explorer certaines bibliothèques de diagrammes populaires pour la visualisation de données, identifiez les caractéristiques de bibliothèques de tracés en Python. La visualisation des données est un outil essentiel pour obtenir des informations et communiquer efficacement informations complexes. Dans le monde de la visualisation des données, il existe plusieurs bibliothèques de tracés en Python qui fournissent des fonctionnalités uniques et capacités. Quelques bibliothèques populaires sont Metplotlib, Pandas, Seaborne, Foleum, Plotly et Pi Waffle. Chaque bibliothèque de parcelles possède sa points forts et cas d'utilisation. En exploitant le pouvoir parmi ces bibliothèques de diagrammes, vous pouvez obtenir des informations à partir de vos données et communiquez efficacement vos résultats. Commençons par Matplotlib. C'est une bibliothèque de traçage à usage général qui offre une grande variété de tracés et d' options de personnalisation. Il s'intègre bien aux autres bibliothèques et des frameworks tels que NumPy, Pandas, Seaborn et Plotly. Cette interopérabilité vous permet de combinez les points forts de différentes bibliothèques et créez des bibliothèques sophistiquées et visualisations interactives. Explorons quelques-uns des Caractéristiques de Matplotlib. Vous pouvez maintenant créer des diagrammes linéaires, diagrammes de dispersion, diagrammes à barres, histogrammes, diagrammes à secteurs, diagrammes en boîtes, et des cartes thermiques, pour n'en citer que quelques-unes. Matplotlib vous permet également de personnalisez les couleurs, les styles de ligne, les styles de marqueurs, les étiquettes d'accès, titres, légendes, etc. La polyvalence de Matplotlib, options de personnalisation , capacités d'intégration et le support communautaire en fait un choix puissant et fiable pour tâches de visualisation de données en Python. La bibliothèque d'intrigues suivante est Pandas. Les utilisateurs l'utilisent principalement pour manipulation de données, mais il offre également des capacités de traçage. Fonctions de traçage des pandas sont construits sur Matplotlib, ce qui signifie que vous pouvez tirer parti de la puissance et polyvalence de Matplotlib en la combinant avec les données de Pandas capacités de manipulation. Examinons maintenant certaines de ses fonctionnalités. Il s'intègre parfaitement avec les structures de données Pandas, facilitant la création de diagrammes linéaires, diagrammes de dispersion, diagrammes à barres, histogrammes et diagrammes à secteurs directement à partir de vos blocs de données. Les capacités de visualisation de Pandas sont bonnes adapté à l'analyse exploratoire des données. Explorons la troisième bibliothèque d'intrigues. Comme Pandas, Seaborne est également construit sur les fonctionnalités de Matplotlib. C'est un excellent choix pour visualisations statistiques spécialisées. Il fournit des services élégants et spécialisés les types d'intrigues tels que les diagrammes catégoriels, les diagrammes de comptage, les cartes thermiques, les intrigues pour violon, diagrammes de dispersion, diagrammes à barres et bien d'autres encore. Passons maintenant à les caractéristiques de Seaborn. Seaborne est livré avec différentes palettes de couleurs et styles à personnaliser et améliorer l'esthétique de l'intrigue. Il offre des fonctions à combiner plusieurs tracés dans des mises en page en grille, ce qui peut être utile pour comparaison de plusieurs variables ou sous-groupes. Son intégration avec Pandas permet il permet de tracer des données directement à partir de trames ou de séries de données Pandas. La combinaison de Seaborn visualisations statistiques par défaut, intégration esthétique avec La facilité d'utilisation et les thèmes intégrés de Panda en font un produit populaire choix parmi les scientifiques et les analystes des données pour explorer et communiquer des informations à partir de données. La prochaine bibliothèque d'intrigues que nous sommes Je vais en savoir plus sur Folium. En matière de géospatial visualisation de données, Folium est une excellente bibliothèque. Il vous permet de créer des applications interactives et cartes personnalisables. Qu'il s'agisse de choroplasmes, de cartes de points ou cartes thermiques, Foleum fournit les outils nécessaires pour représentez vos données géospatiales. Voici une caractéristique clé de Folium. Folium s'intègre parfaitement aux applications populaires bibliothèques d'analyse de données en Python, telles que Pandas et NumPy. C'est un choix populaire pour les données géospatiales visualisation et analyse en Python. Explorons maintenant la cinquième bibliothèque d'intrigues. Si vous souhaitez présenter votre de manière interactive, plotly est un excellent choix à explorer. Il propose des intrigues hautement interactives et tableaux de bord. Avec Plotly, vous pouvez créer des diagrammes linéaires, diagrammes de dispersion, diagrammes à barres, diagrammes à secteurs, diagrammes 3D, et des cartes Choroplèthes, pour n'en citer que quelques-unes. Voici quelques-unes des clés fonctionnalités de Plotly. C'est le framework Plotly Dash vous permet de créer des tableaux de bord interactifs avec des visualisations riches et commandes. Puisque Plotly est basé sur le Web, il permet le rendu et la visualisation de tracés dans les navigateurs Web. Cela le rend pratique pour partager des visualisations en ligne, les intégrer dans des applications Web ou des tableaux de bord et la collaboration avec d'autres personnes. La dernière bibliothèque d'intrigues que nous sommes PyWaffle va à la découverte. Si vous souhaitez visualiser une catégorie données utilisant des graphiques Waffle, PyWaffle est un outil simple mais bibliothèque efficace. Avec PyWaffle, vous pouvez créer des gaufres des graphiques, des diagrammes à secteurs carrés, des graphiques en anneau et bien d'autres types de diagrammes en fournissant une façon unique de représenter les proportions. Dans cette vidéo, vous avez appris que Matplotlib est une bibliothèque de traçage qui propose une large gamme de capacités de traçage. Pandas est une bibliothèque de traçage qui fournit fonctionnalités de traçage intégrées pour l' analyse des données. Seaborne est une bibliothèque spécialisée pour des visualisations statistiques, offrant une esthétique par défaut attrayante et palettes de couleurs. Foleyum est une bibliothèque Python qui vous permet de créer des cartes interactives et personnalisables. Plotly est un outil interactif et dynamique bibliothèque pour la visualisation des données qui prend en charge un large éventail de types de tracés et fonctionnalités interactives. PyWaffle vous permet de visualiser représentation proportionnelle à l'aide de carrés ou de rectangles."
   ]
  },
  {
   "cell_type": "markdown",
   "id": "e711657b-cc57-4cd2-81a5-87acaf0561c5",
   "metadata": {},
   "source": [
    "# Introduction à MatplotlibStatut : Traduit automatiquement de Anglais\n"
   ]
  },
  {
   "cell_type": "markdown",
   "id": "a7494194-b383-44a1-8bc4-88b8de964013",
   "metadata": {},
   "source": [
    "Bienvenue sur le site d'introduction à Matplotlib. Après avoir visionné cette vidéo, vous serez en mesure d'expliquer ce qu' est Matplotlib et pourquoi il a été créé. Décrivez les utilisations de Matplotlib. Matplotlib est l'une des\n",
    "Lisez la vidéo à partir de ::25 et suivez la transcription0:25\n",
    "bibliothèques de visualisation de données les plus utilisées en Python. Il a été créé par John Hunter, un neurobiologiste américain. John Hunter faisait partie d'une équipe de recherche analysant la cartographie par électro-CTO, les signaux eCOG, et utilisait un logiciel propriétaire pour cette tâche. Cependant, l'équipe ne possédait qu'une seule licence et l'utilisait à tour de rôle. Pour surmonter cette limitation, John Hunter a décidé de remplacer le logiciel propriétaire par une version basée sur Matlab qui pourrait être utilisée par lui et ses collègues et étendue par plusieurs enquêteurs. En conséquence, Matplotlib a été initialement développé en tant qu'outil de visualisation EEG et eCOG. Tout comme Matlab, Matplotlib était équipé d'une interface de script permettant de générer rapidement et facilement des graphiques représentés par le tracé. Quant à l'architecture de Matplotlib, elle est composée de trois couches principales. La couche principale, la couche artiste, où se déroule l'essentiel du travail, est le paradigme de programmation approprié lors de l'écriture d'un serveur d'applications Web, d'une application d'interface utilisateur ou d'un script à partager avec d'autres développeurs. La couche de script est la couche appropriée pour les applications quotidiennes. Elle est considérée comme une interface de script plus légère pour simplifier les tâches courantes et pour générer rapidement et facilement des graphiques et des tracés. La couche principale possède trois classes d'interface abstraites intégrées. FigureCanvas définit la fin et englobe la zone sur laquelle la figure est dessinée. Renderer, une instance de la classe de rendu sait dessiner sur un canevas de figures. L'événement gère les entrées de l'utilisateur telles que les coups de clavier et les clics de souris. L'artiste est l'objet qui sait comment prendre le moteur de rendu et mettre de l'encre sur la toile. Tout ce que vous voyez dans une figurine Matplotlib est une instance d'artiste. Le titre, les lignes, les étiquettes à cocher, les images, etc., correspondent tous à un artiste individuel. Il existe deux types d'objets d'artiste. Primitif : Line2D, Rectangle, Circle et Texte. Composite : axe , tique, axes et figure. L'objet Matplotlib de haut niveau qui contient et gère tous les éléments de chaque graphique est l'artiste figuratif. L'artiste composite le plus important est l'axe, car c'est là que sont définies la plupart des méthodes de traçage de l'API Matplotlib, y compris les méthodes pour créer et manipuler les ticks, les lignes d'axe, la grille et l'arrière-plan du tracé. Chaque artiste composite peut contenir d'autres artistes composites ainsi que des artistes primitifs. Un artiste de figures peut avoir un artiste de l'axe, un artiste du rectangle et un artiste du texte. La couche d'artiste est syntaxiquement lourde. Les programmeurs travaillent directement avec le backend et les couches artistiques, car ils offrent une plus grande commodité tout en intégrant Matplotlib aux serveurs d'applications. Lorsqu'il s'agit des tâches quotidiennes des scientifiques impliquant la visualisation de données ou des interactions exploratoires, la couche de script connue sous le nom de Pyplot fonctionne mieux. La couche de script Matplotlib est l' interface Matplotlib.Pyplot, qui définit automatiquement une instance de Canvas et une instance d'artiste figuratif et les connecte. Générons un histogramme de 10 000 nombres aléatoires à l'aide de la couche de script. Nous importons d'abord l'interface Pyplot et vous pouvez voir toutes les méthodes associées à la création de l'histogramme et à d'autres objets d'art et à leur manipulation. Que la méthode hist ou l'affichage de la figure fassent partie de l'interface Pyplot. Notez que l'utilisation du module random de Numpy avec random.randn pour créer des flottants aléatoires à partir de la méthode Pyplot hist est appelée, hist crée une séquence d'artistes rectangulaires pour chaque barre d'histogramme et les ajoute au conteneur d'axes. À la fonction hist, nous avons passé la variable X contenant un tableau de 10 000 nombres aléatoires et 100, ce qui signifie créer 100 bacs. Le résultat est un histogramme. Il est simple de travailler dans la couche de script. L'anatomie d'un diagramme fait référence aux différents composants et éléments qui constituent une représentation visuelle des données. Il y a une référence sur le site officiel de Matplotlib intitulée Anatomy of figure. Cette image fournit un guide complet pour comprendre ce qu'un tracé peut inclure en fonction de vos besoins. Le composant principal est la fenêtre ou le canevas contenant le ou les diagrammes secondaires. La figure Matplotlib, sous forme de canevas et d' axe, représente un graphique individuel dans une figure. Vous devez d'abord créer des parties à deux axes pour créer deux tracés sur une figure. L'axe fournit des échelles et des points de repère pour tracer les données. Les données réelles tracées sont représentées sous forme de points ou de marqueurs sur le graphique, comme l'axe. Une bonne intrigue doit avoir un titre qui fournit un résumé ou une explication de l'intrigue. De même, les étiquettes décrivent les données tracées sur chaque axe. Vous souhaiterez peut-être inclure une légende pour expliquer la signification des différents éléments ou séries de données et applaudir une grille pour aider à aligner visuellement les points de données et faciliter la lecture des valeurs du diagramme et des annotations pour fournir des informations supplémentaires ou des explications sur des points de données spécifiques ou des régions du diagramme. Vous pouvez choisir des symboles pour des points de données, des couleurs et des styles individuels. Ce lien vous mènera à un chapitre écrit par les créateurs de Matplotlib. Si vous souhaitez en savoir plus sur l'histoire de Matplotlib et son architecture, cette lecture est recommandée. Dans cette vidéo, vous avez appris que Matplotlib est l'une des\n",
    "Lisez la vidéo à partir de :6:12 et suivez la transcription6:12\n",
    "bibliothèques de visualisation de données les plus utilisées en Python. Matplotlib a été initialement développé en tant qu'outil de visualisation EEG, eCOG. L'architecture de Matplotlib est composée de trois couches principales, la couche principale, la couche artiste et la couche script. L'anatomie d'un diagramme fait référence aux différents composants et éléments qui constituent une représentation visuelle des données."
   ]
  },
  {
   "cell_type": "markdown",
   "id": "c98c6cc9-801d-48f4-8cfe-4a9d96c1a6d9",
   "metadata": {},
   "source": [
    "# Tracé de base avec Matplotlib"
   ]
  },
  {
   "cell_type": "markdown",
   "id": "db4c963c-60cd-46a0-b517-9fab093b8e87",
   "metadata": {},
   "source": [
    "[MUSIQUE] Bienvenue sur Basic Plotting avec Matplotlib. Après avoir visionné cette vidéo, vous pourrez découvrir comment utiliser Matplotlib pour créer des tracés en utilisant le bloc-notes Jupyter. Créez des outils de visualisation classiques à l'aide de la fonction Plot. Matplotlib est une bibliothèque de visualisation de données bien établie qui peut être intégrée dans différents environnements tels que les scripts Python, les shells Python et IPython, les serveurs d'applications Web et les boîtes à outils d'interface utilisateur graphique. Le bloc-notes Jupyter est également l'un d'entre eux. Le bloc-notes Jupyter est une application Web open source qui vous permet de créer et de partager des documents contenant du code en direct, des visualisations et du texte explicatif. Jupyter dispose d'un support spécialisé pour Matplotlib, donc si vous démarrez un bloc-notes Jupyter, il vous suffit d'importer Matplotlib et vous êtes prêt à partir. Nous allons maintenant apprendre à créer la quasi-totalité des outils de visualisation à l' aide de l'interface Scripting. Au fur et à mesure que nous avançons dans le cours, vous apprécierez la puissance de cette interface lorsque vous découvrirez que vous pouvez littéralement créer presque tous les outils de visualisation classiques, tels que les histogrammes, les diagrammes à barres, les boxplots et bien d'autres, en utilisant une seule fonction, la fonction Plot. Commençons par un exemple. Importons d'abord l'interface de script en tant que plt et tracons une marque circulaire à la position 5-5. Remarquez comment le tracé a été généré dans le navigateur et non dans une fenêtre séparée. Si le tracé est généré dans la nouvelle fenêtre contextuelle, vous pouvez imposer la génération de tracés dans le navigateur en utilisant ce que l'on appelle la fonction magique, quote, %matplotlib, end quote, et vous le transmettez en ligne en tant que backend. Matplotlib dispose d'un certain nombre de backends différents. L'une des limites de ce backend est que vous ne pouvez pas modifier une figure une fois qu'elle est rendue. Ainsi, après le rendu de la figure, nous n'avons aucun moyen d'ajouter, par exemple, un titre ou des étiquettes à son axe. Nous devrons générer un nouveau tracé et ajouter un titre et les étiquettes des axes avant d'appeler la fonction show. Le backend du notebook est un backend qui surmonte cette limitation. Une fois le backend du bloc-notes en place, si une fonction plt est appelée, elle l'applique à la figure active si elle existe. Si une figure n'existe pas, elle en affiche une nouvelle. Ainsi, lorsque nous appelons la fonction plt.plot pour tracer une marque circulaire à la position 5-5, le backend vérifie si une figure active existe. Comme aucune figure active n'existe, elle génère une figure et ajoute une marque circulaire à la position 5-5. Et ce qui est beau avec ce backend, c'est que nous pouvons désormais facilement ajouter un titre ou des étiquettes à l'axe après le rendu du tracé sans avoir à régénérer la figure. Enfin, un autre avantage de Matplotlib est que Pandas en a également une implémentation intégrée. Par conséquent, le traçage dans Pandas est aussi simple que d'appeler la fonction Plot sur une série Pandas ou une trame de données Pandas donnée. Supposons que nous ayons un cadre de données sur le nombre d'immigrants au Canada en provenance de l'Inde et de la Chine pour les années 1980 à 1996. Et nous souhaitons générer un graphique linéaire à partir de ces données. Tout ce que nous avons à faire est d'appeler le plot, la fonction sur cette trame de données, que nous avons appelée India_China underscore_df et de transmettre kind = line. Et voilà, un graphique linéaire des données du bloc de données. Le tracé d'un histogramme des données n'est pas différent. Supposons donc que nous souhaitions tracer un histogramme de la colonne Inde dans notre bloc de données. Tout ce que nous avons à faire est d'appeler la fonction plot sur cette colonne et de transmettre le type en tant que hist pour l'histogramme. Et voilà un histogramme du nombre d'immigrants indiens au Canada entre 1980 et 1996. Dans cette vidéo, vous avez appris que Matplotlib est une bibliothèque de visualisation de données bien établie qui peut être intégrée dans différents environnements. Jupyter Notebook est une application Web open source qui permet de créer et de partager des documents. Matplotlib dispose d'un certain nombre de backends différents. Vous pouvez facilement inclure l'étiquette et le titre de votre parcelle avec plt. [MUSIQUE]"
   ]
  },
  {
   "cell_type": "markdown",
   "id": "fa147f33-5efe-4b38-a643-5e8140dbf771",
   "metadata": {},
   "source": [
    "# Ensemble de données sur l'immigration au Canada"
   ]
  },
  {
   "cell_type": "markdown",
   "id": "e16bc2fa-9057-43c8-ba5e-d7b3d4465c1a",
   "metadata": {},
   "source": [
    "[MUSIQUE] Bonjour et bienvenue sur Dataset sur l'immigration au Canada. Après avoir visionné cette vidéo, vous serez en mesure de comprendre l' ensemble de données à utiliser dans ce cours pour visualisation des données. Importez des données avec des pandas en tant que un DataFrame dans votre programme. Traitez les données pour les adapter à traçage. Nous utiliserons la Division de la population du Les Nations Unies ont compilé des données sur l'immigration concernant 45 pays, où pour chaque pays, les données correspondant au nombre total d'immigrants provenant de tous les pays du monde sont recensés. Outre les autres métadonnées relatives aux pays d'origine des immigrants, dans ce cours, nous nous concentrerons sur le Canada et travaillerons principalement avec l'ensemble de données comprenant immigration dans le Grand Nord blanc. Voici un aperçu des données de l'ONU sur immigration au Canada sous forme de fichier Excel. Les 20 premières lignes contiennent du texte des données sur le département de l'ONU et d'autres informations. La ligne 21 contient les libellés des colonnes. À la suite de cela, chaque ligne représente un pays avec les métadonnées relatives à ce pays, tels que le continent sur lequel il réside, la région à laquelle il appartient et si la région est en développement ou développée. Ensuite, nous avons le nombre total de immigrants de ce pays entre 1980 et 2013. Tout au long de ce cours, nous utiliserons des pandas pour toute analyse des données auparavant création d'outils de visualisation. Donc, pour commencer à créer différents types de diagrammes des données, que ce soit pour une analyse exploratoire ou pour une présentation, nous devrons importer les données dans un Pandas DataFrame. Pour ce faire, nous allons devoir importer le la bibliothèque pandas, ainsi que la bibliothèque openpyxl, qui est nécessaire pour extraire données provenant de fichiers de feuilles de calcul Excel. Ensuite, nous appellerons la fonction pandas, lisez Excel. Pour lire les données dans un Pandas DataFrame, remarquez que nous sautons les 20 premières lignes pour ne lire que les données correspondant à chaque pays. Si vous souhaitez confirmer que vous avez vous avez correctement importé vos données, vous pouvez toujours utiliser la fonction tête pour les afficher les cinq premières lignes du DataFrame. À présent, nous allons traiter le bloc de données de telle sorte que le nom du pays devienne l'index de chaque ligne. Cela devrait inciter à poser des questions des pays spécifiques plus facilement. Ajoutons également une colonne supplémentaire qui représente l'immigration totale pour chaque pays de 1980 à 2013. Donc, pour l'Afghanistan, c'est 58 639, et pour l'Albanie, c'est 15 699, et ainsi de suite. Maintenant, nommons notre DataFrame df_canada. Dans cette vidéo, vous avez appris que la division de la population des Nations Unies a compilé des données sur l'immigration concernant 45 pays. Les données de l'ONU sur l'immigration au Canada montre les données relatives au nombre des personnes qui ont émigré. Pour commencer à créer différents types de tracés des données, vous devrez importer les données dans une trame de données Pandas. [MUSIQUE]"
   ]
  },
  {
   "cell_type": "markdown",
   "id": "baf9cf9b-e5d4-49ad-9924-0fece632650a",
   "metadata": {},
   "source": [
    "# Tracés linéaires"
   ]
  },
  {
   "cell_type": "markdown",
   "id": "6721a8d9-259d-4fe2-9c0d-e5b869483aa3",
   "metadata": {},
   "source": [
    "Bienvenue sur Line Plots. Après avoir visionné cette vidéo, vous serez en mesure de décrire le tracé linéaire et sa fonction. Déterminez quand utiliser un graphique linéaire, créez un graphique linéaire à partir des données du jeu de données. Qu'est-ce qu'un diagramme linéaire ? Comme son nom l'indique, il s'agit d'un graphique qui affiche les informations sous la forme d'une série de points de données reliés par des lignes droites. Il s'agit de l'un des types de graphiques les plus élémentaires et il est courant dans de nombreux domaines, et pas seulement dans la science des données. Déterminons à quel moment utiliser un graphique linéaire. Les diagrammes linéaires sont utiles pour visualiser les tendances et les changements au fil du temps, ce qui en fait un choix populaire pour les données chronologiques, telles que les variations du cours des actions, le trafic sur le site Web ou les fluctuations de température. Vous pouvez également utiliser un graphique linéaire pour montrer les relations entre deux variables. Ils peuvent également être utilisés pour comparer plusieurs séries de données sur un même graphique. Les diagrammes linéaires peuvent également mettre en évidence efficacement les changements soudains ou les anomalies des données. À titre d'exemple, à partir de notre ensemble de données, nous pouvons générer un diagramme linéaire pour voir la tendance des immigrants d'Haïti vers le Canada. Sur la base de ce graphique linéaire, nous constatons qu'il y a un pic d'immigration en provenance d'Haïti vers le Canada en 2010. Nous pouvons ensuite rechercher des justifications d'anomalies ou de changements évidents à partir d'une recherche rapide sur Google sur les événements majeurs survenus en Haïti en 2010 ; on pourrait facilement en apprendre davantage sur le tragique tremblement de terre qui a eu lieu en 2010. Par conséquent, cet afflux d'immigrants au Canada était principalement dû à ce tremblement de terre tragique. Maintenant, comment pouvons-nous générer ce graphique linéaire\n",
    "Lisez la vidéo à partir de :1:49 et suivez la transcription1:49\n",
    "? Comme nous l'avons brièvement mentionné dans une vidéo précédente avec matplotlib, il suffit d'appeler la fonction de tracé sur la trame de données ou la série de données pandas contenant les données d'intérêt. Avant de passer en revue chaque code. Pour ce faire, faisons un bref récapitulatif de notre ensemble de données. Chaque ligne représente un pays et contient des données correspondant au statut du pays en termes de localisation géographique et de développement ou de développement. Chaque rangée contient les chiffres de l'immigration annuelle de ce pays vers le Canada, 1980-2013. Traitons maintenant le DataFrame pour que le nom du pays devienne l'index de chaque ligne. Cela devrait faciliter l'interrogation de pays spécifiques. Ajoutons également une colonne supplémentaire qui représente l'immigration totale pour chaque pays, de 1980 à 2013. Pour l'Afghanistan, c'est 58 639, pour l'Albanie, c'est 15 699, et ainsi de suite. Maintenant, nommons notre DataFrame df_canada. Maintenant que nous savons comment nos données sont stockées dans le DataFrame df_canada. Générons le graphique linéaire correspondant à l'immigration en provenance d'Haïti. Tout d'abord, nous importons matplotlib en tant que MPL et son interface de script en tant que PLT. Ensuite, nous appelons la fonction plot sur la ligne correspondant à Haïti, et nous spécifions kind equals line pour générer un graphique linéaire. Ensuite, pour compléter la figure, on lui donne un titre et on étiquette son axe. Enfin, nous appelons ensuite la fonction show pour afficher la figure. Notez qu'il s'agit du code permettant de générer le tracé linéaire à l'aide de la fonction magique %matplotlib avec le backend intégré. Voilà. Un diagramme linéaire illustrant l'immigration d' Haïti au Canada, de 1980 à 2013. Dans cette vidéo, vous avez appris qu'un diagramme linéaire est un diagramme sous la forme d'une série de points de données reliés par des segments en ligne droite. Le diagramme linéaire est l'un des types de graphiques les plus élémentaires et est courant dans de nombreux domaines. Vous pouvez générer un diagramme linéaire en affectant un paramètre line to kind dans la fonction plot ()"
   ]
  },
  {
   "cell_type": "markdown",
   "id": "2666430b-b131-4cdb-befd-e5680b5e7c3c",
   "metadata": {},
   "source": [
    "# Laboratoire pratique : Exploration et prétraitement d'un ensemble de données à l'aide de Pandas"
   ]
  },
  {
   "cell_type": "markdown",
   "id": "c943e5f4-a456-4b82-b26a-b9555a2cc2a5",
   "metadata": {},
   "source": [
    "# Résumé : Introduction aux outils de visualisation des donnéesStatut : Traduit automatiquement de Anglais\n",
    "\n",
    "Traduit automatiquement de Anglais\n",
    "Nous vous félicitons ! Vous avez terminé ce module. À ce stade du cours, vous savez ce qui suit :\n",
    "\n",
    "- La visualisation des données est le processus de présentation des données dans un format visuel, tel que des diagrammes, des graphiques et des cartes, afin d'aider les gens à comprendre et à analyser facilement les données.\n",
    "\n",
    "- La visualisation des données est utilisée dans divers domaines, notamment dans les affaires, les sciences, la santé et la finance.\n",
    "\n",
    "- Il est important de suivre les meilleures pratiques, telles que la sélection de visualisations appropriées pour les données présentées, le choix de couleurs et de polices faciles à lire et à interpréter, et la réduction de l'encombrement.\n",
    "\n",
    "- Il existe différents types de graphiques couramment utilisés dans la visualisation des données.\n",
    "\n",
    "- Les graphiques linéaires saisissent les tendances et les changements dans le temps, ce qui nous permet de voir les schémas et les fluctuations.\n",
    "\n",
    "- Les diagrammes à barres comparent des catégories ou des groupes, en fournissant une comparaison visuelle de leurs valeurs.\n",
    "\n",
    "- * Les diagrammes de dispersion * explorent les relations entre les variables, ce qui nous aide à identifier les corrélations ou les tendances.\n",
    "\n",
    "- Les diagrammes en boîte affichent la distribution des données, en mettant en évidence la médiane, les quartiles et les valeurs aberrantes.\n",
    "\n",
    "- Les histogrammes illustrent la distribution des données dans des intervalles spécifiques, ce qui nous permet de comprendre leur forme et leur concentration.\n",
    "\n",
    "- Matplotlib est une bibliothèque de traçage qui offre un large éventail de possibilités de traçage.\n",
    "\n",
    "- Pandas est une bibliothèque de traçage qui offre des fonctionnalités de traçage intégrées pour l'analyse des données.\n",
    "\n",
    "- Seaborn est une bibliothèque spécialisée dans les visualisations statistiques, offrant une esthétique par défaut et des palettes de couleurs attrayantes.\n",
    "\n",
    "- Folium est une bibliothèque Python qui vous permet de créer des cartes interactives et personnalisables.\n",
    "\n",
    "- Plotly est une bibliothèque interactive et dynamique pour la visualisation de données qui prend en charge un large éventail de types de graphiques et de fonctions interactives.\n",
    "\n",
    "- PyWaffle vous permet de visualiser des représentations proportionnelles à l'aide de carrés ou de rectangles.\n",
    "\n",
    "- Matplotlib est l'une des bibliothèques de visualisation de données les plus utilisées en Python.\n",
    "\n",
    "- Matplotlib a été initialement développé comme un outil de visualisation EEG/ECoG.\n",
    "\n",
    "- L'architecture de Matplotlib est composée de trois couches principales : La couche Backend, la couche Artist et la couche Scripting.\n",
    "\n",
    "- L'anatomie d'un graphique fait référence aux différents composants et éléments qui constituent une représentation visuelle des données.\n",
    "\n",
    "- Matplotlib est une bibliothèque de visualisation de données bien établie qui peut être intégrée dans différents environnements.\n",
    "\n",
    "- Jupyter Notebook est une application web open-source qui vous permet de créer et de partager des documents.\n",
    "\n",
    "- Matplotlib dispose d'un certain nombre de backends différents.\n",
    "\n",
    "- Vous pouvez facilement inclure l'étiquette et le titre de votre graphique avec plt.\n",
    "\n",
    "- Pour commencer à créer différents types de tracés, vous devez importer les données dans un DataFrame Pandas.\n",
    "\n",
    "- Un tracé linéaire est un tracé qui se présente sous la forme d'une série de points de données reliés par des segments de ligne droite.\n",
    "\n",
    "- Le tracé linéaire est l'un des types de graphiques les plus élémentaires et il est courant dans de nombreux domaines.\n",
    "\n",
    "- Vous pouvez générer un graphique linéaire en attribuant \"line\" au paramètre \"Kind\" de la fonction plot()."
   ]
  },
  {
   "cell_type": "markdown",
   "id": "09581ef5-10b9-4ea5-8b0a-3d86d8deec9c",
   "metadata": {},
   "source": [
    "# Superficie des parcelles"
   ]
  },
  {
   "cell_type": "raw",
   "id": "e8cc7919-d197-4529-a031-a57c5e880e22",
   "metadata": {},
   "source": [
    "Bienvenue sur les parcelles de la région. Après avoir visionné cette vidéo, vous serez en mesure de décrire qu'est-ce qu'un diagramme de surface, expliquez comment créer un diagramme de surface à l'aide de Matplotlib. Qu'est-ce qu'une parcelle de terrain ? Une parcelle de terrain, également connue sous forme de graphique ou de graphique en aires, affiche la magnitude et proportion de variables multiples sur un axe continu, représentant généralement le temps ou une autre dimension ordonnée. C'est similaire à un diagramme linéaire, mais avec la zone située en dessous de ligne remplie de couleur pour souligner le cumul l'ampleur des variables. Ce type de graphique est couramment utilisé lorsque vous essayez de comparer deux ou en plusieurs quantités. Apprenons à générer une parcelle de terrain avec Matplotlib. Avant de passer en revue le code expliquant comment générer un diagramme de surface, faisons un bref récapitulatif de notre ensemble de données. Rappelez-vous que chaque ligne représente un pays et contient des métadonnées sur le pays, telles que sa situation géographique et son état de développement. Chaque ligne contient également des données numériques de immigration annuelle en provenance de ce pays vers Canada de 1980 à 2013. À présent, nous allons traiter le trame de données afin que le nom du pays devienne l'index de chaque ligne. Cela devrait permettre de récupérer des lignes relatives à des pays beaucoup plus faciles. Ajoutons également une colonne supplémentaire qui représente la somme cumulée de l' immigration annuelle provenant de chacun pays de 1980 à 2013. Pour l'Afghanistan, c'est 58 639 au total. Pour l'Albanie, c'est 15 699, et ainsi de suite. Nommons notre base de données pdf souligne le Canada. Maintenant que nous savons comment ont enregistré nos données dans le dataframe DF_Canada. Essayons de générer parcelles de superficie pour les pays les plus élevés immigration au Canada. Nous pouvons essayer de trouver ces pays en triant notre base de données par ordre décroissant du total cumulé immigration 1980-2013. Nous utilisons la fonction sort_values pour trier notre trame de données par ordre décroissant. Voici le résultat. Il s'avère que l'Inde suivis de la Chine, puis du Royaume-Uni, des Philippines et du Pakistan, figurent parmi les cinq pays les plus élevés immigration au Canada. Pouvons-nous maintenant aller de l'avant et générez les diagrammes de surface en utilisant les cinq premières lignes de ce trame de données ? Pas encore tout à fait. Tout d'abord, nous devons créer une nouvelle base de données portant uniquement sur ces cinq pays et exclut la colonne totale. Plus important encore, pour générer les diagrammes de superficie pour pour ces pays, nous devrions tracer les années sur l'axe horizontal et l'immigration annuelle sur l'axe vertical. Notez que Matplotlib trace les indices d'une trame de données sur l'axe horizontal et avec la trame de données comme indiqué, Matplotlib trace les pays sur l'axe horizontal. Pour résoudre ce problème, nous devons procéder à la transposition de la trame de données. Voyons comment nous pouvons le faire. Après avoir trié notre trame de données par ordre décroissant de cumul immigration annuelle, nous créons une nouvelle base de données des cinq premiers pays, et nous l'appelons _top five. Nous sélectionnons ensuite uniquement le colonnes représentant les années 1980-2013 afin d'exclure le total de la colonne précédente appliquer la méthode de transposition. La trame de données qui en résulte correspond exactement à ce que nous voulons avec cinq colonnes, où chaque colonne représente l'un des cinq meilleurs pays et les années étant les indices. Nous pouvons maintenant utiliser la fonction plot sur la trame de données, df_top five pour générer les parcelles de terrain. Tout d'abord, nous importons Matplotlib au format MPL et c'est un script interface en tant que PLT. Ensuite, nous appelons le fonction plot sur le DataFrame df_top five, et nous définissons kind=area sur générer un diagramme de surface. Ensuite, pour compléter la figure, nous lui donnons un titre et étiquetons les deux axes de manière appropriée. Enfin, nous utilisons ensuite la fonction show pour affiche la figure. Notez qu'ici, nous générons le diagramme de surface en utilisant le backend intégré, et le tour est joué. Un diagramme de la région qui décrit la tendance en matière d'immigration de les cinq pays où l' immigration est la plus élevée au Canada, 1980-2013. Les parcelles sont particulièrement efficace et décrivant les données avec un caractère cumulatif, tel que le suivi des stocks performance du marché, visualisation de la population données démographiques, ou affichage de la répartition des ressources entre différents secteurs. Dans cette vidéo, vous a appris qu'un diagramme en aires représente les totaux cumulés à l'aide de nombres ou de pourcentages au fil du temps. Le processus de la création d'un diagramme de surface implique l'importation Matplotlib et appel de la fonction plot sur la trame de données avec le paramètre kind assigné en tant que zone. Les parcelles offrent un aspect visuellement attrayant et façon intuitive de mettre en valeur la relation et proportion de variables multiples dans un seul graphique."
   ]
  },
  {
   "cell_type": "markdown",
   "id": "bd1bb4a1-7d01-4ed1-ba96-8694fab07366",
   "metadata": {},
   "source": [
    "# Histogrammes"
   ]
  },
  {
   "cell_type": "markdown",
   "id": "0082404b-7851-4870-804d-34860e403ae4",
   "metadata": {},
   "source": [
    "Bienvenue sur les histogrammes. Après avoir visionné cette vidéo, vous serez en mesure de définir un histogramme à l'aide d'une illustration. Explorez le processus de création un histogramme utilisant Matplotlib, commençons par définir Qu'est-ce qu'un histogramme ? Un histogramme est une façon de représenter la distribution de fréquence d'un ensemble de données numériques. La façon dont cela fonctionne, c'est qu'il partitionne la répartition des données numériques dans des groupes, attribue chaque point de données dans les données sont placées dans un casier, puis compte le nombre de données points attribués à chaque case. L'axe vertical est donc essentiellement la fréquence ou le nombre de points de données dans chaque casier. Par exemple, supposons que la plage de les valeurs numériques de l'ensemble de données sont 34 129. Il s'agit maintenant de la première étape de création un histogramme divise l'axe horizontal en, disons, 10 bacs de même largeur. Ensuite, nous construisons l'histogramme en compter le nombre de points de données dont la valeur est comprise entre les limites du premier bac, le deuxième bac, le troisième bac, etc. Indiquez le nombre de points de données dont la valeur est comprise entre 0 et 3413 sont 175, puis nous dessinons une barre de cette hauteur pour ce bac, nous répétons la même étape pour tous les autres bacs. Et si aucun point de données ne tombe dans un casier, alors ce casier aurait une barre d'une hauteur nulle. Alors, comment créons-nous un histogramme utilisant Matplotlib ? Traitons le bloc de données afin que le nom du pays devienne l'index de chaque ligne, cela devrait permettre de récupérer les lignes relatives à des pays beaucoup plus faciles. Ajoutons également une colonne supplémentaire qui représente la somme cumulée de l'immigration annuelle provenant de chaque pays de 1980 à 2013, soit 58 639 au total pour l'Afghanistan, 15 699 pour l'Albanie, et ainsi de suite. Et nommons nos données frame DF Underscore Canada. Considérant le Canada ensemble de données sur l' immigration, avec les pays comme indice, et le fait d'avoir une autre colonne comme total représente la somme cumulée des immigration en provenance de chaque pays. De 1980 à 2013. Supposons que nous voulions visualiser la distribution d'immigrants au Canada en 2013, le moyen le plus simple d'y parvenir est de générer un histogramme des données de la colonne 2013. Voyons comment nous pouvons le faire avec Matplotlib, nous importons d'abord Matplotlib au format mpl et son interface de script était plt. Ensuite, nous appelons la fonction plot sur les données de la colonne 2013 et nous spécifions kind=hist à générez un histogramme, puis, pour compléter la figure, nous lui donnons un titre et une étiquette sur ses deux axes. Enfin, nous utilisons la fonction show pour affichez la figure, et là vous avez un histogramme qui représente la distribution de l'immigration au Canada en 2013. Mais remarquez comment les poubelles ne sont pas alignés avec les marques de coche sur l'axe horizontal, cela peut rendre l'histogramme difficile à lire. Essayons donc de résoudre ce problème afin de rendre notre histogramme plus efficace. Une façon de résoudre ce problème est d'emprunter la fonction histogramme de la bibliothèque NumPy, donc comme d'habitude, nous commençons par importer Matplotlib et son interface de script. Mais cette fois, nous importez la bibliothèque NumPy, puis nous appelons l'histogramme NumPy fonction sur les données de la colonne 2013. Cette fonction va partitionner la répartition des données de la colonne 2013 dans dix cases de même largeur, où dix est le nombre de casiers par défaut. Il calcule également le nombre de données points qui se situent dans chaque case , puis renvoient cette fréquence de chaque case bin que nous appelons count ici, et le bin edges which nous appellerons bin_ edges. Nous passons ensuite ces bords de poubelle en tant que paramètre supplémentaire dans notre fonction de traçage pour générer l'histogramme, et le tour est joué. Un histogramme généré avec précision avec les bords du bac et les marques de coche clairement alignés sur l'axe horizontal. Dans cette vidéo, vous avez appris que un histogramme est un moyen de représenter la distribution des fréquences d'un ensemble de données numériques. Pour générer un histogramme sur Matplotlib, vous importez Matplotlib au format mpl et son interface de script est plt. Vous pouvez appeler la fonction de traçage sur les données cadre avec le paramètre kind assigné en tant que hist. Vous pouvez utiliser la bibliothèque NumPy pour créer bacs pour la représentation de l'histogramme. [MUSIQUE]"
   ]
  },
  {
   "cell_type": "markdown",
   "id": "3434d8f1-3636-4337-acbc-d983d8994137",
   "metadata": {},
   "source": [
    "# Diagrammes à barres"
   ]
  },
  {
   "cell_type": "markdown",
   "id": "1ce959cc-b5b4-4e83-b8ef-a9b89b4e2b4e",
   "metadata": {},
   "source": [
    "Bienvenue sur les diagrammes à barres. Après avoir visionné cette vidéo, vous serez en mesure de décrire un graphique à barres avec à l'aide d'une illustration. Découvrez le processus de création d' un graphique à barres à l'aide de Matplotlib. Un graphique à barres est populaire outil de visualisation. Contrairement à un histogramme, un graphique à barres, également appelé graphique à barres, est un type de graphique où la longueur de chaque barre est proportionnelle à la valeur de l'élément qu'il représente. Il est couramment utilisé pour comparer les valeurs d' une variable à à un moment donné. Supposons, par exemple, que nous voulions visualiser de façon discrète la façon dont l'immigration en provenance d'Islande au Canada a regardé 1980-2013. Pour ce faire, vous pouvez créer un graphique à barres où la hauteur de la barre représente le total immigration de l'Islande au Canada en une année particulière. Comment faisons-nous cela ? avec Matplotlib ? À partir de notre ensemble de données sur immigration au Canada, nous avons créé un DataFrame appelé df_canada. Avoir des noms de pays comme index de chaque ligne et de chaque colonne le total représente la somme cumulée de immigration annuelle en provenance de chaque pays 1980-2013. Voyons comment nous pouvons utiliser Matplotlib pour générer un graphique à barres pour visualiser l'immigration de l' Islande au Canada ressemblait à 1980-2013. Comme d'habitude, nous commençons par importer Matplotlib et c'est interface de script. Ensuite, nous utilisons la variable des années pour créer un nouveau DataFrame. Appelons-le df_iceland, qui inclut données relatives à l' immigration annuelle en provenance de De l'Islande au Canada, à l'exclusion de la colonne des totaux. Ensuite, nous utilisons l'intrigue fonction sur df_iceland, et nous définissons le type égal à la barre pour générer un graphique à barres. Pour compléter la figure, nous lui donnons un titre et étiqueté ses deux axes. Enfin, nous utilisons le fonction d' affichage pour afficher la figure. Voilà, vous l'avez. Un graphique à barres représente immigration islandaise au Canada 1980-2013. En examinant le graphique à barres, nous avons remarqué que l'immigration au Canada en provenance d'Islande a connu une tendance à la hausse depuis 2010. Je suis sûr que les curieux certains d'entre vous se demandent déjà qui est à l'origine de cette tendance à la hausse. Vous pouvez également créer un bar graphique avec barres horizontales en attribuant une barre au type paramètre de la fonction de traçage. Notez l'utilisation du paramètre de couleur car vous pouvez changer la couleur du bar avec ça. Supposons que vous souhaitez souligner les années les plus élevées et le plus faible nombre d' immigrants islandais au Canada entre 1980 et 1990. Vous pouvez transmettre une liste de couleurs au paramètre de couleur en conséquence. Ici, nous avons mis en évidence les barreaux pour les années 1981 et 1990 avec la couleur rouge. En attribuant la couleur de votre choix au paramètre de couleur des bords, vous pouvez modifier la bordure couleur de chaque barre. Dans cette vidéo, vous avez appris qu'un graphique à barres est un type de parcelle où la longueur de chaque la barre est proportionnelle à la valeur de l'élément qu'il représente. Vous pouvez créer un bar graphique utilisant Matplotlib représentant le immigration totale en provenance d'Islande vers le Canada."
   ]
  },
  {
   "cell_type": "markdown",
   "id": "6a183ac7-f783-49ae-8d7a-c42939f09e46",
   "metadata": {},
   "source": [
    "# Diagrammes à secteurs"
   ]
  },
  {
   "cell_type": "markdown",
   "id": "5c345ada-0b71-44f6-843b-dde0d775c5f1",
   "metadata": {},
   "source": [
    "[MUSIQUE] Bienvenue sur Pie Charts. Après avoir visionné cette vidéo, vous serez en mesure de décrire un graphique circulaire à l'aide d'un exemple. Découvrez le processus de création d'un graphique circulaire à l'aide de Matplotlib. Alors, qu'est-ce qu'un graphique circulaire ? Un diagramme circulaire est un graphique statistique circulaire divisé en segments pour illustrer la proportion numérique. Par exemple, voici un graphique circulaire des élections fédérales canadiennes. Il représente le pourcentage de sièges remportés par parti à la Chambre des communes. Ensuite, nous allons apprendre à créer un graphique circulaire avec Matplotlib. Essayons maintenant de visualiser la répartition par continent de l' immigration au Canada à partir de notre ensemble de données df_canada. La première étape consiste à regrouper les données par continent à l'aide de la colonne des continents, et nous utilisons Pandas pour cela. Nous appelons le groupe Pandas par fonction sur df_canada, et nous additionnons le nombre d' immigrants des pays appartenant au même continent. Voici le bloc de données qui en résulte, et nommons-le df_continents. Le bloc de données qui en résulte comporte six lignes, chacune représentant un continent, et 35 colonnes représentant les années 1980 à 2013, plus la somme cumulée de l'immigration pour chaque continent. Nous sommes maintenant prêts à commencer à créer notre graphique circulaire. Nous commençons comme d'habitude en important Matplotlib en tant que mpl et sa couche de script, l'interface pyplot, en tant que plt. Ensuite, nous appelons la fonction plot sur la colonne totale de la trame de données df_continents, et nous définissons kind = pie pour générer un graphique circulaire. Ensuite, pour compléter la figure, nous lui donnons un titre. Enfin, nous utilisons la fonction show pour afficher la figure. Et voilà, un graphique circulaire qui illustre la proportion d'immigration au Canada sur chaque continent de 1980 à 2013. La propriété d'éclatement d'un graphique circulaire dans Matplotlib vous permet de décaler une ou plusieurs tranches par rapport au centre, en mettant en évidence des sections spécifiques du graphique. En attribuant des valeurs au paramètre d'explosion, vous pouvez contrôler le degré de séparation et mettre l'accent sur des segments particuliers du diagramme. Comme le montre ce graphique, les continents dont le total est inférieur à 10 % sont éclatés pour être mis en évidence. Un dernier point concernant les graphiques circulaires, certains critiques virulents s'opposent à l'utilisation de graphiques circulaires dans toutes les conditions. Ils soutiennent que les graphiques circulaires n'affichent pas des données précises de manière cohérente. Lorsqu'il s'agit de représenter les données de manière cohérente et de communiquer le point, les graphiques à barres sont nettement plus performants. Si vous souhaitez en savoir plus sur les arguments contre les graphiques circulaires, voici un lien vers un article très intéressant qui aborde très clairement les défauts des graphiques circulaires. Vous pouvez également trouver le lien sous la vidéo. Dans cette vidéo, vous avez appris qu'un diagramme circulaire est un graphique statistique circulaire divisé en segments pour illustrer une proportion numérique. Le processus de création d'un graphique circulaire implique l'importation de Matplotlib. [MUSIQUE]"
   ]
  },
  {
   "cell_type": "markdown",
   "id": "2ffe8921-9d77-4515-9f53-d060a7467641",
   "metadata": {},
   "source": [
    "# Graphiques en boîte"
   ]
  },
  {
   "cell_type": "markdown",
   "id": "86735360-334a-40b2-b179-ea4f4ec444b1",
   "metadata": {},
   "source": [
    "[MUSIQUE] Bienvenue dans Box Plots. Après avoir visionné cette vidéo, vous serez en mesure de décrire un schéma à l'aide d'une illustration. Expliquez comment créer des diagrammes en forme de boîte en utilisant Matplotlib, alors qu'est-ce qu'un box plot ? Un diagramme en boîte est un moyen de réaliser des statistiques représentant la distribution de données données selon cinq dimensions principales, la valeur minimale étant la plus petite numéro dans les données triées. Le premier quartile est le 0,25 % de le chemin parcouru dans les données triées, en d'autres termes, un quart des données les points sont inférieurs à cette valeur. La médiane est la médiane des données triées, le troisième quartile est le 0,75 % de le chemin parcouru dans les données triées. En d'autres termes, les trois quarts des les points de données sont inférieurs à cette valeur et le maximum est le plus élevé numéro dans les données triées. Voyons comment nous pouvons créer un box plot avec Matplotlib. Nous traitons d'abord la trame de données DF_Canada pour définir le nom du pays comme index et ajouter une colonne représentant le cumul somme de l'immigration annuelle en provenance de chaque pays de 1980 à 2013. Nous voulons créer un diagramme en forme de boîte pour visualiser immigration du Japon au Canada. Comme pour les autres outils que nous avons appris, nous commençons par importer matplotlib en tant que mpl et l'interface pyplot en tant que plt. Ensuite, nous créons une nouvelle trame de données sur les données concernant le Japon et nous excluons la colonne totale en utilisant la variable des années. Ensuite, nous transposons les données obtenues cadre au format correct pour créer le diagramme en forme de boîte. Nommons cette nouvelle trame de données DF_Japan. À la suite de cela, nous appelons la fonction plot sur DF_Japan et définissons un type égal à une boîte pour générer une boîte tracé, puis nous complétons la figure. Nous lui donnons un titre et étiquetez l'axe vertical de manière appropriée. Enfin, nous utilisons la fonction show pour affiche la figure, et le tour est joué. Un box plot qui offre une bonne répartition de l'immigration japonaise au Canada de 1980 à 2013. À partir de ce graphique, nous pouvons vérifier que il n'y a aucune valeur aberrante dans ces données. De plus, nous pouvons voir que la médiane est plus proche du sommet, ce qui indique plus de données concentration dans la moitié supérieure. Dans cette vidéo, vous avez appris que un diagramme en boîte est un moyen de représenter statistiquement une distribution de données donnée à travers cinq dimensions principales. Les cinq dimensions principales sont minimales, premier quartile, médiane, troisième quartile et maximum. Vous pouvez créer une boîte tracez à l'aide de Matplotlib. [MUSIQUE]"
   ]
  },
  {
   "cell_type": "markdown",
   "id": "48a76542-9312-4607-be93-a572c0bd1668",
   "metadata": {},
   "source": [
    "# Diagrammes de dispersion"
   ]
  },
  {
   "cell_type": "markdown",
   "id": "caa583bf-bcd0-42ed-8d70-0c971743d73c",
   "metadata": {},
   "source": [
    "Bienvenue sur Scatter Plots. Après avoir visionné cette vidéo, vous serez en mesure de décrire ce qu'est un diagramme de dispersion avec à l'aide d'un exemple, explorez le scatter processus de création de tracés à l'aide de matplotlib. Qu'est-ce qu'un diagramme de dispersion ? Un diagramme de dispersion est un type de graphique qui affiche les valeurs relatives généralement à deux variables les unes par rapport aux autres. Habituellement, il s'agit d'un variable dépendante qui est tracée par rapport à une variable indépendante pour déterminer s'il existe une corrélation entre les deux variables existent. Par exemple, voici un diagramme de dispersion du revenu par rapport au niveau de scolarité. Et en regardant les données tracées, on peut en conclure qu' une personne ayant plus les années d'études sont susceptibles de permettre d'obtenir un un revenu plus élevé que celui d'une personne ayant moins de revenus années d'études. Comment créer un scatter tracer avec matplotlib ? Nous envisageons DataFrame df_canada, dont les noms de pays sont définis sous forme d'index et d'un la colonne est le total, ce qui représente somme cumulée de l' immigration annuelle provenant de chacun pays de 1980 à 2013. Disons que nous voulons créer un diagramme de dispersion de l'immigration annuelle totale au Canada de 1980 à 2013. Pour ce faire, nous devons d'abord créer un nouveau DataFrame qui affiche chaque année et le total correspondant nombre d'immigrants de tous les pays du monde comme indiqué ici. Nommons ce nouveau DataFrame sous la forme df_total. Ensuite, nous procédons comme d'habitude, nous importons matplotlib au format mpl et sa couche de script, l'interface pyplot en tant que plt. Nous utilisons la fonction plot sur le DataFrame df_total, et nous définissons que kind est égal à scatter à générer un diagramme de dispersion. Contrairement aux autres données outils de visualisation, nous ne faisons que transmettre le paramètre kind était assez pour générer le graphique. Avec les diagrammes de dispersion, nous devons également transmettre le variable qui se trouve sur l'axe horizontal comme le paramètre x et la variable qui se trouve sur l'axe vertical en tant que paramètre y. Dans ce cas, nous sommes passer l'année de la colonne comme paramètre x et colonne total en tant que paramètre y. Ensuite, pour compléter la figure, nous lui donnons un titre et une étiquette ses axes de manière appropriée. Enfin, nous utilisons le show fonction pour afficher la figure. Voilà, vous l'avez. Un diagramme de dispersion qui montre l'immigration totale au Canada en provenance de tous les pays le monde de 1980 à 2013. Le diagramme de dispersion représente clairement une tendance générale à la hausse de l'immigration au fil du temps. Envisagez l'utilisation de le paramètre de couleur, que nous avons attribué une valeur de bleu foncé. Vous pouvez choisir la couleur de votre choix parmi les palettes de couleurs disponibles. Par exemple, découvrez comment l'intrigue est de couleur rouge. Vous pouvez également utiliser le paramètre s pour représenter un tiers variable si vous le souhaitez. Ici, nous avons inclus le total provenant du continent africain pour représenter la taille de chacun marqueur au fil des ans. Et c'est évident que le nombre d'immigrants a augmenté au cours de ces années en raison de la taille des marqueurs de dispersion l'intrigue augmente. Dans cette vidéo, vous avez appris qu'un diagramme de dispersion affiche des valeurs relatives généralement à deux variables l'un contre l'autre. Le processus de création d'un le diagramme de dispersion implique l'importation de matplotlib pour visualiser un vaste ensemble de données."
   ]
  },
  {
   "cell_type": "markdown",
   "id": "58fb7c94-3b5c-4cbf-bf06-a630b10e7dc5",
   "metadata": {},
   "source": [
    "# Tracer directement avec Matplotlib"
   ]
  },
  {
   "cell_type": "markdown",
   "id": "e0e5697f-471e-4bbe-a074-9421b7ca55c4",
   "metadata": {},
   "source": [
    "Bienvenue sur Plotting directement avec Matplotlib. Après avoir visionné cette vidéo, vous pourrez découvrir diverses fonctions proposées par Matplotlib pour la visualisation et le traçage des données. Faites la différence entre le storytelling de données et visualisation des données.\n",
    "Lisez la vidéo à partir de ::29 et suivez la transcription0:29\n",
    "Matplotlib est un traçage complet à usage général bibliothèque qui fournit une interface flexible pour créer un large éventail de parcelles. Son module pyplot offre un moyen pratique de créer et personnalisez rapidement les tracés. Commençons à tracer directement avec matplotlib. Tout d'abord, nous devons importez la bibliothèque. Importez matplotlib.pyplot au format PLT. Ici, nous importons pyplot en tant que PLT. Nous avons également importé NumPy as np, car les tableaux numpy sont généralement utilisés comme données source pour le traçage et également le support fonctions mathématiques. Ensuite, pour tabular données, importation de pandas. Appelez ensuite l'intrigue secondaire fonction et créez une figure, la fenêtre Canvas et les axes. C'est la zone où l'intrigue apparaît. La paire d'axes de la figure permet un meilleur contrôle sur la figure ou la toile. Nommez maintenant la parcelle que vous souhaitez souhaitez créer sur ces axes. Appelons maintenant la fonction plot sur les axes à afficher le graphique linéaire, nous allons créer des données synthétiques pour générer le graphique à l'aide des années NumPy, est égal à np.arange et ses années 1980. 2014 à une fonction de plage générera un tableau 1D en chiffres 1980-2013, à l' exclusion des immigrants de 2014 equals np.random.randint générera un tableau 1D d'entiers aléatoires, entre Gamme de 2 000 à 10 000. La taille est égale à 34, indique le nombre de éléments du tableau. La fonction X.plot sera créer un diagramme linéaire. Il prend les valeurs x et y en tant qu'arguments correspondant aux données à prendre en compte l'axe X et l'axe Y. x. Plot années d'immigrants. Enfin, affichez le tracé à l'aide de la fonction plt.show et si vous souhaitez afficher ces données sous forme de diagramme de dispersion appelé fonction de dispersion sur x à la place, comme indiqué ici. X.Scatter et les années précédentes et des immigrants qui y vivent. Maintenant, nous allons mettre un titre des parcelles. Pour ce faire, il suffit de transmettre la chaîne de titre au fonction plt.title. plt.title immigrants entre 1980 et 2013. Sur les deux diagrammes, étiquetez l'axe avec plt.xlabel en années et plt.y label en total immigrés sur les deux axes. Vous pouvez appliquer le label directement sur le axes comme indiqué ici. Axes.set_title et transmettez la chaîne de titre. Axes.set_ x-label ou y-label. Voyez maintenant que les parcelles ont le titre et les étiquettes. Maintenant, en utilisant x-lim et fonctions y-lim, vous pouvez définir les limites sur les axes x et y. Pour améliorer la lisibilité, vous pouvez activer les lignes de grille avec fonction de grille et passez-le avec true, comme x.grid, true. La fonction de légende inclura la légende de votre intrigue. Notez que l'axe X commence maintenant par 1975 et se termine par 2015, et maintenant il montre la grille à le contexte de l'intrigue. Différentes options sont disponibles pour personnaliser l'intrigue. Vous pouvez personnaliser le tracé avec des styles de lignes, des styles de marqueurs et une personnalisation des couleurs options pour atteindre les objectifs souhaités effets visuels. À l'aide d' un marqueur, sélectionnez le style à représenter points de données dans votre graphique, comme S pour carré et 0 pour les points. Pour le diagramme linéaire, le le marqueur est de la taille du marqueur, alors qu'en mode dispersion, c'est juste S. De même, vous sélectionnez une couleur et une taille pour cela. Avec le paramètre de style de ligne, vous pouvez sélectionner différents styles de lignes, tels que plein, pointillé, ou des lignes pointillées. Notez l'utilisation de LOC dans le paramètre de légende pour spécifier l'emplacement où la légende est placée sur la figure. Utilisons maintenant un diagramme à barres pour représenter le nombre de immigrants pour chaque année. Fonction AX.bar crée un diagramme à barres, en passant les années correspondant à l'axe X et à immigrants sur l'axe Y. La hauteur de chacun la barre représente le nombre d'immigrants pour cette année. Ax.hist génère un histogramme avec bacs réglés à 20. Notez l'utilisation de la couleur des bords et des paramètres de couleur pour spécifier la bordure et la barre colonne de l'histogramme. AX.pie va générer une tarte sur l'axe. Ici, nous préparons un gâteau sur cinq ans seulement, de 1980 à 1984. Les couleurs qui vous sont attribuées pour chaque tranche de tarte, il y a une liste de couleurs et les étiquettes sont fixées en années. Auto PCT affiche le pourcentage d'immigrants avec une décimale. Maintenant, explorons comment afficher plusieurs graphiques sur le même chiffre et précisez le nombre de lignes et de colonnes à créer pour fonction de sous-parcelles. Par exemple, créons une ligne et une dispersion tracez sur une ligne, plt.subplots et transmettez-en un. Les deux sous-parcelles partageront le même axe Y que les données sur l'axe Y, c'est la même chose, donc attribuez le Sheri le paramètre est vrai. Vous avez maintenant deux axes, un axe avec un indice zéro et comme avec l'index 1, et vous pouvez tracer votre complote comme tu l'as fait tout à l'heure. Fonction Axs0.plot pour la ligne axs1.scatter pour un nuage de points. Et je vois que tu as créé deux parcelles ensemble. Alternativement, nous pouvons utiliser l'ajout d'un trait de soulignement fonction de sous-intrigue. Il prend trois arguments, le premier, le nombre de lignes, le second, les colonnes et le dernier est un indice de la sous-parcelle. Vous pouvez créer différents axes sur la figure et ajouter intrigues secondaires comme indiqué ici. Ax 1 est égal figure.add_subplot 2, 2, 1. Cela signifie les premiers axes de la figure divisée deux par deux. Ensuite, sur ces axes, créez le tracé comme un ax1.plot. De même, vous pouvez tracer toutes les parcelles que vous souhaitez sur les quatre axes. Comme ça. Vous avez toutes vos parcelles là-dessus figure. Excellent travail. Enfin, découvrons le storytelling des données et visualisation des données. Il s'agit de deux termes différents qui ont des objectifs différents. Le data storytelling est l'art de raconter des histoires qui implique de créer un récit autour des données. Il présente un et une histoire captivante. D'autre part, la visualisation des données est un aspect important de la narration des données et évolue en créant des graphiques informatifs pour comprendre et explorer les modèles , les tendances et les relations dans les données. Il donne vie aux données. Nous vous recommandons de lire cet article intitulé le data storytelling, la science des données essentielle compétence dont tout le monde a besoin sur www.forbes.com pour en savoir plus sur le storytelling de données. Dans cette vidéo, vous avez appris que matplotlib est un traceur polyvalent bibliothèque qui offre une interface flexible pour création de différents types de parcelles. Le module Matplotlib pyplot offre un moyen pratique de créer et personnalisez rapidement les tracés. La narration des données, c'est l'art de raconter des histoires qui consiste à créer un récit autour des données. La visualisation des données est un aspect important de la narration des données et implique création de visuels attrayants"
   ]
  },
  {
   "cell_type": "markdown",
   "id": "403f06a5-e47d-4f4e-a91d-76ff32848b30",
   "metadata": {},
   "source": [
    "# Résumé : Outils de visualisation de base et spécialisésStatut : Traduit automatiquement de Anglais\n"
   ]
  },
  {
   "cell_type": "markdown",
   "id": "c8ba3980-62ab-4a1a-a9fc-98c83d237f23",
   "metadata": {},
   "source": [
    "Nous vous félicitons ! Vous avez terminé ce module. À ce stade du cours, vous savez ce qui suit :\n",
    "\n",
    "- Un diagramme circulaire est un graphique statistique circulaire, divisé en segments, pour illustrer une proportion numérique.\n",
    "\n",
    "- Le processus de création d'un diagramme circulaire implique l'importation de Matplotlib pour représenter un grand ensemble de données sur une période donnée.\n",
    "\n",
    "- Un diagramme en boîte est un moyen de représenter statistiquement une distribution de données donnée à travers cinq dimensions principales.\n",
    "\n",
    "- Les cinq dimensions principales sont le minimum, le premier quartile, la médiane, le troisième quartile et le maximum.\n",
    "\n",
    "- Vous pouvez créer un diagramme en boîte à l'aide de Matplotlib.\n",
    "\n",
    "- Un diagramme de dispersion affiche les valeurs relatives à deux variables typiques l'une par rapport à l'autre.\n",
    "\n",
    "- Le processus de création d'un diagramme de dispersion implique l'importation de Matplotlib pour visualiser un grand ensemble de données.\n",
    "\n",
    "- Matplotlib est une bibliothèque de traçage polyvalente qui offre une interface flexible pour créer différents types de tracés.\n",
    "\n",
    "- Le module Pyplot de Matplotlib offre un moyen pratique de créer et de personnaliser rapidement des graphiques.\n",
    "\n",
    "- Le data storytelling est l'\"art de raconter des histoires\" qui consiste à créer une narration autour des données.\n",
    "\n",
    "- La visualisation des données est un aspect important de la narration des données et implique la création de visuels attrayants."
   ]
  },
  {
   "cell_type": "markdown",
   "id": "72431241-dec6-4dc5-bd48-c06cc351801f",
   "metadata": {},
   "source": [
    "# Graphiques de gaufres et nuage de mots"
   ]
  },
  {
   "cell_type": "markdown",
   "id": "389e974e-96b3-4178-94f7-a16f21d6c0fc",
   "metadata": {},
   "source": [
    "Bienvenue sur Waffle Charts et Word Cloud. Après avoir visionné cette vidéo, vous pourrez explorer les cartes des gaufres à l'aide d'une illustration. Identifiez les cas d'utilisation des cartes à gaufres. Explorez le cloud de mots avec à l'aide d'une illustration. Identifiez les cas d'utilisation de Word Cloud. Les\n",
    "Lisez la vidéo à partir de ::30 et suivez la transcription0:30\n",
    "diagrammes de gaufres sont une visualisation technique qui représente des données catégorielles dans le formulaire de carreaux ou de cellules carrés. Elles ressemblent à une grille de carrés de taille égale, chaque carré représentant une valeur ou une catégorie spécifique. La taille ou la couleur des carrés indiquer l'ampleur ou la proportion de chaque catégorie. Des cartes à gaufres de manière efficace afficher la proportion ou le pourcentage des différentes catégories au sein d'une composition globale. La structure en forme de grille de la gaufre les graphiques facilitent la compréhension et l' interprétation des données, même pour publics non techniques. Explorons maintenant les domaines de où vous pouvez utiliser des cartes à gaufres. Vous pouvez utiliser des cartes à gaufres pour analyse des parts de marché, représentation démographique, projet suivi des progrès, allocation du budget. Réponses aux enquêtes, résultats des élections, et analyse des ventes de produits.\n",
    "Lisez la vidéo à partir de :1:27 et suivez la transcription1:27\n",
    "Passons en revue chaque cas d'utilisation. Visualisez les données de parts de marché, indiquant la proportion d'entreprises ou de produits sur un marché spécifique. Afficher des données démographiques, telles que l'âge groupes ou ethnies au sein d'une population. Représenter l'état d'avancement des tâches ou jalons, fournissant un aperçu visuel des progrès. Démontrer l'allocation du budget ressources de différentes catégories ou départements au sein d'une organisation.\n",
    "Lisez la vidéo à partir de :1:56 et suivez la transcription1:56\n",
    "Résumez les réponses à l'enquête, en affichant la distribution des réponses à des questions à choix multiples. Fournir une visualisation claire des résultats des votes, représentant la répartition des voix pour candidats ou partis. Et enfin, illustrez les ventes de produits en représentant la répartition des ventes entre les catégories ou les régions.\n",
    "Lisez la vidéo à partir de :2:18 et suivez la transcription2:18\n",
    "De plus, en utilisant le Pywaffle bibliothèque en Python, vous pouvez facilement créer des diagrammes à gaufres visuellement attrayants pour communiquer efficacement des données catégorielles. Vous pouvez importer la classe Waffle à partir de la bibliothèque pywaffle et fournissez le paramètre values avec les données contenant les quatre continents avec le total d'immigrants en provenance de l'ensemble de données sur l'immigration au Canada. Les paramètres des lignes et des colonnes déterminez la taille de la grille du graphique. Enfin, nous personnalisons le graphique en ajoutant un titre et le positionnement de la légende.\n",
    "Lisez la vidéo à partir de :2:50 et suivez la transcription2:50\n",
    "Maintenant que nous comprenons les cartes à gaufres, découvrons-en plus sur Word Cloud. Cloud de mots, également connu sous le nom de nuage de balises ou le cloud de texte, est une méthode de visualisation de données populaire pour visualiser présenter des données textuelles de manière engageante et informative. Il présente un résumé concis de le contenu textuel en fournissant un aperçu visuel des éléments les plus courants mots utilisés dans un texte ou un ensemble de documents donné. Un nuage de mots est simplement une représentation de importance des différents mots dans un corps de texte. Cela fonctionne d'une manière simple, en un mot apparaît plus grand et plus gras dans le nuage de mots en fonction du nombre de fois qu'il apparaît dans une source de données textuelles. Voici un exemple de un texte sur le recrutement. Ce nuage nous montre que des phrases comme le recrutement, les talents, les candidats, etc. ressortent du document. Explorons maintenant les domaines de que nous pouvons utiliser Word Cloud. Il s'agit notamment de l'analyse des réseaux sociaux, analyse des commentaires des clients, analyse de contenu, études de marché, analyse du CV ou de la description de poste. Passons en revue chaque cas d'utilisation. Le cloud de mots permet d'extraire et visualisez des sujets ou des sentiments populaires sur les réseaux sociaux conversations ou hashtags. Résumez les avis ou les commentaires des clients à identifier des thèmes ou des sentiments récurrents. Il aide à analyser le contenu textuel, tels que des articles, des blogs ou des documents de recherche à découvrir mots clés ou thèmes courants. Le cloud Word permet d'analyser les réponses aux enquêtes, entretiens ou transcriptions de groupes de discussion pour en extraire des informations clés. Il met également en évidence des compétences importantes ou mots clés dans les CV ou les descriptions de poste pour évaluer leur pertinence. Dans cette vidéo, vous avez appris que la gaufre les graphiques sont une technique de visualisation qui représente des données catégorielles dans la forme de carreaux carrés ou de cellules. Il existe différents domaines dans où vous pouvez utiliser des cartes à gaufres. Le cloud de mots est une donnée populaire méthode de visualisation pour présenter visuellement des données textuelles de manière engageante et manière informative. Vous pouvez utiliser Word Cloud dans différents des zones pour présenter visuellement les données textuelles de manière attrayante et informative."
   ]
  },
  {
   "cell_type": "markdown",
   "id": "426b30d3-27c7-43db-83d5-b52e2834b960",
   "metadata": {},
   "source": [
    "# Graphiques de Seaborn et de régression"
   ]
  },
  {
   "cell_type": "markdown",
   "id": "e320c5fc-28ee-44cf-b918-4e595d979fbe",
   "metadata": {},
   "source": [
    "Bienvenue sur Seaborn et les diagrammes de régression. Après avoir visionné cette vidéo, vous serez en mesure d'expliquer ce qu'est Seaborn et ce qu'il fait, ainsi que de décrire les fonctions de Seaborn. Bien que Seaborn soit une autre bibliothèque de visualisation de données, elle est basée sur Matplotlib. Seaborn propose une gamme de thèmes intégrés et de palettes de couleurs qui améliorent l'attrait visuel de vos tracés avec un minimum d'effort. Seaborn rend la création de tracés très efficace. Par conséquent, avec Seaborn, vous pouvez générer des tracés avec un code cinq fois inférieur à celui de Matplotlib. Seaborn s'intègre bien aux bibliothèques statistiques telles que NumPy et SciPy, ce qui vous permet de combiner facilement l'analyse statistique avec les visualisations. Il fournit des types de diagrammes spécialisés tels que des diagrammes de régression, des diagrammes de distribution et des diagrammes catégoriels, particulièrement utiles pour analyser les données et modéliser les relations. Bien que Pandas et Matplotlib soient de puissants outils pour la manipulation des données et la visualisation de base, Seaborn les complète en fournissant une interface de niveau supérieur pour créer des graphiques statistiques visuellement attrayants et informatifs. Seaborn fonctionne bien, en particulier lorsqu'il s'agit de visualisations et d'analyses statistiques plus complexes. Voyons comment utiliser Seaborn pour créer un graphique statistique. Examinons les diagrammes de régression. Supposons que nous ayons un cadre de données appelé df_total, représentant l'immigration totale au Canada de 1980 à 2013. Le cadre de données affiche l'année dans une colonne et l'immigration totale correspondante dans une autre. Nous voulons créer un diagramme de dispersion et une droite de régression pour mettre en évidence les tendances des données. Avec Seaborn, vous pouvez faire tout cela avec une seule ligne de code. Nous importons d'abord Seaborn, et nous l'importons en tant que SNS, puis nous appelons la fonction Seaborn Regplot. Nous lui disons d'utiliser le bloc de données df_total et de tracer l'année de la colonne sur l'axe horizontal et le total de la colonne sur l'axe vertical. Le résultat de cette ligne de code est un diagramme de dispersion avec une droite de régression, et pas seulement cela, mais également un intervalle de confiance de 95 %. La fonction Regplot de Seaborn accepte également des paramètres supplémentaires pour toute personnalisation personnelle. Vous pouvez donc modifier la couleur, par exemple à l' aide du paramètre color. Allons-y et changeons la couleur en vert.\n",
    "Lisez la vidéo à partir de :2:41 et suivez la transcription2:41\n",
    "Vous pouvez également modifier la forme du marqueur à l'aide du paramètre du marqueur. Allons-y et changeons la forme de nos marqueurs en un marqueur plus au lieu du marqueur circulaire par défaut. Essayons de tracer des données catégoriques. Notre ensemble de données sur l'immigration au Canada comporte certaines caractéristiques catégoriques telles que le pays, la région et le continent. Pourquoi ne pas tracer les continents pour leur dénombrement dans l'ensemble de données ? À l'aide d'une seule ligne de code, nous pouvons créer un diagramme à barres représentant le nombre d' enregistrements pour chaque continent dans les données à l'aide de la fonction Counterplot. Le paramètre x indique la variable catégorielle à tracer sur l'axe X, le pays, et le paramètre de données définit l'ensemble de données à utiliser, DF_Canada. Bien que nous n'ayons pas utilisé toutes les observations de l'ensemble de données, il ressort clairement du graphique que la plupart des observations contenues dans les données proviennent d'Afrique. Essayons de tracer le diagramme de Bohr sur les données catégorielles d' une tranche de l'ensemble de données DF_Canada. Ici, nous avons tracé le continent en fonction de la colonne totale de données. Seaborn a été regroupé selon la variable catégorielle continent et a tracé les valeurs agrégées du total, avec un intervalle de confiance. Vous en apprendrez davantage au cours de la session de laboratoire sur Seaborn. Dans cette vidéo, vous avez appris que Seaborn est une bibliothèque de visualisation de données basée sur Matplotlib. Seaborn a été conçu principalement pour fournir une interface de haut niveau permettant de dessiner des graphiques statistiques. Les diagrammes de dispersion et les lignes de régression peuvent être créés avec une seule ligne de code à l'aide de Seaborn. La fonction Regplot de Seaborn accepte des paramètres supplémentaires pour une personnalisation personnelle. "
   ]
  },
  {
   "cell_type": "markdown",
   "id": "a9b3730c-e423-402c-9cde-774df9f2f37a",
   "metadata": {},
   "source": [
    "# **Introduction à Folium**"
   ]
  },
  {
   "cell_type": "markdown",
   "id": "f09ad6a3-3eca-440a-8dee-adf0b8eb93e8",
   "metadata": {},
   "source": [
    "Bienvenue dans un présentation de Folium. Après avoir visionné cette vidéo, vous serez en mesure de décrire Folium et ses caractéristiques. Expliquez à quoi sert Folium. Folium est une donnée puissante bibliothèque de visualisation en Python conçue principalement pour aider les gens à visualiser données géospatiales. Avec le volume, vous pouvez créer une carte de n'importe quel endroit du monde en utilisant la latitude et des valeurs de longitude. Vous pouvez également créer une carte et superposez des marqueurs et des groupes sur le dessus de la carte pour des raisons intéressantes visualisations, vous pouvez également créer des cartes de styles différents, tels que des cartes du niveau des rues, des cartes d'étamines et un quelques autres, que nous allons examiner Informez-vous en un instant. Création d'une carte du monde avec Folium est simple. Vous devez d'abord importez Folium , puis vous appelez la carte fonction. C'est tout. Qu'est-ce qui est intéressant à propos des cartes créées par Folium, c'est que ils sont interactifs, vous pouvez donc zoomer et dézoomer une fois la carte affichée, ce qui est une fonctionnalité utile. Le style de carte par défaut est une carte routière ouverte, qui montre une vue directe d' une zone lorsque vous êtes a zoomé et montre les limites du pays du monde lorsque vous êtes zoomé dehors jusqu'au bout. Maintenant, créons un monde carte centrée sur le Canada. Pour ce faire, nous passons dans les valeurs de latitude et de longitude du Canada en utilisant le paramètre de localisation. Avec Folium, vous pouvez régler le niveau de zoom initial en utilisant le paramètre zoom_start. Utilisez l'initiale parce que vous pouvez facilement modifier le niveau de zoom une fois la carte affichée en zoomant ou en dézoomant, vous pouvez jouer avec paramètre pour déterminer le niveau de zoom initial pour différentes valeurs. Réglons le niveau de zoom pour notre carte du Canada à quatre. Le résultat sera un monde carte centrée sur le Canada. Une autre caractéristique de Folium c'est que vous pouvez créer différents styles de carte en utilisant le paramètre des carreaux. Créons une étamine carte du Canada au toner. Ce style est génial pour visualiser et explorer les méandres des rivières et les zones côtières. Un autre style est le terrain en étamine. Créons une carte de Le Canada en terrain semé d'étamines. Ce style est excellent pour visualiser l' ombrage des collines et la nature couleurs de la végétation. Dans cette vidéo, vous a appris que Folium est une visualisation de données bibliothèque en Python qui aide les gens visualisez les données géospatiales. Avec Folium, vous pouvez créer des cartes de styles différents, telles que des cartes du niveau de la rue, des cartes d'étamines, etc. Une des caractéristiques de Folium est que vous pouvez créer différents styles de carte à l'aide de le paramètre des carreaux."
   ]
  },
  {
   "cell_type": "markdown",
   "id": "d398f611-1b90-40ec-beba-885d1abcfc07",
   "metadata": {},
   "source": [
    "# Cartes avec marqueurs"
   ]
  },
  {
   "cell_type": "markdown",
   "id": "05fabbc3-8c53-4557-bd50-58e09c07e96e",
   "metadata": {},
   "source": [
    "Bienvenue sur Maps with Markers. Après avoir visionné cette vidéo, vous serez en mesure d'expliquer comment Folium peut ajouter des marqueurs à une carte et de décrire comment générer des marqueurs. Avec Folium, vous pouvez facilement ajouter des marqueurs sur la carte. Créons d'abord une carte du monde centrée sur le Canada. Importez d'abord Folium, puis créez l'objet cartographique. N'oubliez pas que le paramètre de localisation indique les coordonnées de latitude et de longitude du point central de la carte. Le zoom_start définit le niveau de zoom initial de la carte. Dans ce cas, zoom_start = 4 fournit une vue agrandie du Canada. Vous pouvez l'afficher en appelant simplement canada_map. Les marqueurs jouent un rôle essentiel dans l'amélioration de l' interactivité et l'ajout de contexte aux cartes. Ils représentent des lieux ou des points d'intérêt spécifiques et fournissent des informations supplémentaires lorsque vous cliquez dessus. Les marqueurs sont comme des panneaux indicateurs qui nous guident sur la carte et mettent en évidence les éléments importants. L'Ontario est une province canadienne qui regroupe environ 40 % de la population canadienne. Elle est considérée comme la province la plus peuplée du Canada. Ajoutons un marqueur pour la province de l'Ontario, l'une des plus grandes provinces du Canada sur notre carte.\n",
    "Lisez la vidéo à partir de :1:31 et suivez la transcription1:31\n",
    "À l'aide de la fonction Folium.Marker, nous indiquons le paramètre de localisation comme 51.2538, -85.3232, ce qui représente les coordonnées approximatives de l'Ontario. De plus, nous avons défini le paramètre de fenêtre contextuelle comme Ontario afin de fournir une étiquette lorsque vous cliquez sur le marqueur.\n",
    "Lisez la vidéo à partir de :1:54 et suivez la transcription1:54\n",
    "La méthode add_to (canada_map) est appelée sur l' objet Folium.marker pour ajouter le marqueur de l'Ontario au canada_map. Cela garantit que le marqueur est inclus dans les couches de la carte et qu'il sera affiché lorsque le canada_map sera affiché ou enregistré. Nous pouvons également créer le marqueur à l'aide de FeatureGroup. Allons-y et créons un groupe de fonctionnalités nommé Ontario. Désormais, lorsqu'un groupe d'entités est créé, il est vide. La prochaine étape consiste à créer ce que l' on appelle des enfants et à les ajouter au groupe de fonctionnalités. Créons un enfant sous la forme d' une marque circulaire rouge située au centre de la province de l'Ontario. Nous précisons l'emplacement de l'enfant en lui transmettant ses valeurs de latitude et de longitude. Une fois que nous avons fini d'ajouter des enfants au groupe d'entités, nous ajoutons le groupe d'entités à la carte. Le résultat est une marque circulaire rouge superposée en haut de la carte et ajoutée au centre de la province de l'Ontario. Maintenant, il serait utile que nous puissions étiqueter ce marqueur afin que d'autres personnes sachent ce qu'il représente. Pour ce faire, nous utilisons la fonction de marqueur et le paramètre de fenêtre contextuelle pour transmettre le texte que nous voulons ajouter à ce marqueur. Le résultat est que notre marqueur affiche l'Ontario lorsque vous cliquez dessus. Au cours de la séance de laboratoire, nous examinerons un exemple concret et explorerons le taux de criminalité à San Francisco. Nous allons créer une carte de San Francisco et superposer des milliers de ces marqueurs sur le dessus de la carte. Découvrez également comment générer des groupes de marqueurs pour que votre carte paraisse moins encombrée. La session de laboratoire de ce module est intéressante, alors assurez-vous de la terminer. L' affichage de plusieurs marqueurs sur une carte est essentiel lorsque vous utilisez des cartes plus grandes. Supposons que vous souhaitiez afficher plusieurs marqueurs sur la carte. Comment peux-tu faire ça ? C'est simple. Créez une liste de tous les emplacements, puis transmettez-la à la fonction marqueur, en ajoutant un trait de soulignement pour qu'elle fonctionne en boucle et votre carte comportant plusieurs marqueurs sera prête à être affichée. Lorsque vous créez du code pour afficher plusieurs marqueurs sur une carte, vous pouvez appeler l'objet MarkerCluster, ajouter un trait de soulignement à la fonction et transmettre votre carte ici. Cela revient à créer une liste de lieux. Passez ensuite cette liste à la fonction de marquage par le biais de la boucle. Mais cette fois, au lieu de map, utilisez marker_cluster pour ajouter le trait de soulignement aux fonctions et votre carte avec plusieurs marqueurs sera affichée. Les marqueurs du marker_cluster seront regroupés intelligemment en fonction de leur proximité lorsque la carte sera affichée. Cette fonction de regroupement améliore la présentation visuelle en évitant le surpeuplement et en garantissant une représentation claire, principalement lorsque de nombreux marqueurs sont proches. Dans cette vidéo, vous avez appris qu'avec Folium, vous pouvez facilement ajouter des marqueurs sur les cartes. Le paramètre de localisation indique les coordonnées de latitude et de longitude du point central de la carte. Les marqueurs jouent un rôle essentiel dans l'amélioration de l' interactivité et l'ajout de contexte aux cartes. La fonction Folium.Marker spécifie les paramètres de localisation. Le paramètre de fenêtre contextuelle fournit une étiquette lorsque vous cliquez dessus. Les marqueurs peuvent être créés à l'aide d'un groupe de caractéristiques."
   ]
  },
  {
   "cell_type": "markdown",
   "id": "153e0c6e-e73a-4674-ab52-0a658c660c5a",
   "metadata": {},
   "source": [
    "# Cartes choroplèthes"
   ]
  },
  {
   "cell_type": "markdown",
   "id": "d729691b-386f-473b-b124-c2a21729d7e3",
   "metadata": {},
   "source": [
    "Bienvenue sur Choropleth Maps. Après avoir visionné cette vidéo, vous serez capable de décrire des cartes choroplèthes. Expliquez quelles en sont les utilisations cartes choroplèthes. La plupart d'entre vous ont déjà vu de telles cartes. C'est ce que nous appelons des cartes choroplèthes. Alors, qu'est-ce qu'une carte choroplèthe ? Une carte choroplèthe est une carte thématique dans quelles zones sont ombrées ou modelées proportionnellement à la mesure de variable statistique affichée sur la carte. Comme la densité de population ou revenu par habitant. Plus la mesure est élevée, plus la couleur est foncée. La carte de gauche est donc un choroplèthe carte du monde montrant le taux de mortalité infantile pour 1 000 naissances. Plus la couleur est foncée, plus le taux de mortalité infantile est élevé. Selon la carte, les pays africains ont des taux de mortalité infantile très élevés, certains signalant un taux supérieur à 160 pour 1 000 naissances. De même, la carte de droite est une carte choroplèthe des États-Unis montrant la population par mile carré par État. Encore une fois, plus la couleur est foncée, plus la population est élevée. Selon la carte, les États de la partie orientale des États-Unis a tendance à être plus peuplée que les États de la partie occidentale, la Californie étant une exception. Folium est une bibliothèque Python utilisée pour création de cartes et de visualisations interactives. Il fournit une solution simple et intuitive moyen de générer des cartes à l'aide de données provenant de diverses sources, y compris GeoJSON, Frames de données Pandas et tableaux NumPy. Pour créer une carte choroplèthe d'une région d'intérêt, folium nécessite un fichier GeoJSON qui inclut les données géospatiales de la région. Pour une carte du monde en choroplèthe, nous aurions besoin d'un fichier GeoJSON répertoriant chaque pays et toutes les données géospatiales pour définir ses frontières et ses limites. Voici un exemple de ce qu'est un GeoJSON le fichier inclurait des informations sur chaque pays. L'exemple présenté ici concerne au pays Brunei. Comme vous pouvez le voir, le fichier est composé de son nom, de son identifiant, de sa géométrie, de sa forme et de ses coordonnées qui définissent ses frontières et ses limites. Voyons donc comment nous pouvons créer une carte choroplèthe du monde montrant l'immigration au Canada. Avant de créer le code de la carte, Récapitulons rapidement notre ensemble de données. Rappelez-vous que chaque ligne représente un pays et contient des métadonnées à son sujet, telles que son emplacement géographique et s'il est en développement ou développé. Chaque ligne contient également chiffres de l'immigration annuelle en provenance de ce pays au Canada de 1980 à 2013. Et nommons notre bloc de données df_canada. Maintenant que nous savons que nos données sont stockées dans le bloc de données df_ canada, voyons comment générer une carte choroplèthe de le monde montrant l'immigration au Canada. Nous devrions maintenant être des experts en créer des cartes du monde avec Folium. Allons donc de l'avant et créons une carte du monde. Mais cette fois, utilisons le Mapbox Bright Tileset. Le résultat est une belle carte du monde affichant le nom de chaque pays. Maintenant, convertissons ceci mapper sur une carte choroplèthe. Nous définissons d'abord une variable qui pointe vers notre fichier JSON. Ensuite, nous appliquons le choroplèthe fonction de notre carte du monde. Nous lui disons d'utiliser le total du pays les colonnes de notre base de données df_canada et les noms des pays à rechercher les informations géospatiales sur chaque pays dans le fichier GeoJSON. Le résultat sera une carte choroplèthe du Canada montrant l'intensité de l' immigration en provenance de différents pays du monde entier. Nous explorons les cartes choroplèthes en plus détails lors de la session de laboratoire, alors assurez-vous de le compléter session de laboratoire du module. Dans cette vidéo, vous avez appris qu'une carte choroplèthe est carte thématique dans laquelle les zones sont ombrées ou structurées proportionnellement à la mesure de la variable statistique. Lors de la création d'une carte choroplèthe, Folium a besoin d'un fichier GeoJSON qui inclut les données géospatiales de la région. Le Mapbox Bright Tileset affiche les nom de chaque pays lorsqu'il est utilisé sur une carte. "
   ]
  },
  {
   "cell_type": "markdown",
   "id": "57951981-e662-46fc-8015-086ae26c2aa5",
   "metadata": {},
   "source": [
    "# Résumé : Visualisations avancées et données géospatialesStatut : Traduit automatiquement de Anglais\n",
    "\n",
    "# Traduit automatiquement de Anglais\n",
    "\n",
    "Nous vous félicitons ! Vous avez terminé ce module. A ce stade de la formation, vous savez :\n",
    "\n",
    "* Folium est une bibliothèque de visualisation de données en Python qui permet de visualiser des données géospatiales.\n",
    "\n",
    "- Avec Folium, vous pouvez créer des cartes de différents styles, telles que des cartes au niveau de la rue, des cartes d'étamine, etc.\n",
    "\n",
    "- Folium vous permet de créer différents styles de cartes à l'aide du paramètre tiles.\n",
    "\n",
    "- Avec Folium, vous pouvez facilement ajouter des marqueurs sur les cartes.\n",
    "\n",
    "- Le paramètre \"location\" spécifie les coordonnées de latitude et de longitude du point central de la carte.\n",
    "\n",
    "- Les marqueurs jouent un rôle essentiel dans l'amélioration de l'interactivité et l'ajout d'un contexte aux cartes.\n",
    "\n",
    "- La fonction folium.Marker() spécifie les paramètres d'emplacement.\n",
    "\n",
    "- Le paramètre popup fournit une étiquette lorsque l'on clique dessus.\n",
    "\n",
    "- Les marqueurs peuvent être créés à l'aide d'un \"groupe de caractéristiques\"\n",
    "\n",
    "- Une carte choroplèthe est une carte thématique dans laquelle les zones sont ombrées ou structurées proportionnellement à la mesure de la variable statistique.\n",
    "\n",
    "- Pour créer une carte choroplèthe, Folium a besoin d'un fichier GeoJson qui contient les données géospatiales de la région.\n",
    "\n",
    "- Le jeu de tuiles Mapbox Bright Tileset affiche le nom de chaque pays lorsqu'il est utilisé sur une carte."
   ]
  },
  {
   "cell_type": "markdown",
   "id": "418a6f77-bf43-4cbc-93b0-78dbf103b63e",
   "metadata": {},
   "source": [
    "# Aperçu du tableau de bord"
   ]
  },
  {
   "cell_type": "markdown",
   "id": "8f40520c-bc26-41de-bff7-83c28da7593c",
   "metadata": {},
   "source": [
    "Bienvenue dans la présentation du tableau de bord. Après avoir visionné cette vidéo, vous pourrez découvrir les avantages de l'utilisation d' applications de données interactives pour améliorer les performances de l'entreprise et identifier les différents outils de tableau de bord Web disponibles en Python. Grâce aux visuels en temps réel sur le tableau de bord, il devient facile de comprendre les éléments moteurs de l'entreprise. En fonction du type de rapport et des données, des graphiques et des diagrammes appropriés peuvent être créés en un seul endroit central. Cela permet aux parties prenantes de comprendre facilement ce qui va bien ou mal et quelles améliorations sont nécessaires. En outre, le fait d'avoir une vue d'ensemble en un seul endroit peut aider les entreprises à prendre des décisions éclairées susceptibles d'améliorer les performances. En général, les meilleurs tableaux de bord répondent à des questions commerciales cruciales. Supposons que vous soyez chargé de surveiller et de rendre compte des performances des vols intérieurs aux États-Unis. Voici les éléments du rapport d'examen annuel : les 10 meilleures compagnies aériennes en 2019 en termes de nombre de vols, nombre de vols en 2019, répartis par mois, nombre de voyageurs de l'État de Californie vers d'autres États répartis par groupe de distance. Examinons deux manières de présenter le rapport. Type 1, le rapport est présenté sous forme de tableaux avec des inférences à partir de tableaux documentés à titre de référence. Type 2, ici, nous présentons le même rapport sous forme de tableau de bord. Comme vous pouvez le constater, le fait de survoler chaque graphique permet d' obtenir des détails sur les points de données. Au bas du graphique Sunburst, vous pouvez cliquer sur différents chiffres, parcourir les niveaux et obtenir des informations détaillées sur chaque segment. Pouvez-vous observer la différence dans la présentation des résultats ? Et si nous devions obtenir le rapport sur des données en temps réel, et non sur des données statiques ? La présentation du résultat à l'aide de tableaux et de documents prend également du temps, est moins attrayante visuellement et difficile à comprendre. Un data scientist doit être en mesure de créer et de présenter une histoire sur le résultat d'une manière facilement compréhensible par les parties prenantes. Dans cette optique, les tableaux de bord sont la solution. Examinons les options des outils de tableau de bord Web disponibles en Python. Dash est un framework Python permettant de créer des applications d'analyse Web. Il fonctionne sur les flasques plotly.js et react.js. Dash convient parfaitement à la création d' applications de visualisation de données dotées d'interfaces utilisateur hautement personnalisées.\n",
    "Lisez la vidéo à partir de :2:40 et suivez la transcription2:40\n",
    "Panel fonctionne avec les visualisations de Bokeh, Matplotlib, HoloViews et de nombreuses autres bibliothèques de traçage Python, ce qui les rend instantanément visibles, individuellement ou associées à des widgets interactifs qui les contrôlent. Panel fonctionne aussi bien dans les blocs-notes Jupyter pour créer des outils d'exploration rapide des données que comme application autonome déployée dans les tableaux de bord et vous permet de passer facilement d'un contexte à l'autre selon vos besoins. Voila transforme les blocs-notes Jupyter en applications Web autonomes. Il est compatible avec des outils de mise en page distincts tels que Jupyter-flex ou des modèles tels que voila-vuetify. Streamlit peut facilement transformer des scripts de données en applications Web partageables selon trois grands principes : adopter les scripts Python, traiter les widgets comme des variables et réutiliser les données et les calculs. D'autres outils peuvent être utilisés pour le tableau de bord. Bokeh est une bibliothèque de traçage, un widget et une bibliothèque d'applications. Il agit comme un serveur pour les diagrammes et les tableaux de bord. Panel, qui est l'un des outils de tableau de bord Web, est basé sur Bokeh. Ipywidgets fournit un large éventail de widgets compatibles Jupyter et une interface prise en charge par de nombreuses bibliothèques Python. Mais le partage sous forme de tableau de bord nécessite un serveur déployable distinct, comme le tour est joué. Matplotlib est une bibliothèque complète permettant de créer des visualisations statiques, animées et interactives en Python. Bowtie permet aux utilisateurs de créer des tableaux de bord en Python pur. Flask est un serveur Web basé sur Python qui crée des sites Web arbitraires, y compris ceux avec des tracés Python qui fonctionnent ensuite comme des tableaux de bord Flask. Dans cette vidéo, vous avez appris que le tableau de bord simplifie l'aspect dynamique de l'entreprise. Les données peuvent être présentées à l'aide de différents types de tableaux de bord. Il existe différents types d'outils de tableau de bord."
   ]
  },
  {
   "cell_type": "markdown",
   "id": "439a1187-d7e2-4e7f-af40-16bf0cda4761",
   "metadata": {},
   "source": [
    "# Ressources supplémentaires pour les tableaux de bord"
   ]
  },
  {
   "cell_type": "markdown",
   "id": "f95b7204-2177-4d8c-9044-57b469bb03ea",
   "metadata": {},
   "source": [
    "- [*Outils Python de création de tableaux de bord*](https://pyviz.org/dashboarding/)\n",
    "\n",
    "\n",
    "- [*Le journalisme de données de John Snow*](https://www.theguardian.com/news/datablog/2013/mar/15/john-snow-cholera-map)\n"
   ]
  },
  {
   "cell_type": "markdown",
   "id": "15e595cb-6e31-46fc-a2e0-11bfbbcbea40",
   "metadata": {},
   "source": [
    "# Introduction à Plotly"
   ]
  },
  {
   "cell_type": "markdown",
   "id": "aa5a37f4-1661-4d9a-995d-f6391c734f66",
   "metadata": {},
   "source": [
    "Bienvenue sur la page d'introduction à Plotly. Après avoir visionné cette vidéo, vous pourrez explorer Plotly et ses deux sous-modules, découvrir comment utiliser Plotly objets graphiques et Plotly Express pour créer des objets personnalisés et des graphiques interactifs. Qu'est-ce que Plotly ? Plotly est un outil interactif, bibliothèque de traçage open source qui prend en charge plus de 40 types de graphiques uniques. Il est disponible en Python et JavaScript. Plotly Python est une extension de la bibliothèque JavaScript Plotly et inclut des types de graphiques tels que les statistiques, les finances, les cartes, les études scientifiques, et des données tridimensionnelles. Les visualisations basées sur le Web créé à l'aide de Plotly Python peut être affiché dans Jupiter Notebook, enregistré dans des fichiers HTML autonomes ou utilisé dans le cadre d'une version Web purement Python applications utilisant Dash. Ici, nous allons nous concentrer sur les deux sous-modules de Plotly : Plotly Graph Objects et Plotly Express. Plotly Graph Objects est l'interface de bas niveau pour figures, traces et mise en page. Le graphique Plotly Le module Objects fournit automatiquement hiérarchie générée de classes, de figures, de traces et de mises en page appelées objets graphiques utilisés pour représentant des personnages ayant une classe de haut niveau Graphiquement. Graph_Objects.Figure. Plotly Express est un succès enveloppe de niveaux pour Plotly. C'est un départ recommandé point pour créer les figures les plus courantes fourni par Plotly. Parce que s'il s'agit d'une syntaxe simple, elle utilise un graphe objets internes.\n",
    "Lisez la vidéo à partir de :1:48 et suivez la transcription1:48\n",
    "Voyons comment utiliser le sous-module Plotly.GRAPH_OBJECTS avec une simple ligne exemple de création de graphique. Tout d'abord, importez le packages requis. Ici, nous importons représenter graphiquement les objets au fur et à mesure. En écrivant le code, importez Plotly.GRAPH_OBJECTS au fur et à mesure. Ensuite, nous importons Plotly Express avec import Plotly.express en tant que commande px. Enfin, nous avons besoin de numpy pour générer des échantillons de données. Nous importons numpy, importez numpy en tant que np, puis générez des exemples de données avec np.random.seed (10). Nous définissons une graine aléatoire pour la reproductibilité. Créons maintenant un tableau de 12 éléments ; x=np.arrange (12). Créons des valeurs y aléatoires en utilisant un module aléatoire y=np.random.randint (50, 500, taille=12). Le Plotly.Graph contient l'objet JSON, qui possède un structure du dictionnaire. Depuis que nous avons importé Représentez graphiquement les objets comme dans la diapositive précédente, go sera l'objet JSON. Le graphique peut être tracé en mettant à jour les valeurs de Accédez aux mots clés de l'objet. Nous créons la figure en ajoutant une trace qui est appelé Scatter, ici. Regardons le code ; fig = go.Figure ( Data=GO.Scatter (x=x, y=y)). Ensuite, la mise en page de la figure est mise à jour à l'aide de méthode de mise à jour de la disposition. Nous mettons ici à jour l'axe X, l'axe Y et le titre du graphique. Voyons le code :\n",
    "Lisez la vidéo à partir de :3:36 et suivez la transcription3:36\n",
    "fig.update_layout (title=) « Tracé linéaire simple », xaxis_title= « Mois », yaxis_title= « Ventes »). Ensuite, la méthode fig.show est appelée pour afficher le tracé créé. Voici la figure tracée. Nous allons maintenant créer le même graphique linéaire à l'aide de Plotly Express. Comme vous pouvez le voir dans l'exemple, le graphique linéaire complet peut être créé à l'aide d'une seule commande. Voyons le code ; hashtag, le graphique linéaire complet peut être créé en une seule commande ; fig=px.line (x=x), y=y, title= 'Simple Line Tracé », labels=dict, (x= « Mois », y= « Ventes ») fig.show (). La visualisation est automatiquement interactif. Plotly Express facilite la création et la modification de la visualisation. Il est temps de jouer avec la bibliothèque Plotly. Nous utiliserons la compagnie aérienne création d'un ensemble de données provenant de l'échange d'actifs de données pour montrer comment utiliser les objets Plotly Graph et express pour créer des graphiques. Voici un bref aperçu des ensemble de données de rapports des compagnies aériennes. Ensemble de données sur les performances du transporteur déclarant en matière de respect des délais contient des informations sur environ 200 millions vols intérieurs américains signalés au Bureau des transports des États-Unis Statistiques. L'ensemble de données contient des éléments de base des informations sur chaque vol, telles que la date, l'heure, aéroport de départ et aéroport d'arrivée, et, le cas échéant, la durée pendant laquelle le vol a été retardé et des informations sur raison du retard. Dans cette vidéo, vous a appris que Plotly est un logiciel open source interactif bibliothèque de traçage qui prend en charge plus de 40 types de graphiques uniques. Plotly graph objects est l'interface de bas niveau pour figures, traces et mise en page. Plotly Express est un logiciel de haut niveau emballage pour Plotly. Il utilise un graphique objets internes.\n",
    "fr\n",
    "​\n",
    "\n"
   ]
  },
  {
   "cell_type": "code",
   "execution_count": null,
   "id": "46061d7e-9a4e-4d9b-86f0-d1ccdeb97f27",
   "metadata": {},
   "outputs": [],
   "source": [
    "Ressources supplémentaires pour Plotly"
   ]
  },
  {
   "cell_type": "markdown",
   "id": "3cb56c3e-9cf8-45e1-8c58-c75cab48dad7",
   "metadata": {},
   "source": [
    "- [*Plotly python*](https://plotly.com/python/getting-started/)\n",
    "\n",
    "\n",
    "\n",
    "\n",
    "- [Objets graphiques Plotly avec exemple](https://plotly.com/python/graph-objects/)\n",
    "\n",
    "\n",
    "- [Plotly express](https://plotly.com/python/plotly-express/)\n",
    "\n",
    "\n",
    "- [Référence de l'API](https://plotly.com/python-api-reference/)\n",
    "\n",
    "\n",
    "\n",
    "Voici d'autres ressources utiles :\n",
    "\n",
    "- [Feuille de calcul de Plotly](https://images.plot.ly/plotly-documentation/images/plotly_js_cheat_sheet.pdf)\n",
    "\n",
    "\n",
    "\n",
    "\n",
    "\n",
    "\n",
    "\n",
    "\n",
    "- [Communauté Plotly](https://community.plotly.com/c/plotly-python/5)\n",
    "\n",
    "\n",
    "\n",
    "- [Blogs associés](https://plotlygraphs.medium.com/)\n",
    "\n",
    "\n",
    "- [Jeux de données open-source](https://developer.ibm.com/exchanges/data/)"
   ]
  },
  {
   "cell_type": "markdown",
   "id": "23a4f407-d4a9-4484-b2fe-885adcf14d93",
   "metadata": {},
   "source": [
    "# labo fait 4.3_plotly_basics"
   ]
  },
  {
   "cell_type": "markdown",
   "id": "88a27ff6-8ae9-40b3-99e6-d143e450ad7a",
   "metadata": {},
   "source": [
    "# Les bases de Plotly : Nuage de points, ligne, barre, bulle, histogramme, camembert, éclat de soleil"
   ]
  },
  {
   "cell_type": "markdown",
   "id": "f2a14aeb-4be2-4700-b07a-c16e67fed321",
   "metadata": {},
   "source": [
    "# Introduction à Dash"
   ]
  },
  {
   "cell_type": "markdown",
   "id": "77ed45d5-34cc-4fad-8c06-6d47fffbabb6",
   "metadata": {},
   "source": [
    "Bienvenue sur le site Introduction à Dash. Après avoir visionné cette vidéo, vous serez en mesure d'expliquer ce qu'est Dash et ses utilisations. Décrivez ce que sont les composants HTML de Dash. Dash est une bibliothèque Python d'interface utilisateur open source permettant de créer des applications Web réactives. Il est à la fois adapté aux entreprises et constitue un élément de premier ordre des outils open source de Plotly. Les applications Dash sont des serveurs Web exécutant Flask et communiquant des paquets JSON via des requêtes HTTP. Le front-end de Dash affiche les composants à l'aide de React.js. Il est facile de créer des interfaces utilisateur graphiques à l'aide de Dash, car il fait abstraction de toutes les technologies nécessaires à la création des applications. Dash est déclaratif et réactif. Il peut être affiché dans un navigateur Web et déployé sur des serveurs. Il fournit un décorateur réactif simple pour lier le code à l'interface utilisateur. Ils sont par nature mobiles et compatibles avec toutes les plateformes. Supposons que vous envisagiez de créer une application pour répondre à des questions commerciales. Dans un premier temps, vous devez déterminer la mise en page de l'application, décider quel graphique utiliser et où le placer. Par exemple, c'est ce que l'on appelle la partie mise en page de Dash. La deuxième partie consiste à ajouter de l'interactivité à l'application. Dash comporte deux composants. Il y a d'abord les composants de base. Nous pouvons importer les composants principaux en tant que DCC à l'aide de cette instruction d'importation. Viennent ensuite les composants HTML. Nous pouvons importer des composants HTML au format HTML à l'aide de cette instruction d'importation. Regardons-les un par un. Les dash_core_components décrivent les composants interactifs de haut niveau générés avec JavaScript , HTML et CSS via la bibliothèque React.js. Parmi les composants principaux, citons la création d'un curseur, d'une zone de saisie, d'éléments à cocher et d'un sélecteur de dates. Vous pouvez explorer d'autres composants à l'aide du lien de référence à la fin de la diapositive. La bibliothèque Dash_HTML_components possède un composant pour chaque balise HTML. Vous pouvez composer votre mise en page à l'aide de structures Python grâce à la bibliothèque de composants Dash Dash HTML Dash. La bibliothèque Dash_HTML_Components fournit des classes pour toutes les balises HTML et les arguments des mots clés décrivent les attributs HTML tels que le style, le nom de classe et l'ID. Aucune connaissance du HTML ou du CSS n'est requise, mais cela peut aider à styliser les tableaux de bord. Dans cette vidéo, vous avez appris que Dash est une bibliothèque Python d'interface utilisateur open source permettant de créer des applications Web réactives. Il est facile de créer des interfaces utilisateur graphiques à l'aide de Dash, car il fait abstraction de toutes les technologies nécessaires à la création des applications. Dash comporte deux composants : les composants de base et les composants HTML. Les dash_core_components décrivent les composants interactifs de haut niveau générés avec JavaScript , HTML et CSS via la bibliothèque React.js. La bibliothèque Dash_HTML_components possède un composant pour chaque balise HTML."
   ]
  },
  {
   "cell_type": "markdown",
   "id": "28343b37-aa6f-4034-aa80-2b4778982b7c",
   "metadata": {},
   "source": [
    "# Dash Basics : HTML et composants de base"
   ]
  },
  {
   "cell_type": "markdown",
   "id": "6325064b-a149-4a2e-be6b-ccc99c3da008",
   "metadata": {},
   "source": [
    "Dans ce laboratoire, vous créerez un tableau de bord de base avec un tableau de bord en utilisant HTML et des composants de base.\n",
    "\n",
    "Skills Network Labs (SN Labs) est un environnement de laboratoire virtuel utilisé dans ce cours. En cliquant sur le bouton \"Launch App\" ci-dessous, votre nom d'utilisateur et votre courriel seront transmis à SN Labs et seront utilisés en stricte conformité avec les règles de confidentialité d'IBM Skills Network, par exemple pour communiquer des informations importantes afin d'améliorer votre expérience d'apprentissage. "
   ]
  },
  {
   "cell_type": "markdown",
   "id": "1987e65c-7d2d-4cab-a93a-327b12128765",
   "metadata": {},
   "source": [
    "# Composants du tableau de bord\n",
    "# Objectifs\n",
    "# Après avoir terminé le laboratoire, vous serez en mesure de :\n",
    "\n",
    "- *Créer une mise en page d’application de tableau de bord*\n",
    "- *Ajouter des composants HTML H1, P et Div*\n",
    "- *Ajouter un composant de graphe principal*\n",
    "- *Ajouter plusieurs graphiques*"
   ]
  },
  {
   "cell_type": "markdown",
   "id": "9affab3c-5f2b-4c77-b7e1-3c354e8bf687",
   "metadata": {},
   "source": [
    "Temps estimé nécessaire : 30 minutes\n",
    "\n",
    "Jeu de données utilisé\n",
    "Ensemble de données sur la ponctualité des transporteurs aériens à partir de Data Asset eXchange"
   ]
  },
  {
   "cell_type": "markdown",
   "id": "48ba5511-f743-4984-9a81-b3842cad48e1",
   "metadata": {},
   "source": [
    "# À propos de l’IDE Skills Network Cloud\n",
    "\n",
    "Cet IDE Cloud (Integrated Development Environment) de Skills Network Labs fournit un environnement pratique dans votre navigateur Web pour effectuer des travaux pratiques liés aux cours et aux projets. Il utilise Theia, une plate-forme IDE open source, qui peut être exécutée sur un ordinateur de bureau ou sur le cloud.\n",
    "\n",
    "\n",
    "Jusqu’à présent dans le cours, vous avez utilisé des blocs-notes Jupyter pour exécuter votre code python. Cet IDE fournit une alternative pour modifier et exécuter votre code Python. Dans cet atelier, vous utiliserez ce runtime Python alternatif pour créer et lancer vos applications Dash."
   ]
  },
  {
   "cell_type": "markdown",
   "id": "46b266d7-a2f3-4e52-bdb1-2aa7f277041a",
   "metadata": {},
   "source": [
    "# Avis important concernant cet environnement de laboratoire\n",
    "Veuillez noter que les sessions de cet environnement de laboratoire ne sont pas conservées. Lorsque vous lancez l’IDE Cloud, un « ordinateur dédié sur le cloud » vous est exclusivement réservé. Vous pouvez le faire tant que vous travaillez activement sur les laboratoires."
   ]
  },
  {
   "cell_type": "markdown",
   "id": "da0c52c5-e558-4361-884d-e45820c023f3",
   "metadata": {},
   "source": [
    "Une fois que vous fermez votre session ou qu’elle est expirée en raison d’une inactivité, vous êtes déconnecté et cet « ordinateur dédié sur le cloud » est supprimé avec tous les fichiers que vous avez créés, téléchargés ou installés.\n",
    "\n",
    "\n",
    "La prochaine fois que vous lancerez cet atelier, un nouvel environnement sera créé pour vous.\n",
    "\n",
    "Si vous ne terminez qu’une partie du laboratoire et que vous revenez plus tard, vous devrez peut-être recommencer depuis le début. C’est donc une bonne idée de planifier votre temps en conséquence et de terminer vos laboratoires en une seule session."
   ]
  },
  {
   "cell_type": "markdown",
   "id": "e4fe0f9d-6699-42c5-825a-93b5c8da05c1",
   "metadata": {},
   "source": [
    "# Commençons à créer une application de tableau de bord\n",
    "\n",
    "# But\n",
    "\n",
    "\n",
    "Créez un tableau de bord qui affiche le pourcentage de vols en cours sous un groupe de distance spécifique. Le groupe de distance est les intervalles de distance, tous les 250 miles, pour le segment de vol. Si le vol couvre jusqu’à 500 miles, il sera sous le groupe de distance 2 (250 miles + 250 miles).\n",
    "\n",
    "# Résultats attendus"
   ]
  },
  {
   "cell_type": "markdown",
   "id": "39d187bd-f635-4ac0-a8ef-ff15dd4fef9c",
   "metadata": {},
   "source": [
    "Vous trouverez ci-dessous le résultat attendu du laboratoire. Notre application de tableau de bord se compose de trois composants :\n",
    "\n",
    "- Titre de la demande\n",
    "- Description de la demande\n",
    "- Graphique indiquant la proportion de groupe de distance par mois"
   ]
  },
  {
   "cell_type": "markdown",
   "id": "0ba56273-246f-4406-9d0e-56d0f46484f1",
   "metadata": {},
   "source": [
    "À faire :\n",
    "1. ###  Importer les bibliothèques requises et lire le jeu de données\n",
    "2. ### Créer une mise en page d’application\n",
    "3. ### Ajouter un titre au tableau de bord à l’aide du composant HTML H1\n",
    "4. ### Ajouter un paragraphe sur le graphique à l’aide du composant HTML P\n",
    "5. ### Ajoutez le graphique circulaire ci-dessus à l’aide du composant graphique principal\n",
    "6. ### Exécuter l’application"
   ]
  },
  {
   "cell_type": "markdown",
   "id": "2afb830e-fc99-40ae-8b75-1c123f207a47",
   "metadata": {},
   "source": [
    "# Préparez l’outil\n",
    "Installez les packages python nécessaires à l’exécution de l’application. Copiez et collez la commande ci-dessous dans le terminal."
   ]
  },
  {
   "cell_type": "code",
   "execution_count": null,
   "id": "5648369a-bd8b-4def-b2ed-4e009ff3dadd",
   "metadata": {},
   "outputs": [],
   "source": [
    "python3.8 -m pip install packaging"
   ]
  },
  {
   "cell_type": "code",
   "execution_count": null,
   "id": "77d8319a-3a23-4678-a621-6e76b2fdc499",
   "metadata": {},
   "outputs": [],
   "source": [
    "python3.8 -m pip install pandas dash"
   ]
  },
  {
   "cell_type": "code",
   "execution_count": null,
   "id": "a855b6ab-40a2-49de-bacc-1bc576cba1ee",
   "metadata": {},
   "outputs": [],
   "source": []
  },
  {
   "cell_type": "code",
   "execution_count": null,
   "id": "3f5039d7-f966-4c32-9e24-f93b3a81b23e",
   "metadata": {},
   "outputs": [],
   "source": [
    "pip3 install httpx==0.20 dash plotly"
   ]
  },
  {
   "cell_type": "markdown",
   "id": "59b0cf84-1d8b-4e63-8d4b-a7c92d8a7cd4",
   "metadata": {},
   "source": [
    "- Créez un nouveau script python, en cliquant sur l’icône de l’explorateur de la barre d’outils latérale et en sélectionnant l’icône d’un nouveau fichier, comme indiqué dans l’image ci-dessous."
   ]
  },
  {
   "cell_type": "markdown",
   "id": "094f5ca5-2aee-4b9b-8667-a88cf644656e",
   "metadata": {},
   "source": [
    "- Indiquez le nom du fichier sous la forme dash_basics.py"
   ]
  },
  {
   "cell_type": "markdown",
   "id": "562a6f8a-0079-49bf-a755-3f1e5e7eb307",
   "metadata": {},
   "source": [
    "- Ouvrez un nouveau terminal, en cliquant sur la barre de menu et en sélectionnant Terminal->Nouveau terminal, comme dans l’image ci-dessous."
   ]
  },
  {
   "cell_type": "markdown",
   "id": "7ffd5f12-f9c5-4923-ab08-cfe0fd7a5eda",
   "metadata": {},
   "source": [
    "- Vous disposez maintenant d’un script et d’un terminal prêts à démarrer le labo."
   ]
  },
  {
   "cell_type": "markdown",
   "id": "4a09abf6-21fe-4d6d-95ae-322329334f37",
   "metadata": {},
   "source": [
    "# TÂCHE 1 - Préparation des données\n",
    "Commençons par\n",
    "\n",
    "- Importation des bibliothèques nécessaires\n",
    "- Lecture et échantillonnage de 500 points de données aléatoires\n",
    "- Préparez le graphique\n",
    "- Copiez le code ci-dessous dans le script dash_basics.py et examinez le code."
   ]
  },
  {
   "cell_type": "code",
   "execution_count": null,
   "id": "fcc20666-8e3c-493f-9820-74d7e19b791e",
   "metadata": {},
   "outputs": [],
   "source": [
    "# Import required packages\n",
    "import pandas as pd\n",
    "import plotly.express as px\n",
    "import dash\n",
    "from dash import dcc\n",
    "from dash import html\n",
    "\n",
    "# Read the airline data into pandas dataframe\n",
    "airline_data =  pd.read_csv('https://cf-courses-data.s3.us.cloud-object-storage.appdomain.cloud/IBMDeveloperSkillsNetwork-DV0101EN-SkillsNetwork/Data%20Files/airline_data.csv', \n",
    "                            encoding = \"ISO-8859-1\",\n",
    "                            dtype={'Div1Airport': str, 'Div1TailNum': str, \n",
    "                                   'Div2Airport': str, 'Div2TailNum': str})\n",
    "\n",
    "# Randomly sample 500 data points. Setting the random state to be 42 so that we get same result.\n",
    "data = airline_data.sample(n=500, random_state=42)\n",
    "\n",
    "# Pie Chart Creation\n",
    "fig = px.pie(data, values='Flights', names='DistanceGroup', title='Distance group proportion by flights')"
   ]
  },
  {
   "cell_type": "markdown",
   "id": "b817391e-b8d1-42d0-aed0-a5aa5514c692",
   "metadata": {},
   "source": [
    "# TÂCHE 2 - Créer une application de tableau de bord et obtenir le squelette de mise en page"
   ]
  },
  {
   "cell_type": "markdown",
   "id": "34e21207-d5a8-4953-b784-dccac6bb3f4f",
   "metadata": {},
   "source": [
    "Ensuite, nous créons un squelette pour notre application de tableau de bord. Notre application de tableau de bord comporte trois composants, comme vu précédemment :\n",
    "\n",
    "- Titre de la demande\n",
    "- Description de la demande\n",
    "- Graphique indiquant la proportion de groupe de distance par mois"
   ]
  },
  {
   "cell_type": "markdown",
   "id": "d5712036-ba44-43c9-868f-e3592efd0d5a",
   "metadata": {},
   "source": [
    "Mappage aux balises HTML Dash respectives :\n",
    "\n",
    "- Titre ajouté en html. Balise H1( )\n",
    "- Description ajoutée en html. Balise P( )\n",
    "- Graphique ajouté à l’aide de la balise dcc.Graph( )\n",
    "\n",
    "Copiez le code ci-dessous dans le script dash_basics.py et examinez la structure.\n",
    "\n",
    "REMARQUE : Copiez sous le code actuel"
   ]
  },
  {
   "cell_type": "code",
   "execution_count": null,
   "id": "f5f63bc9-616c-486a-aab8-b4f56c83da99",
   "metadata": {},
   "outputs": [],
   "source": [
    "# Create a dash application\n",
    "app = dash.Dash(__name__)\n",
    "\n",
    "# Get the layout of the application and adjust it.\n",
    "# Create an outer division using html.Div and add title to the dashboard using html.H1 component\n",
    "# Add description about the graph using HTML P (paragraph) component\n",
    "# Finally, add graph component.\n",
    "\n",
    "\n",
    "\n",
    "# Obtenez la mise en page de l’application et ajustez-la.\n",
    "# Créez une division externe en utilisant html. Div et ajoutez un titre au tableau de bord en html. Composant H1\n",
    "# Ajout d’une description du graphique à l’aide du composant HTML P (paragraphe)\n",
    "# Enfin, ajoutez un composant graphique.\n",
    "\n",
    "\n",
    "\n",
    "\n",
    "app.layout = html.Div(children=[html.H1(),\n",
    "                                html.P(),\n",
    "                                dcc.Graph(),\n",
    "                                               \n",
    "                    ])\n",
    "\n",
    "# Run the application                   \n",
    "if __name__ == '__main__':\n",
    "    app.run_server()"
   ]
  },
  {
   "cell_type": "markdown",
   "id": "69747b75-7600-4c89-a6cb-4789c4dcf51c",
   "metadata": {},
   "source": [
    "# TÂCHE 3 - Ajouter le titre de l’application"
   ]
  },
  {
   "cell_type": "markdown",
   "id": "e4e0ecfe-3ccb-4db8-b319-54047fc7f702",
   "metadata": {},
   "source": [
    "Update the html.H1() tag to hold the application title.\n",
    "\n",
    "- Application title is Airline Dashboard\n",
    "- Use style parameter provided below to make the title center aligned, with color code #503D36, and font-size as 40"
   ]
  },
  {
   "cell_type": "markdown",
   "id": "12b01d65-66ca-46f0-ac15-ef9831c262ea",
   "metadata": {},
   "source": [
    "Mettez à jour le code html. H1() pour contenir le titre de l’application.\n",
    "\n",
    "- Le titre de l’application est Tableau de bord de la compagnie aérienne\n",
    "- Utilisez le paramètre de style fourni ci-dessous pour aligner le centre du titre, avec un code couleur #503D36 et une taille de police de 40"
   ]
  },
  {
   "cell_type": "code",
   "execution_count": null,
   "id": "f707bf91-646e-491e-9af4-2628b9c985d1",
   "metadata": {},
   "outputs": [],
   "source": [
    "'Airline Dashboard',style={'textAlign': 'center', 'color': '#503D36', 'font-size': 40}"
   ]
  },
  {
   "cell_type": "markdown",
   "id": "d792a1ea-ad14-47de-9b17-29faf12a0419",
   "metadata": {},
   "source": [
    "After updating the html.H1() with the application title, the app.layout will look like:"
   ]
  },
  {
   "cell_type": "markdown",
   "id": "49ada6f9-8c3e-480b-894e-49c55d82f7b1",
   "metadata": {},
   "source": [
    "Après avoir mis à jour le html. H1() avec le titre de l’application, le app.layout ressemblera à :"
   ]
  },
  {
   "cell_type": "raw",
   "id": "49b0aa9d-f45b-4065-9d24-ab0d097dfc34",
   "metadata": {},
   "source": []
  },
  {
   "cell_type": "code",
   "execution_count": null,
   "id": "7358d610-3bf4-4b33-8047-f8e631da19c3",
   "metadata": {},
   "outputs": [],
   "source": [
    "TÂCHE 4 - Ajouter la description de l’application"
   ]
  },
  {
   "cell_type": "markdown",
   "id": "a4f9599a-bef4-4abf-a776-fcfacc14f8c3",
   "metadata": {},
   "source": [
    "Update the html.P( ) tag to hold the description of the application.\n",
    "\n",
    "- Description is Proportion of distance group (250 mile distance interval group) by flights.\n",
    "- Use style parameter to make the description center aligned and with color #F57241."
   ]
  },
  {
   "cell_type": "markdown",
   "id": "dbc495b6-5a34-4d38-aa9b-1b77a0ebc0cf",
   "metadata": {},
   "source": [
    "Mettez à jour le code html. P( ) pour contenir la description de l’application.\n",
    "\n",
    "- La description est la proportion du groupe de distance (groupe d’intervalle de distance de 250 milles) par vols.\n",
    "- Utilisez le paramètre style pour aligner le centre de description et avec des #F57241 de couleur."
   ]
  },
  {
   "cell_type": "code",
   "execution_count": null,
   "id": "654b65c9-2736-4405-89b0-38f8fff11885",
   "metadata": {},
   "outputs": [],
   "source": [
    "'Proportion of distance group (250 mile distance interval group) by flights.', style={'textAlign':'center', 'color': '#F57241'}"
   ]
  },
  {
   "cell_type": "code",
   "execution_count": null,
   "id": "b704db46-2fdd-4966-87a9-00de97e0b0b1",
   "metadata": {},
   "outputs": [],
   "source": [
    "After updating the html.H1() with the application title, the app.layout will look like:"
   ]
  },
  {
   "cell_type": "code",
   "execution_count": null,
   "id": "feb32564-d6e0-44db-ab0e-2b1d78e3e587",
   "metadata": {},
   "outputs": [],
   "source": [
    "Après avoir mis à jour le html. H1() avec le titre de l’application, le app.layout ressemblera à :"
   ]
  },
  {
   "cell_type": "markdown",
   "id": "86713006-77f3-42b7-bd00-94fadac6d8a2",
   "metadata": {},
   "source": [
    "# TASK 5 - Update the graph"
   ]
  },
  {
   "cell_type": "markdown",
   "id": "a0d977c9-fcb3-4acb-9011-30cdad3ea451",
   "metadata": {},
   "source": [
    "# TASK 5 - Update the graph"
   ]
  },
  {
   "cell_type": "markdown",
   "id": "16efc723-9171-4ab1-b076-84dcda5fcd39",
   "metadata": {},
   "source": [
    "Update figure parameter of dcc.Graph() component to add the pie chart. We have created pie chart and assigned it to fig. Let’s use that to update the figure parameter."
   ]
  },
  {
   "cell_type": "markdown",
   "id": "0ad40a8c-51da-49b6-87ab-fe0e0b4ca73d",
   "metadata": {},
   "source": [
    "Mise à jour du paramètre figure du composant dcc.Graph() pour ajouter le graphique à secteurs. Nous avons créé un graphique circulaire et l’avons attribué à la fig. Utilisons-le pour mettre à jour le paramètre figure."
   ]
  },
  {
   "cell_type": "code",
   "execution_count": null,
   "id": "b7183c7e-2220-4478-88e2-53da2de18f07",
   "metadata": {},
   "outputs": [],
   "source": [
    "figure=fig"
   ]
  },
  {
   "cell_type": "code",
   "execution_count": null,
   "id": "4645d0a9-1e53-458f-b858-c75c8f72d95b",
   "metadata": {},
   "outputs": [],
   "source": [
    "After updating the dcc.Graph() with the application title, the app.layout will look like:"
   ]
  },
  {
   "cell_type": "markdown",
   "id": "0b7b73b3-99e9-44dc-9790-ab280edaed13",
   "metadata": {},
   "source": [
    "Après avoir mis à jour le dcc.Graph() avec le titre de l’application, le fichier app.layout ressemblera à :"
   ]
  },
  {
   "cell_type": "code",
   "execution_count": null,
   "id": "aa7c26d5-cf4f-46ea-a7d2-a6b6d066930a",
   "metadata": {},
   "outputs": [],
   "source": [
    "Before running the application, save the file by clicking on File -> Save from the menu bar."
   ]
  },
  {
   "cell_type": "markdown",
   "id": "d5792926-f69e-43a0-8a0b-538aa03c050e",
   "metadata": {},
   "source": [
    "Avant d’exécuter l’application, enregistrez le fichier en cliquant sur Fichier -> Enregistrer dans la barre de menu."
   ]
  },
  {
   "cell_type": "code",
   "execution_count": null,
   "id": "18dfebe7-e2fa-4252-848c-eea91b5bba3b",
   "metadata": {},
   "outputs": [],
   "source": [
    "You can Refer to the entire python code here"
   ]
  },
  {
   "cell_type": "markdown",
   "id": "8b012901-37e1-4305-bf9a-f72d2a917753",
   "metadata": {},
   "source": [
    "Vous pouvez vous référer à l’intégralité du code python ici"
   ]
  },
  {
   "cell_type": "code",
   "execution_count": 4,
   "id": "a3cc25ee-d721-408d-8e70-1dda4ee649c3",
   "metadata": {},
   "outputs": [
    {
     "ename": "ImportError",
     "evalue": "cannot import name 'escape' from 'jinja2' (C:\\Users\\Lenovo\\anaconda3\\lib\\site-packages\\jinja2\\__init__.py)",
     "output_type": "error",
     "traceback": [
      "\u001b[1;31m---------------------------------------------------------------------------\u001b[0m",
      "\u001b[1;31mImportError\u001b[0m                               Traceback (most recent call last)",
      "\u001b[1;32m~\\AppData\\Local\\Temp\\ipykernel_3508\\3095321840.py\u001b[0m in \u001b[0;36m<module>\u001b[1;34m\u001b[0m\n\u001b[0;32m      2\u001b[0m \u001b[1;32mimport\u001b[0m \u001b[0mpandas\u001b[0m \u001b[1;32mas\u001b[0m \u001b[0mpd\u001b[0m\u001b[1;33m\u001b[0m\u001b[1;33m\u001b[0m\u001b[0m\n\u001b[0;32m      3\u001b[0m \u001b[1;32mimport\u001b[0m \u001b[0mplotly\u001b[0m\u001b[1;33m.\u001b[0m\u001b[0mexpress\u001b[0m \u001b[1;32mas\u001b[0m \u001b[0mpx\u001b[0m\u001b[1;33m\u001b[0m\u001b[1;33m\u001b[0m\u001b[0m\n\u001b[1;32m----> 4\u001b[1;33m \u001b[1;32mimport\u001b[0m \u001b[0mdash\u001b[0m\u001b[1;33m\u001b[0m\u001b[1;33m\u001b[0m\u001b[0m\n\u001b[0m\u001b[0;32m      5\u001b[0m \u001b[1;32mfrom\u001b[0m \u001b[0mdash\u001b[0m \u001b[1;32mimport\u001b[0m \u001b[0mdcc\u001b[0m\u001b[1;33m\u001b[0m\u001b[1;33m\u001b[0m\u001b[0m\n\u001b[0;32m      6\u001b[0m \u001b[1;32mfrom\u001b[0m \u001b[0mdash\u001b[0m \u001b[1;32mimport\u001b[0m \u001b[0mhtml\u001b[0m\u001b[1;33m\u001b[0m\u001b[1;33m\u001b[0m\u001b[0m\n",
      "\u001b[1;32m~\\anaconda3\\lib\\site-packages\\dash\\__init__.py\u001b[0m in \u001b[0;36m<module>\u001b[1;34m\u001b[0m\n\u001b[0;32m      3\u001b[0m \u001b[1;31m# must come before any other imports.\u001b[0m\u001b[1;33m\u001b[0m\u001b[1;33m\u001b[0m\u001b[0m\n\u001b[0;32m      4\u001b[0m \u001b[0m__plotly_dash\u001b[0m \u001b[1;33m=\u001b[0m \u001b[1;32mTrue\u001b[0m\u001b[1;33m\u001b[0m\u001b[1;33m\u001b[0m\u001b[0m\n\u001b[1;32m----> 5\u001b[1;33m from .dependencies import (  # noqa: F401,E402\n\u001b[0m\u001b[0;32m      6\u001b[0m     \u001b[0mInput\u001b[0m\u001b[1;33m,\u001b[0m  \u001b[1;31m# noqa: F401,E402\u001b[0m\u001b[1;33m\u001b[0m\u001b[1;33m\u001b[0m\u001b[0m\n\u001b[0;32m      7\u001b[0m     \u001b[0mOutput\u001b[0m\u001b[1;33m,\u001b[0m  \u001b[1;31m# noqa: F401,E402,\u001b[0m\u001b[1;33m\u001b[0m\u001b[1;33m\u001b[0m\u001b[0m\n",
      "\u001b[1;32m~\\anaconda3\\lib\\site-packages\\dash\\dependencies.py\u001b[0m in \u001b[0;36m<module>\u001b[1;34m\u001b[0m\n\u001b[0;32m      2\u001b[0m \u001b[1;32mfrom\u001b[0m \u001b[0mdash\u001b[0m\u001b[1;33m.\u001b[0m\u001b[0mdevelopment\u001b[0m\u001b[1;33m.\u001b[0m\u001b[0mbase_component\u001b[0m \u001b[1;32mimport\u001b[0m \u001b[0mComponent\u001b[0m\u001b[1;33m\u001b[0m\u001b[1;33m\u001b[0m\u001b[0m\n\u001b[0;32m      3\u001b[0m \u001b[1;33m\u001b[0m\u001b[0m\n\u001b[1;32m----> 4\u001b[1;33m \u001b[1;32mfrom\u001b[0m \u001b[1;33m.\u001b[0m\u001b[0m_validate\u001b[0m \u001b[1;32mimport\u001b[0m \u001b[0mvalidate_callback\u001b[0m\u001b[1;33m\u001b[0m\u001b[1;33m\u001b[0m\u001b[0m\n\u001b[0m\u001b[0;32m      5\u001b[0m \u001b[1;32mfrom\u001b[0m \u001b[1;33m.\u001b[0m\u001b[0m_grouping\u001b[0m \u001b[1;32mimport\u001b[0m \u001b[0mflatten_grouping\u001b[0m\u001b[1;33m,\u001b[0m \u001b[0mmake_grouping_by_index\u001b[0m\u001b[1;33m\u001b[0m\u001b[1;33m\u001b[0m\u001b[0m\n\u001b[0;32m      6\u001b[0m \u001b[1;33m\u001b[0m\u001b[0m\n",
      "\u001b[1;32m~\\anaconda3\\lib\\site-packages\\dash\\_validate.py\u001b[0m in \u001b[0;36m<module>\u001b[1;34m\u001b[0m\n\u001b[0;32m      3\u001b[0m \u001b[1;32mfrom\u001b[0m \u001b[0mtextwrap\u001b[0m \u001b[1;32mimport\u001b[0m \u001b[0mdedent\u001b[0m\u001b[1;33m\u001b[0m\u001b[1;33m\u001b[0m\u001b[0m\n\u001b[0;32m      4\u001b[0m \u001b[1;32mfrom\u001b[0m \u001b[0mkeyword\u001b[0m \u001b[1;32mimport\u001b[0m \u001b[0miskeyword\u001b[0m\u001b[1;33m\u001b[0m\u001b[1;33m\u001b[0m\u001b[0m\n\u001b[1;32m----> 5\u001b[1;33m \u001b[1;32mimport\u001b[0m \u001b[0mflask\u001b[0m\u001b[1;33m\u001b[0m\u001b[1;33m\u001b[0m\u001b[0m\n\u001b[0m\u001b[0;32m      6\u001b[0m \u001b[1;33m\u001b[0m\u001b[0m\n\u001b[0;32m      7\u001b[0m \u001b[1;32mfrom\u001b[0m \u001b[1;33m.\u001b[0m\u001b[0m_grouping\u001b[0m \u001b[1;32mimport\u001b[0m \u001b[0mgrouping_len\u001b[0m\u001b[1;33m,\u001b[0m \u001b[0mmap_grouping\u001b[0m\u001b[1;33m\u001b[0m\u001b[1;33m\u001b[0m\u001b[0m\n",
      "\u001b[1;32m~\\anaconda3\\lib\\site-packages\\flask\\__init__.py\u001b[0m in \u001b[0;36m<module>\u001b[1;34m\u001b[0m\n\u001b[0;32m     12\u001b[0m \u001b[1;31m# utilities we import from Werkzeug and Jinja2 that are unused\u001b[0m\u001b[1;33m\u001b[0m\u001b[1;33m\u001b[0m\u001b[0m\n\u001b[0;32m     13\u001b[0m \u001b[1;31m# in the module but are exported as public interface.\u001b[0m\u001b[1;33m\u001b[0m\u001b[1;33m\u001b[0m\u001b[0m\n\u001b[1;32m---> 14\u001b[1;33m \u001b[1;32mfrom\u001b[0m \u001b[0mjinja2\u001b[0m \u001b[1;32mimport\u001b[0m \u001b[0mescape\u001b[0m\u001b[1;33m\u001b[0m\u001b[1;33m\u001b[0m\u001b[0m\n\u001b[0m\u001b[0;32m     15\u001b[0m \u001b[1;32mfrom\u001b[0m \u001b[0mjinja2\u001b[0m \u001b[1;32mimport\u001b[0m \u001b[0mMarkup\u001b[0m\u001b[1;33m\u001b[0m\u001b[1;33m\u001b[0m\u001b[0m\n\u001b[0;32m     16\u001b[0m \u001b[1;32mfrom\u001b[0m \u001b[0mwerkzeug\u001b[0m\u001b[1;33m.\u001b[0m\u001b[0mexceptions\u001b[0m \u001b[1;32mimport\u001b[0m \u001b[0mabort\u001b[0m\u001b[1;33m\u001b[0m\u001b[1;33m\u001b[0m\u001b[0m\n",
      "\u001b[1;31mImportError\u001b[0m: cannot import name 'escape' from 'jinja2' (C:\\Users\\Lenovo\\anaconda3\\lib\\site-packages\\jinja2\\__init__.py)"
     ]
    }
   ],
   "source": [
    "# Import required packages\n",
    "import pandas as pd\n",
    "import plotly.express as px\n",
    "import dash\n",
    "from dash import dcc\n",
    "from dash import html\n",
    "\n",
    "# Read the airline data into pandas dataframe\n",
    "airline_data =  pd.read_csv('https://cf-courses-data.s3.us.cloud-object-storage.appdomain.cloud/IBMDeveloperSkillsNetwork-DV0101EN-SkillsNetwork/Data%20Files/airline_data.csv', \n",
    "                            encoding = \"ISO-8859-1\",\n",
    "                            dtype={'Div1Airport': str, 'Div1TailNum': str, \n",
    "                                   'Div2Airport': str, 'Div2TailNum': str})\n",
    "\n",
    "# Randomly sample 500 data points. Setting the random state to be 42 so that we get same result.\n",
    "data = airline_data.sample(n=500, random_state=42)\n",
    "\n",
    "# Pie Chart Creation\n",
    "fig = px.pie(data, values='Flights', names='DistanceGroup', title='Distance group proportion by flights')\n",
    "\n",
    "# Create a dash application\n",
    "app = dash.Dash(__name__)\n",
    "\n",
    "# Get the layout of the application and adjust it.\n",
    "# Create an outer division using html.Div and add title to the dashboard using html.H1 component\n",
    "# Add description about the graph using HTML P (paragraph) component\n",
    "# Finally, add graph component.\n",
    "app.layout = html.Div(children=[html.H1('Airline Dashboard', style={'textAlign': 'center', 'color': '#503D36', 'font-size': 40}),\n",
    "                                html.P('Proportion of distance group (250 mile distance interval group) by flights.', style={'textAlign':'center', 'color': '#F57241'}),\n",
    "                                dcc.Graph(figure=fig),\n",
    "                                               \n",
    "                    ])\n",
    "\n",
    "# Run the application                   \n",
    "if __name__ == '__main__':\n",
    "    app.run_server()"
   ]
  },
  {
   "cell_type": "markdown",
   "id": "dc85ffc6-5736-4c77-97a7-71567b7a2e98",
   "metadata": {},
   "source": [
    "# TASK 6 - Run the application"
   ]
  },
  {
   "cell_type": "code",
   "execution_count": null,
   "id": "a679d8f8-1181-4f33-b310-f11dec574799",
   "metadata": {},
   "outputs": [],
   "source": [
    "Run the python file using the following command in the terminal"
   ]
  },
  {
   "cell_type": "markdown",
   "id": "bf08d092-e2e8-4e4f-bfb7-a8234c24412e",
   "metadata": {},
   "source": [
    "Exécutez le fichier python à l’aide de la commande suivante dans le terminal"
   ]
  },
  {
   "cell_type": "code",
   "execution_count": null,
   "id": "118225f0-45f4-4178-8a5c-33c8329f7e89",
   "metadata": {},
   "outputs": [],
   "source": [
    "python3.8 dash_basics.py"
   ]
  },
  {
   "cell_type": "markdown",
   "id": "475f62cc-1ffb-43d9-b726-b0514d1ca90f",
   "metadata": {},
   "source": [
    "Click on the Launch Application option from the side menu bar.Provide the port number and click OK"
   ]
  },
  {
   "cell_type": "markdown",
   "id": "fe04e2a8-1374-49b7-a9ff-a893d12cc67f",
   "metadata": {},
   "source": [
    "Click on the Launch Application option from the side menu bar.Provide the port number and click OK"
   ]
  },
  {
   "cell_type": "code",
   "execution_count": null,
   "id": "86805474-4c54-4208-a183-ad12a76756b6",
   "metadata": {},
   "outputs": [],
   "source": [
    "The app will open in a new browser tab like below:"
   ]
  },
  {
   "cell_type": "markdown",
   "id": "cb2944e2-a53a-480b-a0e8-0a80e495dd9d",
   "metadata": {},
   "source": [
    "# RESOUDRE LE DEBUG SUR CLOUD IDE\n",
    "\n",
    "c'est lorsque le port a déjà été utilisé une première fois. son usage pour une seconde fois affichera debug, voilà la solution pour résoudre le problème."
   ]
  },
  {
   "cell_type": "markdown",
   "id": "ea8a35cf-84f7-45e3-9ecb-1632989c451d",
   "metadata": {},
   "source": [
    "Salut @Mahi,\n",
    "\n",
    "merci pour ton message !\n",
    "\n",
    "Cela ne se produit que lorsqu'il reste des ports ouverts et non fermés.\n",
    "\n",
    "Si deux terminaux fonctionnent côte à côte, assurez-vous de fermer les autres terminaux avant de faire fonctionner le port.\n",
    "\n",
    "Vous pouvez également supprimer le port à l'aide des commandes suivantes :\n",
    "\n",
    "sudo apt-get update && sudo apt-get install lsof lsof\n",
    "\n",
    "-i:8050 (Cela affichera l'ID de processus (PID) du processus utilisant le port 8050) \n",
    "kill\n",
    "\n",
    " Si l'exécution de la commande lsof -i:8050 n'affiche rien, cela signifie qu'aucun processus n'utilise actuellement le numéro de port"
   ]
  },
  {
   "cell_type": "markdown",
   "id": "ca1c2bb2-4228-4ea2-95e5-6dad2b3374d9",
   "metadata": {
    "jp-MarkdownHeadingCollapsed": true,
    "tags": []
   },
   "source": [
    "# Exercise : Practice Tasks\n",
    "You will practice some tasks to update the dashboard.\n",
    "\n",
    "changer le nom du titre du tableau de bord.\n",
    "\n",
    "1. ##### Change the title to the dashboard from “Airline Dashboard” to “Airline On-time Performance Dashboard” using HTML H1 component and font-size as 50.\n",
    "\n",
    "\n",
    "Answer\n",
    "html.H1(‘Airline On-time Performance Dashboard’,style={‘textAlign’: ‘center’, ‘color’: ‘#503D36’, ‘font-size’: 50}),\n",
    "\n",
    "\n",
    "\n",
    "2. ##### Save the above changes and relaunch the dashboard application to see the updated dashboard title.\n",
    "\n",
    "\n",
    "Answer\n",
    "Click on file –> save file.Then go to terminal and Run the command python3 dash_basics.py to open the updated file again and relaunch the application by entering the port number.The updated dashboard title will be seen.\n",
    "\n",
    "\n",
    "2. ##### Write a command to stop the running app in the terminal\n",
    "\n",
    "Answer\n",
    "\n",
    "Press ctrl+c\n",
    "\n",
    "inside the terminal to stop the dash application."
   ]
  },
  {
   "cell_type": "markdown",
   "id": "fc038c4e-cd6c-4fa7-a93f-725a82895cd2",
   "metadata": {},
   "source": [
    "# Ressources supplémentaires pour Dash"
   ]
  },
  {
   "cell_type": "markdown",
   "id": "77bb5dee-448a-45f0-b5e1-6062ff240d96",
   "metadata": {},
   "source": [
    "Pour en savoir plus sur Dash, consultez"
   ]
  },
  {
   "cell_type": "markdown",
   "id": "46d5b662-146d-4c0d-88cf-a9cc3249690c",
   "metadata": {},
   "source": [
    "[Guide d'utilisation complet de Dash](https://dash.plotly.com/)"
   ]
  },
  {
   "cell_type": "markdown",
   "id": "0dc1fb74-7e99-4c98-86e4-c4b2c4b3339d",
   "metadata": {},
   "source": [
    "[Composants de base de Dash](https://dash.plotly.com/dash-core-components)"
   ]
  },
  {
   "cell_type": "markdown",
   "id": "94de3905-54ba-4bf7-b2c5-d5a24b8e9dc1",
   "metadata": {},
   "source": [
    "[Composants HTML de Dash](https://dash.plotly.com/dash-html-components)"
   ]
  },
  {
   "cell_type": "markdown",
   "id": "95617cd5-4306-4372-8f3b-73be5dd46eb0",
   "metadata": {},
   "source": [
    "[Le forum de la communauté Dash](https://community.plotly.com/c/python/25)"
   ]
  },
  {
   "cell_type": "markdown",
   "id": "7b36853f-0b4d-466f-809a-34705f7b4cc1",
   "metadata": {},
   "source": [
    "[Blogs connexes](https://medium.com/plotly/tagged/dash)"
   ]
  },
  {
   "cell_type": "markdown",
   "id": "a926910c-8622-4d3f-9395-fc6f1ae815b3",
   "metadata": {},
   "source": [
    "# Rendre les tableaux de bord interactifs"
   ]
  },
  {
   "cell_type": "markdown",
   "id": "76da8ef7-4bb1-4bc2-a3ef-f675715df77a",
   "metadata": {},
   "source": [
    "Bienvenue pour rendre les tableaux de bord interactifs. Après avoir visionné cette vidéo, vous allez capable de décrire la fonction de rappel. Déterminez comment connecter le noyau et composants HTML utilisant des callbacks. Laissez-nous comprendre comment connecter Core et composants HTML utilisant des callbacks. Une fonction de rappel est une fonction Python qui est automatiquement appelé par Dash chaque fois qu'une entrée les propriétés du composant changent. la fonction de rappel est décorée avec le décorateur @app .callback. Alors, que dit ce décorateur à Dash ? En gros, chaque fois qu'il y a un changement dans la valeur du composant d'entrée, la fonction de rappel encapsulée par le décorateur est appelé, suivi de la mise à jour du composant de sortie enfants dans la mise en page de l'application. Regardons le rappel fonction squelette. Tout d'abord, créez une fonction qui effectuer des opérations pour renvoyer le résultat souhaité pour le composant de sortie. Décorez la fonction de rappel avec le décorateur @APP .callback. Cela nécessite deux paramètres. Une sortie, qui définit les résultats renvoyés par la fonction de rappel vers un identifiant de composant. Deux entrées, cette entrée d'ensemble est fournie à la fonction de rappel à un identifiant de composant. À partir de là, nous connectons l'entrée et sortie vers la propriété souhaitée. Nous allons le voir en action avec un exemple utilisant les données de la compagnie aérienne. Utilisez l'étui ici pour extraire le haut dix transporteurs aériens au cours de l' année de saisie indiquée. En termes de nombre de vols sur la base de l'année d'entrée, la sortie changera. Tout d'abord, nous importons les informations requises packages comme vu précédemment, nous allons importer le noyau Dash de Pandas et composants HTML. La nouvelle entrée concerne les dépendances de Dash. À partir des dépendances de Dash, nous importons des entrées et des sorties que nous utiliserons dans la fonction de rappel. Nous lisons les données de la compagnie aérienne dans le cadre de données Pandas. Nous chargeons notre trame de données à le début de l'application et elle peut être lue à l'intérieur la fonction de rappel. Nous allons commencer à concevoir le Dash mise en page de l'application en ajoutant des composants. Tout d'abord, nous allons fournir le titre à l'application Dash à l'aide du composant d'en-tête html h1 et stylez-le à l'aide du paramètre style. Ensuite, nous ajoutons une division HTML et Composant central de TextInput dans Dash Dash. Les entrées et sorties de l'application sont simples les propriétés d'un composant particulier. Dans cet exemple, notre entrée est la propriété value du composant dont l'identifiant input-yr est. Par défaut, la valeur est 2010. Nous mettrons à jour cette valeur dans notre fonction de rappel. Enfin, nous ajouterons une division avec un composant graphique central. Le composant principal a un diagramme à barres comme identifiant, que nous mettrons à jour à l'intérieur la fonction de rappel. Notez les identifiants des composants. Nous allons ajouter un décorateur de rappel L'entrée app.callback du rappel sera le composant avec l'identifiant input-yr et valeur de la propriété. La sortie du rappel sera l'identifiant du composant, le diagramme à barres et la figure de la propriété. Component_ID et component_property les mots clés sont facultatifs et apportent de la clarté. Ensuite, nous allons définir la fonction de rappel get_graph. L'année saisie sera l'entrée. En utilisant l'année, nous extrayons les informations requises à partir des données et des mises à jour du graphique de mise en page de l'application. Enfin, nous allons exécuter l'application. Il s'agit de la sortie du code notre première année de contribution est 2010. Au fur et à mesure que l'année est mise à jour, le graphique est mis à jour en parallèle. Le deuxième exemple est un callback avec deux entrées. C'est similaire à un rappel d'entrée à l'exception de quelques modifications. Nous ajouterons une division avec un texte supplémentaire entrée avec l'identifiant du composant input-ab. Ajoutez ensuite la nouvelle entrée avec l'identifiant du composant input-ab vers le décorateur à l'intérieur d'une liste. Ensuite, nous allons définir le rappel fonction get_graph. Cela prend l'année saisie et l'état saisi en tant que paramètres d'entrée. Le calcul extrait les informations et la mise en page de l'application mises à jour avec le graphique. Il s'agit de la sortie du code. Notre première année de contribution est 2010 et l'État est Al, qui est l'Alabama. Au fur et à mesure de la mise à jour de l'année et de l'État, vous remarquerez que le graphique est mis à jour en parallèle. Dans cette vidéo, vous avez appris qu'un rappel La fonction est une fonction python qui est automatiquement appelée par Dash à chaque fois la propriété d'un composant d'entrée change. Le décorateur de rappel de l'application AT décore la fonction de rappel afin de demander à Dash de l'appeler. Chaque fois qu'il y a un changement la valeur de la composante d'entrée. La fonction de rappel prend les données en entrée et génère les composants sous forme de paramètres et effectue des opérations pour renvoyer les éléments souhaités résultat pour le composant de sortie."
   ]
  },
  {
   "cell_type": "code",
   "execution_count": null,
   "id": "86a7291c-58c9-4660-aff5-6043335897c4",
   "metadata": {},
   "outputs": [],
   "source": [
    "https://developer.ibm.com/exchanges/data/all/airline?cm_mmc=Email_Newsletter-_-Developer_Ed%2BTech-_-WW_WW-_-SkillsNetwork-Courses-IBMDeveloperSkillsNetwork-DV0101EN-SkillsNetwork-20297740&cm_mmca1=000026UJ&cm_mmca2=10006555&cm_mmca3=M12345678&cvosrc=email.Newsletter.M12345678&cvo_campaign=000026UJ"
   ]
  },
  {
   "cell_type": "markdown",
   "id": "2343015c-e148-4423-8d2c-449204b3fde4",
   "metadata": {},
   "source": [
    "# Ressources supplémentaires pour les tableaux de bord interactifs"
   ]
  },
  {
   "cell_type": "markdown",
   "id": "b209064d-ae06-412b-8961-2ff4ff45c52b",
   "metadata": {},
   "source": [
    "[Référence 1 des décorateurs Python](https://realpython.com/primer-on-python-decorators/)"
   ]
  },
  {
   "cell_type": "markdown",
   "id": "fcc02e8f-1266-4c52-afec-79c184cabeb9",
   "metadata": {},
   "source": [
    "[Décorateurs Python, référence 2](https://peps.python.org/pep-0318/#current-syntax)"
   ]
  },
  {
   "cell_type": "markdown",
   "id": "55a1a460-962c-439b-9a8f-3d7503ad63df",
   "metadata": {},
   "source": [
    "[Exemples de callbacks](https://dash.plotly.com/basic-callbacks)"
   ]
  },
  {
   "cell_type": "markdown",
   "id": "429576be-b4cd-48c0-95a4-c1378b5cf882",
   "metadata": {},
   "source": [
    "[Galerie d'applications Dash](https://dash.gallery/Portal/)"
   ]
  },
  {
   "cell_type": "markdown",
   "id": "ff1da646-e950-4816-ac85-15b14c2bc698",
   "metadata": {},
   "source": [
    "[Composants de la communauté Dash](https://community.plotly.com/t/community-components-index/60098)"
   ]
  },
  {
   "cell_type": "markdown",
   "id": "83b0ad06-2928-4515-91b7-54fe348c904a",
   "metadata": {},
   "source": [
    "# Dash Components"
   ]
  },
  {
   "cell_type": "markdown",
   "id": "83b895db-17d1-4167-b421-c940e6b7f5e3",
   "metadata": {},
   "source": [
    "# Objectifs\n",
    "Après avoir terminé le laboratoire, vous serez en mesure de :\n",
    "\n",
    "- Travailler avec les rappels Dash\n",
    "- Temps estimé nécessaire : 45 minutes\n",
    "\n",
    "Jeu de données utilisé\n",
    "\n",
    "Ensemble de données sur [la ponctualité des transporteurs aériens](https://developer.ibm.com/exchanges/data/all/airline?cm_mmc=Email_Newsletter-_-Developer_Ed%2BTech-_-WW_WW-_-SkillsNetwork-Courses-IBMDeveloperSkillsNetwork-DV0101EN-SkillsNetwork-20297740&cm_mmca1=000026UJ&cm_mmca2=10006555&cm_mmca3=M12345678&cvosrc=email.Newsletter.M12345678&cvo_campaign=000026UJ) à [partir de Data Asset eXchange](https://developer.ibm.com/exchanges/data?cm_mmc=Email_Newsletter-_-Developer_Ed%2BTech-_-WW_WW-_-SkillsNetwork-Courses-IBMDeveloperSkillsNetwork-DV0101EN-SkillsNetwork-20297740&cm_mmca1=000026UJ&cm_mmca2=10006555&cm_mmca3=M12345678&cvosrc=email.Newsletter.M12345678&cvo_campaign=000026UJ&cm_mmc=Email_Newsletter-_-Developer_Ed%2BTech-_-WW_WW-_-SkillsNetwork-Courses-IBMDeveloperSkillsNetwork-DV0101EN-SkillsNetwork-20297740&cm_mmca1=000026UJ&cm_mmca2=10006555&cm_mmca3=M12345678&cvosrc=email.Newsletter.M12345678&cvo_campaign=000026UJ)"
   ]
  },
  {
   "cell_type": "markdown",
   "id": "ad3966c9-0a35-44a4-8b8d-2364e9770008",
   "metadata": {},
   "source": [
    "# About Skills Network Cloud IDE\n",
    "\n",
    "# À propos de l’IDE Skills Network Cloud"
   ]
  },
  {
   "cell_type": "markdown",
   "id": "7807a77f-60dc-4d27-a315-239c2ec8ea3e",
   "metadata": {},
   "source": [
    "Cet IDE Cloud (Integrated Development Environment) de Skills Network Labs fournit un environnement pratique dans votre navigateur Web pour effectuer le cours et les laboratoires liés au projet. Il utilise Theia, une plate-forme IDE open source qui peut être exécutée sur un ordinateur de bureau ou sur le cloud.Jusqu’à présent, vous avez utilisé Jupyter Notebooks pour exécuter votre code Python. Cet IDE fournit une alternative pour modifier et exécuter votre code Python. Dans cet atelier, vous utiliserez ce runtime Python alternatif pour créer et lancer vos applications Dash."
   ]
  },
  {
   "cell_type": "markdown",
   "id": "ddf37652-8271-4b6e-a0e5-5149f49efd66",
   "metadata": {},
   "source": [
    "# Avis important concernant cet environnement de laboratoire\n",
    "\n",
    "\n",
    "Veuillez noter que les sessions de cet environnement de laboratoire ne sont pas conservées. Lorsque vous lancez l’IDE Cloud, un « ordinateur dédié sur le cloud » vous est exclusivement réservé. Vous pouvez le faire tant que vous travaillez activement sur les laboratoires.\n",
    "\n",
    "Une fois que vous fermez votre session ou qu’elle est expirée en raison d’une inactivité, vous êtes déconnecté et cet « ordinateur dédié sur le cloud » est supprimé avec tous les fichiers que vous avez créés, téléchargés ou installés. La prochaine fois que vous lancerez cet atelier, un nouvel environnement sera créé pour vous.\n",
    "\n",
    "Si vous ne terminez qu’une partie du laboratoire et que vous revenez plus tard, vous devrez peut-être recommencer depuis le début. C’est donc une bonne idée de planifier votre temps en conséquence et de terminer vos laboratoires en une seule session."
   ]
  },
  {
   "cell_type": "markdown",
   "id": "7bfe0268-80ac-41ba-ba9b-1c79e9212855",
   "metadata": {},
   "source": [
    "# Commençons à créer une application de tableau de bord\n",
    "# Thème\n",
    "\n",
    "Extrayez le temps de retard mensuel moyen à l’arrivée et voyez comment il évolue au cours de l’année. La période allant de 2010 à 2020.\n",
    "\n",
    "# Résultats attendus\n",
    "\n",
    "Vous trouverez ci-dessous le résultat attendu du laboratoire. Notre application de tableau de bord se compose de trois composants :\n",
    "\n",
    "- Titre de la demande\n",
    "- Composant pour entrer l’année d’entrée\n",
    "- Graphique indiquant le retard mensuel moyen à l’arrivée\n",
    "\n",
    "\n",
    "\n",
    "# Tâches à faire :\n",
    "1. ### Tâche 1\n",
    "- Importer les bibliothèques requises\n",
    "- Lire le jeu de données\n",
    "\n",
    "2. ### Tâche 2\n",
    "- Créer une mise en page d’application\n",
    "- Ajouter un titre à l’application de tableau de bord à l’aide du composant HTML H1\n",
    "\n",
    "\n",
    "3. ### Tâche 3\n",
    "- Ajouter une zone de texte d’entrée à l’aide des composants d’entrée et de sortie de base\n",
    "- Ajoutez le décorateur de rappel et générez le graphique linéaire dans la fonction de rappel.\n",
    "\n",
    "3. ### Tâche 4\n",
    "Exercice pratique"
   ]
  },
  {
   "cell_type": "markdown",
   "id": "33acaba0-b899-4afc-9810-31e42df255f8",
   "metadata": {},
   "source": [
    "# Préparez l’outil\n",
    "\n",
    "Installez les packages python nécessaires à l’exécution de l’application. Copiez et collez la commande ci-dessous dans le terminal.\n",
    "\n"
   ]
  },
  {
   "cell_type": "code",
   "execution_count": null,
   "id": "017ba181-a4e0-46e3-bc98-fbfd368028f9",
   "metadata": {},
   "outputs": [],
   "source": [
    "python3.8 -m pip install packaging"
   ]
  },
  {
   "cell_type": "code",
   "execution_count": null,
   "id": "575a7f85-79cd-4a97-801c-ce770a0ff9bc",
   "metadata": {},
   "outputs": [],
   "source": [
    "python3.8 -m pip install pandas dash"
   ]
  },
  {
   "cell_type": "code",
   "execution_count": null,
   "id": "92a54c3f-40aa-4941-b118-061a532c4ac9",
   "metadata": {},
   "outputs": [],
   "source": [
    "pip3 install httpx==0.20 dash plotly"
   ]
  },
  {
   "cell_type": "markdown",
   "id": "715313d0-e72c-4580-b66b-91a3f9283f42",
   "metadata": {},
   "source": [
    "- Create a new python script, by clicking on the side tool bar explorer icon and selecting new file icon, as shown in the image below.\n",
    "\n",
    "- Créez un nouveau script python, en cliquant sur l’icône de l’explorateur de la barre d’outils latérale et en sélectionnant l’icône d’un nouveau fichier, comme indiqué dans l’image ci-dessous."
   ]
  },
  {
   "cell_type": "markdown",
   "id": "a468dd63-675b-4f9f-9b64-cfa74d42d528",
   "metadata": {},
   "source": [
    "- Provide the file name as dash_interactivity.py"
   ]
  },
  {
   "cell_type": "markdown",
   "id": "fac22c10-5458-4344-840d-f9be94a463d9",
   "metadata": {},
   "source": [
    "- Open a new terminal by clicking on the menu bar and selecting Terminal->New Terminal, as in the image below.\n",
    "\n",
    "\n",
    "- Ouvrez un nouveau terminal en cliquant sur la barre de menu et en sélectionnant Terminal->Nouveau terminal, comme dans l’image ci-dessous."
   ]
  },
  {
   "cell_type": "markdown",
   "id": "3a2be465-087e-4102-87bd-be804ff95d0a",
   "metadata": {},
   "source": [
    "- Vous disposez maintenant d’un script et d’un terminal prêts à démarrer le labo."
   ]
  },
  {
   "cell_type": "markdown",
   "id": "71d3f035-cb31-4b51-b870-96ba4e376eb3",
   "metadata": {},
   "source": [
    "# TASK 1 - Read the data\n",
    "Here you will be:\n",
    "\n",
    "- Importing necessary libraries\n",
    "- Reading the data from a CSV file\n",
    "In this exercise we require the following libraries :\n",
    "\n",
    "- pandas\n",
    "- plotly\n",
    "- dash\n",
    "- dash_html_components\n",
    "- dash_core_components\n",
    "- dash.dependencies\n",
    "\n",
    "\n",
    "We will first import these libraries"
   ]
  },
  {
   "cell_type": "code",
   "execution_count": null,
   "id": "a39482b5-c473-4df9-806b-f0d9e50e6c7f",
   "metadata": {},
   "outputs": [],
   "source": [
    "import pandas as pd\n",
    "import plotly.graph_objects as go\n",
    "import dash\n",
    "from dash import dcc\n",
    "from dash import html\n",
    "from dash.dependencies import Input, Output"
   ]
  },
  {
   "cell_type": "code",
   "execution_count": null,
   "id": "4a87872c-758d-4b6b-bb52-10b36e3156c1",
   "metadata": {},
   "outputs": [],
   "source": [
    "Now we will read the dataset using the pd.read_csv() function."
   ]
  },
  {
   "cell_type": "code",
   "execution_count": null,
   "id": "300fc9b6-6484-47fe-810c-fb22974f3997",
   "metadata": {},
   "outputs": [],
   "source": [
    "airline_data =  pd.read_csv('https://cf-courses-data.s3.us.cloud-object-storage.appdomain.cloud/IBMDeveloperSkillsNetwork-DV0101EN-SkillsNetwork/Data%20Files/airline_data.csv', \n",
    "                            encoding = \"ISO-8859-1\",\n",
    "                            dtype={'Div1Airport': str, 'Div1TailNum': str, \n",
    "                                   'Div2Airport': str, 'Div2TailNum': str})"
   ]
  },
  {
   "cell_type": "markdown",
   "id": "ceb88f34-ffd8-43f2-a6e3-bf71b8f1c973",
   "metadata": {},
   "source": [
    "- Le code ci-dessus lit un fichier CSV appelé airline_data.csv à partir d’une URL utilisant pandas, une bibliothèque d’analyse de données populaire en Python.\n",
    "- Le fichier est encodé à l’aide de l’encodage de caractères ISO-8859-1, qui est une façon standard de représenter les caractères dans le fichier.\n",
    "- Nous avons défini le type de données de colonnes spécifiques telles que (Div1Airport, Div1TailNum, Div2Airport et Div2TailNum) comme des chaînes, ce qui garantit que ces colonnes sont lues sous forme de texte et non de nombres.\n",
    "- Les données résultantes sont stockées dans un objet de trame de données pandas appelé airline_data, qui peut être utilisé pour une analyse plus approfondie.\n",
    "\n",
    "\n",
    "Copiez le code ci-dessous dans le script dash_interactivity.py et examinez le code."
   ]
  },
  {
   "cell_type": "markdown",
   "id": "6fbb03d3-f8e9-4ab6-a4ce-e8c8c1414593",
   "metadata": {},
   "source": [
    "- The above code reads a CSV file called airline_data.csv from a URL using pandas, a popular data analysis library in Python.\n",
    "- The file is encoded using ISO-8859-1 character encoding, which is a standard way of representing characters in the file.\n",
    "- We defined data type of specific columns such as (Div1Airport, Div1TailNum, Div2Airport, and Div2TailNum) to be strings, which ensures that these columns are read as text instead of numbers.\n",
    "- The resulting data is stored in a pandas dataframe object called airline_data, which can be used for further analysis.\n",
    "\n",
    "\n",
    "Copy the below code to the dash_interactivity.py script and review the code."
   ]
  },
  {
   "cell_type": "code",
   "execution_count": null,
   "id": "6e28e3f7-5ee9-4c80-8f16-fcd96a8e55d6",
   "metadata": {},
   "outputs": [],
   "source": [
    "# Import required libraries\n",
    "import pandas as pd\n",
    "import plotly.graph_objects as go\n",
    "import dash\n",
    "from dash import dcc\n",
    "from dash import html\n",
    "from dash.dependencies import Input, Output\n",
    "\n",
    "# Read the airline data into the pandas dataframe\n",
    "airline_data =  pd.read_csv('https://cf-courses-data.s3.us.cloud-object-storage.appdomain.cloud/IBMDeveloperSkillsNetwork-DV0101EN-SkillsNetwork/Data%20Files/airline_data.csv', \n",
    "                            encoding = \"ISO-8859-1\",\n",
    "                            dtype={'Div1Airport': str, 'Div1TailNum': str, \n",
    "                                   'Div2Airport': str, 'Div2TailNum': str})"
   ]
  },
  {
   "cell_type": "markdown",
   "id": "cb4ee37e-5a99-481d-a19c-43cbeb4546a0",
   "metadata": {},
   "source": [
    "Enregistrez et exécutez maintenant ce code.\n",
    "\n",
    "Copiez et collez la commande ci-dessous dans le terminal pour exécuter le code."
   ]
  },
  {
   "cell_type": "code",
   "execution_count": null,
   "id": "47f95e85-5a55-4879-a190-b468938d8374",
   "metadata": {},
   "outputs": [],
   "source": [
    "python3.11 dash_interactivity.py"
   ]
  },
  {
   "cell_type": "code",
   "execution_count": null,
   "id": "0fe5980c-a3b1-4f03-8294-78d531b2cc52",
   "metadata": {},
   "outputs": [],
   "source": [
    "Après avoir exécuté le code ci-dessus, vous pouvez voir la sortie attendue ci-dessous :"
   ]
  },
  {
   "cell_type": "markdown",
   "id": "c5cecf81-57b9-41a9-8220-8d5187c6b821",
   "metadata": {},
   "source": [
    "# TÂCHE 2 - Créer une application de tableau de bord et obtenir la mise en page\n",
    "\n",
    "Ensuite, nous créons un squelette pour notre application de tableau de bord. Dans l’ensemble, cette disposition crée un conteneur simple avec un en-tête, un champ de saisie et un espace vide.\n",
    "\n",
    "Dans les tâches à venir, vous pouvez modifier et ajouter de nouveaux composants et styles à la mise en page de base fournie. Cela vous permettra de personnaliser et d’améliorer l’interface utilisateur de votre application Dash pour répondre à vos besoins et exigences spécifiques comme suit :\n",
    "\n",
    "- Nous allons d’abord définir une application app.layout.\n",
    "\n",
    "- Créez un titre en utilisant html.h1() et ajoutez des informations de style dans le html de division. Div().\n",
    "\n",
    "- Créez une division interne à l’aide de HTML. Fonction Div() pour ajouter des composants d’entrée et de sortie tels que : \n",
    "\n",
    "*  Entrée : paramètres d’étiquette, d’année d’entrée déroulante et de style\n",
    "*  Sortie : type de graphique linéaire"
   ]
  },
  {
   "cell_type": "markdown",
   "id": "53b85c4a-490a-45ee-8e9d-351f88c0b65e",
   "metadata": {},
   "source": [
    "# TASK 2 - Create dash application and get the layout\n",
    "Next, we create a skeleton for our dash application. Overall this layout creates a simple container with a heading, an input field, and some empty space.\n",
    "\n",
    "In the upcoming tasks, you can modify and add new components and styles to the basic layout provided. This will allow you to customize and enhance the user interface of your Dash app to meet your specific needs and requirements as follows:\n",
    "\n",
    "- First we will define an application app.layout.\n",
    "\n",
    "- Create a heading using html.h1() and add style information within the divison html.Div().\n",
    "\n",
    "- create a inner division using html.Div() function for adding input and output components such as: \n",
    "\n",
    " Input: label, dropdown input-year and style parameters\n",
    " \n",
    " Output: type of Graph line-plot"
   ]
  },
  {
   "cell_type": "code",
   "execution_count": null,
   "id": "3a6330e2-ef27-401d-867b-02e78307414e",
   "metadata": {},
   "outputs": [],
   "source": [
    "# Create a dash application layout\n",
    "app = dash.Dash(__name__)\n",
    "\n",
    "# Get the layout of the application and adjust it.\n",
    "# Create an outer division using html.Div and add title to the dashboard using html.H1 component\n",
    "# Add a html.Div and core input text component\n",
    "# Finally, add graph component.\n",
    "\n",
    "\n",
    "\n",
    "\n",
    "\n",
    "\n",
    "\n",
    "# Obtenez la mise en page de l’application et ajustez-la.\n",
    "# Créez une division externe en utilisant html. Div et ajoutez un titre au tableau de bord en html. Composant H1\n",
    "# Ajoutez un html. Composant de texte d’entrée Div et core\n",
    "# Enfin, ajoutez un composant graphique.\n",
    "app.layout = html.Div(children=[html.H1(),\n",
    "                                html.Div([\"Input Year\", dcc.Input(),], \n",
    "                                style={}),\n",
    "                                html.Br(),\n",
    "                                html.Br(),\n",
    "                                html.Div(),\n",
    "                                ])"
   ]
  },
  {
   "cell_type": "markdown",
   "id": "80f026b1-1313-4e87-9d4c-8693a3324bc4",
   "metadata": {},
   "source": [
    "# Mapping to the respective Dash HTML tags:\n",
    "    \n",
    "# Application title add using html.H1() tag\n",
    "\n",
    "- Heading reference: Plotly H1 HTML Component\n",
    "- Title as Airline Performance Dashboard\n",
    "- Use style parameter for the title and make it center aligned, with color code #503D36, and font-size as 40. Check More about HTML section here."
   ]
  },
  {
   "cell_type": "markdown",
   "id": "2ab0e794-a5a8-4b0c-84cc-ba8f7efc3ed8",
   "metadata": {},
   "source": [
    "# Mappage aux balises HTML Dash respectives :\n",
    "\n",
    "# Ajout de titre d’application en html. Balise H1()\n",
    "\n",
    "- Référence de titre : Composant HTML Plotly H1\n",
    "- Titre : Tableau de bord des performances des compagnies aériennes\n",
    "- Utilisez le paramètre style pour le titre et alignez-le au centre, avec un code couleur #503D36 et une taille de police de 40. Consultez la section Plus sur HTML ici."
   ]
  },
  {
   "cell_type": "markdown",
   "id": "8ae3b01f-bc4c-4de4-b83b-67f1f9a4e998",
   "metadata": {},
   "source": [
    "REMARQUE : Après avoir ajouté les composants, votre code ressemblera au code ci-dessous. (Vous pouvez copier le code de l’application Dash dans dash_interactivity.py script et exécuter)"
   ]
  },
  {
   "cell_type": "code",
   "execution_count": null,
   "id": "6dcc3ee9-887d-4df5-aa5c-a92947702b3b",
   "metadata": {},
   "outputs": [],
   "source": [
    "# Import required libraries\n",
    "import pandas as pd\n",
    "import plotly.graph_objects as go\n",
    "import dash\n",
    "from dash import dcc\n",
    "from dash import html\n",
    "from dash.dependencies import Input, Output\n",
    "# Read the airline data into pandas dataframe\n",
    "airline_data =  pd.read_csv('https://cf-courses-data.s3.us.cloud-object-storage.appdomain.cloud/IBMDeveloperSkillsNetwork-DV0101EN-SkillsNetwork/Data%20Files/airline_data.csv', \n",
    "                            encoding = \"ISO-8859-1\",\n",
    "                            dtype={'Div1Airport': str, 'Div1TailNum': str, \n",
    "                                   'Div2Airport': str, 'Div2TailNum': str})\n",
    "                                   \n",
    "# Create a dash application\n",
    "app = dash.Dash(__name__)\n",
    "\n",
    "app.layout = html.Div(children=[html.H1('Airline Performance Dashboard',style={'textAlign': 'center', 'color': '#503D36', 'font-size': 40}),\n",
    "                                html.Div([\"Input Year\", dcc.Input(),], \n",
    "                                style={}),\n",
    "                                html.Br(),\n",
    "                                html.Br(),\n",
    "                                html.Div(),\n",
    "                                ])\n",
    "\n",
    "# Run the app\n",
    "if __name__ == '__main__':\n",
    "    app.run_server()"
   ]
  },
  {
   "cell_type": "markdown",
   "id": "c5281ebc-46e5-4e89-addd-5865e99869a3",
   "metadata": {},
   "source": [
    "# To run the Dash app follow the below steps\n",
    "First, install pandas and dash using the following command in the terminal\n",
    "\n",
    "\n",
    "\n",
    "\n",
    "# Pour exécuter l’application Dash, suivez les étapes ci-dessous\n",
    "Tout d’abord, installez pandas et dash à l’aide de la commande suivante dans le terminal"
   ]
  },
  {
   "cell_type": "code",
   "execution_count": null,
   "id": "2316edc7-111a-4673-a628-d61eb160a5a7",
   "metadata": {},
   "outputs": [],
   "source": [
    "pip3.8 install pandas dash"
   ]
  },
  {
   "cell_type": "markdown",
   "id": "a2a83058-3ca8-4059-90f8-e252ac3ec026",
   "metadata": {},
   "source": [
    "Copy and paste the below command in the terminal to run the application.\n",
    "\n",
    "\n",
    "\n",
    "Copiez et collez la commande ci-dessous dans le terminal pour exécuter l’application."
   ]
  },
  {
   "cell_type": "code",
   "execution_count": null,
   "id": "e3591d6a-f8d5-455a-8e25-951ffda635b7",
   "metadata": {},
   "outputs": [],
   "source": [
    "python3.8 dash_interactivity.py"
   ]
  },
  {
   "cell_type": "code",
   "execution_count": null,
   "id": "ebb6a193-d872-4389-b8f0-02818da1033f",
   "metadata": {},
   "outputs": [],
   "source": [
    "Observe the port number shown in the terminal."
   ]
  },
  {
   "cell_type": "markdown",
   "id": "ce65649b-0069-4d61-a13a-a59c39bdfe19",
   "metadata": {},
   "source": [
    "- Cliquez sur l’option Lancer l’application dans la barre de menu latérale. Indiquez le numéro de port et cliquez sur OK\n",
    "\n",
    "- L’application s’ouvrira dans un nouvel onglet de navigateur comme ci-dessous :\n",
    "\n",
    "- Après avoir exécuté le code ci-dessus, lancez l’application dans un nouvel onglet et vous trouverez ci-dessous le résultat attendu du code :"
   ]
  },
  {
   "cell_type": "markdown",
   "id": "bb52050d-7ee4-46be-af64-f8364a293f75",
   "metadata": {},
   "source": [
    "# Input and Output components of layout\n",
    "\n",
    "# Input component\n",
    "\n",
    "- As our input is a dropdown showing a list of years we will use the dcc.Input() function. We define the following parameters\n",
    "\n",
    "\n",
    "- id: input-year, which is a unique identifier for this specific input field. The default value for this input field will be set to 2010, and the type of input will be a number.\n",
    "\n",
    "\n",
    "\n",
    "- style parameter for the dropdown: Here within it we define’heightof the input box to be50pxandfont-sizeto be35` to make the text larger and more readable.\n",
    "\n",
    "- style parameter for the whole division: Now assign font-size as 40 .\n",
    "\n",
    "\n",
    "# Output component\n",
    "\n",
    "\n",
    "- Add dcc.Graph() component to the second division.\n",
    "- Update dcc.Graph component id as line-plot.\n",
    "\n",
    "\n",
    "NOTE: After adding the componenets you code will look like below code.(You can copy dash application code to dash_interactivity.py script and run).\n",
    "\n",
    "To terminate a currently running program in the Python terminal (also known as the Python REPL), you can use the KeyboardInterrupt shortcut. This can be done by pressing the CTRL and C keys simultaneously.\n",
    "\n",
    "\n",
    "After running the above code, launch the app in a new tab and below is the expected result from the code:"
   ]
  },
  {
   "cell_type": "markdown",
   "id": "9c52f9b1-9ded-4a09-940e-7573bee455d2",
   "metadata": {},
   "source": [
    "# Composants d’entrée et de sortie de la mise en page\n",
    "\n",
    "# Composant d’entrée\n",
    "\n",
    "-        Comme notre entrée est une liste déroulante affichant une liste d’années, nous utiliserons la fonction dcc.Input(). Nous définissons les paramètres suivants\n",
    "\n",
    "\n",
    "\n",
    "- id : input-year, qui est un identifiant unique pour ce champ de saisie spécifique. La valeur par défaut de ce champ de saisie sera définie sur 2010 et le type d’entrée sera un nombre.\n",
    "\n",
    "\n",
    "\n",
    "- paramètre de style pour la liste déroulante : Ici, nous définissons 'heightof the input box à be50pxandfont-sizeto be35' pour rendre le texte plus grand et plus lisible.\n",
    "\n",
    "- pour l’ensemble de la division : assigne maintenant la taille de la police à 40 .\n",
    "\n",
    "\n",
    "# Composant de sortie\n",
    "\n",
    "- Ajout du composant dcc.Graph() à la deuxième division.\n",
    "- Mise à jour de l’identifiant du composant dcc.Graph en tant que tracé de lignes.\n",
    "\n",
    "\n",
    "\n",
    "\n",
    "REMARQUE : Après avoir ajouté les composants, votre code ressemblera au code ci-dessous. (Vous pouvez copier le code de l’application dash dans dash_interactivity.py script et exécuter).\n",
    "\n",
    "Pour arrêter un programme en cours d’exécution dans le terminal Python (également appelé Python REPL), vous pouvez utiliser le raccourci KeyboardInterrupt. Cela peut être fait en appuyant simultanément sur les touches CTRL et C."
   ]
  },
  {
   "cell_type": "code",
   "execution_count": null,
   "id": "a40c1c7d-5da5-4498-b630-e26484d74a2d",
   "metadata": {},
   "outputs": [],
   "source": [
    "# Import required libraries\n",
    "import pandas as pd\n",
    "import plotly.graph_objects as go\n",
    "import dash\n",
    "from dash import dcc\n",
    "from dash import html\n",
    "from dash.dependencies import Input, Output\n",
    "# Read the airline data into pandas dataframe\n",
    "airline_data =  pd.read_csv('https://cf-courses-data.s3.us.cloud-object-storage.appdomain.cloud/IBMDeveloperSkillsNetwork-DV0101EN-SkillsNetwork/Data%20Files/airline_data.csv', \n",
    "                            encoding = \"ISO-8859-1\",\n",
    "                            dtype={'Div1Airport': str, 'Div1TailNum': str, \n",
    "                                   'Div2Airport': str, 'Div2TailNum': str})\n",
    "# Create a dash application\n",
    "app = dash.Dash(__name__)\n",
    "                               \n",
    "app.layout = html.Div(children=[ html.H1('Airline Performance Dashboard',style={'textAlign': 'center', 'color': '#503D36', 'font-size': 40}),\n",
    "                                html.Div([\"Input Year: \", dcc.Input(id='input-year', value='2010', \n",
    "                                type='number', style={'height':'50px', 'font-size': 35}),], \n",
    "                                style={'font-size': 40}),\n",
    "                                html.Br(),\n",
    "                                html.Br(),\n",
    "                                html.Div(dcc.Graph(id='line-plot')),\n",
    "                                ])\n",
    "\n",
    "# Run the app\n",
    "if __name__ == '__main__':\n",
    "    app.run_server()"
   ]
  },
  {
   "cell_type": "markdown",
   "id": "64ad7c5e-612a-44a0-8d73-faad3c6557fd",
   "metadata": {},
   "source": [
    "After running the above code, launch the app in a new tab and below is the expected result from the code:\n",
    "\n",
    "\n",
    "Après avoir exécuté le code ci-dessus, lancez l’application dans un nouvel onglet et vous trouverez ci-dessous le résultat attendu du code :"
   ]
  },
  {
   "cell_type": "markdown",
   "id": "87ca0d59-d4c7-47e2-ae8a-45754ab2c38a",
   "metadata": {},
   "source": [
    "# DEBUG"
   ]
  },
  {
   "cell_type": "markdown",
   "id": "6666ce17-cbd3-4064-9c36-aafb277d972d",
   "metadata": {},
   "source": [
    "Salut @Mahi,\n",
    "\n",
    "merci pour ton message !\n",
    "\n",
    "Cela ne se produit que lorsqu'il reste des ports ouverts et non fermés.\n",
    "\n",
    "Si deux terminaux fonctionnent côte à côte, assurez-vous de fermer les autres terminaux avant de faire fonctionner le port.\n",
    "\n",
    "Vous pouvez également supprimer le port à l'aide des commandes suivantes :\n",
    "\n",
    "sudo apt-get update && sudo apt-get install lsof lsof\n",
    "\n",
    "-i:8050 (Cela affichera l'ID de processus (PID) du processus utilisant le port 8050) \n",
    "kill\n",
    "\n",
    " Si l'exécution de la commande lsof -i:8050 n'affiche rien, cela signifie qu'aucun processus n'utilise actuellement le numéro de port"
   ]
  },
  {
   "cell_type": "markdown",
   "id": "8d49db0b-9105-4573-9256-6ec4fb0962c1",
   "metadata": {},
   "source": [
    "# TASK 3 - Add the application callback function\n",
    "\n",
    "Callback\n",
    "\n",
    "\n",
    "En Python, @app.callback est un décorateur utilisé dans le framework Dash pour spécifier qu’une fonction doit être appelée lorsqu’un composant d’entrée change de valeur. Les fonctions Entrée et Sortie sont utilisées pour définir les entrées et les sorties d’une fonction de rappel.\n",
    "\n",
    "L’idée de base de cette application est d’obtenir l’année en tant qu’entrée utilisateur (fonction d’entrée) et de mettre à jour le tableau de bord (fonction de sortie) en temps réel à l’aide de la fonction de rappel."
   ]
  },
  {
   "cell_type": "code",
   "execution_count": null,
   "id": "b31f7987-6981-4bda-89ca-ca9b86b767e0",
   "metadata": {},
   "outputs": [],
   "source": [
    "Steps:\n",
    "\n",
    "Define the callback decorator\n",
    "Define the callback function that uses the input provided to perform the computation\n",
    "Create graph and return it as an output\n",
    "The below code is base structure for calback decorator and function graph."
   ]
  },
  {
   "cell_type": "code",
   "execution_count": null,
   "id": "5a6be9ee-f745-4d34-a195-bf3365387b7e",
   "metadata": {},
   "outputs": [],
   "source": [
    "Escalier:\n",
    "\n",
    "Définir le décorateur de rappel\n",
    "Définissez la fonction de rappel qui utilise l’entrée fournie pour effectuer le calcul\n",
    "Créer un graphique et le renvoyer en sortie\n",
    "Le code ci-dessous est la structure de base du décorateur calback et du graphique de fonction."
   ]
  },
  {
   "cell_type": "code",
   "execution_count": null,
   "id": "bb28cb85-5f19-471d-bbac-202e52663714",
   "metadata": {},
   "outputs": [],
   "source": [
    "# add callback decorator\n",
    "@app.callback(Output(),\n",
    "               Input())\n",
    "\n",
    "# Add computation to callback function and return graph\n",
    "def get_graph(entered_year):\n",
    "    # Select data based on the entered year\n",
    "    df =  airline_data[airline_data['Year']==int(entered_year)]\n",
    "    \n",
    "    # Group the data by Month and compute the average over arrival delay time.\n",
    "    line_data = df.groupby('Month')['ArrDelay'].mean().reset_index()\n",
    "    \n",
    "    # \n",
    "    fig = go.Figure(data=)\n",
    "    fig.update_layout()\n",
    "    return fig\n",
    "\n",
    "# Run the app\n",
    "if __name__ == '__main__':\n",
    "    app.run_server()"
   ]
  },
  {
   "cell_type": "markdown",
   "id": "5b260fcf-6338-4a35-b36e-a564ffe3852f",
   "metadata": {},
   "source": [
    "# Update the callback function\n",
    "\n",
    "Callback decorator\n",
    "\n",
    "Refer to examples provided here\n",
    "\n",
    "Input() function takes two parameters:\n",
    "\n",
    "- component-id with the value input-year, which is the ID of the input dropdown.\n",
    "- component_property being accessed is the value property, which represents the year entered by the user. \n",
    "\n",
    "# Output()function takes two parameters:\n",
    "\n",
    "- component-id with the value line-plot, which is the id of the output.\n",
    "- component_property being modified is the figure property, which specifies the data and layout of the line plot.\n",
    "\n",
    "# Callback function\n",
    "\n",
    "Update data parameter of the go.Figure() with the scatter plot. Refer here. Sample syntax below:\n"
   ]
  },
  {
   "cell_type": "code",
   "execution_count": null,
   "id": "b7cd85c6-6f32-4ac3-aee2-9b341e2a365e",
   "metadata": {},
   "outputs": [],
   "source": [
    "go.Scatter(x='----', y='----', mode='-----', marker='----)"
   ]
  },
  {
   "cell_type": "markdown",
   "id": "79b7ea76-278f-4fd9-9c19-2e8f015e5d61",
   "metadata": {},
   "source": [
    "In the go.Scatter() update the parameter as below:\n",
    "\n",
    "- Update x as line_data['Month']\n",
    "\n",
    "- Update y as line_data['ArrDelay']\n",
    "\n",
    "- Update mode as lines, and marker as dict(color='green')\n",
    "\n",
    "- Update fig.update_layout with title, xaxis_title, and yaxis_title parameters."
   ]
  },
  {
   "cell_type": "markdown",
   "id": "12ae965f-2fe2-4678-ab0e-0201162b013d",
   "metadata": {},
   "source": [
    "- Title as Month vs Average Flight Delay Time\n",
    "- xaxis_title as Month\n",
    "- yaxis_title as ArrDelay\n",
    "- Refer the updated layout function here."
   ]
  },
  {
   "cell_type": "code",
   "execution_count": null,
   "id": "0832866d-2817-409d-acab-849ceb9e44b1",
   "metadata": {},
   "outputs": [],
   "source": [
    "Refer to the full python code of dash_interactivity.py below:"
   ]
  },
  {
   "cell_type": "code",
   "execution_count": null,
   "id": "b5e8333b-a831-40c3-ac1c-6dfdbf630a0d",
   "metadata": {},
   "outputs": [],
   "source": [
    "# Import required libraries\n",
    "import pandas as pd\n",
    "import plotly.graph_objects as go\n",
    "import dash\n",
    "from dash import dcc\n",
    "from dash import html\n",
    "from dash.dependencies import Input, Output\n",
    "\n",
    "# Read the airline data into the pandas dataframe\n",
    "airline_data =  pd.read_csv('https://cf-courses-data.s3.us.cloud-object-storage.appdomain.cloud/IBMDeveloperSkillsNetwork-DV0101EN-SkillsNetwork/Data%20Files/airline_data.csv', \n",
    "                            encoding = \"ISO-8859-1\",\n",
    "                            dtype={'Div1Airport': str, 'Div1TailNum': str, \n",
    "                                   'Div2Airport': str, 'Div2TailNum': str})\n",
    "# Create a dash application\n",
    "app = dash.Dash(__name__)\n",
    "                               \n",
    "app.layout = html.Div(children=[ html.H1('Airline Performance Dashboard',style={'textAlign': 'center', 'color': '#503D36', 'font-size': 40}),\n",
    "                                html.Div([\"Input Year: \", dcc.Input(id='input-year', value='2010', \n",
    "                                type='number', style={'height':'50px', 'font-size': 35}),], \n",
    "                                style={'font-size': 40}),\n",
    "                                html.Br(),\n",
    "                                html.Br(),\n",
    "                                html.Div(dcc.Graph(id='line-plot')),\n",
    "                                ])\n",
    "\n",
    "# add callback decorator\n",
    "@app.callback( Output(component_id='line-plot', component_property='figure'),\n",
    "               Input(component_id='input-year', component_property='value'))\n",
    "\n",
    "# Add computation to callback function and return graph\n",
    "def get_graph(entered_year):\n",
    "    # Select 2019 data\n",
    "    df =  airline_data[airline_data['Year']==int(entered_year)]\n",
    "    \n",
    "    # Group the data by Month and compute average over arrival delay time.\n",
    "    line_data = df.groupby('Month')['ArrDelay'].mean().reset_index()\n",
    "\n",
    "    fig = go.Figure(data=go.Scatter(x=line_data['Month'], y=line_data['ArrDelay'], mode='lines', marker=dict(color='green')))\n",
    "    fig.update_layout(title='Month vs Average Flight Delay Time', xaxis_title='Month', yaxis_title='ArrDelay')\n",
    "    return fig\n",
    "\n",
    "# Run the app\n",
    "if __name__ == '__main__':\n",
    "    app.run_server()"
   ]
  },
  {
   "cell_type": "markdown",
   "id": "b723060e-eb3b-4b77-b6f9-1fd2e18a42bd",
   "metadata": {},
   "source": [
    "After running the above code, launch the app in a new tab and below is the expected final result from the code:"
   ]
  },
  {
   "cell_type": "markdown",
   "id": "3e2a7b4d-48df-4366-972d-c54d6b4da51d",
   "metadata": {},
   "source": [
    "# TASK 4 : Practice Exercise\n",
    "\n",
    "# You will practice some tasks to create the new dashboard.\n",
    "\n",
    "- Note: Please refer the Bar chart exercise of Plotly basics: scatter, line, bar, bubble, histogram, pie, sunburst lab for this exercise.\n",
    "\n",
    "# Theme\n",
    "- Let us use a bar chart to extract the number of flights from a specific airline that goes to a destination.\n",
    "\n",
    "# Expected Output\n",
    "- Below is the expected result from the lab. Our dashboard application consists of three components:\n",
    "\n",
    "- Title of the application\n",
    "- Component to enter input year\n",
    "- A chart conveying Total number of flights to the destination state."
   ]
  },
  {
   "cell_type": "markdown",
   "id": "9d2253c3-418a-42b2-a689-46304ff742e9",
   "metadata": {},
   "source": [
    "- Create a new python script and provide the file name as dash_interactivity_barplot.py.\n",
    "\n",
    "1. ### Import all the required libraries and read the Airline Reporting Carrier On-Time Performance dataset."
   ]
  },
  {
   "cell_type": "code",
   "execution_count": null,
   "id": "67bb4caf-b967-45d1-9ef9-6ae3f275a696",
   "metadata": {},
   "outputs": [],
   "source": [
    "   # Import required libraries\n",
    "   import pandas as pd\n",
    "   import plotly.graph_objects as go\n",
    "   import plotly.express as px\n",
    "   import dash\n",
    "   from dash import dcc\n",
    "   from dash import html\n",
    "   from dash.dependencies import Input, Output\n",
    "   # Read the airline data into pandas dataframe\n",
    "   airline_data =  pd.read_csv('https://cf-courses-data.s3.us.cloud-object-storage.appdomain.cloud/IBMDeveloperSkillsNetwork-DV0101EN-SkillsNetwork/Data%20Files/airline_data.csv', \n",
    "                       encoding = \"ISO-8859-1\",\n",
    "                       dtype={'Div1Airport': str, 'Div1TailNum': str, \n",
    "                              'Div2Airport': str, 'Div2TailNum': str})"
   ]
  },
  {
   "cell_type": "markdown",
   "id": "0b189092-b3e5-4c80-9a80-2b148503a22f",
   "metadata": {},
   "source": [
    "2. ### Give the title to the dashboard to “Total number of flights to the destination state split by reporting air” using HTML H1 component and font-size as 50.\n",
    "\n",
    "- Input component Make changes to a component called dcc.Input in a tool called Dash. We are updating its id to be input-year, which is a unique identifier for this specific input field. The default value for this input field will be set to 2010, and the type of input will be a number.\n",
    "\n",
    "To make the text larger and more readable, use the style parameter and assign the height of the input box to 50px and font-size to be 35. Use style parameter again and assign font-size of 40 for the whole division\n",
    "\n",
    "- Output component Add dcc.Graph() component to the second division. Update dcc.Graph component id as bar-plot."
   ]
  },
  {
   "cell_type": "code",
   "execution_count": null,
   "id": "cb04433c-1aec-4b9d-8b33-8b68f9b329a4",
   "metadata": {},
   "outputs": [],
   "source": [
    "app = dash.Dash(__name__)\n",
    "app.layout = html.Div(children=[ html.H1('Total number of flights to the destination state split by reporting airline',\n",
    "                            style={'textAlign': 'center', 'color': '#503D36', 'font-size': 40}),\n",
    "                            html.Div([\"Input Year: \", dcc. Input(id='input-year',value='2010',\n",
    "                            type='number', style={'height':'50px', 'font-size': 35}),], \n",
    "                            style={'font-size': 40}),html.Br(), html.Br(),\n",
    "                            html.Div(dcc.Graph(id='bar-plot')),]) "
   ]
  },
  {
   "cell_type": "markdown",
   "id": "42033103-59f5-4077-92cd-6e0ab2624125",
   "metadata": {},
   "source": [
    "3. ### Add Callback decorator\n",
    "\n",
    "- Update output component id parameter with bar-plot same as the id provided in the dcc.Graph() component and component property as figure.\n",
    "\n",
    "- Update input component id parameter with input-year same as the id provided in the dcc.Input() component and component property as value.\n",
    "\n",
    "Use style parameter and assign font-size as 35 for the whole division."
   ]
  },
  {
   "cell_type": "code",
   "execution_count": null,
   "id": "d037fefa-afd3-489e-827f-367944f65f13",
   "metadata": {},
   "outputs": [],
   "source": [
    "@app.callback( Output(component_id='bar-plot',component_property='figure'),\n",
    "             Input(component_id='input-year', component_property='value'))"
   ]
  },
  {
   "cell_type": "markdown",
   "id": "6642cbbd-30d6-4cc3-a218-0d54d09e78eb",
   "metadata": {},
   "source": [
    "4. ### Define Callback graph function\n",
    "\n",
    "- Group the data by destination state and reporting airline. Compute the total number of flights in each combination\n",
    "- Use plotly express bar chart function px.bar. Provide input data, x and y axis variables, and a chart title. This will give the total number of flights to the destination state\n",
    "Answer"
   ]
  },
  {
   "cell_type": "code",
   "execution_count": null,
   "id": "3dde521c-3b65-4357-84b0-f68ef01fd8ce",
   "metadata": {},
   "outputs": [],
   "source": [
    "def get_graph(entered_year):\n",
    "    df =  airline_data[airline_data['Year']==int(entered_year)]\n",
    "    bar_data = df.groupby('DestState')['Flights'].sum().reset_index()\n",
    "    fig = px.bar(bar_data, x= \"DestState\", y= \"Flights\", title='Total number of flights to the destination state split by reporting airline') \n",
    "    fig.update_layout(title='Flights to Destination State', xaxis_title='DestState', yaxis_title='Flights')\n",
    "    return fig        "
   ]
  },
  {
   "cell_type": "markdown",
   "id": "d84c0b6a-0761-4348-90c9-3bab233313b1",
   "metadata": {},
   "source": [
    "5. ### Add the code for running the app, save the above changes, and relaunch the dashboard application to see the new dashboard.\n",
    "\n",
    "Answer"
   ]
  },
  {
   "cell_type": "code",
   "execution_count": null,
   "id": "024fd0bf-7481-427d-8ab3-ed69a1887b64",
   "metadata": {},
   "outputs": [],
   "source": []
  },
  {
   "cell_type": "code",
   "execution_count": null,
   "id": "dae3f38c-3aeb-417d-860f-559be7d084d6",
   "metadata": {},
   "outputs": [],
   "source": [
    "if __name__ == '__main__':\n",
    "    app.run_server() "
   ]
  },
  {
   "cell_type": "code",
   "execution_count": null,
   "id": "eca03a26-aaf0-4fcb-a843-9ef8ba154a51",
   "metadata": {},
   "outputs": [],
   "source": []
  },
  {
   "cell_type": "markdown",
   "id": "2e19f93c-b16c-4ab8-9b3c-068883a47f47",
   "metadata": {},
   "source": [
    "# DEBUG"
   ]
  },
  {
   "cell_type": "code",
   "execution_count": null,
   "id": "96676801-4768-4507-9a9b-7e0c43dc6f4b",
   "metadata": {},
   "outputs": [],
   "source": [
    "Salut @Mahi,\n",
    "\n",
    "merci pour ton message !\n",
    "\n",
    "Cela ne se produit que lorsqu'il reste des ports ouverts et non fermés.\n",
    "\n",
    "Si deux terminaux fonctionnent côte à côte, assurez-vous de fermer les autres terminaux avant de faire fonctionner le port.\n",
    "\n",
    "Vous pouvez également supprimer le port à l'aide des commandes suivantes :\n",
    "\n",
    "sudo apt-get update && sudo apt-get install lsof lsof\n",
    "\n",
    "-i:8050 (Cela affichera l'ID de processus (PID) du processus utilisant le port 8050) \n",
    "kill\n",
    "\n",
    " Si l'exécution de la commande lsof -i:8050 n'affiche rien, cela signifie qu'aucun processus n'utilise actuellement le numéro de port"
   ]
  },
  {
   "cell_type": "markdown",
   "id": "e879aa38-02cb-4c83-a077-a1fd00de6c83",
   "metadata": {},
   "source": [
    "# Comprendre l'environnement du laboratoireStatut : Traduit automatiquement de Anglais\n"
   ]
  },
  {
   "cell_type": "markdown",
   "id": "703daad2-ea1c-4088-97ff-2e77290a6835",
   "metadata": {},
   "source": [
    "Bienvenue sur Understanding l'environnement du laboratoire. Après avoir visionné cette vidéo, vous serez en mesure de décrire les laboratoires du Skills Network environnement IDE cloud, analysez les données de vol dans le temps en créant des graphiques linéaires avec composants du tableau de bord, créez la mise en page de l'application Dash, listez les étapes à exécuter et lancez l'application. Nous utiliserons le Laboratoires Skills Network, laboratoires SN, environnement IDE cloud pour cette activité. Skills Network Labs Cloud L'IDE fournit un environnement pratique dans votre navigateur Web pour suivre le cours et laboratoires liés au projet. Il utilise un plate-forme IDE open source pouvant fonctionner sur un sur ordinateur de bureau ou dans le Cloud. Lorsque vous ouvrez le laboratoire, l'écran comporte deux côtés. Sur le côté droit, vous verrez instructions de laboratoire. Sur le côté gauche se trouve le développement intégré Environnement, environnement de développement intégré, dans lequel vous allez terminer ce qui suit ; utilisez le terminal, écrivez code, et ainsi de suite. Regardons de plus près dans cette fenêtre IDE. Au sommet, il y a est un menu principal qui comprend des sous-menus pour vous aider à créer de nouveaux fichiers, à enregistrer, à exécuter et à déboguer un sous-menu du terminal et ainsi de suite. Sur le côté gauche se trouve un document spécifique au projet menu où vous pouvez trouver les options de lancement votre candidature. Pour ouvrir un nouveau terminal, cliquez sur le terminal dans le menu principal, puis cliquez sur Nouveau terminal. Ici, nous l'avons terminé. Super, commençons par le labo. Nous travaillerons sur la compagnie aérienne signaler le transporteur à temps. La performance source du jeu de données issue de l'échange d'actifs de données contient des informations sur près de 200 millions de foyers Vols américains signalés au Bureau des États-Unis des statistiques des transports. Il comprend les éléments essentiels des détails sur chaque vol, tels que l'heure, la date, l'aéroport de départ, aéroport d'arrivée, durée du retard de vol et informations concernant à la cause du retard. Vous allez analyser le vol des délais et un tableau de bord. Vous allez créer cinq graphiques linéaires avec composants de tableau de bord pour délai moyen mensuel du transporteur, retard météorologique moyen mensuel, moyenne mensuelle nationale retard du système aérien, retard de sécurité moyen mensuel, moyenne mensuelle retard d'un avion par la compagnie aérienne déclarante pour l'année en question. Premièrement, dans le terminal, installez tous les packages requis tels que mentionnés dans les instructions, copiez les commandes PIP. Deux, collez-le dans le terminal , puis appuyez sur Shift plus Entrez pour les exécuter. Faites-le pour les trois Les commandes PIP une par une. Cela va prendre un certain temps. Créons maintenant un nouveau script fichier pour écrire le code. Premièrement, cliquez sur Fichier dans la barre de menu principale et puis cliquez sur Nouveau fichier. Deuxièmement, une invite contextuelle fera apparaissent à l'écran. Ici, mentionnez le nom de ce fichier comme indiqué dans les instructions, flight_delay.py et cliquez sur « OK ». Trois, ça y est. Le fichier est prêt et ouvrez dans l'IDE. Nous devons d'abord importez les bibliothèques et extrayez le jeu de données dans le fichier script. Premièrement, le côté instructions de l'écran mentionne tout les bibliothèques requises. De plus, le code mentionné pour récupérer le le jeu de données avec des pandas est airline_data est égal à pd.read_csv. Deux, copiez-les et collez-les dans le fichier script. Trois, comme indiqué ici. Il est maintenant temps de concevoir la mise en page de l'application. Premièrement, nous allons d'abord créer l'application Dash en appelant la fonction Dash, l'application est égale à la fonction dash.dash. Deux, pour ajouter une mise en page division à l'aide de HTML, vous pouvez utiliser le balise de fonction dcc.input dans la division de mise en page avec la fonction div et composants d'entrée. Trois, en utilisant le afficher sous forme de flux pour deux divisions extérieures à obtenir graphiques côte à côte dans une rangée. Quatre, cliquez avec le bouton droit ou copiez le codez à partir des instructions et collez-le dans le fichier de script situé sous le code précédent. Maintenant que nous avons le squelette, incluons les composants. Premièrement, le titre figurera dans la fonction HTML.h1 sous forme de chaîne et vous pourrez personnaliser le texte. Deux, à l'intérieur du première division HTML , que nous appelons la balise dcc.input, le composant d'entrée peut être personnalisé avec différents attributs. Par exemple, vous pouvez attribuer l'ID comme année de saisie, définissez la valeur comme 2010, spécifiez le type sous forme de nombre et personnalisez même les attributs de style tels que hauteur et taille de police. Premièrement, lors de l'utilisation ce paramètre de cadran, vous pouvez ajouter activement différents graphiques des divisions. Nous attribuons l'affichage en tant que flex pour placer deux tracés côte à côte dans une rangée. Utilisez la balise dcc.graph pour inclure le tracé et attribuez un identifiant à chaque parcelle. Pour l'année saisie par l'utilisateur, nous devons calculer les données des compagnies aériennes et créez des graphiques et des diagrammes. Un, appelons-le fonction compute_info. Transmettez l'ensemble de données et le année d'entrée en tant qu'arguments, la fonction doit renvoyer toutes les moyennes retards pour cette année. Deuxièmement, dans cette fonction, nous allons agréger les délai spécifique en regroupant l'ensemble de données pour le mois et les fonctionnalités des compagnies aériennes déclarantes. Vous pouvez calculer tous les retards sous forme de parcelles individuelles. Mais la meilleure pratique serait être pour créer une fonction. Comme nous avons besoin de notre tableau de bord à mettre à jour en temps réel en fonction de l'année valeur saisie par l'utilisateur, nous allons maintenant créer un fonction de rappel. Tout d'abord, nous allons créer un décorateur de rappel. Premièrement, mettez à jour le paramètre ID du composant de sortie avec Identifiants fournis dans le composant de la fonction dcc.graph pour les cinq composants, nous avons créé et défini le propriété du composant sous forme de figure, comme ceci. Deux, puis mettez à jour le paramètre ID du composant d'entrée avec l'ID et définissez la propriété comme valeur. Trois, puis créez un fonction de rappel qui utilise l'entrée fournie pour effectue le calcul. Quatrièmement, créez un graphique dans cette fonction et le renvoie en tant que sortie. Cinq, enfin, appelez le Exécutez la fonction .server sur l'application. Six, bon travail. Septièmement, pour exécuter cette application, utilisez la commande python3flight-delay.py dans le terminal. Premièrement, vous obtiendrez le numéro de port après vous lancez l'application. Deuxièmement, vous devez maintenant le lancer. Cliquez sur les compétences Boîte à outils réseau. Trois, puis cliquez sur Lancez l'application. Quatre, entrez le numéro de port, dans ce cas 8050, dans le boîte de port d'application. Cinq, puis cliquez votre candidature. Six, la sortie doit ressemble à ça. Dans cette vidéo, nous avons parcouru le laboratoire où vous avez développé un tableau de bord avec un framework Dash sur les statistiques des retards de vol."
   ]
  },
  {
   "cell_type": "markdown",
   "id": "84178c6f-850e-4392-9302-e0b8b0a845e8",
   "metadata": {},
   "source": [
    "# Dash Components\n",
    "cognitiveclass.ai logo\n",
    "Objectives\n",
    "After completing the lab you will be able to:\n",
    "\n",
    "- Know how to add multiple graphs to the dashboard\n",
    "- Work with Dash Callbacks to handle multiple outputs\n",
    "\n",
    "Estimated time needed: 30 minutes\n",
    "\n",
    "# Dataset Used\n",
    "\n",
    "Airline Reporting Carrier On-Time Performance dataset from Data Asset eXchange"
   ]
  },
  {
   "cell_type": "markdown",
   "id": "c5566447-b5f3-4e74-81a4-fc504dde277e",
   "metadata": {},
   "source": [
    "# Composants du tableau de bord\n",
    "cognitiveclass.ai logo\n",
    "Objectifs\n",
    "Après avoir terminé le laboratoire, vous serez en mesure de :\n",
    "\n",
    "- Savoir ajouter plusieurs graphiques au tableau de bord\n",
    "- Travaillez avec des rappels Dash pour gérer plusieurs sorties\n",
    "\n",
    "Temps estimé nécessaire : 30 minutes\n",
    "\n",
    "# Jeu de données utilisé\n",
    "\n",
    "Ensemble de données sur la ponctualité des transporteurs aériens à partir de Data Asset eXchange"
   ]
  },
  {
   "cell_type": "markdown",
   "id": "212be69d-d561-4016-b708-96ff9f0be246",
   "metadata": {},
   "source": [
    "# About Skills Network Cloud IDE\n",
    "\n",
    "This Skills Network Labs Cloud IDE (Integrated Development Environment) provides a hands-on environment in your web browser for completing course and project related labs. It utilizes Theia, an open-source IDE platform, that can be run on desktop or on the cloud.\n",
    "So far in the course you have been using Jupyter notebooks to run your python code. This IDE provides an alternative for editing and running your Python code. In this lab you will be using this alternative Python runtime to create and launch your Dash applications.\n",
    "\n",
    "# Important Notice about this lab environment\n",
    "\n",
    "Please be aware that sessions for this lab environment are not persisted. When you launch the Cloud IDE, you are presented with a ‘dedicated computer on the cloud’ exclusively for you. This is available to you as long as you are actively working on the labs.\n",
    "\n",
    "Once you close your session or it is timed out due to inactivity, you are logged off, and this ‘dedicated computer on the cloud’ is deleted along with any files you may have created, dowloaded or installed. The next time you launch this lab, a new environment is created for you.\n",
    "\n",
    "If you finish only part of the lab and return later, you may have to start from the beginning. So, it is a good idea to plan to your time accordingly and finish your labs in a single session."
   ]
  },
  {
   "cell_type": "markdown",
   "id": "c6a62af8-46b3-4abb-aee4-ec682422dffc",
   "metadata": {},
   "source": [
    "# À propos de l’IDE Skills Network Cloud\n",
    "\n",
    "Cet IDE Cloud (Integrated Development Environment) de Skills Network Labs fournit un environnement pratique dans votre navigateur Web pour effectuer des travaux pratiques liés aux cours et aux projets. Il utilise Theia, une plate-forme IDE open source, qui peut être exécutée sur un ordinateur de bureau ou sur le cloud.\n",
    "Jusqu’à présent dans le cours, vous avez utilisé des blocs-notes Jupyter pour exécuter votre code python.Cet IDE fournit une alternative pour modifier et exécuter votre code Python. Dans cet atelier, vous utiliserez ce runtime Python alternatif pour créer et lancer vos applications Dash.\n",
    "\n",
    "# Avis important concernant cet environnement de laboratoire\n",
    "\n",
    "Veuillez noter que les sessions de cet environnement de laboratoire ne sont pas conservées. Lorsque vous lancez l’IDE Cloud, un « ordinateur dédié sur le cloud » vous est exclusivement réservé.Vous pouvez le faire tant que vous travaillez activement sur les laboratoires.\n",
    "\n",
    "Une fois que vous fermez votre session ou qu’elle est expirée en raison d’une inactivité, vous êtes déconnecté et cet « ordinateur dédié sur le cloud » est supprimé avec tous les fichiers que vous avez créés, téléchargés ou installés. La prochaine fois que vous lancerez cet atelier, un nouvel environnement sera créé pour vous.\n",
    "\n",
    "Si vous ne terminez qu’une partie du laboratoire et que vous revenez plus tard, vous devrez peut-être recommencer depuis le début. C’est donc une bonne idée de planifier votre temps en conséquence et de terminer vos laboratoires en une seule session."
   ]
  },
  {
   "cell_type": "markdown",
   "id": "00bff546-e45f-4eac-8aed-def87cf1d283",
   "metadata": {},
   "source": [
    "# Let's start creating dash application\n",
    "#  Theme\n",
    "# Analyze flight delays in a dashboard.\n",
    "\n",
    "# Dashboard Components\n",
    "\n",
    "- Monthly average carrier delay by reporting airline for the given year.\n",
    "- Monthly average weather delay by reporting airline for the given year.\n",
    "- Monthly average national air system delay by reporting airline for the given year.\n",
    "- Monthly average security delay by reporting airline for the given year.\n",
    "- Monthly average late aircraft delay by reporting airline for the given year.\n",
    "\n",
    "NOTE: Year range should be between 2010 and 2020\n",
    "\n",
    "\n",
    "# Expected Output\n",
    "\n",
    "Below is the expected result from the lab. Our dashboard application consists of three components:\n",
    "\n",
    "- Title of the application\n",
    "- Component to enter input year\n",
    "- 5 Charts conveying the different types of flight delay. Chart section is divided into three segments.\n",
    "- Carrier and Weather delay in the first segment\n",
    "- National air system and Security delay in the second segment\n",
    "- Late aircraft delay in the third segment\n",
    "\n",
    "\n",
    "# To do:\n",
    "\n",
    "- Design layout for the application.\n",
    "- Create a callback function. Add callback decorator, define inputs and outputs.\n",
    "- Review the helper function that performs computation on the provided inputs.\n",
    "- Create 5 line graphs.\n",
    "- Run the application."
   ]
  },
  {
   "cell_type": "markdown",
   "id": "d4d8e0ca-8013-400e-8948-4cd3a938c6b1",
   "metadata": {},
   "source": [
    "# Commençons à créer une application de tableau de bord\n",
    "# Thème\n",
    "# Analysez les retards de vol dans un tableau de bord.\n",
    "\n",
    "# Composants du tableau de bord\n",
    "\n",
    "- Retard mensuel moyen du transporteur par compagnie aérienne déclarante pour l’année donnée.\n",
    "- Retard mensuel moyen dû aux conditions météorologiques par compagnie aérienne déclarante pour l’année donnée.\n",
    "- Retard mensuel moyen du système aérien national par compagnie aérienne déclarante pour l’année donnée.\n",
    "- Retard de sécurité mensuel moyen par compagnie aérienne déclarante pour l’année donnée.\n",
    "- Retard mensuel moyen d’un avion par compagnie aérienne déclarante pour l’année donnée.\n",
    "\n",
    "\n",
    "REMARQUE : La fourchette d’années doit se situer entre 2010 et 2020\n",
    "\n",
    "# Résultats attendus\n",
    "\n",
    "Vous trouverez ci-dessous le résultat attendu du laboratoire.Notre application de tableau de bord se compose de trois composants :\n",
    "\n",
    "- Titre de la demande\n",
    "- Composant pour entrer l’année d’entrée\n",
    "- 5 Graphiques présentant les différents types de retard de vol. La section graphique est divisée en trois segments.\n",
    "- Retard du transporteur et de la météo dans le premier segment\n",
    "- Retard du système aérien national et de la sécurité dans le deuxième segment\n",
    "- Retard de l’avion dans le troisième segment\n",
    "\n",
    "\n",
    "# À faire :\n",
    "\n",
    "- Conception de la mise en page de l’application.\n",
    "- Créez une fonction de rappel. Ajoutez un décorateur de rappel, définissez les entrées et les sorties.\n",
    "- Passez en revue la fonction d’assistance qui effectue le calcul sur les entrées fournies.\n",
    "- Créez 5 graphiques linéaires.\n",
    "- Exécutez l’application."
   ]
  },
  {
   "cell_type": "markdown",
   "id": "a10b6928-c2ed-4d88-9411-037e26c27649",
   "metadata": {},
   "source": [
    "# Get the tool ready\n",
    "\n",
    "Install python packages required to run the application. Copy and paste the below command to the terminal.\n",
    "\n",
    "# Préparez l’outil\n",
    "\n",
    "Installez les packages python nécessaires à l’exécution de l’application. Copiez et collez la commande ci-dessous dans le terminal."
   ]
  },
  {
   "cell_type": "code",
   "execution_count": null,
   "id": "02a49e55-ad09-4492-9ca6-182d129ccda1",
   "metadata": {},
   "outputs": [],
   "source": [
    "python3.8 -m pip install packaging"
   ]
  },
  {
   "cell_type": "code",
   "execution_count": null,
   "id": "4a0f329e-a81a-4075-83f3-a3f8b3d9e6d4",
   "metadata": {},
   "outputs": [],
   "source": [
    "python3.8 -m pip install pandas dash"
   ]
  },
  {
   "cell_type": "code",
   "execution_count": null,
   "id": "eb894fd7-680b-4b95-aba0-a565e422753f",
   "metadata": {},
   "outputs": [],
   "source": [
    "pip3 install httpx==0.20 dash plotly"
   ]
  },
  {
   "cell_type": "markdown",
   "id": "905266be-7dfd-4fa3-90dd-cb903c5696fe",
   "metadata": {},
   "source": [
    "- Create a new python script, by clicking on the side tool bar explorer icon and selecting new file icon, as shown in the image below.\n",
    "\n",
    "\n",
    "- Créez un nouveau script python, en cliquant sur l’icône de l’explorateur de la barre d’outils latérale et en sélectionnant l’icône d’un nouveau fichier, comme indiqué dans l’image ci-dessous."
   ]
  },
  {
   "cell_type": "markdown",
   "id": "2a043686-2269-45ce-a2d0-64e8d261e9ca",
   "metadata": {},
   "source": [
    "- Provide the file name as flight_delay.py\n",
    "\n",
    "- Indiquez le nom du fichier comme flight_delay.py"
   ]
  },
  {
   "cell_type": "markdown",
   "id": "0f920a81-ad1a-4217-98be-92c77b0eb87f",
   "metadata": {},
   "source": [
    "- Ouvrez un nouveau terminal, en cliquant sur la barre de menu et en sélectionnant Terminal->Nouveau terminal, comme dans l’image ci-dessous."
   ]
  },
  {
   "cell_type": "markdown",
   "id": "099b5bb0-d7a0-4bb7-a7f2-9ad5b263a140",
   "metadata": {},
   "source": [
    "- Now, you have script and terminal ready to start the lab."
   ]
  },
  {
   "cell_type": "markdown",
   "id": "d236500f-2ee5-4d9e-911f-6e9a8a777da0",
   "metadata": {},
   "source": [
    "# TASK 1 - Read the data"
   ]
  },
  {
   "cell_type": "markdown",
   "id": "a6d2b79c-c153-4453-92d7-b95864cae2c3",
   "metadata": {},
   "source": [
    "# TASK 1 - Read the data\n",
    "\n",
    "Let’s start with\n",
    "\n",
    "- Importing necessary libraries\n",
    "- Reading the data\n",
    "\n",
    "Copy the below code to the flight_delay.py script and review the code."
   ]
  },
  {
   "cell_type": "code",
   "execution_count": null,
   "id": "851907ee-5193-4f3d-a64f-38937608f0a1",
   "metadata": {},
   "outputs": [],
   "source": [
    "# TÂCHE 1 - Lire les données\n",
    "\n",
    "Commençons par\n",
    "\n",
    "- Importation des bibliothèques nécessaires\n",
    "- Lecture des données\n",
    "\n",
    "Copiez le code ci-dessous dans le script flight_delay.py et examinez le code."
   ]
  },
  {
   "cell_type": "code",
   "execution_count": null,
   "id": "a7cad723-5b6a-483a-9f94-81e327eb4157",
   "metadata": {},
   "outputs": [],
   "source": [
    "# Import required libraries\n",
    "import pandas as pd\n",
    "import plotly.graph_objects as go\n",
    "import dash\n",
    "from dash import dcc\n",
    "from dash import html\n",
    "from dash.dependencies import Input, Output\n",
    "import plotly.express as px\n",
    "\n",
    "# Read the airline data into pandas dataframe\n",
    "airline_data =  pd.read_csv('https://cf-courses-data.s3.us.cloud-object-storage.appdomain.cloud/IBMDeveloperSkillsNetwork-DV0101EN-SkillsNetwork/Data%20Files/airline_data.csv', \n",
    "                            encoding = \"ISO-8859-1\",\n",
    "                            dtype={'Div1Airport': str, 'Div1TailNum': str, \n",
    "                                   'Div2Airport': str, 'Div2TailNum': str})"
   ]
  },
  {
   "cell_type": "markdown",
   "id": "cf9b409d-1c0c-4786-8ad5-5394c085e916",
   "metadata": {},
   "source": [
    "# TASK 2 - Create dash application and get the layout skeleton\n",
    "Next, we create a skeleton for our dash application. Our dashboard application layout has three components as seen before:\n",
    "\n",
    "- Title of the application\n",
    "- Component to enter input year inside a layout division\n",
    "- 5 Charts conveying the different types of flight delay\n",
    "\n",
    "# Mapping to the respective Dash HTML tags:\n",
    "\n",
    "\n",
    "\n",
    "- Title added using html.H1() tag\n",
    "- Layout division added using html.Div() and input component added using dcc.Input() tag inside the layout division.\n",
    "- 5 charts split into three segments. Each segment has a layout division added using html.Div() and chart added using dcc.Graph() tag inside the layout division.\n",
    "- Copy the below code to the flight_delay.py script and review the structure.\n",
    "\n",
    "\n",
    "NOTE: Copy below the current code"
   ]
  },
  {
   "cell_type": "markdown",
   "id": "68625b48-5b2f-44fd-838b-930b03a28455",
   "metadata": {},
   "source": [
    "# TÂCHE 2 - Créer une application de tableau de bord et obtenir le squelette de mise en page\n",
    "Ensuite, nous créons un squelette pour notre application de tableau de bord. La disposition de notre application de tableau de bord comporte trois composants, comme vu précédemment :\n",
    "\n",
    "- Titre de la demande\n",
    "- Composant pour saisir l’année d’entrée dans une division de mise en page\n",
    "- 5 Graphiques présentant les différents types de retard de vol\n",
    "\n",
    "# Mappage aux balises HTML Dash respectives :\n",
    "\n",
    "\n",
    "\n",
    "\n",
    "\n",
    "- Titre ajouté en html. Balise H1()\n",
    "\n",
    "- Division de la mise en page ajoutée en html. Div() et le composant d’entrée ajoutés à l’aide de la balise dcc.Input() à l’intérieur de la division de mise en page.\n",
    "\n",
    "- 5 graphiques divisés en trois segments. Chaque segment a une division de mise en page ajoutée à l’aide de html. Div() et graphique ajoutés à l’aide de la balise dcc.Graph() à l’intérieur de la division de mise en page.\n",
    "\n",
    "- Copiez le code ci-dessous dans le script flight_delay.py et examinez la structure."
   ]
  },
  {
   "cell_type": "code",
   "execution_count": null,
   "id": "3d7a4fa9-8bca-47eb-9766-f4b50a749c8a",
   "metadata": {},
   "outputs": [],
   "source": [
    "# Create a dash application\n",
    "app = dash.Dash(__name__)\n",
    "\n",
    "# Build dash app layout\n",
    "app.layout = html.Div(children=[ html.H1(),\n",
    "                                html.Div([\"Input Year: \", dcc.Input()],\n",
    "                                style={'font-size': 30}),\n",
    "                                html.Br(),\n",
    "                                html.Br(), \n",
    "                                html.Div([\n",
    "                                        html.Div(),\n",
    "                                        html.Div()\n",
    "                                ], style={'display': 'flex'}),\n",
    "    \n",
    "                                html.Div([\n",
    "                                        html.Div(),\n",
    "                                        html.Div()\n",
    "                                ], style={'display': 'flex'}),\n",
    "                                \n",
    "                                html.Div(, style={'width':'65%'})\n",
    "                                ])"
   ]
  },
  {
   "cell_type": "markdown",
   "id": "e8b23212-4ee4-407b-9d44-a9bf85221f78",
   "metadata": {},
   "source": [
    "NOTE: We are using display as flex for two outer divisions to get graphs side by side in a row.\n",
    "\n",
    "REMARQUE : Nous utilisons l’affichage comme flex pour deux divisions extérieures afin d’obtenir des graphiques côte à côte dans une rangée."
   ]
  },
  {
   "cell_type": "markdown",
   "id": "26545826-5287-4cf9-879e-8bf86df9086b",
   "metadata": {},
   "source": [
    "# TASK 3 - Update layout components\n",
    "\n",
    "\n",
    "# Application title\n",
    "\n",
    "- Title as Flight Delay Time Statistics, align text as center, color as #503D36, and font size as 30.\n",
    "\n",
    "# Input component\n",
    "\n",
    "\n",
    "- Update dcc.Input component id as input-year, default value as 2010, and type as number. Use style parameter and assign height of the input box to be 35px and font-size to be 30.\n",
    "\n",
    "\n",
    "# Output component - Segment 1\n",
    "\n",
    "Segment 1 is the first html.Div(). We have two inner division where first two graphs will be placed.\n",
    "\n",
    "# Skeleton"
   ]
  },
  {
   "cell_type": "markdown",
   "id": "82f76a90-812b-4b23-a295-82dff60d8b5b",
   "metadata": {},
   "source": [
    "# TÂCHE 3 - Mettre à jour les composants de mise en page\n",
    "\n",
    "# Titre de la demande\n",
    "\n",
    "- Titre en tant que statistiques de retard de vol, alignez le texte au centre, la couleur en #503D36 et la taille de la police en 30.\n",
    "\n",
    "# Composant d’entrée\n",
    "\n",
    "- Mettez à jour l’identifiant du composant dcc.Input en tant qu’année d’entrée, la valeur par défaut 2010 et le type en tant que nombre. Utilisez le paramètre style et attribuez la hauteur de la zone de saisie à 35px et la taille de police à 30.\n",
    "\n",
    "\n",
    "# Composante de sortie - Segment 1\n",
    "\n",
    "Le segment 1 est le premier html. Div(). Nous avons deux divisions internes où les deux premiers graphiques seront placés.\n",
    "\n",
    "# Squelette\n"
   ]
  },
  {
   "cell_type": "code",
   "execution_count": null,
   "id": "33fffa5d-71d9-43d1-a4a6-8e5fe384dd52",
   "metadata": {},
   "outputs": [],
   "source": [
    "html.Div([\n",
    "          html.Div(),\n",
    "          html.Div()\n",
    "         ], style={'display': 'flex'}),"
   ]
  },
  {
   "cell_type": "code",
   "execution_count": null,
   "id": "dfe53a75-b616-42a3-9569-5694e006eae9",
   "metadata": {},
   "outputs": [],
   "source": [
    "# First inner division\n",
    "\n",
    "- Add dcc.Graph() component.\n",
    "- Update dcc.Graph component id as carrier-plot.\n",
    "\n",
    "### Second inner division\n",
    "\n",
    "- Add dcc.Graph() component.\n",
    "- Update dcc.Graph component id as weather-plot.\n",
    "\n"
   ]
  },
  {
   "cell_type": "code",
   "execution_count": null,
   "id": "c7e37e82-4034-4810-9189-1e05a4b47973",
   "metadata": {},
   "outputs": [],
   "source": [
    "# Première division intérieure\n",
    "\n",
    "- Ajout du composant dcc.Graph().\n",
    "- Mise à jour de l’identifiant du composant dcc.Graph en tant que carrier-plot.\n",
    "\n",
    "### Deuxième division intérieure\n",
    "\n",
    "- Ajout du composant dcc.Graph().\n",
    "- Mise à jour de l’identifiant du composant dcc.Graph en tant que graphique météo.\n",
    "\n"
   ]
  },
  {
   "cell_type": "markdown",
   "id": "c1179337-ba26-4594-9a34-cd27367006ae",
   "metadata": {},
   "source": [
    "# Composante de sortie - Segment 2"
   ]
  },
  {
   "cell_type": "code",
   "execution_count": null,
   "id": "7d649ca4-7e72-4961-877c-a6afb7d07f8a",
   "metadata": {},
   "outputs": [],
   "source": [
    "\n",
    "\n",
    "Le segment 2 est le deuxième html. Div().\n",
    "Nous avons deux divisions internes où les deux graphiques suivants seront placés.\n",
    "\n",
    "# Skeleon"
   ]
  },
  {
   "cell_type": "code",
   "execution_count": null,
   "id": "7a5aee12-a855-4ba1-9aef-a40b846144bc",
   "metadata": {},
   "outputs": [],
   "source": [
    "# First inner division\n",
    "\n",
    "- Add dcc.Graph() component.\n",
    "- Update dcc.Graph component id as nas-plot.\n",
    "\n",
    "# Second inner division\n",
    "\n",
    "- Add dcc.Graph() component.\n",
    "- Update dcc.Graph component id as security-plot."
   ]
  },
  {
   "cell_type": "code",
   "execution_count": null,
   "id": "a864d07b-51d1-40b5-839b-9b3cc0be3dd8",
   "metadata": {},
   "outputs": [],
   "source": [
    "# Première division intérieure\n",
    "\n",
    "- Ajout du composant dcc.Graph().\n",
    "- Mettez à jour l’identifiant du composant dcc.Graph en tant que nas-plot.\n",
    "\n",
    "# Deuxième division intérieure\n",
    "\n",
    "- Ajout du composant dcc.Graph().\n",
    "- Mettez à jour l’identifiant du composant dcc.Graph en tant que security-plot."
   ]
  },
  {
   "cell_type": "code",
   "execution_count": null,
   "id": "ff7e6d6f-4605-4685-bbfc-231b309cf4d7",
   "metadata": {},
   "outputs": [],
   "source": [
    "html.Div([\n",
    "          html.Div(),\n",
    "          html.Div()\n",
    "         ], style={'display': 'flex'}),"
   ]
  },
  {
   "cell_type": "code",
   "execution_count": null,
   "id": "20d07b81-b3e2-4f41-bd85-b88ae5750abc",
   "metadata": {},
   "outputs": [],
   "source": [
    "# Output component - Segment 3\n",
    "\n",
    "Segment 3 is the last html.Div().\n",
    "\n",
    "Skeleon"
   ]
  },
  {
   "cell_type": "code",
   "execution_count": null,
   "id": "2ef95da8-af2f-4394-bbd5-9815af669da0",
   "metadata": {},
   "outputs": [],
   "source": [
    "# Composante de sortie - Segment 3\n",
    "\n",
    "Le segment 3 est le dernier html. Div().\n",
    "\n",
    "Skeleon"
   ]
  },
  {
   "cell_type": "code",
   "execution_count": null,
   "id": "a2e77cba-0713-44d8-9da8-f6ccd22fb343",
   "metadata": {},
   "outputs": [],
   "source": [
    "html.Div(, style={'width':'65%'})"
   ]
  },
  {
   "cell_type": "code",
   "execution_count": null,
   "id": "e5d3b535-217d-41bb-a876-cd4aced0c464",
   "metadata": {},
   "outputs": [],
   "source": [
    "Add dcc.Graph() component to the first inner division.\n",
    "Update dcc.Graph component id as late-plot."
   ]
  },
  {
   "cell_type": "markdown",
   "id": "47a2047b-d7fe-4873-a82a-19555245ddf1",
   "metadata": {},
   "source": [
    "- Ajout du composant dcc.Graph() à la première division interne.\n",
    "\n",
    "- Mise à jour de l’identifiant du composant dcc.Graph en tant que late-plot."
   ]
  },
  {
   "cell_type": "markdown",
   "id": "d3921c55-080d-4a6b-96ee-0d9992649dc3",
   "metadata": {},
   "source": [
    "# TASK 4 - Review and add supporting function\n",
    "\n",
    "Below is the function that gets input year and data, perform computation for creating charts and plots.\n",
    "\n",
    "Copy the below code to the flight_delay.py script and review the structure.\n",
    "\n",
    "NOTE: Copy below the current code"
   ]
  },
  {
   "cell_type": "markdown",
   "id": "59186be9-f222-4bd1-af9a-7dc6e2a86558",
   "metadata": {},
   "source": [
    "# TÂCHE 4 - Révision et ajout d’une fonction de soutien\n",
    "\n",
    "Vous trouverez ci-dessous la fonction qui obtient l’année et les données d’entrée, effectue le calcul pour créer des graphiques et des graphiques.\n",
    "\n",
    "Copiez le code ci-dessous dans le script flight_delay.py et examinez la structure.\n",
    "\n",
    "REMARQUE : Copiez sous le code actuel"
   ]
  },
  {
   "cell_type": "code",
   "execution_count": null,
   "id": "93e14ddd-fd08-46e7-a394-652e146bb377",
   "metadata": {},
   "outputs": [],
   "source": [
    "\"\"\" Compute_info function description\n",
    "\n",
    "This function takes in airline data and selected year as an input and performs computation for creating charts and plots.\n",
    "\n",
    "Arguments:\n",
    "    airline_data: Input airline data.\n",
    "    entered_year: Input year for which computation needs to be performed.\n",
    "    \n",
    "Returns:\n",
    "    Computed average dataframes for carrier delay, weather delay, NAS delay, security delay, and late aircraft delay.\n",
    "\n",
    "\"\"\"\n",
    "def compute_info(airline_data, entered_year):\n",
    "    # Select data\n",
    "    df =  airline_data[airline_data['Year']==int(entered_year)]\n",
    "    # Compute delay averages\n",
    "    avg_car = df.groupby(['Month','Reporting_Airline'])['CarrierDelay'].mean().reset_index()\n",
    "    avg_weather = df.groupby(['Month','Reporting_Airline'])['WeatherDelay'].mean().reset_index()\n",
    "    avg_NAS = df.groupby(['Month','Reporting_Airline'])['NASDelay'].mean().reset_index()\n",
    "    avg_sec = df.groupby(['Month','Reporting_Airline'])['SecurityDelay'].mean().reset_index()\n",
    "    avg_late = df.groupby(['Month','Reporting_Airline'])['LateAircraftDelay'].mean().reset_index()\n",
    "    return avg_car, avg_weather, avg_NAS, avg_sec, avg_late"
   ]
  },
  {
   "cell_type": "code",
   "execution_count": null,
   "id": "e6e78809-c876-4e6e-af38-dddf4b2411b2",
   "metadata": {},
   "outputs": [],
   "source": [
    "\"\"\"   Compute_info description de la fonction\n",
    "\n",
    "Cette fonction prend en entrée les données de la compagnie aérienne et l’année sélectionnée et effectue des calculs pour créer des graphiques et des graphiques.\n",
    "\n",
    "Arguments:\n",
    "    airline_data : Saisissez les données des compagnies aériennes.\n",
    "    entered_year : Année d’entrée pour laquelle le calcul doit être effectué.\n",
    "    \n",
    "Retourne:\n",
    "    Calcul des trames de données moyennes pour le retard du porteur, le retard météorologique, le retard du NAS, le retard de sécurité et le retard de l’avion.\n",
    "\n",
    "\"\"\""
   ]
  },
  {
   "cell_type": "markdown",
   "id": "c83d7c6d-a2ab-4d87-95c1-b555bd0ce47d",
   "metadata": {},
   "source": [
    "# TASK 5 - Add the application callback function\n",
    "\n",
    "The core idea of this application is to get year as user input and update the dashboard in real-time. We will be using callback function for the same.\n",
    "\n",
    "# Steps:\n",
    "\n",
    "- Define the callback decorator\n",
    "- Define the callback function that uses the input provided to perform the computation\n",
    "- Create graph and return it as an output\n",
    "- Run the application\n",
    "\n",
    "Copy the below code to the flight_delay.py script and review the structure.\n",
    "\n",
    "NOTE: Copy below the current code"
   ]
  },
  {
   "cell_type": "code",
   "execution_count": null,
   "id": "946d3241-8eeb-486f-9362-80889d7502a2",
   "metadata": {},
   "outputs": [],
   "source": [
    "# TÂCHE 5 - Ajout de la fonction de rappel de l’application\n",
    "\n",
    "L’idée centrale de cette application est d’obtenir l’année en tant qu’entrée utilisateur et de mettre à jour le tableau de bord en temps réel. Nous utiliserons la fonction de rappel pour la même chose.\n",
    "\n",
    "# Étapes :\n",
    "\n",
    "- Définir le décorateur de rappel\n",
    "- Définir la fonction de rappel qui utilise l’entrée fournie pour effectuer le calcul\n",
    "- Créer un graphique et le renvoyer en sortie\n",
    "- Exécuter l’application\n",
    "\n",
    "Copiez le code ci-dessous dans le script flight_delay.py et examinez la structure.\n",
    "\n",
    "REMARQUE : Copiez sous le code actuel"
   ]
  },
  {
   "cell_type": "code",
   "execution_count": null,
   "id": "9cbad15e-1fdd-411c-8254-5d71196352c6",
   "metadata": {},
   "outputs": [],
   "source": [
    "# Callback decorator\n",
    "@app.callback( [\n",
    "               Output(component_id='carrier-plot', component_property='figure'),\n",
    "               ---\n",
    "               --- \n",
    "               ---\n",
    "               ---\n",
    "               ],\n",
    "               Input(....))\n",
    "# Computation to callback function and return graph\n",
    "# Calcul de la fonction de rappel et de la graphique de retour\n",
    "def get_graph(entered_year):\n",
    "    \n",
    "    # Compute required information for creating graph from the data\n",
    "    # Calculer les informations requises pour créer un graphique à partir des données\n",
    "    avg_car, avg_weather, avg_NAS, avg_sec, avg_late = compute_info(airline_data, entered_year)\n",
    "            \n",
    "    # Line plot for carrier delay\n",
    "    carrier_fig = px.line(avg_car, x='Month', y='CarrierDelay', color='Reporting_Airline', title='Average carrier delay time (minutes) by airline')\n",
    "    # Line plot for weather delay\n",
    "    weather_fig = ------\n",
    "    # Line plot for nas delay\n",
    "    nas_fig = ------\n",
    "    # Line plot for security delay\n",
    "    sec_fig = ------\n",
    "    # Line plot for late aircraft delay\n",
    "    late_fig = ------\n",
    "            \n",
    "    return[carrier_fig, weather_fig, nas_fig, sec_fig, late_fig]\n",
    "\n",
    "# Run the app\n",
    "if __name__ == '__main__':\n",
    "    app.run_server()"
   ]
  },
  {
   "cell_type": "markdown",
   "id": "c6c722b2-41ba-4aba-bfe9-6d9ed79b7c2e",
   "metadata": {},
   "source": [
    "#  TASK 6 - Update the callback function"
   ]
  },
  {
   "cell_type": "markdown",
   "id": "043a77d8-9ac9-4245-9b9f-964d16e5febf",
   "metadata": {},
   "source": [
    "#  TASK 6 - Update the callback function\n",
    "\n",
    "#   Callback decorator\n",
    "\n",
    "\n",
    "- Refer examples provided here\n",
    "- We have 5 output components added in a list. Update output component id parameter with the ids provided in the dcc.Graph() component and set the component property as figure. One sample has been added to the skeleton.\n",
    "\n",
    "- Update input component id parameter with the id provided in the dcc.Input() component and component property as value.\n",
    "\n",
    "#  Callback function\n",
    "\n",
    "Next is to update the get_graph function. We have already added a function compute_info that will perform computation on the data using the input.\n",
    "\n",
    "Mapping the returned value from the function compute_info to graph:\n",
    "\n",
    "- avg_car - input for carrier delay\n",
    "- avg_weather - input for weather delay\n",
    "- avg_NAS - input for NAS delay\n",
    "- avg_sec - input for security delay\n",
    "- avg_late - input for late aircraft delay\n",
    "- Code has been provided for plotting carrier delay. Follow the same process and use the above mapping to get plots for other 4 delays.\n",
    "\n",
    "Refer to the full code of 4.8_Flight_Delay_Time_Statistics_Dashboard.py"
   ]
  },
  {
   "cell_type": "markdown",
   "id": "8346a727-95e6-40f6-8c81-ca848018cdd6",
   "metadata": {},
   "source": [
    "# TÂCHE 6 - Mettre à jour la fonction de rappel\n",
    "\n",
    "# Décorateur de rappel\n",
    "\n",
    "- Reportez-vous aux exemples fournis ici\n",
    "- Nous avons 5 composants de sortie ajoutés dans une liste. Mettez à jour le paramètre d’identification du composant de sortie avec les identifiants fournis dans le composant dcc.Graph() et définissez la propriété du composant comme figure. Un échantillon a été ajouté au squelette."
   ]
  },
  {
   "cell_type": "code",
   "execution_count": null,
   "id": "a61a1c9a-0de5-4575-8fe3-1dc7a095ad29",
   "metadata": {},
   "outputs": [],
   "source": [
    "squelette."
   ]
  },
  {
   "cell_type": "code",
   "execution_count": null,
   "id": "07d7bacf-deb8-46c4-bb55-70f7b7a0226a",
   "metadata": {},
   "outputs": [],
   "source": [
    "# Callback decorator\n",
    "@app.callback( [\n",
    "               Output(component_id='carrier-plot', component_property='figure'),\n",
    "               Output(component_id='weather-plot', component_property='figure'),\n",
    "               Output(component_id='nas-plot', component_property='figure'),\n",
    "               Output(component_id='security-plot', component_property='figure'),\n",
    "               Output(component_id='late-plot', component_property='figure')\n",
    "               ],\n",
    "               Input(component_id='input-year', component_property='value'))"
   ]
  },
  {
   "cell_type": "markdown",
   "id": "5de69e25-8f7f-4270-8a7e-9213559cca0f",
   "metadata": {},
   "source": [
    "- Mettre à jour le paramètre id du composant d’entrée avec l’id fourni dans le composant dcc.Input() et la propriété component comme valeur.\n",
    "\n",
    "# Fonction de rappel\n",
    "\n",
    "Ensuite, il faut mettre à jour la fonction get_graph. Nous avons déjà ajouté une fonction compute_info qui effectuera un calcul sur les données à l’aide de l’entrée.\n",
    "\n",
    "Mappage de la valeur renvoyée de la fonction compute_info au graphique :\n",
    "\n",
    "- avg_car - entrée pour le retard de la porteuse\n",
    "- avg_weather - entrée pour le retard météorologique\n",
    "- avg_NAS - entrée pour le délai NAS\n",
    "- avg_sec - entrée pour le délai de sécurité\n",
    "- avg_late - entrée pour retard d’avion\n",
    "- Un code a été fourni pour tracer le délai du porteur. Suivez le même processus et utilisez le mappage ci-dessus pour obtenir des graphiques pour les 4 autres retards.\n",
    "\n",
    "Reportez-vous au code complet de 4.8_Flight_Delay_Time_Statistics_Dashboard.py\n"
   ]
  },
  {
   "cell_type": "code",
   "execution_count": null,
   "id": "13862674-2d2a-420c-b6c4-99068988f984",
   "metadata": {},
   "outputs": [],
   "source": [
    "# Computation to callback function and return graph\n",
    "def get_graph(entered_year):\n",
    "    \n",
    "    # Compute required information for creating graph from the data\n",
    "    avg_car, avg_weather, avg_NAS, avg_sec, avg_late = compute_info(airline_data, entered_year)\n",
    "            \n",
    "    # Line plot for carrier delay\n",
    "    carrier_fig = px.line(avg_car, x='Month', y='CarrierDelay', color='Reporting_Airline', title='Average carrrier delay time (minutes) by airline')\n",
    "    # Line plot for weather delay\n",
    "    weather_fig = px.line(avg_weather, x='Month', y='WeatherDelay', color='Reporting_Airline', title='Average weather delay time (minutes) by airline')\n",
    "    # Line plot for nas delay\n",
    "    nas_fig = px.line(avg_NAS, x='Month', y='NASDelay', color='Reporting_Airline', title='Average NAS delay time (minutes) by airline')\n",
    "    # Line plot for security delay\n",
    "    sec_fig = px.line(avg_sec, x='Month', y='SecurityDelay', color='Reporting_Airline', title='Average security delay time (minutes) by airline')\n",
    "    # Line plot for late aircraft delay\n",
    "    late_fig = px.line(avg_late, x='Month', y='LateAircraftDelay', color='Reporting_Airline', title='Average late aircraft delay time (minutes) by airline')\n",
    "            \n",
    "    return[carrier_fig, weather_fig, nas_fig, sec_fig, late_fig]\n"
   ]
  },
  {
   "cell_type": "markdown",
   "id": "fa87efa1-11a9-4e4f-bfa5-5893d4851b39",
   "metadata": {},
   "source": [
    "# VOICI LE RESUME DE TOUTES LES ETAPES POUR REALISER CE TABLEAU SUR LES RETARDS DE VOLS"
   ]
  },
  {
   "cell_type": "code",
   "execution_count": null,
   "id": "b0126707-cf10-4c15-8caf-da8d67dc08c7",
   "metadata": {},
   "outputs": [],
   "source": [
    "# Import required libraries\n",
    "import pandas as pd\n",
    "import dash\n",
    "from dash import dcc\n",
    "from dash import html\n",
    "from dash.dependencies import Input, Output\n",
    "import plotly.express as px\n",
    "\n",
    "# Read the airline data into pandas dataframe\n",
    "airline_data =  pd.read_csv('https://cf-courses-data.s3.us.cloud-object-storage.appdomain.cloud/IBMDeveloperSkillsNetwork-DV0101EN-SkillsNetwork/Data%20Files/airline_data.csv', \n",
    "                            encoding = \"ISO-8859-1\",\n",
    "                            dtype={'Div1Airport': str, 'Div1TailNum': str, \n",
    "                                   'Div2Airport': str, 'Div2TailNum': str})\n",
    "\n",
    "# Create a dash application\n",
    "app = dash.Dash(__name__)\n",
    "\n",
    "# Build dash app layout\n",
    "app.layout = html.Div(children=[ html.H1('Flight Delay Time Statistics', \n",
    "                                style={'textAlign': 'center', 'color': '#503D36',\n",
    "                                'font-size': 30}),\n",
    "                                html.Div([\"Input Year: \", dcc.Input(id='input-year', value='2010', \n",
    "                                type='number', style={'height':'35px', 'font-size': 30}),], \n",
    "                                style={'font-size': 30}),\n",
    "                                html.Br(),\n",
    "                                html.Br(), \n",
    "                                # Segment 1\n",
    "                                html.Div([\n",
    "                                        html.Div(dcc.Graph(id='carrier-plot')),\n",
    "                                        html.Div(dcc.Graph(id='weather-plot'))\n",
    "                                ], style={'display': 'flex'}),\n",
    "                                # Segment 2\n",
    "                                html.Div([\n",
    "                                        html.Div(dcc.Graph(id='nas-plot')),\n",
    "                                        html.Div(dcc.Graph(id='security-plot'))\n",
    "                                ], style={'display': 'flex'}),\n",
    "                                # Segment 3\n",
    "                                html.Div(dcc.Graph(id='late-plot'), style={'width':'65%'})\n",
    "                                ])\n",
    "\n",
    "\"\"\" Compute_info function description\n",
    "\n",
    "This function takes in airline data and selected year as an input and performs computation for creating charts and plots.\n",
    "\n",
    "Arguments:\n",
    "    airline_data: Input airline data.\n",
    "    entered_year: Input year for which computation needs to be performed.\n",
    "    \n",
    "Returns:\n",
    "    Computed average dataframes for carrier delay, weather delay, NAS delay, security delay, and late aircraft delay.\n",
    "\n",
    "\"\"\"\n",
    "def compute_info(airline_data, entered_year):\n",
    "    # Select data\n",
    "    df =  airline_data[airline_data['Year']==int(entered_year)]\n",
    "    # Compute delay averages\n",
    "    avg_car = df.groupby(['Month','Reporting_Airline'])['CarrierDelay'].mean().reset_index()\n",
    "    avg_weather = df.groupby(['Month','Reporting_Airline'])['WeatherDelay'].mean().reset_index()\n",
    "    avg_NAS = df.groupby(['Month','Reporting_Airline'])['NASDelay'].mean().reset_index()\n",
    "    avg_sec = df.groupby(['Month','Reporting_Airline'])['SecurityDelay'].mean().reset_index()\n",
    "    avg_late = df.groupby(['Month','Reporting_Airline'])['LateAircraftDelay'].mean().reset_index()\n",
    "    return avg_car, avg_weather, avg_NAS, avg_sec, avg_late\n",
    "\n",
    "\"\"\"Callback Function\n",
    "\n",
    "Function that returns fugures using the provided input year.\n",
    "\n",
    "Arguments:\n",
    "\n",
    "    entered_year: Input year provided by the user.\n",
    "    \n",
    "Returns:\n",
    "\n",
    "    List of figures computed using the provided helper function `compute_info`.\n",
    "\"\"\"\n",
    "# Callback decorator\n",
    "@app.callback( [\n",
    "               Output(component_id='carrier-plot', component_property='figure'),\n",
    "               Output(component_id='weather-plot', component_property='figure'),\n",
    "               Output(component_id='nas-plot', component_property='figure'),\n",
    "               Output(component_id='security-plot', component_property='figure'),\n",
    "               Output(component_id='late-plot', component_property='figure')\n",
    "               ],\n",
    "               Input(component_id='input-year', component_property='value'))\n",
    "# Computation to callback function and return graph\n",
    "def get_graph(entered_year):\n",
    "    \n",
    "    # Compute required information for creating graph from the data\n",
    "    avg_car, avg_weather, avg_NAS, avg_sec, avg_late = compute_info(airline_data, entered_year)\n",
    "            \n",
    "    # Line plot for carrier delay\n",
    "    carrier_fig = px.line(avg_car, x='Month', y='CarrierDelay', color='Reporting_Airline', title='Average carrrier delay time (minutes) by airline')\n",
    "    # Line plot for weather delay\n",
    "    weather_fig = px.line(avg_weather, x='Month', y='WeatherDelay', color='Reporting_Airline', title='Average weather delay time (minutes) by airline')\n",
    "    # Line plot for nas delay\n",
    "    nas_fig = px.line(avg_NAS, x='Month', y='NASDelay', color='Reporting_Airline', title='Average NAS delay time (minutes) by airline')\n",
    "    # Line plot for security delay\n",
    "    sec_fig = px.line(avg_sec, x='Month', y='SecurityDelay', color='Reporting_Airline', title='Average security delay time (minutes) by airline')\n",
    "    # Line plot for late aircraft delay\n",
    "    late_fig = px.line(avg_late, x='Month', y='LateAircraftDelay', color='Reporting_Airline', title='Average late aircraft delay time (minutes) by airline')\n",
    "            \n",
    "    return[carrier_fig, weather_fig, nas_fig, sec_fig, late_fig]\n",
    "\n",
    "# Run the app\n",
    "if __name__ == '__main__':\n",
    "    app.run_server()\n",
    "    "
   ]
  },
  {
   "cell_type": "markdown",
   "id": "611e76d6-e734-4440-ae82-41d8b641f6ac",
   "metadata": {},
   "source": [
    "# Exercise : Practice Tasks\n",
    "\n",
    "You will practice some tasks to update the dashboard.\n",
    "\n",
    "1. ### Change the title to the dashboard from \"Flight Delay Time Statistics\" to \"Flight Details Statistics Dashboard\" using HTML H1 component and font-size as 35."
   ]
  },
  {
   "cell_type": "markdown",
   "id": "6880f747-7e04-4813-9460-f700800a58df",
   "metadata": {},
   "source": [
    "Answer\n",
    "\n",
    "html.H1(‘Flight Details Statistics Dashboard’,style={‘textAlign’: ‘center’, ‘color’: ‘#503D36’, ‘font-size’: 35}),\n",
    "\n"
   ]
  },
  {
   "cell_type": "markdown",
   "id": "c31c8cc1-9c85-4867-aedd-4e6c1d443b92",
   "metadata": {},
   "source": [
    "2. ### Save the above changes and rename file as flight_details.pyand relaunch the dashboard application to see the updated dashboard title."
   ]
  },
  {
   "cell_type": "markdown",
   "id": "d0eec9c6-bfed-450f-9aad-cd77e7be9d83",
   "metadata": {},
   "source": [
    "Answer\n",
    "Click on file –> save file as and write file name as flight_details.py. Then go to terminal and Run the command python3 flight_details.py to open the updated file again and relaunch the application by entering the port number.The updated dashboard title will be seen."
   ]
  },
  {
   "cell_type": "markdown",
   "id": "7644149b-b0e8-4bb3-a04a-50ea13bb88f5",
   "metadata": {},
   "source": [
    "3. ### Write a command to stop the running app in the terminal\n",
    "\n",
    "Answer\n",
    "Press ctrl+c inside the terminal to stop the dash application."
   ]
  },
  {
   "cell_type": "code",
   "execution_count": null,
   "id": "8b397fe6-3590-4bf9-96c8-1588606fc16e",
   "metadata": {},
   "outputs": [],
   "source": [
    "Résumé : Créer des tableaux de bord avec Plotly et DashStatut : Traduit automatiquement de Anglais\n",
    "Traduit automatiquement de Anglais\n",
    "Nous vous félicitons ! Vous avez terminé ce module. À ce stade du cours, vous savez ce qui suit :\n",
    "\n",
    "Dash est une bibliothèque Python Open-Source d'interface utilisateur pour la création d'applications web réactives.\n",
    "\n",
    "Il est facile de créer des interfaces utilisateur graphiques à l'aide de Dash, car cette bibliothèque fait abstraction de toutes les technologies nécessaires à la création des applications.\n",
    "\n",
    "Dash se compose de deux éléments : Le noyau et les composants HTML.\n",
    "\n",
    "Les dash_core_components décrivent des composants interactifs de plus haut niveau générés avec JavaScript, HTML et CSS par le biais de la bibliothèque React.js.\n",
    "\n",
    "La bibliothèque dash_html_components contient un composant pour chaque balise HTML.\n",
    "\n",
    "Une fonction de rappel est une fonction python qui est automatiquement appelée par Dash chaque fois que la propriété d'un composant d'entrée change.\n",
    "\n",
    "Le décorateur @app.callback décore la fonction callback afin d'indiquer à Dash de l'appeler chaque fois que la valeur du composant d'entrée change.\n",
    "\n",
    "La fonction de rappel prend les composants d'entrée et de sortie comme paramètres et effectue des opérations pour renvoyer le résultat souhaité pour le composant de sortie.\n",
    "\n"
   ]
  },
  {
   "cell_type": "code",
   "execution_count": null,
   "id": "f0fc2b86-f2d2-462a-a299-07dad3c9b157",
   "metadata": {},
   "outputs": [],
   "source": [
    "# Practice Assignment Part 2\n",
    "\n",
    "\n",
    "# Objectives\n",
    "\n",
    "After completing the lab you will be able to:\n",
    "\n",
    "- Create a dash board layout with a RadioItem and a Dropdown\n",
    "- Add Pie chart and Bar chart\n",
    " Estimated time needed: 45 minutes Objectives\n",
    "\n",
    "\n"
   ]
  },
  {
   "cell_type": "markdown",
   "id": "e75982a1-4659-4e46-a371-b500f4b150ad",
   "metadata": {},
   "source": [
    "# Travail pratique Partie 2\n",
    "\n",
    "# Objectifs\n",
    "\n",
    "Après avoir terminé le laboratoire, vous serez en mesure de :\n",
    "\n",
    "- Créez une mise en page de tableau de bord avec un RadioItem et une liste déroulante\n",
    "\n",
    "- Ajouter un graphique circulaire et un graphique à barres\n",
    "\n",
    "Temps estimé nécessaire : 45 minutes Objectifs\n",
    "\n"
   ]
  },
  {
   "cell_type": "markdown",
   "id": "dd016daa-559c-45a0-849b-0788e0ecd7fe",
   "metadata": {},
   "source": [
    "# Composants du tableau de bord et de la mise en page attendue"
   ]
  },
  {
   "cell_type": "markdown",
   "id": "c03628a5-526f-44a7-960c-d891c2c63680",
   "metadata": {},
   "source": [
    "# Components of the Dashboard\n",
    "\n",
    "Components of the Dashboard\n",
    "1. ### Select Region\n",
    "\n",
    "2. ###  Select Year\n",
    "\n",
    "3. ###  Divison to display\n",
    "\n",
    "- Pie Chart to display Monthly Average Estimated Fire Area for the selected Regions in the selected Year\n",
    "\n",
    "- Bar Chart to display Monthly Average Count of Pixels for Presumed Vegetation Fires for the selected Regions in the selected Year"
   ]
  },
  {
   "cell_type": "markdown",
   "id": "1a2048dc-7fa6-4601-b7f1-b6227cdc2a0c",
   "metadata": {},
   "source": [
    "# Composants du tableau de bord\n",
    "\n",
    "1. ### Sélectionnez la région\n",
    "\n",
    "2. ### Sélectionnez l’année\n",
    "\n",
    "3. ### Division à afficher\n",
    "\n",
    "- Graphique circulaire pour afficher la superficie moyenne mensuelle estimée des incendies pour les régions sélectionnées au cours de l’année sélectionnée\n",
    "\n",
    "- Graphique à barres pour afficher le nombre moyen mensuel de pixels pour les feux de végétation présumés pour les régions sélectionnées au cours de l’année sélectionnée"
   ]
  },
  {
   "cell_type": "markdown",
   "id": "a547fc1b-7fb9-496a-b854-68592a78bf58",
   "metadata": {},
   "source": [
    "# Requirements to create the expected result\n",
    "\n",
    "- A dropdown menu: For choosing year\n",
    "\n",
    "- A radioitem for choosing the Region\n",
    "\n",
    "- The layout will be designed as follows:\n",
    "\n",
    "- An outer division with two inner divisions (as shown in the expected layout)\n",
    "\n",
    "- One of the inner divisions will have information about the radioitem and dropdown (which are the input) and the other one is for adding graphs(the 2 output graphs).\n",
    "\n",
    "- Callback function to compute data, create graph and return to the layout."
   ]
  },
  {
   "cell_type": "code",
   "execution_count": null,
   "id": "31e3d745-f9fe-4b99-9d78-9cd09be2ccb6",
   "metadata": {},
   "outputs": [],
   "source": [
    "# Exigences pour créer le résultat attendu\n",
    "\n",
    "- Un menu déroulant : Pour choisir l’année\n",
    "\n",
    "- Un radioitem pour choisir la région\n",
    "\n",
    "- L’aménagement sera conçu comme suit :\n",
    "\n",
    "- Une division extérieure avec deux divisions intérieures (comme indiqué dans la disposition attendue)\n",
    "\n",
    "- L’une des divisions internes contiendra des informations sur l’élément radio et la liste déroulante (qui sont l’entrée) et l’autre servira à ajouter des graphiques (les 2 graphiques de sortie).\n",
    "\n",
    "- Fonction de rappel pour calculer les données, créer un graphique et revenir à la mise en page."
   ]
  },
  {
   "cell_type": "code",
   "execution_count": null,
   "id": "e20eee93-bdb6-4b6c-bc00-db250af3c194",
   "metadata": {},
   "outputs": [],
   "source": [
    "# To do:\n",
    "\n",
    "- Import required libraries and read the dataset\n",
    "- Create an application layout\n",
    "-  Add title to the dashboard using HTML H1 component\n",
    "- Add a radioitem using dcc.RaioItems and dropdown using dcc.dropdown\n",
    "- Add the pie chart and bar chart core graph components.\n",
    "\n",
    "Run the app"
   ]
  },
  {
   "cell_type": "markdown",
   "id": "af21f82d-a28c-463c-9264-6dea29ea9e3b",
   "metadata": {},
   "source": [
    "# À faire :\n",
    "\n",
    "- Importer les bibliothèques requises et lire le jeu de données\n",
    "- Créer une mise en page d’application\n",
    "- Ajouter un titre au tableau de bord à l’aide du composant HTML H1\n",
    "- Ajoutez un radioitem à l’aide de dcc.RaioItems et une liste déroulante à l’aide de dcc.dropdown\n",
    "- Ajoutez les composants du graphique circulaire et du graphique à barres.\n",
    "\n",
    "Exécuter l’application"
   ]
  },
  {
   "cell_type": "markdown",
   "id": "7a07e43b-faf0-45dd-8d82-ee08b32d74ce",
   "metadata": {},
   "source": [
    "# Get the tool ready\n",
    "\n",
    "1. ###  Open a new terminal, by clicking on the menu bar and selecting Terminal->New Terminal, as in the image below."
   ]
  },
  {
   "cell_type": "markdown",
   "id": "3d58866e-99c1-4a16-b197-d8844b53f0d3",
   "metadata": {},
   "source": [
    "2. ###  Install python packages required to run the application. Copy and paste the below command to the terminal."
   ]
  },
  {
   "cell_type": "code",
   "execution_count": null,
   "id": "81f5651b-950e-431d-8d01-caa8fb8cd01c",
   "metadata": {},
   "outputs": [],
   "source": [
    "pip3.8 install setuptools"
   ]
  },
  {
   "cell_type": "code",
   "execution_count": null,
   "id": "d4bd639a-4e34-44cf-97c3-6c52158fe46c",
   "metadata": {},
   "outputs": [],
   "source": [
    "python3.8 -m pip install packaging"
   ]
  },
  {
   "cell_type": "code",
   "execution_count": null,
   "id": "ac98a4dc-f264-4015-9197-9e7546d30f52",
   "metadata": {},
   "outputs": [],
   "source": [
    "python3.8 -m pip install pandas dash"
   ]
  },
  {
   "cell_type": "code",
   "execution_count": null,
   "id": "99880e65-5e40-4a2b-81bd-fc24282800e0",
   "metadata": {},
   "outputs": [],
   "source": [
    "pip3 install httpx==0.20 dash plotly"
   ]
  },
  {
   "cell_type": "markdown",
   "id": "8db5e31e-ca9e-48b1-9ce2-552a222d8177",
   "metadata": {},
   "source": [
    "# Get the application skeleton\n",
    "\n",
    "You can use this as a base code to complete the task below.\n",
    "\n",
    "#Structure of the skeleton file"
   ]
  },
  {
   "cell_type": "markdown",
   "id": "1f9d1ab9-1f2e-4337-82da-3e628dc2b30d",
   "metadata": {},
   "source": [
    "# Obtenir le squelette de l’application\n",
    "\n",
    "Vous pouvez l’utiliser comme code de base pour effectuer la tâche ci-dessous.\n",
    "\n",
    "#Structure du fichier squelette"
   ]
  },
  {
   "cell_type": "code",
   "execution_count": null,
   "id": "06f719c1-2fe7-4616-b8b7-fe650ea1edfc",
   "metadata": {},
   "outputs": [],
   "source": [
    "import pandas as pd\n",
    "import dash\n",
    "from dash import html, dcc\n",
    "from dash.dependencies import Input, Output, State\n",
    "import plotly.graph_objects as go\n",
    "import plotly.express as px\n",
    "from dash import no_update\n",
    "import datetime as dt\n",
    "\n",
    "#Create app\n",
    "\n",
    "app = dash.Dash(__name__)\n",
    "\n",
    "# Clear the layout and do not display exception till callback gets executed\n",
    "# Effacer la mise en page et ne pas afficher l’exception jusqu’à ce que le rappel soit exécuté\n",
    "\n",
    "app.config.suppress_callback_exceptions = True\n",
    "\n",
    "# Read the wildfire data into pandas dataframe\n",
    "df =  pd.read_csv('https://cf-courses-data.s3.us.cloud-object-storage.appdomain.cloud/IBMDeveloperSkillsNetwork-DV0101EN-SkillsNetwork/Data%20Files/Historical_Wildfires.csv')\n",
    "\n",
    "#Extract year and month from the date column\n",
    "\n",
    "df['Month'] = pd.to_datetime(df['Date']).dt.month_name() #used for the names of the months\n",
    "df['Year'] = pd.to_datetime(df['Date']).dt.year\n",
    "\n",
    "#Layout Section of Dash\n",
    "#Layout section du tableau de bord\n",
    "\n",
    "#Task 2.1 Add the Title to the Dashboard\n",
    "app.layout = html.Div(children=[html.H1(..................),\n",
    "\n",
    "# TASK 2.2: Add the radio items and a dropdown right below the first inner division\n",
    "#outer division starts\n",
    "                                \n",
    "# TÂCHE 2.2 : Ajouter les éléments radio et une liste déroulante juste en dessous de la première division intérieure\n",
    "#outer division commence                                \n",
    "     html.Div([\n",
    "                   # First inner divsion for  adding dropdown helper text for Selected Drive wheels\n",
    "                   # Première division intérieure pour l’ajout d’un texte d’aide déroulant pour les roues motrices sélectionnées\n",
    "                    html.Div([\n",
    "                            html.H2(.........),\n",
    "\n",
    "                    #Radio items to select the region\n",
    "                    #dcc.RadioItems(['NSW',.....], value ='...', id='...',inline=True)]),\n",
    "                        \n",
    "                    #Radio éléments pour sélectionner la région\n",
    "                    #dcc.RadioItems(['NSW',.....], value ='...', id='...',inline=True)]),    \n",
    "                    dcc.RadioItems([{\"label\":\"New South Wales\",\"value\": \"NSW\"},\n",
    "                                    {..........},\n",
    "                                    {..........},\n",
    "                                    {..........},\n",
    "                                    {..........},\n",
    "                                    {..........},\n",
    "                                    {\"label\":\"...\",\"value\": ..}], value = \"...\", id='.....,inline=True)]),\n",
    "                    #Dropdown to select year\n",
    "                    #Dropdown sélectionner l’année               \n",
    "                    html.Div([\n",
    "                            html.H2('.........', style={...........}),\n",
    "                        dcc.Dropdown(.....................)\n",
    "                    ]),\n",
    "                    #Second Inner division for adding 2 inner divisions for 2 output graphs\n",
    "                    #TASK 2.3: Add two empty divisions for output inside the next inner division.\n",
    "                                   \n",
    "                    #Second Division interne pour ajouter 2 divisions internes pour 2 graphiques de sortie\n",
    "                    #TASK 2.3 : Ajouter deux divisions vides pour la sortie à l’intérieur de la division interne suivante.                                   \n",
    "                                        html.Div([\n",
    "                \n",
    "                        html.Div([ ], id='........'),\n",
    "                        html.Div([ ], id='.........')\n",
    "                    ], style={'.........}),\n",
    "\n",
    "    ])\n",
    "    #outer division ends\n",
    "    #outer division se termine                          \n",
    "\n",
    "])\n",
    "#layout ends\n",
    "#TASK 2.4: Add the Ouput and input components inside the app.callback decorator.\n",
    "#Place to add @app.callback Decorator\n",
    "                              \n",
    "                              \n",
    "#layout fin\n",
    "#TASK 2.4 : Ajoutez les composants Sortie et Entrée dans le décorateur app.callback.\n",
    "#Place ajouter @app.callback Decorator                              \n",
    "@app.callback([Output(component_id=.........., component_property=..........),\n",
    "               Output(component_id=.........., component_property=..........)],\n",
    "               [Input(component_id=.........., component_property=..........),\n",
    "                Input(component_id=.........., component_property=..........)])\n",
    "\n",
    "   \n",
    "#TASK 2.5: Add the callback function.\n",
    "#Place to define the callback function .\n",
    "                              \n",
    "                              \n",
    "#TASK 2.5 : Ajout de la fonction de rappel.\n",
    "#Place pour définir la fonction de rappel .                              \n",
    "def reg_year_display(input_region,input_year):\n",
    "    \n",
    "    #data\n",
    "   region_data = df[df['Region'] == input_region]\n",
    "   y_r_data = region_data[region_data['Year']==input_year]\n",
    "    #Plot one - Monthly Average Estimated Fire Area\n",
    "    #Plot un - Superficie moyenne mensuelle estimée de l’incendie                          \n",
    "   \n",
    "   est_data = .........................\n",
    "   fig1 = px.pie(.............., title=\"{} : Monthly Average Estimated Fire Area in year {}\".format(input_region,input_year))\n",
    "   \n",
    "     #Plot two - Monthly Average Count of Pixels for Presumed Vegetation Fires\n",
    "     #Plot deux - Nombre moyen mensuel de pixels pour les feux de végétation présumés                         \n",
    "   veg_data = .............................\n",
    "   fig2 = px.bar(..............., title='{} : Average Count of Pixels for Presumed Vegetation Fires in year {}'.format(input_region,input_year))\n",
    "    \n",
    "   return [.......,\n",
    "            ......... ]\n",
    "\n",
    "if __name__ == '__main__':\n",
    "    app.run_server()"
   ]
  },
  {
   "cell_type": "markdown",
   "id": "72e25ce9-d95b-493b-9d1d-8b6c52e26986",
   "metadata": {},
   "source": [
    "# TASK 2.1: Add title to the dashboard\n",
    "\n",
    "Update the html.H1() tag to hold the application title.\n",
    "\n",
    "- Application title is Australia Wildfire Dashboard\n",
    "\n",
    "- Use style parameter provided below to make the title center aligned, with color code #503D36, and font-size as 26"
   ]
  },
  {
   "cell_type": "markdown",
   "id": "814267ab-9a57-4ce0-acd4-f6a49f188175",
   "metadata": {},
   "source": [
    "# TÂCHE 2.1 : Ajouter un titre au tableau de bord\n",
    "\n",
    "Mettez à jour le code html. H1() pour contenir le titre de l’application.\n",
    "\n",
    "- Le titre de l’application est Australia Wildfire Dashboard\n",
    "\n",
    "- Utilisez le paramètre de style fourni ci-dessous pour aligner le centre du titre, avec un code couleur #503D36 et une taille de police de 26"
   ]
  },
  {
   "cell_type": "code",
   "execution_count": null,
   "id": "7a36749a-1fec-4e9d-87ab-0c90ade09d9b",
   "metadata": {},
   "outputs": [],
   "source": [
    "html.H1('Australia Wildfire Dashboard', \n",
    "                                style={'textAlign': 'center', 'color': '#503D36',\n",
    "                                'font-size': 26}),"
   ]
  },
  {
   "cell_type": "code",
   "execution_count": null,
   "id": "a36acf5a-ade1-4759-b18f-c474f76c351d",
   "metadata": {},
   "outputs": [],
   "source": [
    "After updating the html.H1() with the application title, the app.layout will look like:"
   ]
  },
  {
   "cell_type": "markdown",
   "id": "002550dd-98b2-412e-a27b-a37a331805b6",
   "metadata": {},
   "source": [
    "Après avoir mis à jour le html. H1() avec le titre de l’application, le app.layout ressemblera à :"
   ]
  },
  {
   "cell_type": "markdown",
   "id": "53f87400-e47b-469b-aa42-bbde58895eac",
   "metadata": {},
   "source": [
    "Reference Links:"
   ]
  },
  {
   "cell_type": "markdown",
   "id": "c23e1f6c-1d5b-4b09-aae0-204fe2118973",
   "metadata": {},
   "source": [
    "[H1 component](https://labs.cognitiveclass.ai/v2/tools/cloud-ide-openshift?ulid=ulid-1e13d7b5e2cfdf0fbcdec5c07841e737610b60ed)"
   ]
  },
  {
   "cell_type": "markdown",
   "id": "814fba4b-c4bf-4dd4-953e-1946b8c56b97",
   "metadata": {},
   "source": [
    "[Dash HTML Components](https://dash.plotly.com/dash-html-components)"
   ]
  },
  {
   "cell_type": "markdown",
   "id": "716e570b-10d4-462a-a35e-bcb948f0371e",
   "metadata": {},
   "source": [
    "# TASK 2.2: Add the radio items and a dropdown right below the first inner division.\n",
    "\n",
    "Radio items to choose the Region\n",
    "\n",
    "The radio items work similar to the dropdown, you need to call dcc.RadioItems and pass the list of items. Make use of inline=True property to display the radio items in a horizontal line\n",
    "\n",
    "\n",
    "- You can extract the regions from the dataframe using df.Region.unque() or pass the list of all regions directly as ['NSW','QL','SA','TA','VI','WA','NT'] .\n",
    "\n",
    "- Assign radioitems id as region\n",
    "\n",
    "- Label as Select Region\n",
    "\n",
    "- value as NSW\n",
    "\n",
    "\n",
    "\n",
    "For your reference below are the abrivations used in the dataset for regions\n",
    "NSW - New South Wales\n",
    "NT - Northern Territory\n",
    "QL - Queensland\n",
    "SA - South Australia\n",
    "TA - Tasmania\n",
    "VI - Victoria\n",
    "WA - Western Australia\n",
    "\n",
    "Read more on [Radioitems](https://dash.plotly.com/dash-core-components/radioitems)"
   ]
  },
  {
   "cell_type": "markdown",
   "id": "8b81e312-9e63-48f7-b88d-6609b99d7173",
   "metadata": {},
   "source": [
    "# TÂCHE 2.2 : Ajoutez les éléments radio et une liste déroulante juste en dessous de la première division intérieure.\n",
    "\n",
    "Éléments radio pour choisir la région\n",
    "\n",
    "Les éléments radio fonctionnent de la même manière que la liste déroulante, vous devez appeler dcc.RadioItems et transmettre la liste des éléments. Utilisez la propriété inline=True pour afficher les éléments radio sur une ligne horizontale\n",
    "\n",
    "\n",
    "- Vous pouvez extraire les régions de la trame de données à l’aide de df. Region.unque() ou passer la liste de toutes les régions directement sous la forme ['NSW','QL','SA','TA','VI','WA','NT'] .\n",
    "\n",
    "- Attribuer l’identifiant des radioitems comme région\n",
    "\n",
    "- Étiqueter comme sélectionner une région\n",
    "\n",
    "- valeur en tant que NSW\n",
    "\n",
    "À titre de référence, vous trouverez ci-dessous les abréviations utilisées dans l’ensemble de données pour les régions\n",
    "Nouvelle-Galles du Sud - Nouvelle-Galles du Sud\n",
    "NT - Territoire du Nord\n",
    "QL - Queensland\n",
    "SA - Australie-Méridionale\n",
    "TA - Tasmanie\n",
    "VI - Victoria\n",
    "WA - Australie-Occidentale\n",
    "\n",
    "En savoir plus sur[Radioitems](https://dash.plotly.com/dash-core-components/radioitems)"
   ]
  },
  {
   "cell_type": "code",
   "execution_count": null,
   "id": "47e5d4a8-9ad2-4724-9a46-8b47ae42dccd",
   "metadata": {},
   "outputs": [],
   "source": [
    " html.Div([\n",
    "          html.H2('Select Region:', style={'margin-right': '2em'}),\n",
    "             #Radio items to select the region\n",
    "             dcc.RadioItems(['NSW','QL','SA','TA','VI','WA'], 'NSW', id='region',inline=True)]),\n",
    "            "
   ]
  },
  {
   "cell_type": "markdown",
   "id": "c8e0ddfa-3b3a-456b-8260-4eeec62ec18e",
   "metadata": {},
   "source": [
    "- or you can use labels:value pair a well in raioditems as below\n",
    "\n",
    "Ou vous pouvez utiliser la paire labels :valeur A bien dans RaiodItems comme ci-dessous"
   ]
  },
  {
   "cell_type": "code",
   "execution_count": null,
   "id": "ae6e410c-6e71-4ada-884a-6a590f8baffe",
   "metadata": {},
   "outputs": [],
   "source": [
    "#OR you can use labels:value pair a well in raioditems as below\n",
    "            #Radio items to select the region\n",
    "                    dcc.RadioItems([{\"label\":\"New South Wales\",\"value\": \"NSW\"},\n",
    "                                    {\"label\":\"Northern Territory\",\"value\": \"NT\"},\n",
    "                                    {\"label\":\"Queensland\",\"value\": \"QL\"},\n",
    "                                    {\"label\":\"South Australia\",\"value\": \"SA\"},\n",
    "                                    {\"label\":\"Tasmania\",\"value\": \"TA\"},\n",
    "                                    {\"label\":\"Victoria\",\"value\": \"VI\"},\n",
    "                                    {\"label\":\"Western Australia\",\"value\": \"WA\"}],\"NSW\", id='region',inline=True)]),"
   ]
  },
  {
   "cell_type": "markdown",
   "id": "09d4d73f-ad53-42d8-a782-248852eba5da",
   "metadata": {},
   "source": [
    "# Dropdown to choose the Year\n",
    "\n",
    "- The dropdown has an id as year.\n",
    "- The label as Select Year\n",
    "- The values allowed in the dropdown are years from 2005 to 2020\n",
    "- The default value when the dropdown is displayed is 2005."
   ]
  },
  {
   "cell_type": "code",
   "execution_count": null,
   "id": "b1f9c77d-a0b2-4e57-bb4a-b4e4a25b52cc",
   "metadata": {},
   "outputs": [],
   "source": [
    "# Liste déroulante pour choisir l’année\n",
    "\n",
    "- La liste déroulante a un identifiant comme année.\n",
    "- L’étiquette Sélectionner l’année\n",
    "- Les valeurs autorisées dans la liste déroulante sont les années de 2005 à 2020\n",
    "- La valeur par défaut lorsque la liste déroulante est affichée est 2005."
   ]
  },
  {
   "cell_type": "code",
   "execution_count": null,
   "id": "88b35d12-0b94-4647-b4ed-9feedb08fbb0",
   "metadata": {},
   "outputs": [],
   "source": [
    "            html.Div([\n",
    "                        html.H2('Select Year:', style={'margin-right': '2em'}),\n",
    "                        dcc.Dropdown(df.Year.unique(), value = 2005,id='year')\n",
    "                        #notice the use of unique() from pandas to fetch the values of year from the dataframe for dropdown\n",
    "                    ]),           "
   ]
  },
  {
   "cell_type": "markdown",
   "id": "683fc31c-8239-46fd-801b-373f377f7984",
   "metadata": {},
   "source": [
    "#notice l’utilisation de unique() de pandas pour récupérer les valeurs de l’année à partir de la trame de données pour la liste déroulante"
   ]
  },
  {
   "cell_type": "markdown",
   "id": "2e4eb2f3-71fb-4153-8b2f-cb5b66cdfd5e",
   "metadata": {},
   "source": [
    "Références [Link](https://dash.plotly.com/dash-core-components/dropdown)"
   ]
  },
  {
   "cell_type": "markdown",
   "id": "99b9cb77-efcb-423c-b684-79231d5e90d8",
   "metadata": {},
   "source": [
    "# TASK 2.3: Add two empty divisions for output inside the next inner division.\n",
    "\n",
    "- Use 2 html.Div() tags .\n",
    "\n",
    "- Provide division ids as plot1 and plot2."
   ]
  },
  {
   "cell_type": "code",
   "execution_count": null,
   "id": "3cc9532c-2896-4842-87d8-1a9a2ff2b1d9",
   "metadata": {},
   "outputs": [],
   "source": [
    "# TÂCHE 2.3 : Ajouter deux divisions vides pour la sortie à l’intérieur de la division interne suivante.\n",
    "\n",
    "- Utilisez 2 html. Div() .\n",
    "\n",
    "- Fournissez les identifiants de division comme plot1 et plot2."
   ]
  },
  {
   "cell_type": "code",
   "execution_count": null,
   "id": "a3f98f8d-d483-4280-833b-5001a735fe9c",
   "metadata": {},
   "outputs": [],
   "source": [
    "html.Div([ ], id='plot1'),\n",
    "html.Div([ ], id='plot2')"
   ]
  },
  {
   "cell_type": "markdown",
   "id": "04666fa4-0915-4a34-ab83-ce29d2970c20",
   "metadata": {},
   "source": [
    "# TASK 2.4: Add the Ouput and input components inside the app.callback decorator.\n",
    "\n"
   ]
  },
  {
   "cell_type": "markdown",
   "id": "bde16856-84e7-4685-aab4-d3b88bbeb432",
   "metadata": {},
   "source": [
    "# TÂCHE 2.4 : Ajouter les composants de sortie et d’entrée dans le décorateur app.callback."
   ]
  },
  {
   "cell_type": "markdown",
   "id": "89258e9b-c9f7-4b93-8c89-26444afeeb92",
   "metadata": {},
   "source": [
    "- The inputs and outputs of our application’s interface are described declaratively as the arguments of @app.callback decorator.\n",
    "\n",
    "\n",
    "-In Dash, the inputs and outputs of our application are simply the properties of a particular component."
   ]
  },
  {
   "cell_type": "markdown",
   "id": "09dcbbfa-a65b-4c69-af40-cad23362e441",
   "metadata": {},
   "source": [
    "- Les entrées et sorties de l’interface de notre application sont décrites de manière déclarative comme les arguments du décorateur @app.callback.\n",
    "\n",
    "-Dans Dash, les entrées et sorties de notre application sont simplement les propriétés d’un composant particulier."
   ]
  },
  {
   "cell_type": "code",
   "execution_count": null,
   "id": "bd8398ea-9899-4540-a117-c2530f462878",
   "metadata": {},
   "outputs": [],
   "source": [
    "- In this example, we have two inputs:-\n",
    "\n",
    "- input for Region is the value property of the component that has the ID region\n",
    "\n",
    "- input for Year is the value property of the component that has the ID year"
   ]
  },
  {
   "cell_type": "markdown",
   "id": "8790598f-cc6d-43b6-a477-d4e46cb2e1ad",
   "metadata": {},
   "source": [
    "- Dans cet exemple, nous avons deux entrées : -\n",
    "\n",
    "- input for Region est la propriété value du composant qui a la région d’ID\n",
    "\n",
    "- input for Year est la propriété value du composant qui a l’ID année"
   ]
  },
  {
   "cell_type": "markdown",
   "id": "7e6f03c1-4666-4708-b68e-8043d62384df",
   "metadata": {},
   "source": [
    "# Our layout has 2 outputs so we need to create 2 output components.\n",
    "\n",
    "It is a list with 2 output parameters with component id and property. Here, the component property will be children as we have created empty division and passing in dcc.Graph (figure) after computation.\n",
    "\n",
    "Component ids will be plot1 , plot2."
   ]
  },
  {
   "cell_type": "markdown",
   "id": "f1ee6019-5cc5-4bef-8cc8-c5add3fce322",
   "metadata": {},
   "source": [
    "# Notre mise en page a 2 sorties, nous devons donc créer 2 composants de sortie.\n",
    "\n",
    "Il s’agit d’une liste avec 2 paramètres de sortie avec l’identifiant et la propriété du composant. Ici, la propriété du composant sera des enfants car nous avons créé une division vide et passé dans dcc.Graph (figure) après le calcul.\n",
    "\n",
    "Les ID de composant seront plot1 , plot2."
   ]
  },
  {
   "cell_type": "code",
   "execution_count": null,
   "id": "7debb31e-3521-47f6-8143-a125b7815a90",
   "metadata": {},
   "outputs": [],
   "source": [
    "@app.callback([Output(component_id='plot1', component_property='children'),\n",
    "               Output(component_id='plot2', component_property='children')],\n",
    "               [Input(component_id='region', component_property='value'),\n",
    "                Input(component_id='year', component_property='value')])"
   ]
  },
  {
   "cell_type": "markdown",
   "id": "8da30c0d-e5d7-42fe-9678-bd24c02a1f22",
   "metadata": {},
   "source": [
    "# TASK 2.5: Add the callback function.\n",
    "\n",
    "- Whenever an input property changes, the function that the callback decorator wraps will get called automatically.\n",
    "\n",
    "- In this case let us define a function reg_year_display() which will be wrapped by our decorator.\n",
    "\n",
    "- The function first filters our dataframe df by the selected value of the region from the radio items and year from the dropdown as follows"
   ]
  },
  {
   "cell_type": "code",
   "execution_count": null,
   "id": "6e228983-9900-4e91-9b27-dbac0dbc80fe",
   "metadata": {},
   "outputs": [],
   "source": [
    "region_data = df[df['Region'] == input_region]\n",
    "y_r_data = region_data[region_data['Year']==input_year]"
   ]
  },
  {
   "cell_type": "markdown",
   "id": "51c3ccb2-59f1-49a6-b58c-ec6a256f6d74",
   "metadata": {},
   "source": [
    "- For pie chart on Monthly Average Estimated Fire Area: - \n",
    "\n",
    "-Next we will group by the Month and calculate the mean Estimated_fire_area of the dataframe.\n",
    "Use the px.pie() function to plot the pie chart\n",
    "\n",
    "- For bar chart on Monthly Average Count of Pixels for Presumed Vegetation Fires: -\n",
    "\n",
    "-Next we will group by the Month and calculate the mean Count of the dataframe.\n",
    "Use the px.bar() function to plot the bar chart"
   ]
  },
  {
   "cell_type": "code",
   "execution_count": null,
   "id": "aa7307ba-2e03-401e-ab7e-45c1bc4c2d10",
   "metadata": {},
   "outputs": [],
   "source": [
    "- Pour le graphique circulaire sur la superficie moyenne mensuelle estimée des incendies : - \n",
    "\n",
    "-Ensuite, nous allons regrouper par mois et calculer la Estimated_fire_area moyenne de la trame de données.\n",
    "Utilisez la fonction px.pie() pour tracer le graphique circulaire\n",
    "\n",
    "- Pour le graphique à barres sur le nombre moyen mensuel de pixels pour les feux de végétation présumés : -\n",
    "\n",
    "-Ensuite, nous allons regrouper par mois et calculer le nombre moyen de la trame de données.\n",
    "Utilisez la fonction px.bar() pour tracer le graphique à barres"
   ]
  },
  {
   "cell_type": "code",
   "execution_count": null,
   "id": "a5375af3-a26e-43fa-917b-767108f6b8b2",
   "metadata": {},
   "outputs": [],
   "source": [
    "def reg_year_display(input_region,input_year):\n",
    "    \n",
    "    #data\n",
    "   region_data = df[df['Region'] == input_region]\n",
    "   y_r_data = region_data[region_data['Year']==input_year]\n",
    "    #Plot one - Monthly Average Estimated Fire Area\n",
    "    #Plot un - Superficie moyenne mensuelle estimée de l’incendie\n",
    "    \n",
    "   \n",
    "   est_data = y_r_data.groupby('Month')['Estimated_fire_area'].mean().reset_index()\n",
    " \n",
    "   fig1 = px.pie(est_data, values='Estimated_fire_area', names='Month', title=\"{} : Monthly Average Estimated Fire Area in year {}\".format(input_region,input_year))\n",
    "   \n",
    "     #Plot two - Monthly Average Count of Pixels for Presumed Vegetation Fires\n",
    "     #Plot deux - Nombre moyen mensuel de pixels pour les feux de végétation présumés\n",
    "   veg_data = y_r_data.groupby('Month')['Count'].mean().reset_index()\n",
    "\n",
    "   fig2 = px.bar(veg_data, x='Month', y='Count', title='{} : Average Count of Pixels for Presumed Vegetation Fires in year {}'.format(input_region,input_year))\n",
    "    \n",
    "   return [dcc.Graph(figure=fig1),\n",
    "            dcc.Graph(figure=fig2) ]"
   ]
  },
  {
   "cell_type": "markdown",
   "id": "49f30707-967e-4e77-baeb-ca96c5291a79",
   "metadata": {},
   "source": [
    "- Finally we return the 2 figure objects fig1 and fig2 in dcc.Graph method.\n",
    "- Once you have finished coding save your code."
   ]
  },
  {
   "cell_type": "code",
   "execution_count": null,
   "id": "f3f47c13-70e6-4a19-b879-5ac0324c7ddf",
   "metadata": {},
   "outputs": [],
   "source": [
    "- Enfin, nous retournons les 2 objets figures fig1 et fig2 dans la méthode dcc.Graph.\n",
    "- Une fois que vous avez fini de coder, enregistrez votre code."
   ]
  },
  {
   "cell_type": "code",
   "execution_count": null,
   "id": "38d2278b-f81a-486c-ba60-5452779632d3",
   "metadata": {},
   "outputs": [],
   "source": [
    "import pandas as pd\n",
    "import dash\n",
    "from dash import html, dcc\n",
    "from dash.dependencies import Input, Output, State\n",
    "import plotly.graph_objects as go\n",
    "import plotly.express as px\n",
    "from dash import no_update\n",
    "import datetime as dt\n",
    "#Create app\n",
    "app = dash.Dash(__name__)\n",
    "#Clear the layout and do not display exception till callback gets executed\n",
    "app.config.suppress_callback_exceptions = True\n",
    "# Read the wildfire data into pandas dataframe\n",
    "df =  pd.read_csv('https://cf-courses-data.s3.us.cloud-object-storage.appdomain.cloud/IBMDeveloperSkillsNetwork-DV0101EN-SkillsNetwork/Data%20Files/Historical_Wildfires.csv')\n",
    "#Extract year and month from the date column\n",
    "df['Month'] = pd.to_datetime(df['Date']).dt.month_name() #used for the names of the months\n",
    "df['Year'] = pd.to_datetime(df['Date']).dt.year\n",
    "#Layout Section of Dash\n",
    "#Task 1 Add the Title to the Dashboard\n",
    "app.layout = html.Div(children=[html.H1('Australia Wildfire Dashboard', \n",
    "                                style={'textAlign': 'center', 'color': '#503D36',\n",
    "                                'font-size': 26}),\n",
    "# TASK 2: Add the radio items and a dropdown right below the first inner division\n",
    "     #outer division starts\n",
    "     html.Div([\n",
    "                   # First inner divsion for  adding dropdown helper text for Selected Drive wheels\n",
    "                    html.Div([\n",
    "                            html.H2('Select Region:', style={'margin-right': '2em'}),\n",
    "\n",
    "                    #Radio items to select the region\n",
    "                    #dcc.RadioItems(['NSW','QL','SA','TA','VI','WA'], 'NSW', id='region',inline=True)]),\n",
    "                    dcc.RadioItems([{\"label\":\"New South Wales\",\"value\": \"NSW\"},\n",
    "                                    {\"label\":\"Northern Territory\",\"value\": \"NT\"},\n",
    "                                    {\"label\":\"Queensland\",\"value\": \"QL\"},\n",
    "                                    {\"label\":\"South Australia\",\"value\": \"SA\"},\n",
    "                                    {\"label\":\"Tasmania\",\"value\": \"TA\"},\n",
    "                                    {\"label\":\"Victoria\",\"value\": \"VI\"},\n",
    "                                    {\"label\":\"Western Australia\",\"value\": \"WA\"}],\"NSW\", id='region',inline=True)]),\n",
    "                    #Dropdown to select year\n",
    "                    html.Div([\n",
    "                            html.H2('Select Year:', style={'margin-right': '2em'}),\n",
    "                        dcc.Dropdown(df.Year.unique(), value = 2005,id='year')\n",
    "                    ]),\n",
    "#TASK 3: Add two empty divisions for output inside the next inner division. \n",
    "         #Second Inner division for adding 2 inner divisions for 2 output graphs\n",
    "                    html.Div([\n",
    "                \n",
    "                        html.Div([ ], id='plot1'),\n",
    "                        html.Div([ ], id='plot2')\n",
    "                    ], style={'display': 'flex'}),\n",
    "\n",
    "    ])\n",
    "    #outer division ends\n",
    "\n",
    "])\n",
    "#layout ends\n",
    "#TASK 4: Add the Ouput and input components inside the app.callback decorator.\n",
    "#Place to add @app.callback Decorator\n",
    "@app.callback([Output(component_id='plot1', component_property='children'),\n",
    "               Output(component_id='plot2', component_property='children')],\n",
    "               [Input(component_id='region', component_property='value'),\n",
    "                Input(component_id='year', component_property='value')])\n",
    "#TASK 5: Add the callback function.   \n",
    "#Place to define the callback function .\n",
    "def reg_year_display(input_region,input_year):  \n",
    "    #data\n",
    "   region_data = df[df['Region'] == input_region]\n",
    "   y_r_data = region_data[region_data['Year']==input_year]\n",
    "    #Plot one - Monthly Average Estimated Fire Area   \n",
    "   est_data = y_r_data.groupby('Month')['Estimated_fire_area'].mean().reset_index()\n",
    "   fig1 = px.pie(est_data, values='Estimated_fire_area', names='Month', title=\"{} : Monthly Average Estimated Fire Area in year {}\".format(input_region,input_year))   \n",
    "     #Plot two - Monthly Average Count of Pixels for Presumed Vegetation Fires\n",
    "   veg_data = y_r_data.groupby('Month')['Count'].mean().reset_index()\n",
    "   fig2 = px.bar(veg_data, x='Month', y='Count', title='{} : Average Count of Pixels for Presumed Vegetation Fires in year {}'.format(input_region,input_year))    \n",
    "   return [dcc.Graph(figure=fig1),\n",
    "            dcc.Graph(figure=fig2) ]\n",
    "if __name__ == '__main__':\n",
    "    app.run_server()\n",
    "    "
   ]
  },
  {
   "cell_type": "markdown",
   "id": "abbf308c-9c15-4915-8fda-045279f5f31e",
   "metadata": {},
   "source": [
    "# Run the Application\n",
    "\n",
    "- Next Run the python file using the command"
   ]
  },
  {
   "cell_type": "code",
   "execution_count": null,
   "id": "ebc87b72-9dee-48c5-8055-7c3734bf96a7",
   "metadata": {},
   "outputs": [],
   "source": [
    "python3.8 Dash_wildfire.py"
   ]
  },
  {
   "cell_type": "code",
   "execution_count": null,
   "id": "6ac1980b-dc59-4588-b70a-c239ca53f9b9",
   "metadata": {},
   "outputs": [],
   "source": [
    "Observe the port number shown in the terminal."
   ]
  },
  {
   "cell_type": "code",
   "execution_count": null,
   "id": "330ba0fd-d933-4cb1-953d-0c82cc23ffff",
   "metadata": {},
   "outputs": [],
   "source": [
    "Click on the Launch Application option from the menu bar.Provide the port number and click OK"
   ]
  },
  {
   "cell_type": "code",
   "execution_count": null,
   "id": "7acfd2b5-1c5e-47b4-a560-a9bcc8b3c528",
   "metadata": {},
   "outputs": [],
   "source": [
    "Congratulations, you have successfully created dash application!\n",
    "Author"
   ]
  },
  {
   "cell_type": "markdown",
   "id": "e8d7f3ce-dc01-4add-999d-540c662be025",
   "metadata": {},
   "source": [
    "databases-and-sql-for-data-science.png\n",
    "CREATION DE BASE DE DONNEES & CHARGEMENT DE DONNEES ; MANIPULATION, INTERROGATION, EXTRATION DE DONNEES. PAR LE BIAS DES LOGICIELS TELS QUE MYSQL, SQLite et IBM Db2 onCLOUD,QUI EST UN PUISSANT OUTIL DE SERVICE EN LIGNE SECURISE , PERMETTANT DE STOCKEE\n",
    "EXTRAIRE, LIRE, MANIPULER EFFICACEMENT LES DONNEES.J' AIMERAI FAIRE PROFITER DE TOUTES CES COMPETENCES AUX ENTREPRISES AFIN D'AMELIORER LEUR PERFORMANCE ECONOMIQUE."
   ]
  },
  {
   "cell_type": "code",
   "execution_count": null,
   "id": "56a09b1b-0a41-43ff-ae2a-50d4ea086ddb",
   "metadata": {},
   "outputs": [],
   "source": []
  },
  {
   "cell_type": "code",
   "execution_count": null,
   "id": "9370b36f-8abb-4403-ab72-b072b5d4663c",
   "metadata": {},
   "outputs": [],
   "source": []
  },
  {
   "cell_type": "code",
   "execution_count": null,
   "id": "4cdc6ebe-29dd-4175-895d-0f488cdfa8c9",
   "metadata": {},
   "outputs": [],
   "source": []
  },
  {
   "cell_type": "markdown",
   "id": "2d2acac9-7f9c-47af-97f0-983d6b4149c8",
   "metadata": {},
   "source": [
    "# Create Dashboard using Plotly and Dash"
   ]
  },
  {
   "cell_type": "markdown",
   "id": "8ec320e2-74a5-4ac6-bb8b-71ac2ca90cc4",
   "metadata": {},
   "source": [
    "# Table des matières\n",
    "\n",
    "- Scénario\n",
    "- Composants des éléments de rapport\n",
    "- Variables de l’ensemble de données\n",
    "- Conditions requises pour créer le tableau de bord\n",
    "- Révision et tâche\n",
    "- Tâches à effectuer"
   ]
  },
  {
   "cell_type": "markdown",
   "id": "d2a149fa-7f30-47b0-b7e9-fdf07383d480",
   "metadata": {},
   "source": [
    "Scenario:\n",
    "The objective of this part of the Final Assignment is to analyze the historical trends in automobile sales during recession periods, as you did in the previous part. The goal is to provide insights into how the sales of XYZAutomotives, a company specializing in automotive sales, were affected during times of recession.\n",
    "\n",
    "In this final assignment, you will have the opportunity to demonstrate the Dashboarding skills you have acquired in this course.\n",
    "\n",
    "This lab aims to assess your abilities in creating various visualizations using Plotly and Dash. As a data scientist, you have been given a task to prepare a report on your finding from Automobile Sales data analysis.\n",
    "You decided to develop a dashboard representing two main reports:-\n",
    "\n",
    "Yearly Automobile Sales Statistics峳ion Period Statistics\n",
    "NOTE: Year range is between 1980 and 2013.\n",
    "\n",
    "\n",
    "# Components of the report items\n",
    "\n",
    "1. ### Yearly Automobile Sales Statistics\n",
    "\n",
    "-Yearly Average Automobile sales using line chart for the whole period.\n",
    "-For the chosen year provide,\n",
    "- Total Monthly Automobile sales using line chart.\n",
    "- Average Monthly Automobile sales of each vehicle type using bar chart.\n",
    "- Total Advertisement Expenditure for each vehicle using pie chart\n",
    "\n",
    "\n",
    "2. ### Recession Period Statistics\n",
    "\n",
    "-Average Automobile sales using line chart for the Recession Period using line chart.\n",
    "-Average number of vehicles sold by vehicle type using bar chart\n",
    "-Total expenditure share by vehicle type during recession usssing pie chart\n",
    "-Effect of unemployment rate on vehicle type and sales using bar chart\n",
    "\n",
    "NOTE: You have worked creating a dashboard components in section. You will be working on the similar lines for this DashboardFlight Delay Time Statistics Dashboard\n",
    "\n",
    "\n",
    "\n"
   ]
  },
  {
   "cell_type": "markdown",
   "id": "9cc4776d-38e4-461b-beca-8b6fc100b1eb",
   "metadata": {},
   "source": [
    "Scenario:\n",
    "\n",
    "\n",
    "L’objectif de cette partie du travail final est d’analyser les tendances historiques des ventes d’automobiles pendant les périodes de récession, comme vous l’avez fait dans la partie précédente. L’objectif est de fournir un aperçu de la façon dont les ventes de XYZAutomotives, une entreprise spécialisée dans les ventes automobiles, ont été affectées en période de récession.\n",
    "\n",
    "Dans ce dernier devoir, vous aurez l’occasion de démontrer les compétences en matière de tableaux de bord que vous avez acquises dans ce cours.\n",
    "\n",
    "\n",
    "Cet atelier vise à évaluer vos capacités à créer diverses visualisations à l’aide de Plotly et Dash. En tant que scientifique des données, vous avez été chargé de préparer un rapport sur vos résultats de l’analyse des données des ventes automobiles.\n",
    "Vous avez décidé de développer un tableau de bord représentant deux rapports principaux :\n",
    "\n",
    "Statistiques annuelles sur les ventes d’automobiles\n",
    "REMARQUE : La fourchette d’années se situe entre 1980 et 2013.\n",
    "\n",
    "\n",
    "# Composantes des éléments de rapport\n",
    "\n",
    "1. ### Statistiques annuelles des ventes d’automobiles\n",
    "\n",
    "-Ventes moyennes annuelles d’automobiles à l’aide d’un graphique linéaire pour toute la période.\n",
    "-Pour l’année choisie, fournir,\n",
    "- Ventes mensuelles totales d’automobiles à l’aide d’un graphique linéaire.\n",
    "- Ventes mensuelles moyennes d’automobiles de chaque type de véhicule à l’aide d’un graphique à barres.\n",
    "- Dépenses publicitaires totales pour chaque véhicule à l’aide d’un graphique circulaire\n",
    "\n",
    "\n",
    "2. ### Statistiques sur la période de récession\n",
    "\n",
    "-Ventes moyennes d’automobiles à l’aide d’un graphique linéaire pour la période de récession à l’aide d’un graphique linéaire.\n",
    "-Nombre moyen de véhicules vendus par type de véhicule à l’aide d’un graphique à barres\n",
    "-Part des dépenses totales par type de véhicule pendant la récession à l’aide d’un graphique circulaire\n",
    "-Effet du taux de chômage sur le type de véhicule et les ventes à l’aide d’un graphique à barres\n",
    "\n",
    "REMARQUE : Vous avez travaillé à la création d’un composant de tableau de bord dans la section. Vous travaillerez sur des lignes similaires pour ce tableau de bordTableau de bord des statistiques sur les retards de vol\n"
   ]
  },
  {
   "cell_type": "markdown",
   "id": "7ff1ca26-2044-4e34-a672-b8538f97e389",
   "metadata": {},
   "source": [
    "# Create Dashboard using Plotly and Dash\n",
    "# j'ai téléchargé le lab\n",
    "\n",
    "Table of content\n",
    "\n",
    "Scenario\n",
    "Components of the report items\n",
    "Dataset Variables\n",
    "Requirements to create the dashboard\n",
    "Review and Task\n",
    "Tasks to be performed\n",
    "Estimated time needed: 45 minutes"
   ]
  },
  {
   "cell_type": "markdown",
   "id": "1c4b1421-9325-47ee-8068-44304b80f082",
   "metadata": {},
   "source": [
    "# Scenario:\n",
    "The objective of this part of the Final Assignment is to analyze the historical trends in automobile sales during recession periods, as you did in the previous part. The goal is to provide insights into how the sales of XYZAutomotives, a company specializing in automotive sales, were affected during times of recession.\n",
    "\n",
    "In this final assignment, you will have the opportunity to demonstrate the Dashboarding skills you have acquired in this course.\n",
    "\n",
    "This lab aims to assess your abilities in creating various visualizations using Plotly and Dash. As a data scientist, you have been given a task to prepare a report on your finding from Automobile Sales data analysis.\n",
    "You decided to develop a dashboard representing two main reports:-\n",
    "\n",
    "- Yearly Automobile Sales Statistics峳ion Period Statistics\n",
    "NOTE: Year range is between 1980 and 2013.\n",
    "\n",
    "\n",
    "# Components of the report items\n",
    "1. ### Yearly Automobile Sales Statistics\n",
    "\n",
    "-Yearly Average Automobile sales using line chart for the whole period.\n",
    "-For the chosen year provide,\n",
    "- Total Monthly Automobile sales using line chart.\n",
    "- Average Monthly Automobile sales of each vehicle type using bar chart.\n",
    "- Total Advertisement Expenditure for each vehicle using pie chart\n",
    "\n",
    "2. ### Recession Period Statistics\n",
    "\n",
    "-Average Automobile sales using line chart for the Recession Period using line chart.\n",
    "-Average number of vehicles sold by vehicle type using bar chart\n",
    "- Total expenditure share by vehicle type during recession usssing pie chart\n",
    "- Effect of unemployment rate on vehicle type and sales using bar chart\n",
    "\n",
    "NOTE: You have worked creating a dashboard components in Flight Delay Time Statistics Dashboard section. You will be working on the similar lines for this Dashboard"
   ]
  },
  {
   "cell_type": "markdown",
   "id": "82582c6f-750d-4d14-ab6e-af10f387910e",
   "metadata": {},
   "source": [
    "# Scénario :\n",
    "L’objectif de cette partie du travail final est d’analyser les tendances historiques des ventes d’automobiles pendant les périodes de récession, comme vous l’avez fait dans la partie précédente. L’objectif est de fournir un aperçu de la façon dont les ventes de XYZAutomotives, une entreprise spécialisée dans les ventes automobiles, ont été affectées en période de récession.\n",
    "\n",
    "Dans ce dernier devoir, vous aurez l’occasion de démontrer les compétences en matière de tableaux de bord que vous avez acquises dans ce cours.\n",
    "\n",
    "Cet atelier vise à évaluer vos capacités à créer diverses visualisations à l’aide de Plotly et Dash. En tant que scientifique des données, vous avez été chargé de préparer un rapport sur vos résultats de l’analyse des données des ventes automobiles.\n",
    "Vous avez décidé de développer un tableau de bord représentant deux rapports principaux :\n",
    "\n",
    "- Statistiques annuelles sur les ventes d’automobiles\n",
    "REMARQUE : La fourchette d’années se situe entre 1980 et 2013.\n",
    "\n",
    "\n",
    "# Composantes des éléments de rapport\n",
    "1. ### Statistiques annuelles des ventes d’automobiles\n",
    "\n",
    "-Ventes moyennes annuelles d’automobiles à l’aide d’un graphique linéaire pour toute la période.\n",
    "-Pour l’année choisie, fournir,\n",
    "- Ventes mensuelles totales d’automobiles à l’aide d’un graphique linéaire.\n",
    "- Ventes mensuelles moyennes d’automobiles de chaque type de véhicule à l’aide d’un graphique à barres.\n",
    "- Dépenses publicitaires totales pour chaque véhicule à l’aide d’un graphique circulaire\n",
    "\n",
    "2. ### Statistiques sur la période de récession\n",
    "\n",
    "-Ventes moyennes d’automobiles à l’aide d’un graphique linéaire pour la période de récession à l’aide d’un graphique linéaire.\n",
    "-Nombre moyen de véhicules vendus par type de véhicule à l’aide d’un graphique à barres\n",
    "- Part des dépenses totales par type de véhicule pendant la récession à l’aide d’un graphique circulaire\n",
    "- Effet du taux de chômage sur le type de véhicule et les ventes à l’aide d’un graphique à barres\n",
    "\n",
    "REMARQUE : Vous avez travaillé à la création d’un tableau de bord dans la section Tableau de bord des statistiques sur les retards de vol. Vous travaillerez sur des lignes similaires pour ce tableau de bord"
   ]
  },
  {
   "cell_type": "markdown",
   "id": "dd10689b-39c8-458c-85da-915b9f7b5a86",
   "metadata": {},
   "source": [
    "# Dataset Variables:\n",
    "\n",
    "# Dataset Variables for your reference\n",
    "# The dataset includes the following variables\n",
    "\n",
    "Date: The date of the observation.\n",
    "- Recession: A binary variable indicating recession perion; 1 means it was recession, 0 means it was normal.\n",
    "- Automobile_Sales: The number of vehicles sold during the period.\n",
    "- GDP: The per capita GDP value in USD.\n",
    "- Unemployment_Rate: The monthly unemployment rate.\n",
    "- Consumer_Confidence: A synthetic index representing consumer confidence, which can impact consumer spending and automobile purchases.\n",
    "- Seasonality_Weight: The weight representing the seasonality effect on automobile sales during the period.\n",
    "- Price: The average vehicle price during the period.\n",
    "- Advertising_Expenditure: The advertising expenditure of the company.\n",
    "- Vehicle_Type: The type of vehicles sold; Supperminicar, Smallfamiliycar, Mediumfamilycar, Executivecar, Sports.\n",
    "- Competition: The measure of competition in the market, such as the number of competitors or market share of major manufacturers.\n",
    "- Month: Month of the observation extracted from Date.\n",
    "- Year: Year of the observation extracted from Date."
   ]
  },
  {
   "cell_type": "markdown",
   "id": "913fe239-1768-4046-9eb4-c82f8b4a2d4f",
   "metadata": {},
   "source": [
    "# Variables de l’ensemble de données :\n",
    "\n",
    "# Variables de jeu de données pour votre référence\n",
    "# Le jeu de données comprend les variables suivantes\n",
    "\n",
    "Date : La date de l’observation.\n",
    "- Récession : Une variable binaire indiquant une récession ; 1 signifie que c’était une récession, 0 signifie que c’était normal.\n",
    "- Automobile_Sales : Le nombre de véhicules vendus au cours de la période.\n",
    "- PIB : La valeur du PIB par habitant en USD.\n",
    "- Unemployment_Rate : Le taux de chômage mensuel.\n",
    "- Consumer_Confidence : Un indice synthétique représentant la confiance des consommateurs, qui peut avoir un impact sur les dépenses de consommation et les achats automobiles.\n",
    "- Seasonality_Weight : Le poids représentant l’effet saisonnier sur les ventes d’automobiles au cours de la période.\n",
    "- Prix : Le prix moyen du véhicule au cours de la période.\n",
    "- Advertising_Expenditure : Les dépenses publicitaires de l’entreprise.\n",
    "- Vehicle_Type : Le type de véhicules vendus ; Supperminicar, Smallfamiliycar, Mediumfamilycar, Executivecar, Sports.\n",
    "- Concurrence : La mesure de la concurrence sur le marché, comme le nombre de concurrents ou la part de marché des principaux fabricants.\n",
    "- Mois : Mois de l’observation extraite de Date.\n",
    "- Année : Année de l’observation extraite de Date."
   ]
  },
  {
   "cell_type": "markdown",
   "id": "177b5a02-35dc-4779-ac32-cc03e5e3c8a9",
   "metadata": {},
   "source": [
    "# Requirements to create the expected Dashboard\n",
    "- Two dropdown menus: For choosing report type and year\n",
    "- Each dropdown will be designed in a division\n",
    "\n",
    "\n",
    "The second dropdown (for selecting the year) should be enabled only if when the user selects “Yearly Statistics report” from the previous dropdown, else it should be disabled only. - The second dropdown (for selecting the year) should be enabled only if when the user selects “Yearly Statistics report” from the previous dropdown, else it should be disabled only.\n",
    "\n",
    "\n",
    "- Layout for adding graphs.\n",
    "- Callback functions to return to the layout and display graphs.\n",
    "-First callback will be required to take the input for the report type and set the years -----dropdown to be enabled to take the year input for “Years Statistics Report”, else this dropdown be put on disabled.\n",
    "-In the second callback you will fetch the value of report type and year and return the required graphs appropriately for each type of report\n",
    "- The four plots to be displayed in 2 rows, 2 column representation\n",
    "NOTE:- For every task, you will required to save the screenshort/image, which you will be asked to submit for evaluation at the Final Submission stage."
   ]
  },
  {
   "cell_type": "markdown",
   "id": "6d1e5725-ae5a-4ee5-835c-2ae326c5cadd",
   "metadata": {},
   "source": [
    "# Conditions requises pour créer le tableau de bord attendu\n",
    "- Deux menus déroulants : Pour choisir le type de rapport et l’année\n",
    "- Chaque liste déroulante sera conçue dans une division\n",
    "\n",
    "La deuxième liste déroulante (pour sélectionner l’année) ne doit être activée que si l’utilisateur sélectionne « Rapport de statistiques annuelles » dans la liste déroulante précédente, sinon elle doit être désactivée uniquement. - La deuxième liste déroulante (pour sélectionner l’année) ne doit être activée que si l’utilisateur sélectionne « Rapport de statistiques annuelles » dans la liste déroulante précédente, sinon elle ne doit être désactivée que si elle est désactivée.\n",
    "\n",
    "- Mise en page pour l’ajout de graphiques.\n",
    "- Fonctions de rappel pour revenir à la mise en page et afficher les graphiques.\n",
    "-Un premier rappel sera nécessaire pour prendre l’entrée pour le type de rapport et définir la liste déroulante des années ----- à activer pour prendre l’entrée de l’année pour « Rapport sur les statistiques des années », sinon cette liste déroulante sera désactivée.\n",
    "-Dans le deuxième rappel, vous récupérerez la valeur du type de rapport et de l’année et renverra les graphiques requis de manière appropriée pour chaque type de rapport\n",
    "\n",
    "- Les quatre tracés à afficher sur 2 lignes, représentation sur 2 colonnes\n",
    "REMARQUE : - Pour chaque tâche, vous devrez enregistrer le court-métrage/l’image, que vous devrez soumettre pour évaluation à l’étape de la soumission finale."
   ]
  },
  {
   "cell_type": "markdown",
   "id": "8e771093-1ade-4745-95df-c76f7ce90850",
   "metadata": {},
   "source": [
    "# Get the application skeleton\n",
    "Copy and paste the below command in the terminal to download the skeleton."
   ]
  },
  {
   "cell_type": "code",
   "execution_count": null,
   "id": "3b366185-f469-4037-a8d9-54b4fcce156e",
   "metadata": {},
   "outputs": [],
   "source": []
  },
  {
   "cell_type": "code",
   "execution_count": null,
   "id": "432b078a-9994-4ce0-b121-56c0267531be",
   "metadata": {},
   "outputs": [],
   "source": [
    "Vous pouvez l’utiliser comme code de base pour terminer ce devoir final partie 2"
   ]
  },
  {
   "cell_type": "markdown",
   "id": "131a6ab2-f241-4371-b8d5-e876dddf1202",
   "metadata": {},
   "source": [
    "# Let's create the application\n",
    "# Review\n",
    "Search/Look for Review word in the instructions to learn how commands are used and computations are carried out.\n",
    "\n",
    "# TASKS\n",
    "Search/Look for TASK word in the script to identify places where you need to complete the code."
   ]
  },
  {
   "cell_type": "markdown",
   "id": "c044b803-9f98-429b-ba33-eff363cbbb2b",
   "metadata": {},
   "source": [
    "# Créons l’application\n",
    "# Révision\n",
    "Recherchez/Recherchez le mot Révision dans les instructions pour savoir comment les commandes sont utilisées et les calculs sont effectués.\n",
    "\n",
    "# TÂCHES\n",
    "Recherchez/recherchez le mot TÂCHE dans le script pour identifier les endroits où vous devez compléter le code."
   ]
  },
  {
   "cell_type": "markdown",
   "id": "8a723837-7e17-4fb9-aa1a-00f0912a6258",
   "metadata": {},
   "source": [
    "# TASK 2.1: Create a Dash application and give it a meaningful title\n",
    "- Provide title of the dash application title as\n",
    "\n",
    "- Automobile Sales Statistics Dashboard\n",
    "\n",
    "- Make the heading center aligned\n",
    "set color as #503D36\n",
    "font size as 24\n",
    "\n",
    "Sample: style={‘textAlign’: ‘left’, ‘color’: ‘#000000’, ‘font-size’: 0}\n",
    "REVIEW link\n",
    "NOTE: Once the application is up and running, take the screenshort representing the title of the application and save it as ‘Title.png’"
   ]
  },
  {
   "cell_type": "markdown",
   "id": "8293266a-797e-47cd-bac8-e6d348e74ff8",
   "metadata": {},
   "source": [
    "# TÂCHE 2.1 : Créer une application Dash et lui donner un titre significatif\n",
    " Indiquez le titre de l’application de tiret comme suit :\n",
    "\n",
    "- Tableau de bord des statistiques de ventes automobiles\n",
    "\n",
    "- Alignez le centre de l’en-tête\n",
    "- Définir la couleur comme #503D36\n",
    "- taille de la police comme 24\n",
    "\n",
    "Exemple : style={'textAlign' : 'left', 'color' : '#000000', 'font-size' : 0}\n",
    "\n",
    "REVIEW [Lien](https://dash.plotly.com/dash-html-components/h1)\n",
    "REMARQUE : Une fois l’application opérationnelle, prenez le court métrage représentant le titre de l’application et enregistrez-le sous 'Title.png'"
   ]
  },
  {
   "cell_type": "markdown",
   "id": "14e377e3-e087-4fdb-a2de-52d39517081c",
   "metadata": {},
   "source": [
    "# ce code ne fonctionne pas en dessous"
   ]
  },
  {
   "cell_type": "code",
   "execution_count": null,
   "id": "37970600-a090-48d8-acc1-d87b422c15b1",
   "metadata": {},
   "outputs": [],
   "source": [
    "#!/usr/bin/env python\n",
    "# coding: utf-8\n",
    "\n",
    "# In[ ]:\n",
    "\n",
    "\n",
    "import dash\n",
    "import more_itertools\n",
    "from dash import dcc\n",
    "from dash import html\n",
    "from dash.dependencies import Input, Output\n",
    "import pandas as pd\n",
    "import plotly.graph_objs as go\n",
    "import plotly.express as px\n",
    "\n",
    "# Load the data using pandas\n",
    "data = pd.read_csv('https://cf-courses-data.s3.us.cloud-object-storage.appdomain.cloud/IBMDeveloperSkillsNetwork-DV0101EN-SkillsNetwork/Data%20Files/historical_automobile_sales.csv')\n",
    "\n",
    "# Initialize the Dash app\n",
    "app = dash.Dash(__name__)\n",
    "\n",
    "# Set the title of the dashboard\n",
    "#app.title = \"Automobile Statistics Dashboard\"\n",
    "\n",
    "# TASK 2.2: Add drop-down menus to your dashboard with appropriate titles and options                                 \n",
    "# Create the dropdown menu options\n",
    "dropdown_options = [\n",
    "    {'label': 'Yearly Statistics', 'value': 'Yearly Statistics'},\n",
    "    {'label': 'Recession Period Statistics', 'value': 'Recession Period Statistics'}\n",
    "]\n",
    "# List of years \n",
    "year_list = [i for i in range(1980, 2024, 1)]\n",
    "\n",
    "# Create the layout of the app\n",
    "app.layout = html.Div([\n",
    "    #TASK 2.1 Add title to the dashboard\n",
    "    html.H1(\"Automobile Sales Statistics Dashboard\",\n",
    "    style={'textAlign': 'left', 'color': '#503D36','font-size': 24}), #May include style for title\n",
    "    html.Div([#TASK 2.2: Add two dropdown menus\n",
    "        html.Label(\"Select Statistics:\"),\n",
    "        dcc.Dropdown(\n",
    "            id='dropdown-statistics',\n",
    "            options=[\n",
    "                {'label': 'Yearly Statistics', 'value': 'Yearly Statistics'},\n",
    "                {'label': 'Recession Period Statistics', 'value' : 'Recession Period Statistics'} \n",
    "                ],\n",
    "            style={'width': '80%', 'padding': '3px', 'font-size': 30, 'text-align-last': 'center'}\n",
    "        )\n",
    "    ]),\n",
    "    html.Div(dcc.Dropdown(\n",
    "            id='select-year',\n",
    "            options=[{'label': i, 'value': i} for i in year_list],\n",
    "            value='i',\n",
    "            style={'width': '80%', 'padding': '3px', 'font-size': 30, 'text-align-last': 'center'}\n",
    "\n",
    "        )),\n",
    "    html.Div([#TASK 2.3: Add a division for output display\n",
    "    html.Div(id='output-container', className='chart-grid', style={'display': 'flex'}),])\n",
    "])\n",
    "#TASK 2.4: Creating Callbacks\n",
    "# Define the callback function to update the input container based on the selected statistics\n",
    "@app.callback(\n",
    "    Output(component_id='select year', component_property='disabled'),\n",
    "    Input(component_id='dropdown-statistics',component_property='value'))\n",
    "\n",
    "def update_input_container(selected_statistics):\n",
    "    if selected_statistics =='Yearly Statistics': \n",
    "        return False\n",
    "    else: \n",
    "        return True\n",
    "\n",
    "#Callback for plotting\n",
    "# Define the callback function to update the input container based on the selected statistics\n",
    "@app.callback(\n",
    "    Output(component_id='output-container', component_property='children'),\n",
    "    [Input(component_id='select-year', component_property='value'), Input(component_id='dropdown-statistics', component_property='value')])\n",
    "\n",
    "\n",
    "def update_output_container(selected_statistics, input_year):\n",
    "    if selected_statistics == 'Recession Period Statistics':\n",
    "        # Filter the data for recession periods\n",
    "        recession_data = data[data['Recession'] == 1]\n",
    "        \n",
    "#TASK 2.5: Create and display graphs for Recession Report Statistics\n",
    "\n",
    "#Plot 1 Automobile sales fluctuate over Recession Period (year wise)\n",
    "        # use groupby to create relevant data for plotting\n",
    "        yearly_rec=recession_data.groupby('Year')['Automobile_Sales'].mean().reset_index()\n",
    "        R_chart1 = dcc.Graph(\n",
    "            figure=px.line(yearly_rec, \n",
    "                x='Year',\n",
    "                y='Automobile_Sales',\n",
    "                title=\"Average Automobile Sales fluctuation over Recession Period\"))\n",
    "\n",
    "#Plot 2 Calculate the average number of vehicles sold by vehicle type\n",
    "#Graphique 2 : Calculez le nombre moyen de véhicules vendus par type de véhicule et représentez-le sous forme de graphique à barres      \n",
    "        # use groupby to create relevant data for plotting\n",
    "        average_sales = recession_data.groupby('Vehicle_Type')['Automobile_Sales'].mean().reset_index()                           \n",
    "        R_chart2  = dcc.Graph(\n",
    "            figure=px.bar(average_sales,\n",
    "            x='Vehicle Type',\n",
    "            y='Automobile sales',\n",
    "            title='Average Vehicle Sales for Each Vehicle Category'.format(input_year)))\n",
    "\n",
    "\n",
    "        \n",
    "# Plot 3 Pie chart for total expenditure share by vehicle type during recessions\n",
    "# Diagramme circulaire pour la part des dépenses totales par type de véhicule pendant les récessions\n",
    "        # use groupby to create relevant data for plotting\n",
    "        exp_rec= recession_data.groupby('Vehicle_Type')['Advertising_Expenditure'].sum().reset_index()\n",
    "        R_chart3 = dcc.Graph(\n",
    "                    figure=px.pie(exp_rec,\n",
    "                    values='Advertising_Expenditure',\n",
    "                 names='Vehicle_Type',\n",
    "                 title=\"Total Advertising Expenditure Share of Vehicle Type During Recession\"\n",
    "                ))\n",
    "\n",
    "# Plot 4 bar chart for the effect of unemployment rate on vehicle type and sales\n",
    "# Graphique 4 : Développer un graphique à barres pour l’effet du taux de chômage sur le type de véhicule et les ventes\n",
    "        unemp_data= recession_data.groupby(['Vehicle_Type', 'unemployment_rate'])['Automobile_Sales'].mean().reset_index()\n",
    "        R_chart4 = dcc.Graph(\n",
    "              figure=px.bar(\n",
    "                  unemp_data,\n",
    "                  x='unemployment_rate',\n",
    "                  y='Automobile_Sales',\n",
    "                  color='Vehicle_Type',\n",
    "                  labels={'unemployment_rate': 'Unemployment Rate', 'Automobile_Sales': 'Average Automobile Sales'},\n",
    "                  title=\"Effect of Unemployment Rate on Sales of various Vehicle Types\")\n",
    "          )\n",
    "\n",
    "        return [\n",
    "            html.Div(className='chart-item', children=[html.Div(children=R_chart1),html.Div(children=R_chart2)],style={'display': 'flex'}),\n",
    "            html.Div(className='chart-item', children=[html.Div(children=R_chart3),html.Div(children=R_chart2)],style={'display': 'flex'})\n",
    "            ]\n",
    "\n",
    "# TASK 2.6: Create and display graphs for Yearly Report Statistics\n",
    " # Yearly Statistic Report Plots                             \n",
    "    elif (input_year and selected_statistics=='Yearly Statistics') :\n",
    "        yearly_data = data[data['Year'] == input_year]\n",
    "                              \n",
    "#TASK 2.6: Creating Graphs Yearly data\n",
    "                              \n",
    "#plot 1 Yearly Automobile sales using line chart for the whole period.\n",
    "# Graphique 1 : Ventes annuelles d’automobiles à l’aide d’un graphique linéaire pour toute la période.\n",
    "        yas= data.groupby('Year')['Automobile_Sales'].mean().reset_index()\n",
    "        Y_chart1 = dcc.Graph(\n",
    "            figure=px.line(\n",
    "                yas,\n",
    "                x='Year',\n",
    "                y='Automobile_Sales',\n",
    "                title='Yearly Average Automobile Sales',\n",
    "                hue='Year',\n",
    "                style='Year',\n",
    "                markers='o',\n",
    "                err_style=None\n",
    "            ))\n",
    "            \n",
    "            \n",
    "# Plot 2 Total Monthly Automobile sales using line chart.\n",
    "# Graphique 2 : Ventes mensuelles totales d’automobiles à l’aide d’un graphique linéaire.   \n",
    "        Mas= yearly_data.groupby('Monthly')['Automobile_Sales'].sum().reset_index()\n",
    "        Y_chart2 = dcc.Graph(\n",
    "            figure=px.line(\n",
    "                Mas,\n",
    "                x='Monthly',\n",
    "                y='Automobile_Sales',\n",
    "                title='Monthly Automobile Sales for the year {}'.format(input_year),\n",
    "                hue='Vehicle_Type',\n",
    "                style='Vehicle_Type',\n",
    "                markers='o',\n",
    "                err_style=None\n",
    "            ))                            \n",
    "\n",
    "            \n",
    "\n",
    "# Plot 3 bar chart for average number of vehicles sold during the given year\n",
    "# Graphique à barres pour le nombre moyen de véhicules vendus au cours de l’année donnée\n",
    "        avr_vdata=yearly_data.groupby('Year')['Automobile_Sales'].mean().reset_index()\n",
    "        Y_chart3 = dcc.Graph( \n",
    "            figure=px.bar(\n",
    "                avr_vdata,\n",
    "                x= 'Year',\n",
    "                y= 'Automobile_Sales',\n",
    "                title='Average Vehicles Sold by Vehicle Type in the year {}'.format(input_year)))\n",
    "\n",
    "#Plot 4 Total Advertisement Expenditure for each vehicle using pie chart\n",
    "# Graphique 4 Dépenses publicitaires totales pour chaque véhicule à l’aide d’un graphique circulaire\n",
    "        exp_data=yearly_data.groupby('Vehicle_Type')['Advertising_Expenditure'].sum().reset_index()\n",
    "        Y_chart4 = dcc.Graph(\n",
    "            figure=px.pie(\n",
    "                ad_exP_by_vcle,\n",
    "                values='Advertising_Expenditure',\n",
    "                names='Vehicle_Type',\n",
    "                title='Total Advertising Expenditure for Vehicle Type in the year {}'.format(input_year)\n",
    "        ))\n",
    "\n",
    "#TASK 2.6: Returning the graphs for displaying Yearly data\n",
    "        return [\n",
    "                html.Div(className='chart-item', children=[html.Div(children=Y_chart1),html.Div(children=Y_chart3)],style={'display': 'flex'}),\n",
    "                html.Div(className='chart-item', children=[html.Div(children=Y_chart3),html.Div(children=Y_chart3)],style={'display': 'flex'})\n",
    "                ]\n",
    "        \n",
    "    else:\n",
    "        return None\n",
    "\n",
    "# Run the Dash app\n",
    "if __name__ == '__main__':\n",
    "    app.run_server(debug=True)"
   ]
  },
  {
   "cell_type": "markdown",
   "id": "733bf3cc-ea08-4a0a-b2b8-3ef7fe44a0cb",
   "metadata": {},
   "source": [
    "# ce code en dessous  fonctionne  "
   ]
  },
  {
   "cell_type": "code",
   "execution_count": null,
   "id": "59f1e380-4acf-4565-990f-b61383b35f7a",
   "metadata": {},
   "outputs": [],
   "source": [
    "#!/usr/bin/env python\n",
    "# coding: utf-8\n",
    "\n",
    "# In[ ]:\n",
    "\n",
    "\n",
    "import dash\n",
    "import more_itertools\n",
    "from dash import dcc\n",
    "from dash import html\n",
    "from dash.dependencies import Input, Output\n",
    "import pandas as pd\n",
    "import plotly.graph_objs as go\n",
    "import plotly.express as px\n",
    "\n",
    "# Load the data using pandas\n",
    "data = pd.read_csv('https://cf-courses-data.s3.us.cloud-object-storage.appdomain.cloud/IBMDeveloperSkillsNetwork-DV0101EN-SkillsNetwork/Data%20Files/historical_automobile_sales.csv')\n",
    "\n",
    "# Initialize the Dash app\n",
    "app = dash.Dash(__name__)\n",
    "\n",
    "# Set the title of the dashboard\n",
    "#app.title = \"Automobile Statistics Dashboard\"\n",
    "\n",
    "#---------------------------------------------------------------------------------\n",
    "# Create the dropdown menu options\n",
    "dropdown_options = [\n",
    "    {'label': 'Yearly Statistics', 'value': 'Yearly Statistics'},\n",
    "    {'label': 'Recession Period Statistics', 'value': 'Recession Period Statistics'}\n",
    "]\n",
    "# List of years \n",
    "year_list = [i for i in range(1980, 2024, 1)]\n",
    "#---------------------------------------------------------------------------------------\n",
    "# Create the layout of the app\n",
    "app.layout = html.Div([\n",
    "    #TASK 2.1 Add title to the dashboard\n",
    "    html.H1(\"Automobile Statistics Dashboard\"),#May include style for title\n",
    "    html.Div([#TASK 2.2: Add two dropdown menus\n",
    "        html.Label(\"Select Statistics:\"),\n",
    "        dcc.Dropdown(\n",
    "            id='dropdown-statistics',\n",
    "            options=dropdown_options,\n",
    "            value='Select Statistics',\n",
    "            placeholder='Select a report type',\n",
    "            style={'textAlign': 'center', 'width': '80%', 'font-size': '20px', 'padding': '3px'}\n",
    "            \n",
    "        )\n",
    "    ]),\n",
    "    html.Div(dcc.Dropdown(\n",
    "            id='select-year',\n",
    "            options=[{'label': i, 'value': i} for i in year_list],\n",
    "            value='1980',\n",
    "            placeholder='Select year',\n",
    "            style={'textAlign': 'center', 'width': '80%', 'font-size': '20px', 'padding': '3px'}\n",
    "        )),\n",
    "    html.Div([#TASK 2.3: Add a division for output display\n",
    "    html.Div(id='output-container', className='chart-grid', style={'display': 'flex'}),])\n",
    "])\n",
    "#TASK 2.4: Creating Callbacks\n",
    "# Define the callback function to update the input container based on the selected statistics\n",
    "@app.callback(\n",
    "    Output(component_id='output-container', component_property='children'),\n",
    "    [Input(component_id='dropdown-statistics', component_property='value'),\n",
    "    Input(component_id='select-year', component_property='value')])\n",
    "\n",
    "\n",
    "\n",
    "def update_output_container(selected_statistics, input_year):\n",
    "    if selected_statistics == 'Recession Period Statistics':\n",
    "        # Filter the data for recession periods\n",
    "        recession_data = data[data['Recession'] == 1]\n",
    "        \n",
    "#TASK 2.5: Create and display graphs for Recession Report Statistics\n",
    "\n",
    "#Plot 1 Automobile sales fluctuate over Recession Period (year wise)\n",
    "        # use groupby to create relevant data for plotting\n",
    "        yearly_rec=recession_data.groupby('Year')['Automobile_Sales'].mean().reset_index()\n",
    "        R_chart1 = dcc.Graph(\n",
    "            figure=px.line(yearly_rec, \n",
    "                x='Year',\n",
    "                y='Automobile_Sales',\n",
    "                title=\"Average Automobile Sales fluctuation over Recession Period\"))\n",
    "\n",
    "#Plot 2 Calculate the average number of vehicles sold by vehicle type\n",
    "#Graphique 2 : Calculez le nombre moyen de véhicules vendus par type de véhicule et représentez-le sous forme de graphique à barres       \n",
    "        # use groupby to create relevant data for plotting\n",
    "        average_sales = recession_data.groupby('Vehicle_Type')['Automobile_Sales'].mean().reset_index()                           \n",
    "        R_chart2  = dcc.Graph(\n",
    "            figure=px.bar(average_sales,\n",
    "            x='Vehicle_Type',\n",
    "            y='Automobile_Sales',\n",
    "            title='Average Vehicle Sales for Each Vehicle Category'.format(input_year))\n",
    "\n",
    "            )\n",
    "# Plot 3 Pie chart for total expenditure share by vehicle type during recessions\n",
    "# Diagramme circulaire pour la part des dépenses totales par type de véhicule pendant les récessions\n",
    "        # use groupby to create relevant data for plotting\n",
    "        exp_rec= recession_data.groupby('Vehicle_Type')['Advertising_Expenditure'].sum().reset_index()\n",
    "        R_chart3 = dcc.Graph(\n",
    "                    figure=px.pie(exp_rec,\n",
    "                    values='Advertising_Expenditure',\n",
    "                 names='Vehicle_Type',\n",
    "                 title=\"Total Advertising Expenditure Share of Vehicle Type During Recession\"\n",
    "                ))\n",
    "\n",
    "# Plot 4 bar chart for the effect of unemployment rate on vehicle type and sales\n",
    "# Graphique 4 : Développer un graphique à barres pour l’effet du taux de chômage sur le type de véhicule et les ventes\n",
    "        unemp_data= recession_data.groupby(['Vehicle_Type', 'unemployment_rate'])['Automobile_Sales'].mean().reset_index()\n",
    "        R_chart4 = dcc.Graph(\n",
    "              figure=px.bar(\n",
    "                  unemp_data,\n",
    "                  x='unemployment_rate',\n",
    "                  y='Automobile_Sales',\n",
    "                  color='Vehicle_Type',\n",
    "                  labels={'unemployment_rate': 'Unemployment Rate', 'Automobile_Sales': 'Average Automobile Sales'},\n",
    "                  title=\"Effect of Unemployment Rate on Sales of various Vehicle Types\")\n",
    "          )\n",
    "        \n",
    "\n",
    "\n",
    "        return [\n",
    "            html.Div(className='chart-item', children=[html.Div(children=R_chart1),html.Div(children=R_chart2)],style={'display': 'flex'}),\n",
    "            html.Div(className='chart-item', children=[html.Div(children=R_chart3),html.Div(children=R_chart4)],style={'display': 'flex'})\n",
    "            ]\n",
    "\n",
    "# TASK 2.6: Create and display graphs for Yearly Report Statistics\n",
    " # Yearly Statistic Report Plots                             \n",
    "    elif (input_year and selected_statistics=='Yearly Statistics') :\n",
    "        yearly_data = data[data['Year'] == input_year]\n",
    "                              \n",
    "#TASK 2.5: Creating Graphs Yearly data\n",
    "                              \n",
    "#plot 1 Yearly Automobile sales using line chart for the whole period.\n",
    "# Graphique 1 : Ventes annuelles d’automobiles à l’aide d’un graphique linéaire pour toute la période.\n",
    "    \n",
    "        yas= data.groupby('Year')['Automobile_Sales'].mean().reset_index()\n",
    "        Y_chart1 = dcc.Graph(\n",
    "            figure=px.line(\n",
    "                yas,\n",
    "                x='Year',\n",
    "                y='Automobile_Sales',\n",
    "                title='Yearly Average Automobile Sales'\n",
    "                \n",
    "            ))\n",
    "            \n",
    "            \n",
    "# Plot 2 Total Monthly Automobile sales using line chart.\n",
    "# Graphique 2 : Ventes mensuelles totales d’automobiles à l’aide d’un graphique linéaire.   \n",
    "        Mas= yearly_data.groupby('Month')['Automobile_Sales'].sum().reset_index()\n",
    "        Y_chart2 = dcc.Graph(\n",
    "            figure=px.line(\n",
    "                Mas,\n",
    "                x='Month',\n",
    "                y='Automobile_Sales',\n",
    "                title='Monthly Automobile Sales for the year {}'.format(input_year)\n",
    "                \n",
    "            ))                            \n",
    "\n",
    "            \n",
    "\n",
    "# Plot 3 bar chart for average number of vehicles sold during the given year\n",
    "# Graphique à barres pour le nombre moyen de véhicules vendus au cours de l’année donnée\n",
    "        avr_vdata=yearly_data.groupby('Vehicle_Type')['Automobile_Sales'].mean().reset_index()\n",
    "        Y_chart3 = dcc.Graph( \n",
    "            figure=px.bar(\n",
    "                avr_vdata,\n",
    "                x= 'Vehicle_Type',\n",
    "                y= 'Automobile_Sales',\n",
    "                title='Average Vehicles Sold by Vehicle Type in the year {}'.format(input_year)))\n",
    "\n",
    "#Plot 4 Total Advertisement Expenditure for each vehicle using pie chart\n",
    "# Graphique 4 Dépenses publicitaires totales pour chaque véhicule à l’aide d’un graphique circulaire\n",
    "        exp_data=yearly_data.groupby('Vehicle_Type')['Advertising_Expenditure'].sum().reset_index()\n",
    "        Y_chart4 = dcc.Graph(\n",
    "                figure=px.pie(\n",
    "                    exp_data, values='Advertising_Expenditure',\n",
    "                    names='Vehicle_Type',\n",
    "                    title='Total Advertising Expenditure for Vehicle Type in the year {}'.format(input_year)\n",
    "                    )\n",
    "            )\n",
    "#TASK 2.6: Returning the graphs for displaying Yearly data\n",
    "        return [\n",
    "                html.Div(className='chart-item', children=[html.Div(children=Y_chart1),html.Div(children=Y_chart2)],style={'display': 'flex'}),\n",
    "                html.Div(className='chart-item', children=[html.Div(children=Y_chart3),html.Div(children=Y_chart4)],style={'display': 'flex'})\n",
    "                ]\n",
    "        \n",
    "        \n",
    "    else:\n",
    "        return None\n",
    "\n",
    "# Run the Dash app\n",
    "if __name__ == '__main__':\n",
    "    app.run_server(debug=True)\n"
   ]
  },
  {
   "cell_type": "code",
   "execution_count": null,
   "id": "e66d8792-52df-4323-9fc9-b44a02c1b290",
   "metadata": {},
   "outputs": [],
   "source": [
    "Salut @ MAHI NDOUNG\n",
    "\n",
    "Merci pour le message. Nous sommes heureux\n",
    "\n",
    "Dans le code fourni, le graphique à barres indiquant le « nombre moyen de véhicules vendus par type de véhicule » pendant les périodes de récession représente les données agrégées sur toutes les périodes de récession couvertes par l'ensemble de données. Il ne représente pas des chiffres pour une année spécifique, mais plutôt les ventes moyennes pour toutes les années marquées comme des périodes de récession dans les données.\n",
    "\n",
    "Voici la partie spécifique du code qui génère ce graphique à barres :"
   ]
  },
  {
   "cell_type": "code",
   "execution_count": null,
   "id": "cafc5017-9899-4108-a65e-e40ac37cf607",
   "metadata": {},
   "outputs": [],
   "source": [
    "average_sales = recession_data.groupby('Vehicle_Type')['Automobile_Sales'].mean().reset_index()\n",
    "R_chart2  = dcc.Graph(\n",
    "    figure=px.bar(average_sales,\n",
    "    x='Vehicle_Type',\n",
    "    y='Automobile_Sales',\n",
    "    title=\"Average Number of Vehicles Sold by Vehicle Type\"))"
   ]
  },
  {
   "cell_type": "code",
   "execution_count": null,
   "id": "c9dc0845-d4f2-4452-9b0b-a5ed65c41361",
   "metadata": {},
   "outputs": [],
   "source": [
    "Ce code filtre les données pour inclure uniquement les périodes de récession, puis calcule le nombre moyen de véhicules vendus pour chaque type de véhicule pendant ces périodes. La ligne groupby ('Vehicle_Type') ['Automobile_Sales'] .mean () .reset_index () garantit que la moyenne est prise pour toutes les périodes de récession plutôt que\n",
    "\n",
    "Si vous souhaitez que le graphique à barres représente les chiffres des ventes pour une année de récession spécifique, vous devez modifier la logique de filtrage et de regroupement pour isoler les différentes années des périodes de récession.\n",
    "\n",
    "Deuxièmement, vous pouvez utiliser le même environnement virtuel dans Jupyter Notebook et VSCode. Il n'est pas nécessaire de créer un nouvel environnement virtuel spécifiquement pour VSCode. Cependant, vous devez vous assurer que VSCode est configuré pour utiliser le même environnement virtuel que celui que vous avez configuré avec Miniconda\n",
    "\n",
    "Bon apprentissage !\n",
    "\n",
    "Cordialement, \n",
    "Niveditha "
   ]
  },
  {
   "cell_type": "code",
   "execution_count": null,
   "id": "6adfb34e-3760-4cd2-87d1-b82a586fbe6b",
   "metadata": {},
   "outputs": [],
   "source": []
  },
  {
   "cell_type": "code",
   "execution_count": null,
   "id": "94f922d3-6bf2-4398-92fb-58a6e8f32cc8",
   "metadata": {},
   "outputs": [],
   "source": [
    "Ce n'est PAS ce qui désactive la sélection de l'année dans le code. En fait, c'est ce qui permet de sélectionner l'année."
   ]
  },
  {
   "cell_type": "markdown",
   "id": "56bc6fd6-c67d-4042-9a0a-8554ddff07fa",
   "metadata": {},
   "source": [
    "# TASK 2.2: Add drop-down menus to your dashboard with appropriate titles and options"
   ]
  },
  {
   "cell_type": "markdown",
   "id": "7ca2790f-6353-49b7-8295-8dca236df706",
   "metadata": {},
   "source": [
    "# TASK 2.2: Add drop-down menus to your dashboard with appropriate titles and options\n",
    "Create FIRST dropdown menu and add two Report options to it.\n",
    "Below is the skeleton:"
   ]
  },
  {
   "cell_type": "markdown",
   "id": "e841b8d3-2149-4b63-b220-9aabca3a8849",
   "metadata": {},
   "source": [
    "# TÂCHE 2.2 : Ajouter des menus déroulants à votre tableau de bord avec des titres et des options appropriés\n",
    "Créer le menu déroulant FIRST et y ajouter deux options de rapport.\n",
    "Ci-dessous le squelette :"
   ]
  },
  {
   "cell_type": "code",
   "execution_count": null,
   "id": "c9e8c0d3-ada8-4128-ba62-145db4e8ebd7",
   "metadata": {},
   "outputs": [],
   "source": [
    "  dcc.Dropdown(id='....', \n",
    "                   options=[\n",
    "                           {'label': '....', 'value': '...'},\n",
    "                           {'label': '....', 'value': '...'}\n",
    "                           ],\n",
    "                  placeholder='....',\n",
    "                  style={....})"
   ]
  },
  {
   "cell_type": "markdown",
   "id": "f310c281-71a0-40a4-bc36-0133cbe27bad",
   "metadata": {},
   "source": [
    "Parameters to be updated in dcc.Dropdown:\n",
    "\n",
    "- Set id as 'dropdown-statistics'.\n",
    "\n",
    "- Set options to list containing dictionaries with key as label and user provided value for labels in value.\n",
    "\n",
    "1st option\n",
    "\n",
    "-label: Yearly Statistics\n",
    "-value: Yearly Statistics\n",
    "\n",
    "\n",
    "\n",
    "2nd option\n",
    "\n",
    "-label: Recession Period Statistics\n",
    "-value: Recession Period Statistics\n",
    "\n",
    "- Set placeholder to Select a report type.\n",
    "\n",
    "- Set value to Select Statistics\n",
    "\n",
    "- OPTIONAL: Set width as 80%, padding as 3px, font size as 20px, text-align-last as center inside style parameter dictionary."
   ]
  },
  {
   "cell_type": "markdown",
   "id": "5c7ffb1a-2849-49e4-b49d-7f89d144d1bb",
   "metadata": {},
   "source": [
    "Paramètres à mettre à jour dans dcc.Dropdown :\n",
    "\n",
    "- Définissez id comme 'dropdown-statistics'.\n",
    "\n",
    "- Définissez les options pour lister les dictionnaires contenant une clé comme étiquette et une valeur fournie par l’utilisateur pour les étiquettes dans la valeur.\n",
    "\n",
    "1ère option\n",
    "\n",
    "-label : Statistiques annuelles\n",
    "-value : Statistiques annuelles\n",
    "\n",
    "\n",
    "2ème option\n",
    "\n",
    "-label : Statistiques de la période de récession\n",
    "-value : Statistiques de la période de récession\n",
    "\n",
    "- Définissez l’espace réservé sur Sélectionner un type de rapport.\n",
    "\n",
    "- Définissez la valeur sur Sélectionner les statistiques\n",
    "\n",
    "- FACULTATIF : Définissez la largeur à 80 %, le remplissage à 3 px, la taille de la police à 20 px, text-align-last au centre du dictionnaire des paramètres de style.\n"
   ]
  },
  {
   "cell_type": "code",
   "execution_count": null,
   "id": "6b1fc0ee-b049-4617-840c-6f9f21f1222a",
   "metadata": {},
   "outputs": [],
   "source": [
    "# Create SECOND dropdown menu for selecting the YEAR options to it"
   ]
  },
  {
   "cell_type": "code",
   "execution_count": null,
   "id": "3cf7ba93-a086-4219-82be-fd8dff83fcd0",
   "metadata": {},
   "outputs": [],
   "source": [
    "# Créer un DEUXIÈME menu déroulant pour sélectionner les options ANNÉE"
   ]
  },
  {
   "cell_type": "code",
   "execution_count": null,
   "id": "63c28a14-16ed-4231-bd91-d8bdcce3b28a",
   "metadata": {},
   "outputs": [],
   "source": [
    "  dcc.Dropdown(id='....', \n",
    "                   options=[{'label': i, 'value': i} for i in year_list],\n",
    "                  placeholder='....',\n",
    "                  style={....})"
   ]
  },
  {
   "cell_type": "code",
   "execution_count": null,
   "id": "7fc21ee6-fdd8-460c-ad32-77b802ae0c76",
   "metadata": {},
   "outputs": [],
   "source": [
    "- you can pass a list of years as options in this dropdowwn\n",
    "[hint: year_list = [i for i in range(1980, 2024, 1)]]\n",
    "- Set id to ‘select-year’"
   ]
  },
  {
   "cell_type": "code",
   "execution_count": null,
   "id": "f3a1a905-999e-46d2-aa78-afc796ac9ca7",
   "metadata": {},
   "outputs": [],
   "source": [
    "- Vous pouvez passer une liste d’années comme options dans ce dropdowwn\n",
    "[indice : year_list = [i pour i dans l’intervalle(1980, 2024, 1)]]\n",
    "- Définissez id sur 'select-year'"
   ]
  },
  {
   "cell_type": "markdown",
   "id": "d5951410-2275-42a6-b534-f34f4e010c61",
   "metadata": {},
   "source": [
    "Revoir [Lien](https://dash.plotly.com/dash-core-components/dropdown)\n",
    "\n",
    "NOTE: Take the screenshot representing the two dropdowns with appropriate titles and options and save it as‘Dropdown.png’"
   ]
  },
  {
   "cell_type": "markdown",
   "id": "707264aa-703b-41cf-9e73-cecbacf93faa",
   "metadata": {},
   "source": [
    "# TASK 2.3: Add a division for output display with appropriate id and classname property"
   ]
  },
  {
   "cell_type": "markdown",
   "id": "e85b8dbf-c862-4acf-8b5c-2f653d628eb6",
   "metadata": {},
   "source": [
    "# TÂCHE 2.3 : Ajouter une division pour l’affichage de la sortie avec l’id et la propriété classname appropriés"
   ]
  },
  {
   "cell_type": "code",
   "execution_count": null,
   "id": "5620758b-afb4-4965-a422-24ef48d46506",
   "metadata": {},
   "outputs": [],
   "source": [
    "Add an inner division to display the output"
   ]
  },
  {
   "cell_type": "code",
   "execution_count": null,
   "id": "be85f985-d99e-431f-9716-aabad43d264f",
   "metadata": {},
   "outputs": [],
   "source": [
    "Ajouter une division interne pour afficher la sortie"
   ]
  },
  {
   "cell_type": "code",
   "execution_count": null,
   "id": "d9127d0c-3c85-43ef-8731-6f1592444dd7",
   "metadata": {},
   "outputs": [],
   "source": [
    "html.Div([\n",
    "    html.Div(id='..........', className='.........., style={'display': 'flex'}),\n",
    "])"
   ]
  },
  {
   "cell_type": "markdown",
   "id": "477e7889-1699-4e2b-b0a5-324f631e2e0c",
   "metadata": {},
   "source": [
    "- Set id to output-container\n",
    "- className to chart-grid\n",
    "- style it to be displayed as a flex\n",
    "\n",
    "For reference, observe how code under REVIEW3 has been structured.\n",
    "\n",
    "We will pass the plots as returned by the callback function into this output-container later refering to the class name of it.\n",
    "\n",
    "NOTE: Take the screenshort representing the code snippet wherein you have created the output division and save it as ‘Outputdiv.png’"
   ]
  },
  {
   "cell_type": "code",
   "execution_count": null,
   "id": "70f67388-a1de-4c70-bf9c-94764e0704ab",
   "metadata": {},
   "outputs": [],
   "source": [
    "- Définissez id sur output-container\n",
    "- className en grille de graphiques\n",
    "- le styliser pour qu’il soit affiché en flex\n",
    "\n",
    "Pour référence, observez comment le code sous REVIEW3 a été structuré.\n",
    "\n",
    "Nous passerons les tracés renvoyés par la fonction de rappel dans ce conteneur de sortie en nous référant plus tard au nom de la classe de celui-ci.\n",
    "\n",
    "REMARQUE : Prenez le court métrage représentant l’extrait de code dans lequel vous avez créé la division de sortie et enregistrez-le sous 'Outputdiv.png'"
   ]
  },
  {
   "cell_type": "markdown",
   "id": "ea791428-93dc-4746-9004-635aa4f132e0",
   "metadata": {},
   "source": [
    "# TASK 2.4: Creating Callbacks; Define the callback function to update the input container based on the selected statistics and the output container"
   ]
  },
  {
   "cell_type": "markdown",
   "id": "156ef54d-458f-46ed-abb0-ab0860e1a6ee",
   "metadata": {},
   "source": [
    "# TÂCHE 2.4 : Créer des rappels ; Définissez la fonction de rappel pour mettre à jour le conteneur d’entrée en fonction des statistiques sélectionnées et du conteneur de sortie"
   ]
  },
  {
   "cell_type": "code",
   "execution_count": null,
   "id": "18cc2567-d59e-413f-91d4-a46ac53ca109",
   "metadata": {},
   "outputs": [],
   "source": [
    "We need two callbacks:-\n",
    "1. To enable or disable the input container based on the selected statistics.The selected statistics here can be either Recession Statistics or Yearly Statistics.\n",
    "2. To plot the output graphs for the respective report types.\n",
    "\n",
    "Once the choice is made by the user, if it is yearly statistics, the input container shall get enabled else it will be in disabled state\n",
    "\n",
    "This means the *output component* will be the *select year*,\n",
    "while *input component* will be *dropdown-statistics*\n",
    "\n",
    "and then we can make use of the if-else statement to return appropriate value to the component-property *disabled*. Refer to the below code snippet:"
   ]
  },
  {
   "cell_type": "markdown",
   "id": "865c71bf-307b-4c0b-8daa-5f4bfee433e2",
   "metadata": {},
   "source": [
    "Nous avons besoin de deux rappels : -\n",
    "1. Activer ou désactiver le conteneur d’entrée en fonction des statistiques sélectionnées. Les statistiques sélectionnées ici peuvent être des statistiques de récession ou des statistiques annuelles.\n",
    "\n",
    "2. Tracer les graphiques de sortie pour les types de rapports respectifs.\n",
    "\n",
    "Une fois le choix fait par l’utilisateur, s’il s’agit de statistiques annuelles, le conteneur d’entrée sera activé sinon il sera en état désactivé\n",
    "\n",
    "Cela signifie que la *composante de production* sera *l’année sélectionnée* ,\n",
    "tandis que le *composant d’entrée* sera *dropdown-statistics*\n",
    "\n",
    "Et puis nous pouvons utiliser l’instruction if-else pour renvoyer la valeur appropriée à la propriété component-disabled *disabled*. Reportez-vous à l’extrait de code ci-dessous :"
   ]
  },
  {
   "cell_type": "code",
   "execution_count": null,
   "id": "f23e69bb-f2e1-4163-ba26-4b3b4ccfb638",
   "metadata": {},
   "outputs": [],
   "source": [
    "@app.callback(\n",
    "    Output(component_id='.....', component_property='disabled'),\n",
    "    Input(component_id='....',component_property='....'))\n",
    "\n",
    "def update_input_container(.....):\n",
    "    if ..... =='Yearly Statistics': \n",
    "        return False\n",
    "    else: \n",
    "        return True"
   ]
  },
  {
   "cell_type": "code",
   "execution_count": null,
   "id": "2cda602d-bb01-457e-bd42-5d9f514950b7",
   "metadata": {},
   "outputs": [],
   "source": [
    "# Callback for plotting\n",
    "Our layout has 1 output container, and we will be required to return the plots developed *dcc.Graph()* into this container *as divisions*.\n",
    "For each report we need to display four plots.\n",
    "we will make use of returning division to the outer-container styled as flex for 2x2 display.\n",
    "\n",
    "For this callback, there will be two input components : *select-year* and *dropdown-statistics*\n",
    "\n",
    "While the output should be displayed in the *output-container*, as we opt to display the graphs with divisions using dcc.Graph(), we will make use of *children* property here"
   ]
  },
  {
   "cell_type": "code",
   "execution_count": null,
   "id": "20a88f43-41b5-4f58-adec-5c4b628c935c",
   "metadata": {},
   "outputs": [],
   "source": [
    "# Callback pour le traçage\n",
    "Notre mise en page a 1 conteneur de sortie, et nous devrons renvoyer les tracés développés *dcc.Graph()* dans ce conteneur sous forme de *as divisions*.\n",
    "Pour chaque rapport, nous devons afficher quatre graphiques.\n",
    "Nous utiliserons la division de retour dans le conteneur extérieur de style flex pour l’affichage 2x2.\n",
    "\n",
    "Pour ce callback, il y aura deux composants d’entrée : select-year et dropdown-statistics\n",
    "\n",
    "Bien que la sortie doive être affichée dans le *conteneur de sortie*, comme nous choisissons d’afficher les graphiques avec des divisions en utilisant dcc.Graph(), nous utiliserons la propriété *children* ici\n"
   ]
  },
  {
   "cell_type": "code",
   "execution_count": null,
   "id": "c78cd782-3303-43de-ae97-19bfb46dc4d6",
   "metadata": {},
   "outputs": [],
   "source": [
    "@app.callback(\n",
    "    Output(component_id='....', component_property='children'),\n",
    "    [Input(component_id='....', component_property='...'), Input(component_id='....', component_property='...')])"
   ]
  },
  {
   "cell_type": "code",
   "execution_count": null,
   "id": "87216045-a815-4f5c-8230-5aaac6710677",
   "metadata": {},
   "outputs": [],
   "source": [
    "You need to create seperate dataframe from the dataset according to the report type.\n",
    "If the selected report is 'Recession Period Statistics', you can fetch the data by using conditions like below:-"
   ]
  },
  {
   "cell_type": "code",
   "execution_count": null,
   "id": "891542fd-7b39-45f2-b701-7c585da2f862",
   "metadata": {},
   "outputs": [],
   "source": [
    "Vous devez créer un dataframe distinct du dataset en fonction du type de rapport.\n",
    "Si le rapport sélectionné est « *Statistiques de la période de récession* », vous pouvez récupérer les données en utilisant les conditions ci-dessous : -"
   ]
  },
  {
   "cell_type": "code",
   "execution_count": null,
   "id": "a46f299d-62b2-4afe-947a-722167d2c31d",
   "metadata": {},
   "outputs": [],
   "source": [
    "def update_output_container(...., ...):\n",
    "    if .... == 'Recession Period Statistics':\n",
    "        # Filter the data for recession periods\n",
    "        recession_data = data[data['Recession'] == 1]\n",
    "        ......................."
   ]
  },
  {
   "cell_type": "code",
   "execution_count": null,
   "id": "829c7e2f-f0e7-4d45-9233-2250b9632f1c",
   "metadata": {},
   "outputs": [],
   "source": [
    "On the same lines, you can create the dataframe, according to the year value entered by the user for 'Yearly Statistics report'"
   ]
  },
  {
   "cell_type": "code",
   "execution_count": null,
   "id": "91009843-75c0-4eef-9d5a-3dd567d40443",
   "metadata": {},
   "outputs": [],
   "source": [
    "Sur les mêmes lignes, vous pouvez créer le dataframe, en fonction de la valeur d’année saisie par l’utilisateur pour 'Rapport de statistiques annuelles'"
   ]
  },
  {
   "cell_type": "code",
   "execution_count": null,
   "id": "c7febe94-3a60-42f6-a6d1-5ca8e85e52ed",
   "metadata": {},
   "outputs": [],
   "source": [
    "NOTE: Take the screenshort representing the the code snippet wherein you have created the two callback functions and save it as ‘Callbacks.png’"
   ]
  },
  {
   "cell_type": "code",
   "execution_count": null,
   "id": "80a5dc44-cbb7-4cf1-92bb-de3b5b251ca6",
   "metadata": {},
   "outputs": [],
   "source": [
    "REMARQUE : Prenez le court métrage représentant l’extrait de code dans lequel vous avez créé les deux fonctions de rappel et enregistrez-le sous 'Callbacks.png'"
   ]
  },
  {
   "cell_type": "markdown",
   "id": "e34f8d61-804e-4380-b0b9-3027666137b6",
   "metadata": {},
   "source": [
    "# TASK 2.5: Create and display graphs for Recession Report Statistics\n",
    "\n",
    "You will be required to prepare the data as per the plot requirement (usually using groupby())\n",
    "\n",
    "\n",
    "Then you need to Create a different plots using plotly.express."
   ]
  },
  {
   "cell_type": "code",
   "execution_count": null,
   "id": "5ee3504c-eece-4f18-9be0-7b5827709d3c",
   "metadata": {},
   "outputs": [],
   "source": [
    "# TÂCHE 2.5 : Créer et afficher des graphiques pour les statistiques du rapport de récession\n",
    "\n",
    "Vous devrez préparer les données conformément aux exigences de la parcelle (généralement en utilisant groupby())\n",
    "\n",
    "Ensuite, vous devez créer un autre tracé à l’aide de plotly.express."
   ]
  },
  {
   "cell_type": "code",
   "execution_count": null,
   "id": "e5d5c70f-d4d6-4887-8044-f28869e56630",
   "metadata": {},
   "outputs": [],
   "source": [
    "#Plot 1 Automobile sales fluctuate over Recession Period (year wise) using line chart\n",
    "         # grouping data for plotting\n",
    "        yearly_rec=recession_data.groupby('Year')['Automobile_Sales'].mean().reset_index()\n",
    "        # Plotting the line graph\n",
    "        R_chart1 = dcc.Graph(\n",
    "            figure=px.line(yearly_rec, \n",
    "                x='........',\n",
    "                y='........',\n",
    "                title=\"........\"))\n",
    "..........\n",
    "#Plot 2 Calculate the average number of vehicles sold by vehicle type and represent as a Bar chart\n",
    "\n",
    "............\n",
    "# Plot 3 : Pie chart for total expenditure share by vehicle type during recessions\n",
    "            # grouping data for plotting\n",
    "            exp_rec= recession_data.groupby(...............)\n",
    "            R_chart3 = dcc.Graph(\n",
    "                    figure=px.pie(.............,\n",
    "                    values='............',\n",
    "                 names='..........',\n",
    "                 title=\"............\"\n",
    "                )\n",
    "        )\n",
    "..........\n",
    "# Plot 4 Develop a Bar chart for the effect of unemployment rate on vehicle type and sales\n",
    "unemp_data= recession_data.groupby(['Vehicle_Type', 'unemployment_rate'])['Automobile_Sales'].mean().reset_index()\n",
    "R_chart4 = dcc.Graph(\n",
    "              figure=px.bar(\n",
    "                  unemp_data,\n",
    "                  x='unemployment_rate',\n",
    "                  y='Automobile_Sales',\n",
    "                  color='Vehicle_Type',\n",
    "                  labels={'unemployment_rate': 'Unemployment Rate', 'Automobile_Sales': 'Average Automobile Sales'},\n",
    "                  title=\"Effect of Unemployment Rate on Sales of various Vehicle Types\")\n",
    "          )\n",
    "\n",
    "return [\n",
    "            html.Div(className='chart-item', children=[html.Div(children=.......),html.Div(children=......)]),\n",
    "            html.Div(className='chart-item', children=[html.Div(children=......),html.Div(children=......)])\n",
    "            ]\n"
   ]
  },
  {
   "cell_type": "markdown",
   "id": "4fe4b084-6c50-45ef-a438-aea5a08964cb",
   "metadata": {},
   "source": [
    "# Plot 4 Develop a Bar chart for the effect of unemployment rate on vehicle type and sales\n",
    "unemp_data= recession_data.groupby(['Vehicle_Type', 'unemployment_rate'])['Automobile_Sales'].mean().reset_index()\n",
    "R_chart4 = dcc.Graph(\n",
    "              figure=px.bar(\n",
    "                  unemp_data,\n",
    "                  x='unemployment_rate',\n",
    "                  y='Automobile_Sales',\n",
    "                  color='Vehicle_Type',\n",
    "                  labels={'unemployment_rate': 'Unemployment Rate', 'Automobile_Sales': 'Average Automobile Sales'},\n",
    "                  title=\"Effect of Unemployment Rate on Sales of various Vehicle Types\")\n",
    "          )\n",
    "\n",
    "\n",
    "\n",
    "Lorsque vous effectuez une opération groupby dans Pandas, les colonnes groupées (Vehicle_Type et unemployment_rate dans ce cas) deviennent l'index du DataFrame résultant. La fonction reset_index () est utilisée pour réinitialiser cet index et reconvertir les colonnes groupées en colonnes régulières. Cela facilite l'utilisation du DataFrame, en particulier pour d'autres opérations telles que la fusion, la jonction ou, dans ce cas, pour la visualisation à l'aide\n",
    "\n",
    "J'espère que cela vous aidera mieux.\n",
    "\n",
    "Bon apprentissage !\n",
    "\n",
    "Cordialement,\n",
    "\n",
    "Sowmyaa"
   ]
  },
  {
   "cell_type": "code",
   "execution_count": null,
   "id": "cbf55d07-8ff8-4b85-86a5-b4be013ef054",
   "metadata": {},
   "outputs": [],
   "source": [
    "When you perform a groupby operation in pandas, the grouped columns (Vehicle_Type and unemployment_rate in this case) become the index of the resulting DataFrame. The reset_index() function is used to reset this index and convert the grouped columns back into regular columns. This makes the DataFrame easier to work with, especially for further operations like merging, joining, or in this case, for visualization using Plotly.  \n",
    "\n",
    "I hope this helps you better.\n",
    "\n",
    "Happy Learning!!\n",
    "\n",
    "Regards,\n",
    "\n",
    "Sowmyaa."
   ]
  },
  {
   "cell_type": "raw",
   "id": "c59bab20-a843-4b47-930b-5d59690b5cc4",
   "metadata": {},
   "source": [
    "\n",
    "return [\n",
    "            html.Div(className='chart-item', children=[html.Div(children=.......),html.Div(children=......)]),\n",
    "            html.Div(className='chart-item', children=[html.Div(children=......),html.Div(children=......)])\n",
    "            ]\n",
    "\n",
    "\n",
    "\n",
    "\n",
    "Hi @ MAHI NDOUNG  \n",
    "\n",
    "Thanks for the post! We are happy to assist you. \n",
    "\n",
    "This code is intended for use in a Dash application, a web framework for building analytical web applications using Python. In this context, the code is defining the layout of a section of the web application, specifically for displaying charts. Let's break down what each part does:\n",
    "\n",
    "HTML Div Elements:\n",
    "\n",
    "html.Div is a Dash component that represents a <div> element in HTML.\n",
    "\n",
    "The className='chart-item' attribute is used to assign a CSS class to the <div> for styling purposes.\n",
    "\n",
    "The children attribute is used to specify the content within the <div>. In this case, each children contains charts (e.g., R_chart1, R_chart2, R_chart3, R_chart4).\n",
    "\n",
    "Chart Items:\n",
    "\n",
    "R_chart1, R_chart2, R_chart3, and R_chart4 are placeholders for the actual charts or graph objects created elsewhere in your Dash application.\n",
    "\n",
    "Styling with Flexbox:\n",
    "\n",
    "The style={'display': 'flex'} attribute applies CSS flexbox styling to the <div>, allowing the children elements to be displayed in a flexible layout, typically side-by-side horizontally.\n",
    "\n",
    "This makes it easier to create responsive layouts where the charts are arranged next to each other.\n",
    "\n",
    "Returning the Layout:\n",
    "\n",
    "The function returns a list of html.Div elements.\n",
    "\n",
    "The first html.Div contains two charts (R_chart1 and R_chart2), displayed side-by-side due to the flex style.\n",
    "\n",
    "The second html.Div contains another two charts (R_chart3 and R_chart4), also displayed side-by-side.\n",
    "\n",
    "Happy learning!\n",
    "\n",
    "  Regards, Niveditha"
   ]
  },
  {
   "cell_type": "code",
   "execution_count": null,
   "id": "a5ca868e-f431-45ce-b7e5-002369dc96ee",
   "metadata": {},
   "outputs": [],
   "source": [
    "\n",
    "return [\n",
    "            html.Div(className='chart-item', children=[html.Div(children=.......),html.Div(children=......)]),\n",
    "            html.Div(className='chart-item', children=[html.Div(children=......),html.Div(children=......)])\n",
    "            ]\n",
    "\n",
    "\n",
    "\n",
    "Salut @ MAHI NDOUNG  \n",
    "\n",
    "Merci pour le post ! Nous sommes heureux de vous aider. \n",
    "\n",
    "Ce code est destiné à être utilisé dans une application Dash, un framework web permettant de créer des applications web analytiques à l’aide de Python. Dans ce contexte, le code définit la disposition d’une section de l’application Web, en particulier pour l’affichage des graphiques. Décomposons ce que fait chaque partie :\n",
    "\n",
    "Éléments HTML Div :\n",
    "HTML. Div est un composant Dash qui représente un <div> élément en HTML.\n",
    "\n",
    "L’attribut className='chart-item' est utilisé pour affecter une classe CSS à <div> l’à des fins de style.\n",
    "\n",
    "L’attribut children est utilisé pour spécifier le contenu dans le <div>fichier .\n",
    "Dans ce cas, chaque enfant contient des graphiques (par exemple, R_chart1, R_chart2, R_chart3, R_chart4).\n",
    "\n",
    "Éléments du graphique :\n",
    "\n",
    "R_chart1, R_chart2, R_chart3 et R_chart4 sont des espaces réservés pour \n",
    "les tableaux ou les objets graphiques créés ailleurs dans votre application Dash.\n",
    "    \n",
    "Styliser avec Flexbox :\n",
    "\n",
    "L’attribut style={'display' : 'flex'} applique le style CSS flexbox à la <div>,\n",
    "permettant aux éléments enfants d’être affichés dans une mise en page flexible,\n",
    "généralement côte à côte horizontalement.\n",
    "\n",
    "Cela facilite la création de mises en page réactives où \n",
    "les graphiques sont disposés les uns à côté des autres.\n",
    "\n",
    "Renvoi de la mise en page :\n",
    "\n",
    "La fonction renvoie une liste de code html. Éléments de div.\n",
    "\n",
    "Le premier html. Div contient deux graphiques (R_chart1 et R_chart2),\n",
    "affichés côte à côte en raison du style flex.\n",
    "    \n",
    "Le deuxième html. Div contient deux autres graphiques (R_chart3 et R_chart4),\n",
    "également affichés côte à côte.\n",
    "\n",
    "Bon apprentissage !\n",
    "\n",
    "Cordialement, Niveditha    "
   ]
  },
  {
   "cell_type": "markdown",
   "id": "4c82aec5-37bb-430f-9e61-e606c03ac3c0",
   "metadata": {},
   "source": [
    "REVIEW:-\n",
    "\n",
    "\n",
    "[graphique linéaire](https://plotly.com/python/line-charts/)\n",
    "\n",
    "\n",
    "[graphique à barre](https://plotly.com/python/bar-charts/)\n",
    "\n",
    "\n",
    "[graphique circulaire](https://plotly.com/python/pie-charts/)\n",
    "\n",
    "\n"
   ]
  },
  {
   "cell_type": "markdown",
   "id": "238a75f5-da5d-4e80-932f-694573e91df3",
   "metadata": {},
   "source": [
    "NOTE: Label the plots properly.\n",
    "\n",
    "NOTE: Once the application is up and running, take the screenshots representing the graphs for Recession report type , [each graph should be clearly captured] and save it as ‘RecessionReportgraphs.png’"
   ]
  },
  {
   "cell_type": "markdown",
   "id": "7c154b0b-1774-444e-ad63-9ec80e5b2aca",
   "metadata": {},
   "source": [
    "REMARQUE : Étiquetez correctement les tracés.\n",
    "\n",
    "REMARQUE : Une fois l’application opérationnelle, prenez les captures d’écran représentant les graphiques pour le type de rapport de récession, [chaque graphique doit être clairement capturé] et enregistrez-le sous « RecessionReportgraphs.png »"
   ]
  },
  {
   "cell_type": "markdown",
   "id": "277d5719-998e-4444-8212-3b8c0d084376",
   "metadata": {},
   "source": [
    "# TASK 2.6: Create and display graphs for Yearly Report Statistics\n",
    "\n",
    "# TÂCHE 2.6 : Créer et afficher des graphiques pour les statistiques des rapports annuels"
   ]
  },
  {
   "cell_type": "code",
   "execution_count": null,
   "id": "238e0af1-8049-4189-a941-a3cafd3373e0",
   "metadata": {},
   "outputs": [],
   "source": [
    "Refer to the code snippet below:-"
   ]
  },
  {
   "cell_type": "code",
   "execution_count": null,
   "id": "07a916bd-dd25-4ceb-8d5e-672ae2a73fe5",
   "metadata": {},
   "outputs": [],
   "source": [
    "# Yearly Statistic Report Plots                             \n",
    "    elif (input_year and selected_statistics=='...............') :\n",
    "        yearly_data = data[data['Year'] == ......]\n",
    "                              \n",
    "..........\n",
    "# Plot 1 :Yearly Automobile sales using line chart for the whole period.\n",
    "............\n",
    "        yas= data.groupby('Year')['Automobile_Sales'].mean().reset_index()\n",
    "        Y_chart1 = dcc.Graph(figure=px.line(.................))\n",
    "            \n",
    "..........\n",
    "# Plot 2 :Total Monthly Automobile sales using line chart.\n",
    "\n",
    "............\n",
    "\n",
    " ..........\n",
    "# Plot bar chart for average number of vehicles sold during the given year\n",
    "............\n",
    "  \n",
    "        avr_vdata=yearly_data.groupby........................\n",
    "        Y_chart3 = dcc.Graph( figure.................,title='Average Vehicles Sold by Vehicle Type in the year {}'.format(input_year)))\n",
    "\n",
    "..........\n",
    "# Plot 4 Total Advertisement Expenditure for each vehicle using pie chart\n",
    "\n",
    " return [\n",
    "\n",
    "            html.Div(className='chart-item', children=[html.Div(children=......),html.Div(children=......)],style={'display': 'flex'}),\n",
    "            html.Div(className='chart-item', children=[html.Div(children=......),html.Div(children=......)],style={'display': '....'})\n",
    "            ]"
   ]
  },
  {
   "cell_type": "markdown",
   "id": "967ebba7-ba7f-4fd9-8be9-3db7320f5535",
   "metadata": {},
   "source": [
    "# pour exécuter l'application"
   ]
  },
  {
   "cell_type": "code",
   "execution_count": null,
   "id": "db5d0bc3-ea79-4756-866d-a84a1a94aa74",
   "metadata": {},
   "outputs": [],
   "source": [
    "else:\n",
    "        return None\n",
    "\n",
    "# Run the Dash app\n",
    "if __name__ == '__main__':\n",
    "    app.run_server(debug=True) "
   ]
  },
  {
   "cell_type": "code",
   "execution_count": null,
   "id": "1e09f337-5414-421f-be36-b58d8b4b304a",
   "metadata": {},
   "outputs": [],
   "source": [
    "NOTE: Once the application is up and running, take the screenshorts representing all four graphs for the Yearly report types and save it as‘YearlyReportgraphs.png’\n",
    "\n"
   ]
  },
  {
   "cell_type": "code",
   "execution_count": null,
   "id": "8c3c4fae-2183-48f7-a0c3-b81180535a1e",
   "metadata": {},
   "outputs": [],
   "source": [
    "REMARQUE : Une fois l’application opérationnelle, prenez les captures d’écran représentant les quatre graphiques pour les types de rapports annuels et enregistrez-les sous 'YearlyReportgraphs.png'\n",
    "\n"
   ]
  },
  {
   "cell_type": "markdown",
   "id": "71be55d0-88de-40ce-9c05-91980616a90c",
   "metadata": {},
   "source": [
    "# Run the Application\n",
    "Firstly, install setuptools, packaging, pandas and dash using the following command"
   ]
  },
  {
   "cell_type": "code",
   "execution_count": null,
   "id": "1ca7fad3-a8b8-4b74-b2c1-9535825cf615",
   "metadata": {},
   "outputs": [],
   "source": [
    "pip3.8 install setuptools"
   ]
  },
  {
   "cell_type": "code",
   "execution_count": null,
   "id": "c5476247-8921-4535-9141-fc4fbb038b38",
   "metadata": {},
   "outputs": [],
   "source": [
    "pip3.8 install setuptools"
   ]
  },
  {
   "cell_type": "code",
   "execution_count": null,
   "id": "ce57bb48-ab05-4d36-8650-f54e33746d3a",
   "metadata": {},
   "outputs": [],
   "source": [
    "python3.8 -m pip install pandas dash"
   ]
  },
  {
   "cell_type": "code",
   "execution_count": null,
   "id": "262f53f5-7e69-4746-9fed-2efa3d788a1d",
   "metadata": {},
   "outputs": [],
   "source": [
    "pip install more-itertools"
   ]
  },
  {
   "cell_type": "markdown",
   "id": "24675de9-f762-478f-943f-711d1ebfffa5",
   "metadata": {},
   "source": [
    "- Run the python file using the command"
   ]
  },
  {
   "cell_type": "code",
   "execution_count": null,
   "id": "10523137-2d9b-40b8-9b72-d3401b5ea659",
   "metadata": {},
   "outputs": [],
   "source": [
    "python3.8 DV0101EN-Final-Assign-Part-2-Questions.py"
   ]
  },
  {
   "cell_type": "markdown",
   "id": "252fef64-f4cc-4d05-9229-a1f4e8f7daa6",
   "metadata": {},
   "source": [
    "- Observe the port number shown in the terminal."
   ]
  },
  {
   "cell_type": "markdown",
   "id": "c208cc64-e2de-41dd-84a0-ba3016e9af2e",
   "metadata": {},
   "source": [
    "- Click on the Launch Application option from the side menu bar. Provide the port number and click OK"
   ]
  },
  {
   "cell_type": "code",
   "execution_count": null,
   "id": "6ff6995d-ddc4-4897-b192-ec5faa0e20fa",
   "metadata": {},
   "outputs": [],
   "source": [
    "import dash\n",
    "import more_itertools\n",
    "from dash import dcc\n",
    "from dash import html\n",
    "from dash.dependencies import Input, Output\n",
    "import pandas as pd\n",
    "import plotly.graph_objs as go\n",
    "import plotly.express as px\n",
    "\n",
    "# Load the data using pandas\n",
    "data = pd.read_csv('https://cf-courses-data.s3.us.cloud-object-storage.appdomain.cloud/IBMDeveloperSkillsNetwork-DV0101EN-SkillsNetwork/Data%20Files/historical_automobile_sales.csv')\n",
    "\n",
    "# Initialize the Dash app\n",
    "app = dash.Dash(__name__)\n",
    "\n",
    "# Set the title of the dashboard\n",
    "#app.title = \"Automobile Statistics Dashboard\"\n",
    "\n",
    "#---------------------------------------------------------------------------------\n",
    "# Create the dropdown menu options\n",
    "dropdown_options = [\n",
    "    {'label': '...........', 'value': 'Yearly Statistics'},\n",
    "    {'label': 'Recession Period Statistics', 'value': '.........'}\n",
    "]\n",
    "# List of years \n",
    "year_list = [i for i in range(1980, 2024, 1)]\n",
    "#---------------------------------------------------------------------------------------\n",
    "# Create the layout of the app\n",
    "app.layout = html.Div([\n",
    "    #TASK 2.1 Add title to the dashboard\n",
    "    html.H1(\"...............\"),#May include style for title\n",
    "    html.Div([#TASK 2.2: Add two dropdown menus\n",
    "        html.Label(\"Select Statistics:\"),\n",
    "        dcc.Dropdown(\n",
    "            id='...........',\n",
    "            options=...................,\n",
    "            value='.................',\n",
    "            placeholder='.................'\n",
    "        )\n",
    "    ]),\n",
    "    html.Div(dcc.Dropdown(\n",
    "            id='select-year',\n",
    "            options=[{'label': i, 'value': i} for i in year_list],\n",
    "            value='...................'\n",
    "        )),\n",
    "    html.Div([#TASK 2.3: Add a division for output display\n",
    "    html.Div(id='..........', className='..........', style={.........}),])\n",
    "])\n",
    "#TASK 2.4: Creating Callbacks\n",
    "# Define the callback function to update the input container based on the selected statistics\n",
    "@app.callback(\n",
    "    Output(component_id='......', component_property='....'),\n",
    "    Input(component_id='..........',component_property='....'))\n",
    "\n",
    "def update_input_container(.......):\n",
    "    if selected_statistics =='........': \n",
    "        return False\n",
    "    else: \n",
    "        return ......\n",
    "\n",
    "#Callback for plotting\n",
    "# Define the callback function to update the input container based on the selected statistics\n",
    "@app.callback(\n",
    "    Output(component_id='...', component_property='...'),\n",
    "    [Input(component_id='...', component_property='...'), Input(component_id='...', component_property='...')])\n",
    "\n",
    "\n",
    "def update_output_container(....., .....):\n",
    "    if ..... == 'Recession Period Statistics':\n",
    "        # Filter the data for recession periods\n",
    "        recession_data = data[data['Recession'] == 1]\n",
    "        \n",
    "#TASK 2.5: Create and display graphs for Recession Report Statistics\n",
    "\n",
    "#Plot 1 Automobile sales fluctuate over Recession Period (year wise)\n",
    "        # use groupby to create relevant data for plotting\n",
    "        yearly_rec=recession_data.groupby('...')['...'].mean().reset_index()\n",
    "        R_chart1 = dcc.Graph(\n",
    "            figure=px......(....., \n",
    "                x='....',\n",
    "                y='......',\n",
    "                title=\"Average Automobile Sales fluctuation over Recession Period\"))\n",
    "\n",
    "#Plot 2 Calculate the average number of vehicles sold by vehicle type       \n",
    "        # use groupby to create relevant data for plotting\n",
    "        average_sales = ...............mean().reset_index()                           \n",
    "        R_chart2  = dcc.Graph(figure=px....................\n",
    "        \n",
    "# Plot 3 Pie chart for total expenditure share by vehicle type during recessions\n",
    "        # use groupby to create relevant data for plotting\n",
    "        exp_rec= ....................\n",
    "        R_chart3 = .............\n",
    "\n",
    "# Plot 4 bar chart for the effect of unemployment rate on vehicle type and sales\n",
    "        ................\n",
    "        ...................\n",
    "\n",
    "\n",
    "        return [\n",
    "            html.Div(className='..........', children=[html.Div(children=R_chart1),html.Div(children=.....)],style={.....}),\n",
    "            html.Div(className='chart-item', children=[html.Div(children=...........),html.Div(.............)],style={....})\n",
    "            ]\n",
    "\n",
    "# TASK 2.6: Create and display graphs for Yearly Report Statistics\n",
    " # Yearly Statistic Report Plots                             \n",
    "    elif (input_year and selected_statistics=='...............') :\n",
    "        yearly_data = data[data['Year'] == ......]\n",
    "                              \n",
    "#TASK 2.5: Creating Graphs Yearly data\n",
    "                              \n",
    "#plot 1 Yearly Automobile sales using line chart for the whole period.\n",
    "        yas= data.groupby('Year')['Automobile_Sales'].mean().reset_index()\n",
    "        Y_chart1 = dcc.Graph(figure=px.line(.................))\n",
    "            \n",
    "# Plot 2 Total Monthly Automobile sales using line chart.\n",
    "        Y_chart2 = dcc.Graph(................)\n",
    "\n",
    "            # Plot bar chart for average number of vehicles sold during the given year\n",
    "        avr_vdata=yearly_data.groupby........................\n",
    "        Y_chart3 = dcc.Graph( figure.................,title='Average Vehicles Sold by Vehicle Type in the year {}'.format(input_year)))\n",
    "\n",
    "            # Total Advertisement Expenditure for each vehicle using pie chart\n",
    "        exp_data=yearly_data.groupby(..................\n",
    "        Y_chart4 = dcc.Graph(...............)\n",
    "\n",
    "#TASK 2.6: Returning the graphs for displaying Yearly data\n",
    "        return [\n",
    "                html.Div(className='.........', children=[html.Div(....,html.Div(....)],style={...}),\n",
    "                html.Div(className='.........', children=[html.Div(....),html.Div(....)],style={...})\n",
    "                ]\n",
    "        \n",
    "    else:\n",
    "        return None\n",
    "\n",
    "# Run the Dash app\n",
    "if __name__ == '__main__':\n",
    "    app.run_server(debug=True)"
   ]
  },
  {
   "cell_type": "code",
   "execution_count": null,
   "id": "50f00a3b-5d57-4c29-885a-225fa8c43541",
   "metadata": {},
   "outputs": [],
   "source": []
  },
  {
   "cell_type": "code",
   "execution_count": null,
   "id": "2b49ca8c-20cc-4bdb-bb2d-6aca36691404",
   "metadata": {},
   "outputs": [],
   "source": []
  },
  {
   "cell_type": "code",
   "execution_count": null,
   "id": "ac47e771-4251-422a-a56f-a7cdacce549f",
   "metadata": {},
   "outputs": [],
   "source": []
  },
  {
   "cell_type": "code",
   "execution_count": null,
   "id": "bb77fcfd-a50e-4088-b1d0-20e2f66c8fbb",
   "metadata": {},
   "outputs": [],
   "source": []
  },
  {
   "cell_type": "code",
   "execution_count": null,
   "id": "c862861b-5533-479e-b817-ba1bf5a1843c",
   "metadata": {},
   "outputs": [],
   "source": []
  },
  {
   "cell_type": "code",
   "execution_count": null,
   "id": "24a0a05d-2ec0-4fb9-8174-614a4a26c57b",
   "metadata": {},
   "outputs": [],
   "source": []
  },
  {
   "cell_type": "code",
   "execution_count": null,
   "id": "0741f406-b4e2-4119-8253-d73e46e0fdca",
   "metadata": {},
   "outputs": [],
   "source": []
  },
  {
   "cell_type": "code",
   "execution_count": null,
   "id": "4c5b422d-332b-4cb2-ae45-66be77db29d2",
   "metadata": {},
   "outputs": [],
   "source": [
    "import pandas as pd\n",
    "import dash\n",
    "from dash import html, dcc\n",
    "from dash.dependencies import Input, Output, State\n",
    "import plotly.graph_objects as go\n",
    "import plotly.express as px\n",
    "from dash import no_update\n",
    "import datetime as dt\n",
    "#Create app\n",
    "app = dash.Dash(__name__)\n",
    "#Clear the layout and do not display exception till callback gets executed\n",
    "app.config.suppress_callback_exceptions = True\n",
    "# Read the wildfire data into pandas dataframe\n",
    "df =  pd.read_csv('https://cf-courses-data.s3.us.cloud-object-storage.appdomain.cloud/IBMDeveloperSkillsNetwork-DV0101EN-SkillsNetwork/Data%20Files/Historical_Wildfires.csv')\n",
    "#Extract year and month from the date column\n",
    "df['Month'] = pd.to_datetime(df['Date']).dt.month_name() #used for the names of the months\n",
    "df['Year'] = pd.to_datetime(df['Date']).dt.year\n",
    "#Layout Section of Dash\n",
    "#Task 1 Add the Title to the Dashboard\n",
    "app.layout = html.Div(children=[html.H1('Australia Wildfire Dashboard', \n",
    "                                style={'textAlign': 'center', 'color': '#503D36',\n",
    "                                'font-size': 26}),\n",
    "# TASK 2: Add the radio items and a dropdown right below the first inner division\n",
    "     #outer division starts\n",
    "     html.Div([\n",
    "                   # First inner divsion for  adding dropdown helper text for Selected Drive wheels\n",
    "                    html.Div([\n",
    "                            html.H2('Select Region:', style={'margin-right': '2em'}),\n",
    "\n",
    "                    #Radio items to select the region\n",
    "                    #dcc.RadioItems(['NSW','QL','SA','TA','VI','WA'], 'NSW', id='region',inline=True)]),\n",
    "                    dcc.RadioItems([{\"label\":\"New South Wales\",\"value\": \"NSW\"},\n",
    "                                    {\"label\":\"Northern Territory\",\"value\": \"NT\"},\n",
    "                                    {\"label\":\"Queensland\",\"value\": \"QL\"},\n",
    "                                    {\"label\":\"South Australia\",\"value\": \"SA\"},\n",
    "                                    {\"label\":\"Tasmania\",\"value\": \"TA\"},\n",
    "                                    {\"label\":\"Victoria\",\"value\": \"VI\"},\n",
    "                                    {\"label\":\"Western Australia\",\"value\": \"WA\"}],\"NSW\", id='region',inline=True)]),\n",
    "                    #Dropdown to select year\n",
    "                    html.Div([\n",
    "                            html.H2('Select Year:', style={'margin-right': '2em'}),\n",
    "                        dcc.Dropdown(df.Year.unique(), value = 2005,id='year')\n",
    "                    ]),\n",
    "#TASK 3: Add two empty divisions for output inside the next inner division. \n",
    "         #Second Inner division for adding 2 inner divisions for 2 output graphs\n",
    "                    html.Div([\n",
    "                \n",
    "                        html.Div([ ], id='plot1'),\n",
    "                        html.Div([ ], id='plot2')\n",
    "                    ], style={'display': 'flex'}),\n",
    "\n",
    "    ])\n",
    "    #outer division ends\n",
    "\n",
    "])\n",
    "#layout ends\n",
    "#TASK 4: Add the Ouput and input components inside the app.callback decorator.\n",
    "#Place to add @app.callback Decorator\n",
    "@app.callback([Output(component_id='plot1', component_property='children'),\n",
    "               Output(component_id='plot2', component_property='children')],\n",
    "               [Input(component_id='region', component_property='value'),\n",
    "                Input(component_id='year', component_property='value')])\n",
    "#TASK 5: Add the callback function.   \n",
    "#Place to define the callback function .\n",
    "def reg_year_display(input_region,input_year):  \n",
    "    #data\n",
    "   region_data = df[df['Region'] == input_region]\n",
    "   y_r_data = region_data[region_data['Year']==input_year]\n",
    "    #Plot one - Monthly Average Estimated Fire Area   \n",
    "   est_data = y_r_data.groupby('Month')['Estimated_fire_area'].mean().reset_index()\n",
    "   fig1 = px.pie(est_data, values='Estimated_fire_area', names='Month', title=\"{} : Monthly Average Estimated Fire Area in year {}\".format(input_region,input_year))   \n",
    "     #Plot two - Monthly Average Count of Pixels for Presumed Vegetation Fires\n",
    "   veg_data = y_r_data.groupby('Month')['Count'].mean().reset_index()\n",
    "   fig2 = px.bar(veg_data, x='Month', y='Count', title='{} : Average Count of Pixels for Presumed Vegetation Fires in year {}'.format(input_region,input_year))    \n",
    "   return [dcc.Graph(figure=fig1),\n",
    "            dcc.Graph(figure=fig2) ]\n",
    "if __name__ == '__main__':\n",
    "    app.run_server()\n",
    "    "
   ]
  },
  {
   "cell_type": "code",
   "execution_count": null,
   "id": "ed1fbb27-9d09-4f2e-8374-6ad8e688e71f",
   "metadata": {},
   "outputs": [],
   "source": []
  },
  {
   "cell_type": "code",
   "execution_count": null,
   "id": "869262c0-dc99-4bb1-afe3-f27c1f5f0d0d",
   "metadata": {},
   "outputs": [],
   "source": []
  },
  {
   "cell_type": "code",
   "execution_count": null,
   "id": "8e384af8-34f5-45f7-871f-f1afc7e6925f",
   "metadata": {},
   "outputs": [],
   "source": []
  },
  {
   "cell_type": "markdown",
   "id": "d0263409-a265-4328-962e-4e40c90f116d",
   "metadata": {},
   "source": [
    "# Résumé du coursStatut : Traduit automatiquement de Anglais\n",
    "Traduit automatiquement de Anglais\n",
    "Dans ce cours, vous avez appris à utiliser la visualisation de données avec Python pour créer des diagrammes et des graphiques à des fins professionnelles ou éducatives. Les graphiques et les tableaux sont essentiels pour communiquer des informations statistiques de manière directe et efficace. Dans ce cours, vous avez également appris l'histoire de la visualisation de données avec Python, pourquoi elle a été créée et qui l'a créée. Il est essentiel de comprendre le processus de création des applications et des programmes de visualisation de données pour en comprendre l'utilisation, les capacités et l'importance. Vous pouvez appliquer ces compétences à d'autres applications de visualisation graphique et statistique qui utilisent Python et du code.\n",
    "\n",
    "Prochaines étapes\n",
    "Après avoir terminé ce cours, vous pouvez suivre des cours similaires liés à la visualisation de données avec Python, \"Python pour l'IA et le développement de la science des données, Python pour la science des données, et Bases de données et SQL pour la science des données avec les cours Python\""
   ]
  },
  {
   "cell_type": "markdown",
   "id": "cc9082d2-9c0d-4627-b433-7ba1dc1fa6b9",
   "metadata": {},
   "source": [
    "Félicitations et prochaines étapesStatut : Traduit automatiquement de Anglais\n",
    "Traduit automatiquement de Anglais\n",
    "Félicitations pour avoir terminé le cours Data Visualization with Python ! Vous avez fait un pas de plus vers la préparation du certificat professionnel en science des donnéesIBM, du certificat professionnel d'analyste de données IBM et de la spécialisation en science des données appliquée.\n",
    "\n",
    "Comme vous l'avez appris, la visualisation de données avec Python peut être essentielle dans de nombreux parcours professionnels. Dans ce cours, vous avez été initié à la visualisation des données, y compris les programmes utiles, les graphiques, les modèles et les méthodologies pour utiliser la visualisation des données avec Python. Vous avez également appris comment la visualisation de données avec Python peut être un outil précieux pour la recherche, la création de graphiques et le codage.\n",
    "\n",
    "Nous espérons que ce cours n'est que le début de votre apprentissage de la visualisation de données avec Python. Si vous souhaitez poursuivre votre apprentissage, nous vous invitons à consulter nos cours sur la visualisation de données en Python \n",
    "Python pour la science des données(https://www.coursera.org/learn/python-for-applied-data-science-ai?specialization=ibm-data-science) , l'IA et le développement\n",
    ",\n",
    " Python pour la science des données https://www.coursera.org/learn/python-project-for-data-science?specialization=ibm-data-science\n",
    "et \n",
    "Bases de données et SQL pour la science des données avec Python\n",
    " et SQL pour la science des données avec Python https://www.coursera.org/learn/sql-data-science?specialization=ibm-data-science .\n",
    "\n",
    "Nous vous encourageons également à laisser vos commentaires et à évaluer ce cours afin que nous puissions continuer à améliorer notre contenu. Nous vous remercions de votre compréhension\n",
    "\n",
    "\n",
    "Terminé"
   ]
  },
  {
   "cell_type": "code",
   "execution_count": null,
   "id": "cb67639b-086c-42bf-a80b-ac6bce3d6c55",
   "metadata": {},
   "outputs": [],
   "source": [
    "dcc.Dropdown(\n",
    "            id='dropdown-statistics',\n",
    "            options=[\n",
    "                {'label': 'Yearly Statistics', 'value': 'Yearly Statistics'},\n",
    "                {'label': 'Recession Period Statistics', 'value' : 'Recession Period Statistics'} \n",
    "                ],\n",
    "            value='Select Statistics',\n",
    "            placeholder='Select A Report Type'    \n",
    "        )\n",
    "    ]),\n",
    "    html.Div(dcc.Dropdown(\n",
    "            id='select-year',\n",
    "            options=[{'label': i, 'value': i} for i in year_list],\n",
    "            value='Select-year', \n",
    "            placeholder='Select Year'  \n",
    "        )),\n",
    "    html.Div([#TASK 2.3: Add a division for output display\n",
    "    html.Div(id='output-container', className='chart-grid', style={'display':'flex'}),])\n",
    "])\n",
    "#TASK 2.4: Creating Callbacks\n",
    "# Define the callback function to update the input container based on the selected statistics\n",
    "@app.callback(\n",
    "    Output(component_id='select-year', component_property='disabled'),\n",
    "    Input(component_id='dropdown-statistics',component_property='value'))"
   ]
  },
  {
   "cell_type": "markdown",
   "id": "c54203cd-48fb-415f-8743-6e128cf40d03",
   "metadata": {},
   "source": [
    "# DEBUG"
   ]
  },
  {
   "cell_type": "code",
   "execution_count": null,
   "id": "18f5d262-3763-4c44-9f5e-82d6b7c1efc3",
   "metadata": {},
   "outputs": [],
   "source": [
    "Salut @Mahi,\n",
    "\n",
    "merci pour ton message !\n",
    "\n",
    "Cela ne se produit que lorsqu'il reste des ports ouverts et non fermés.\n",
    "\n",
    "Si deux terminaux fonctionnent côte à côte, assurez-vous de fermer les autres terminaux avant de faire fonctionner le port.\n",
    "\n",
    "Vous pouvez également supprimer le port à l'aide des commandes suivantes :\n",
    "\n",
    "sudo apt-get update && sudo apt-get install lsof lsof\n",
    "\n",
    "-i:8050 (Cela affichera l'ID de processus (PID) du processus utilisant le port 8050) \n",
    "kill\n",
    "\n",
    " Si l'exécution de la commande lsof -i:8050 n'affiche rien, cela signifie qu'aucun processus n'utilise actuellement le numéro de port"
   ]
  },
  {
   "cell_type": "code",
   "execution_count": null,
   "id": "18a00b09-61a7-4728-a990-b3121390cc72",
   "metadata": {},
   "outputs": [],
   "source": []
  },
  {
   "cell_type": "code",
   "execution_count": null,
   "id": "8ca8f8fd-68db-4751-a5e5-b8e9564c9b35",
   "metadata": {},
   "outputs": [],
   "source": []
  },
  {
   "cell_type": "code",
   "execution_count": null,
   "id": "28987743-f829-444a-b868-680194b7a135",
   "metadata": {},
   "outputs": [],
   "source": []
  },
  {
   "cell_type": "code",
   "execution_count": null,
   "id": "6c6af6f2-4acc-41af-8f57-63967cc7e6ee",
   "metadata": {},
   "outputs": [],
   "source": []
  },
  {
   "cell_type": "code",
   "execution_count": null,
   "id": "42a83e3b-cfc1-414e-9aab-a64334e0a76c",
   "metadata": {},
   "outputs": [],
   "source": [
    "[](https://labs.cognitiveclass.ai/v2/tools/cloud-ide-openshift?ulid=ulid-1e13d7b5e2cfdf0fbcdec5c07841e737610b60ed)"
   ]
  },
  {
   "cell_type": "code",
   "execution_count": null,
   "id": "b0c1f4d8-a49d-46f5-9f46-63c09992dfaa",
   "metadata": {},
   "outputs": [],
   "source": []
  },
  {
   "cell_type": "code",
   "execution_count": null,
   "id": "41a1b393-74f2-4db4-8daa-8fbf6cdc8278",
   "metadata": {},
   "outputs": [],
   "source": []
  },
  {
   "cell_type": "code",
   "execution_count": null,
   "id": "ce792935-ef55-4fea-89f4-66e5994bf5b7",
   "metadata": {},
   "outputs": [],
   "source": []
  },
  {
   "cell_type": "code",
   "execution_count": null,
   "id": "fa933664-d7e6-4082-a0e4-1a401bb80043",
   "metadata": {},
   "outputs": [],
   "source": [
    "pip3.8 install pandas dash"
   ]
  }
 ],
 "metadata": {
  "kernelspec": {
   "display_name": "Python 3 (ipykernel)",
   "language": "python",
   "name": "python3"
  },
  "language_info": {
   "codemirror_mode": {
    "name": "ipython",
    "version": 3
   },
   "file_extension": ".py",
   "mimetype": "text/x-python",
   "name": "python",
   "nbconvert_exporter": "python",
   "pygments_lexer": "ipython3",
   "version": "3.9.13"
  }
 },
 "nbformat": 4,
 "nbformat_minor": 5
}
